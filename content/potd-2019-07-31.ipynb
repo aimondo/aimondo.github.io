{
 "cells": [
  {
   "cell_type": "markdown",
   "metadata": {},
   "source": [
    "# No Pick Today"
   ]
  },
  {
   "cell_type": "markdown",
   "metadata": {},
   "source": [
    "### Random Forest:"
   ]
  },
  {
   "cell_type": "code",
   "execution_count": 1,
   "metadata": {},
   "outputs": [
    {
     "name": "stdout",
     "output_type": "stream",
     "text": [
      "            Player  Probability\n",
      "0     A.J. Pollock        0.309\n",
      "1      Ian Desmond        0.300\n",
      "2  Xander Bogaerts        0.296\n",
      "3     Joc Pederson        0.291\n",
      "4    J.D. Martinez        0.289\n"
     ]
    }
   ],
   "source": [
    "import pandas as pd\n",
    "\n",
    "rf = pd.DataFrame([['A.J. Pollock', 0.309], \n",
    "                   ['Ian Desmond', 0.3], \n",
    "                   ['Xander Bogaerts', 0.296], \n",
    "                   ['Joc Pederson', 0.291], \n",
    "                   ['J.D. Martinez', 0.289]],\n",
    "columns= ['Player', 'Probability']\n",
    ")\n",
    "\n",
    "print(rf)"
   ]
  },
  {
   "cell_type": "markdown",
   "metadata": {},
   "source": [
    "### Logistic Regression:"
   ]
  },
  {
   "cell_type": "code",
   "execution_count": 2,
   "metadata": {},
   "outputs": [
    {
     "name": "stdout",
     "output_type": "stream",
     "text": [
      "             Player  Probability\n",
      "0     Nolan Arenado        0.378\n",
      "1      Brian McCann        0.356\n",
      "2        Adam Jones        0.334\n",
      "3  Charlie Blackmon        0.325\n",
      "4    Avisail Garcia        0.321\n"
     ]
    }
   ],
   "source": [
    "lr = pd.DataFrame([['Nolan Arenado', 0.378], \n",
    "                   ['Brian McCann', 0.356], \n",
    "                   ['Adam Jones', 0.334], \n",
    "                   ['Charlie Blackmon', 0.325], \n",
    "                   ['Avisail Garcia', 0.321]],\n",
    "columns= ['Player', 'Probability']\n",
    ")\n",
    "\n",
    "print(lr)"
   ]
  }
 ],
 "metadata": {
  "kernelspec": {
   "display_name": "Python 3",
   "language": "python",
   "name": "python3"
  },
  "language_info": {
   "codemirror_mode": {
    "name": "ipython",
    "version": 3
   },
   "file_extension": ".py",
   "mimetype": "text/x-python",
   "name": "python",
   "nbconvert_exporter": "python",
   "pygments_lexer": "ipython3",
   "version": "3.7.2"
  }
 },
 "nbformat": 4,
 "nbformat_minor": 2
}
