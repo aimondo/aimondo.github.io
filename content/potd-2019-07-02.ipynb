{
 "cells": [
  {
   "cell_type": "markdown",
   "metadata": {},
   "source": [
    "# No Pick Today"
   ]
  },
  {
   "cell_type": "markdown",
   "metadata": {},
   "source": [
    "### Random Forest:"
   ]
  },
  {
   "cell_type": "code",
   "execution_count": 1,
   "metadata": {},
   "outputs": [
    {
     "name": "stdout",
     "output_type": "stream",
     "text": [
      "           Player  Probability\n",
      "0      Adam Eaton        0.316\n",
      "1    Ronald Acuna        0.313\n",
      "2    Yuli Gurriel        0.296\n",
      "3     Trea Turner        0.293\n",
      "4  Derek Dietrich        0.289\n"
     ]
    }
   ],
   "source": [
    "import pandas as pd\n",
    "import plotly.plotly as py\n",
    "import plotly.figure_factory as ff\n",
    "import plotly.graph_objs as go\n",
    "\n",
    "rf = pd.DataFrame([['Adam Eaton', 0.316], \n",
    "                   ['Ronald Acuna', 0.313], \n",
    "                   ['Yuli Gurriel', 0.296], \n",
    "                   ['Trea Turner', 0.293], \n",
    "                   ['Derek Dietrich', 0.289]],\n",
    "columns= ['Player', 'Probability']\n",
    ")\n",
    "\n",
    "print(rf)"
   ]
  },
  {
   "cell_type": "markdown",
   "metadata": {},
   "source": [
    "### Logistic Regression:"
   ]
  },
  {
   "cell_type": "code",
   "execution_count": 2,
   "metadata": {},
   "outputs": [
    {
     "name": "stdout",
     "output_type": "stream",
     "text": [
      "                 Player  Probability\n",
      "0      Francisco Lindor        0.345\n",
      "1            Jose Abreu        0.329\n",
      "2  Nicholas Castellanos        0.327\n",
      "3         David Peralta        0.317\n",
      "4        Josh Donaldson        0.302\n"
     ]
    }
   ],
   "source": [
    "lr = pd.DataFrame([['Francisco Lindor', 0.345], \n",
    "                   ['Jose Abreu', 0.329], \n",
    "                   ['Nicholas Castellanos', 0.327],\n",
    "                   ['David Peralta', 0.317], \n",
    "                   ['Josh Donaldson', 0.302]],\n",
    "columns= ['Player', 'Probability']\n",
    ")\n",
    "\n",
    "print(lr)"
   ]
  }
 ],
 "metadata": {
  "kernelspec": {
   "display_name": "Python 3",
   "language": "python",
   "name": "python3"
  },
  "language_info": {
   "codemirror_mode": {
    "name": "ipython",
    "version": 3
   },
   "file_extension": ".py",
   "mimetype": "text/x-python",
   "name": "python",
   "nbconvert_exporter": "python",
   "pygments_lexer": "ipython3",
   "version": "3.7.2"
  }
 },
 "nbformat": 4,
 "nbformat_minor": 2
}
