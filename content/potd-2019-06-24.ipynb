{
 "cells": [
  {
   "cell_type": "markdown",
   "metadata": {},
   "source": [
    "# POTD (Pick of the Day) - Jeff McNeil"
   ]
  },
  {
   "cell_type": "markdown",
   "metadata": {},
   "source": [
    "### Random Forest:"
   ]
  },
  {
   "cell_type": "code",
   "execution_count": 1,
   "metadata": {},
   "outputs": [
    {
     "name": "stdout",
     "output_type": "stream",
     "text": [
      "            Player  Probability\n",
      "0       Matt Joyce        0.335\n",
      "1      Jeff McNeil        0.296\n",
      "2      Ketel Marte        0.288\n",
      "3     Wilson Ramos        0.283\n",
      "4  Eduardo Escobar        0.278\n"
     ]
    }
   ],
   "source": [
    "import pandas as pd\n",
    "import plotly.plotly as py\n",
    "import plotly.figure_factory as ff\n",
    "import plotly.graph_objs as go\n",
    "\n",
    "rf = pd.DataFrame([['Matt Joyce', 0.335], \n",
    "                   ['Jeff McNeil', 0.296], \n",
    "                   ['Ketel Marte', 0.288], \n",
    "                   ['Wilson Ramos', 0.283], \n",
    "                   ['Eduardo Escobar', 0.278]],\n",
    "columns= ['Player', 'Probability']\n",
    ")\n",
    "\n",
    "print(rf)"
   ]
  },
  {
   "cell_type": "markdown",
   "metadata": {},
   "source": [
    "### Logistic Regression:"
   ]
  },
  {
   "cell_type": "code",
   "execution_count": 2,
   "metadata": {},
   "outputs": [
    {
     "name": "stdout",
     "output_type": "stream",
     "text": [
      "           Player  Probability\n",
      "0   Justin Turner        0.334\n",
      "1  Cody Bellinger        0.317\n",
      "2     Jeff McNeil        0.307\n",
      "3    Wilson Ramos        0.292\n",
      "4  Didi Gregorius        0.290\n"
     ]
    }
   ],
   "source": [
    "lr = pd.DataFrame([['Justin Turner', 0.334], \n",
    "                   ['Cody Bellinger', 0.317], \n",
    "                   ['Jeff McNeil', 0.307], \n",
    "                   ['Wilson Ramos', 0.292], \n",
    "                   ['Didi Gregorius', 0.29]],\n",
    "columns= ['Player', 'Probability']\n",
    ")\n",
    "\n",
    "print(lr)"
   ]
  },
  {
   "cell_type": "markdown",
   "metadata": {},
   "source": [
    "#### Jeff McNeil"
   ]
  },
  {
   "cell_type": "markdown",
   "metadata": {},
   "source": [
    "McNeil will see Jake Arrieta, who he is 7/13 (.538) against. Note that both models liked Wilson Ramos too, but his average probability was a little low today. Still, if you are feeling lucky, McNeil can be paired up with Ramos against Arrieta."
   ]
  }
 ],
 "metadata": {
  "kernelspec": {
   "display_name": "Python 3",
   "language": "python",
   "name": "python3"
  },
  "language_info": {
   "codemirror_mode": {
    "name": "ipython",
    "version": 3
   },
   "file_extension": ".py",
   "mimetype": "text/x-python",
   "name": "python",
   "nbconvert_exporter": "python",
   "pygments_lexer": "ipython3",
   "version": "3.7.2"
  }
 },
 "nbformat": 4,
 "nbformat_minor": 2
}
