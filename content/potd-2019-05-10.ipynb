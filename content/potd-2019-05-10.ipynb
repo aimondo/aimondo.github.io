{
 "cells": [
  {
   "cell_type": "markdown",
   "metadata": {},
   "source": [
    "# POTD (Pick of the Day) - DOUBLE DOWN!!!\n",
    "#### Double Down - Albert Pujols & Ryan Braun"
   ]
  },
  {
   "cell_type": "markdown",
   "metadata": {},
   "source": [
    "Looks like a good day to double down!"
   ]
  },
  {
   "cell_type": "markdown",
   "metadata": {},
   "source": [
    "### Random Forest:"
   ]
  },
  {
   "cell_type": "code",
   "execution_count": 2,
   "metadata": {},
   "outputs": [
    {
     "name": "stdout",
     "output_type": "stream",
     "text": [
      "          Player  Probability\n",
      "0  Shin-Soo Choo        0.327\n",
      "1  Jose Martinez        0.316\n",
      "2  Albert Pujols        0.294\n",
      "3     Ryan Braun        0.293\n"
     ]
    }
   ],
   "source": [
    "import pandas as pd\n",
    "import plotly.plotly as py\n",
    "import plotly.figure_factory as ff\n",
    "import plotly.graph_objs as go\n",
    "\n",
    "rf = pd.DataFrame([['Shin-Soo Choo', 0.327], \n",
    "                   ['Jose Martinez', 0.316], \n",
    "                   ['Albert Pujols', 0.294], \n",
    "                   ['Ryan Braun', 0.293]],\n",
    "columns= ['Player', 'Probability']\n",
    ")\n",
    "\n",
    "print(rf)"
   ]
  },
  {
   "cell_type": "markdown",
   "metadata": {},
   "source": [
    "### Logistic Regression:"
   ]
  },
  {
   "cell_type": "code",
   "execution_count": 3,
   "metadata": {
    "scrolled": true
   },
   "outputs": [
    {
     "name": "stdout",
     "output_type": "stream",
     "text": [
      "              Player  Probability\n",
      "0      Albert Pujols        0.348\n",
      "1         Ryan Braun        0.320\n",
      "2         Mike Trout        0.317\n",
      "3  Edwin Encarnacion        0.313\n"
     ]
    }
   ],
   "source": [
    "lr = pd.DataFrame([['Albert Pujols', 0.348], \n",
    "                   ['Ryan Braun', 0.32], \n",
    "                   ['Mike Trout', 0.317], \n",
    "                   ['Edwin Encarnacion', 0.313]],\n",
    "columns= ['Player', 'Probability']\n",
    ")\n",
    "\n",
    "print(lr)"
   ]
  },
  {
   "cell_type": "markdown",
   "metadata": {},
   "source": [
    "My models still don't shy away from former top players, but let's take a look at their matchups."
   ]
  },
  {
   "cell_type": "markdown",
   "metadata": {},
   "source": [
    "#### Albert Pujols"
   ]
  },
  {
   "cell_type": "markdown",
   "metadata": {},
   "source": [
    "Pujols will face Dan Straily, who has been extremely hittable so far this season. He has allowed 33 hits in 23 IP and Pujols is 10/21 (.476) against him. I'm taking him with confidence and think it would be a good idea to take Trout too, who is 9/20 (.450) vs. Straily."
   ]
  },
  {
   "cell_type": "markdown",
   "metadata": {},
   "source": [
    "#### Ryan Braun"
   ]
  },
  {
   "cell_type": "markdown",
   "metadata": {},
   "source": [
    "Not sure what the models like here. Braun will face Jose Quintana, who is attackable, but Braun is only 8/33 (.242) against him. He even has struck out 6 times too. This pick leaves me perplexed. My recommendation is to take Pujols and Trout."
   ]
  }
 ],
 "metadata": {
  "kernelspec": {
   "display_name": "Python 3",
   "language": "python",
   "name": "python3"
  },
  "language_info": {
   "codemirror_mode": {
    "name": "ipython",
    "version": 3
   },
   "file_extension": ".py",
   "mimetype": "text/x-python",
   "name": "python",
   "nbconvert_exporter": "python",
   "pygments_lexer": "ipython3",
   "version": "3.7.2"
  }
 },
 "nbformat": 4,
 "nbformat_minor": 2
}
