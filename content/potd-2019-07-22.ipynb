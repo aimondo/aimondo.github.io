{
 "cells": [
  {
   "cell_type": "markdown",
   "metadata": {},
   "source": [
    "# No Pick Today"
   ]
  },
  {
   "cell_type": "markdown",
   "metadata": {},
   "source": [
    "### Random Forest:"
   ]
  },
  {
   "cell_type": "code",
   "execution_count": 1,
   "metadata": {},
   "outputs": [
    {
     "name": "stdout",
     "output_type": "stream",
     "text": [
      "          Player  Probability\n",
      "0     Nick Ahmed        0.310\n",
      "1     Yandy Diaz        0.303\n",
      "2    Paul DeJong        0.301\n",
      "3  Nolan Arenado        0.300\n",
      "4  J.P. Crawford        0.288\n"
     ]
    }
   ],
   "source": [
    "import pandas as pd\n",
    "\n",
    "rf = pd.DataFrame([['Nick Ahmed', 0.31], \n",
    "                   ['Yandy Diaz', 0.303], \n",
    "                   ['Paul DeJong', 0.301], \n",
    "                   ['Nolan Arenado', 0.3], \n",
    "                   ['J.P. Crawford', 0.288]],\n",
    "columns= ['Player', 'Probability']\n",
    ")\n",
    "\n",
    "print(rf)"
   ]
  },
  {
   "cell_type": "markdown",
   "metadata": {},
   "source": [
    "### Logistic Regression:"
   ]
  },
  {
   "cell_type": "code",
   "execution_count": 2,
   "metadata": {},
   "outputs": [
    {
     "name": "stdout",
     "output_type": "stream",
     "text": [
      "          Player  Probability\n",
      "0  Shin-Soo Choo        0.297\n",
      "1   Hunter Pence        0.297\n",
      "2   Lorenzo Cain        0.291\n",
      "3    Kolten Wong        0.291\n",
      "4    Jose Peraza        0.290\n"
     ]
    }
   ],
   "source": [
    "lr = pd.DataFrame([['Shin-Soo Choo', 0.297], \n",
    "                   ['Hunter Pence', 0.297], \n",
    "                   ['Lorenzo Cain', 0.291], \n",
    "                   ['Kolten Wong', 0.291], \n",
    "                   ['Jose Peraza', 0.29]],\n",
    "columns= ['Player', 'Probability']\n",
    ")\n",
    "\n",
    "print(lr)"
   ]
  }
 ],
 "metadata": {
  "kernelspec": {
   "display_name": "Python 3",
   "language": "python",
   "name": "python3"
  },
  "language_info": {
   "codemirror_mode": {
    "name": "ipython",
    "version": 3
   },
   "file_extension": ".py",
   "mimetype": "text/x-python",
   "name": "python",
   "nbconvert_exporter": "python",
   "pygments_lexer": "ipython3",
   "version": "3.7.2"
  }
 },
 "nbformat": 4,
 "nbformat_minor": 2
}
