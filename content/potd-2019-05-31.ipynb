{
 "cells": [
  {
   "cell_type": "markdown",
   "metadata": {},
   "source": [
    "# No Pick Today"
   ]
  },
  {
   "cell_type": "markdown",
   "metadata": {},
   "source": [
    "### Random Forest:"
   ]
  },
  {
   "cell_type": "code",
   "execution_count": 1,
   "metadata": {},
   "outputs": [
    {
     "name": "stdout",
     "output_type": "stream",
     "text": [
      "          Player  Probability\n",
      "0  Nolan Arenado        0.306\n",
      "1  Yonder Alonso        0.288\n",
      "2    Kyle Seager        0.275\n",
      "3    Jose Peraza        0.274\n",
      "4   Kevin Pillar        0.272\n"
     ]
    }
   ],
   "source": [
    "import pandas as pd\n",
    "import plotly.plotly as py\n",
    "import plotly.figure_factory as ff\n",
    "import plotly.graph_objs as go\n",
    "\n",
    "rf = pd.DataFrame([['Nolan Arenado', 0.306], \n",
    "                   ['Yonder Alonso', 0.288], \n",
    "                   ['Kyle Seager', 0.275], \n",
    "                   ['Jose Peraza', 0.274], \n",
    "                   ['Kevin Pillar', 0.272]],\n",
    "columns= ['Player', 'Probability']\n",
    ")\n",
    "\n",
    "print(rf)"
   ]
  },
  {
   "cell_type": "markdown",
   "metadata": {},
   "source": [
    "### Logistic Regression:"
   ]
  },
  {
   "cell_type": "code",
   "execution_count": 2,
   "metadata": {},
   "outputs": [
    {
     "name": "stdout",
     "output_type": "stream",
     "text": [
      "            Player  Probability\n",
      "0  Jonathan Lucroy        0.435\n",
      "1     Lorenzo Cain        0.324\n",
      "2  Kendrys Morales        0.316\n",
      "3       Mike Trout        0.314\n",
      "4     Kevin Pillar        0.300\n"
     ]
    }
   ],
   "source": [
    "lr = pd.DataFrame([['Jonathan Lucroy', 0.435], \n",
    "                   ['Lorenzo Cain', 0.324], \n",
    "                   ['Kendrys Morales', 0.316], \n",
    "                   ['Mike Trout', 0.314], \n",
    "                   ['Kevin Pillar', 0.3]],\n",
    "columns= ['Player', 'Probability']\n",
    ")\n",
    "\n",
    "print(lr)"
   ]
  },
  {
   "cell_type": "markdown",
   "metadata": {},
   "source": [
    "Both models liked Pillar a little today, but not enough to pass the thresholds. Today is a no pick day and our streak will remain at 3."
   ]
  }
 ],
 "metadata": {
  "kernelspec": {
   "display_name": "Python 3",
   "language": "python",
   "name": "python3"
  },
  "language_info": {
   "codemirror_mode": {
    "name": "ipython",
    "version": 3
   },
   "file_extension": ".py",
   "mimetype": "text/x-python",
   "name": "python",
   "nbconvert_exporter": "python",
   "pygments_lexer": "ipython3",
   "version": "3.7.2"
  }
 },
 "nbformat": 4,
 "nbformat_minor": 2
}
