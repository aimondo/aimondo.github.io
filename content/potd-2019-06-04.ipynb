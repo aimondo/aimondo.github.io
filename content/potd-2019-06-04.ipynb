{
 "cells": [
  {
   "cell_type": "markdown",
   "metadata": {},
   "source": [
    "# No Pick Today"
   ]
  },
  {
   "cell_type": "markdown",
   "metadata": {},
   "source": [
    "### Random Forest:"
   ]
  },
  {
   "cell_type": "code",
   "execution_count": 1,
   "metadata": {},
   "outputs": [
    {
     "name": "stdout",
     "output_type": "stream",
     "text": [
      "          Player  Probability\n",
      "0  Daniel Murphy        0.280\n",
      "1    Ketel Marte        0.278\n",
      "2    DJ LeMahieu        0.277\n"
     ]
    }
   ],
   "source": [
    "import pandas as pd\n",
    "import plotly.plotly as py\n",
    "import plotly.figure_factory as ff\n",
    "import plotly.graph_objs as go\n",
    "\n",
    "rf = pd.DataFrame([['Daniel Murphy', 0.28], \n",
    "                   ['Ketel Marte', 0.278], \n",
    "                   ['DJ LeMahieu', 0.277]],\n",
    "columns= ['Player', 'Probability']\n",
    ")\n",
    "\n",
    "print(rf)"
   ]
  },
  {
   "cell_type": "markdown",
   "metadata": {},
   "source": [
    "### Logistic Regression:"
   ]
  },
  {
   "cell_type": "code",
   "execution_count": 2,
   "metadata": {},
   "outputs": [
    {
     "name": "stdout",
     "output_type": "stream",
     "text": [
      "              Player  Probability\n",
      "0        DJ LeMahieu        0.312\n",
      "1  Edwin Encarnacion        0.309\n",
      "2      Daniel Murphy        0.302\n"
     ]
    }
   ],
   "source": [
    "lr = pd.DataFrame([['DJ LeMahieu', 0.312], \n",
    "                   ['Edwin Encarnacion', 0.309], \n",
    "                   ['Daniel Murphy', 0.302]],\n",
    "columns= ['Player', 'Probability']\n",
    ")\n",
    "\n",
    "print(lr)"
   ]
  },
  {
   "cell_type": "markdown",
   "metadata": {},
   "source": [
    "No pick today, but both models like LeMahieu and Murphy, so they can be our unofficial picks of the day."
   ]
  }
 ],
 "metadata": {
  "kernelspec": {
   "display_name": "Python 3",
   "language": "python",
   "name": "python3"
  },
  "language_info": {
   "codemirror_mode": {
    "name": "ipython",
    "version": 3
   },
   "file_extension": ".py",
   "mimetype": "text/x-python",
   "name": "python",
   "nbconvert_exporter": "python",
   "pygments_lexer": "ipython3",
   "version": "3.7.2"
  }
 },
 "nbformat": 4,
 "nbformat_minor": 2
}
