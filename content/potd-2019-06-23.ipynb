{
 "cells": [
  {
   "cell_type": "markdown",
   "metadata": {},
   "source": [
    "# No Pick Today"
   ]
  },
  {
   "cell_type": "markdown",
   "metadata": {},
   "source": [
    "### Random Forest:"
   ]
  },
  {
   "cell_type": "code",
   "execution_count": 1,
   "metadata": {},
   "outputs": [
    {
     "name": "stdout",
     "output_type": "stream",
     "text": [
      "               Player  Probability\n",
      "0        Alex Bregman        0.285\n",
      "1          Tommy Pham        0.282\n",
      "2       Jesus Aguilar        0.281\n",
      "3       Dexter Fowler        0.280\n",
      "4  Willians Astudillo        0.280\n"
     ]
    }
   ],
   "source": [
    "import pandas as pd\n",
    "import plotly.plotly as py\n",
    "import plotly.figure_factory as ff\n",
    "import plotly.graph_objs as go\n",
    "\n",
    "rf = pd.DataFrame([['Alex Bregman', 0.285], \n",
    "                   ['Tommy Pham', 0.282], \n",
    "                   ['Jesus Aguilar', 0.281], \n",
    "                   ['Dexter Fowler', 0.28], \n",
    "                   ['Willians Astudillo', 0.28]],\n",
    "columns= ['Player', 'Probability']\n",
    ")\n",
    "\n",
    "print(rf)"
   ]
  },
  {
   "cell_type": "markdown",
   "metadata": {},
   "source": [
    "### Logistic Regression:"
   ]
  },
  {
   "cell_type": "code",
   "execution_count": 2,
   "metadata": {},
   "outputs": [
    {
     "name": "stdout",
     "output_type": "stream",
     "text": [
      "             Player  Probability\n",
      "0      Juan Lagares        0.320\n",
      "1  Charlie Blackmon        0.319\n",
      "2   Xander Bogaerts        0.316\n",
      "3     Anthony Rizzo        0.311\n",
      "4  Christian Yelich        0.296\n"
     ]
    }
   ],
   "source": [
    "lr = pd.DataFrame([['Juan Lagares', 0.32], \n",
    "                   ['Charlie Blackmon', 0.319], \n",
    "                   ['Xander Bogaerts', 0.316], \n",
    "                   ['Anthony Rizzo', 0.311], \n",
    "                   ['Christian Yelich', 0.296]],\n",
    "columns= ['Player', 'Probability']\n",
    ")\n",
    "\n",
    "print(lr)"
   ]
  }
 ],
 "metadata": {
  "kernelspec": {
   "display_name": "Python 3",
   "language": "python",
   "name": "python3"
  },
  "language_info": {
   "codemirror_mode": {
    "name": "ipython",
    "version": 3
   },
   "file_extension": ".py",
   "mimetype": "text/x-python",
   "name": "python",
   "nbconvert_exporter": "python",
   "pygments_lexer": "ipython3",
   "version": "3.7.2"
  }
 },
 "nbformat": 4,
 "nbformat_minor": 2
}
