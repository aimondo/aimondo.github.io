{
 "cells": [
  {
   "cell_type": "markdown",
   "metadata": {},
   "source": [
    "# POTD (Pick of the Day) - DOUBLE DOWN!!!\n",
    "#### Double Down - Anthony Rizzo & Nick Ahmed"
   ]
  },
  {
   "cell_type": "markdown",
   "metadata": {},
   "source": [
    "### Random Forest:"
   ]
  },
  {
   "cell_type": "code",
   "execution_count": 1,
   "metadata": {},
   "outputs": [
    {
     "name": "stdout",
     "output_type": "stream",
     "text": [
      "          Player  Probability\n",
      "0   Ronald Acuna        0.315\n",
      "1  Anthony Rizzo        0.309\n",
      "2     Nick Ahmed        0.283\n",
      "3      Juan Soto        0.279\n"
     ]
    }
   ],
   "source": [
    "import pandas as pd\n",
    "import plotly.plotly as py\n",
    "import plotly.figure_factory as ff\n",
    "import plotly.graph_objs as go\n",
    "\n",
    "rf = pd.DataFrame([['Ronald Acuna', 0.315], \n",
    "                   ['Anthony Rizzo', 0.309], \n",
    "                   ['Nick Ahmed', 0.283], \n",
    "                   ['Juan Soto', 0.279]],\n",
    "columns= ['Player', 'Probability']\n",
    ")\n",
    "\n",
    "print(rf)"
   ]
  },
  {
   "cell_type": "markdown",
   "metadata": {},
   "source": [
    "### Logistic Regression:"
   ]
  },
  {
   "cell_type": "code",
   "execution_count": 2,
   "metadata": {},
   "outputs": [
    {
     "name": "stdout",
     "output_type": "stream",
     "text": [
      "          Player  Probability\n",
      "0  Anthony Rizzo        0.320\n",
      "1  Jason Heyward        0.316\n",
      "2     Nick Ahmed        0.313\n",
      "3      C.J. Cron        0.308\n"
     ]
    }
   ],
   "source": [
    "lr = pd.DataFrame([['Anthony Rizzo', 0.32], \n",
    "                   ['Jason Heyward', 0.316], \n",
    "                   ['Nick Ahmed', 0.313], \n",
    "                   ['C.J. Cron', 0.308]],\n",
    "columns= ['Player', 'Probability']\n",
    ")\n",
    "\n",
    "print(lr)"
   ]
  },
  {
   "cell_type": "markdown",
   "metadata": {},
   "source": [
    "#### Anthony Rizzo"
   ]
  },
  {
   "cell_type": "markdown",
   "metadata": {},
   "source": [
    "Will see Ivan Nova, who he is 7/15 (.467) against with a handedness advantage. Nova has been extremely hittable this season. He has allowed a whopping 103 hits in 77.1 IP. This is a good pick."
   ]
  },
  {
   "cell_type": "markdown",
   "metadata": {},
   "source": [
    "#### Nick Ahmed"
   ]
  },
  {
   "cell_type": "markdown",
   "metadata": {},
   "source": [
    "Faces Antonio Senzatela, who is also having a rough go of it this season. He has allowed 75 hits in 64 IP and owns a 5.48 ERA. Ahmed is 6/13 (.462) against him and has been hitting the ball really well lately. I like this pick too."
   ]
  }
 ],
 "metadata": {
  "kernelspec": {
   "display_name": "Python 3",
   "language": "python",
   "name": "python3"
  },
  "language_info": {
   "codemirror_mode": {
    "name": "ipython",
    "version": 3
   },
   "file_extension": ".py",
   "mimetype": "text/x-python",
   "name": "python",
   "nbconvert_exporter": "python",
   "pygments_lexer": "ipython3",
   "version": "3.7.2"
  }
 },
 "nbformat": 4,
 "nbformat_minor": 2
}
