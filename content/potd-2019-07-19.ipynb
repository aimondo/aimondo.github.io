{
 "cells": [
  {
   "cell_type": "markdown",
   "metadata": {},
   "source": [
    "# No Pick Today"
   ]
  },
  {
   "cell_type": "markdown",
   "metadata": {},
   "source": [
    "### Random Forest:"
   ]
  },
  {
   "cell_type": "code",
   "execution_count": 2,
   "metadata": {},
   "outputs": [
    {
     "name": "stdout",
     "output_type": "stream",
     "text": [
      "            Player  Probability\n",
      "0    Shin-Soo Choo        0.326\n",
      "1    Jose Martinez        0.286\n",
      "2  Eduardo Escobar        0.284\n",
      "3      Jose Altuve        0.284\n",
      "4    Brian Goodwin        0.282\n"
     ]
    }
   ],
   "source": [
    "import pandas as pd\n",
    "\n",
    "rf = pd.DataFrame([['Shin-Soo Choo', 0.326], \n",
    "                   ['Jose Martinez', 0.286], \n",
    "                   ['Eduardo Escobar', 0.284], \n",
    "                   ['Jose Altuve', 0.284], \n",
    "                   ['Brian Goodwin', 0.282]],\n",
    "columns= ['Player', 'Probability']\n",
    ")\n",
    "\n",
    "print(rf)"
   ]
  },
  {
   "cell_type": "markdown",
   "metadata": {},
   "source": [
    "### Logistic Regression:"
   ]
  },
  {
   "cell_type": "code",
   "execution_count": 3,
   "metadata": {},
   "outputs": [
    {
     "name": "stdout",
     "output_type": "stream",
     "text": [
      "              Player  Probability\n",
      "0         Joey Votto        0.377\n",
      "1  Andrelton Simmons        0.372\n",
      "2       Justin Upton        0.362\n",
      "3         Mike Trout        0.352\n",
      "4       Yuli Gurriel        0.322\n"
     ]
    }
   ],
   "source": [
    "lr = pd.DataFrame([['Joey Votto', 0.377], \n",
    "                   ['Andrelton Simmons', 0.372], \n",
    "                   ['Justin Upton', 0.362], \n",
    "                   ['Mike Trout', 0.352], \n",
    "                   ['Yuli Gurriel', 0.322]],\n",
    "columns= ['Player', 'Probability']\n",
    ")\n",
    "\n",
    "print(lr)"
   ]
  }
 ],
 "metadata": {
  "kernelspec": {
   "display_name": "Python 3",
   "language": "python",
   "name": "python3"
  },
  "language_info": {
   "codemirror_mode": {
    "name": "ipython",
    "version": 3
   },
   "file_extension": ".py",
   "mimetype": "text/x-python",
   "name": "python",
   "nbconvert_exporter": "python",
   "pygments_lexer": "ipython3",
   "version": "3.7.2"
  }
 },
 "nbformat": 4,
 "nbformat_minor": 2
}
