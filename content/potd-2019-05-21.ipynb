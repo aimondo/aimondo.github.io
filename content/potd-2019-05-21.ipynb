{
 "cells": [
  {
   "cell_type": "markdown",
   "metadata": {},
   "source": [
    "# POTD (Pick of the Day) - Adam Eaton"
   ]
  },
  {
   "cell_type": "markdown",
   "metadata": {},
   "source": [
    "### Random Forest:"
   ]
  },
  {
   "cell_type": "code",
   "execution_count": 1,
   "metadata": {},
   "outputs": [
    {
     "name": "stdout",
     "output_type": "stream",
     "text": [
      "          Player  Probability\n",
      "0     Adam Eaton        0.353\n",
      "1  Manuel Margot        0.320\n",
      "2  Gerardo Parra        0.292\n",
      "3   Brandon Belt        0.287\n",
      "4    Kris Bryant        0.282\n"
     ]
    }
   ],
   "source": [
    "import pandas as pd\n",
    "import plotly.plotly as py\n",
    "import plotly.figure_factory as ff\n",
    "import plotly.graph_objs as go\n",
    "\n",
    "rf = pd.DataFrame([['Adam Eaton', 0.353], \n",
    "                   ['Manuel Margot', 0.32], \n",
    "                   ['Gerardo Parra', 0.292], \n",
    "                   ['Brandon Belt', 0.287], \n",
    "                   ['Kris Bryant', 0.282]],\n",
    "columns= ['Player', 'Probability']\n",
    ")\n",
    "\n",
    "print(rf)"
   ]
  },
  {
   "cell_type": "markdown",
   "metadata": {},
   "source": [
    "### Logistic Regression:"
   ]
  },
  {
   "cell_type": "code",
   "execution_count": 2,
   "metadata": {},
   "outputs": [
    {
     "name": "stdout",
     "output_type": "stream",
     "text": [
      "           Player  Probability\n",
      "0   Yadier Molina        0.422\n",
      "1  Matt Carpenter        0.405\n",
      "2      Jose Abreu        0.355\n",
      "3       Jay Bruce        0.344\n",
      "4      Adam Eaton        0.329\n"
     ]
    }
   ],
   "source": [
    "lr = pd.DataFrame([['Yadier Molina', 0.422], \n",
    "                   ['Matt Carpenter', 0.405], \n",
    "                   ['Jose Abreu', 0.355], \n",
    "                   ['Jay Bruce', 0.344], \n",
    "                   ['Adam Eaton', 0.329]],\n",
    "columns= ['Player', 'Probability']\n",
    ")\n",
    "\n",
    "print(lr)"
   ]
  },
  {
   "cell_type": "markdown",
   "metadata": {},
   "source": [
    "#### Adam Eaton"
   ]
  },
  {
   "cell_type": "markdown",
   "metadata": {},
   "source": [
    "Eaton is 10/19 (.526) against Zack Wheeler with a handedness advantage. This is a great matchup for Eaton and he should be leading off for the Nats in this one."
   ]
  }
 ],
 "metadata": {
  "kernelspec": {
   "display_name": "Python 3",
   "language": "python",
   "name": "python3"
  },
  "language_info": {
   "codemirror_mode": {
    "name": "ipython",
    "version": 3
   },
   "file_extension": ".py",
   "mimetype": "text/x-python",
   "name": "python",
   "nbconvert_exporter": "python",
   "pygments_lexer": "ipython3",
   "version": "3.7.2"
  }
 },
 "nbformat": 4,
 "nbformat_minor": 2
}
