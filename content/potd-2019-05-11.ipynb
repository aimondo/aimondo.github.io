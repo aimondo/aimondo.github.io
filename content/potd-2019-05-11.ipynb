{
 "cells": [
  {
   "cell_type": "markdown",
   "metadata": {},
   "source": [
    "# POTD (Pick of the Day) - Adam Frazier"
   ]
  },
  {
   "cell_type": "markdown",
   "metadata": {},
   "source": [
    "### Random Forest:"
   ]
  },
  {
   "cell_type": "code",
   "execution_count": 1,
   "metadata": {},
   "outputs": [
    {
     "name": "stdout",
     "output_type": "stream",
     "text": [
      "              Player  Probability\n",
      "0  Willson Contreras        0.306\n",
      "1       Adam Frazier        0.295\n",
      "2          Wil Myers        0.295\n",
      "3      Nolan Arenado        0.287\n",
      "4       Trevor Story        0.284\n"
     ]
    }
   ],
   "source": [
    "import pandas as pd\n",
    "import plotly.plotly as py\n",
    "import plotly.figure_factory as ff\n",
    "import plotly.graph_objs as go\n",
    "\n",
    "rf = pd.DataFrame([['Willson Contreras', 0.306], \n",
    "                   ['Adam Frazier', 0.295], \n",
    "                   ['Wil Myers', 0.295], \n",
    "                   ['Nolan Arenado', 0.287], \n",
    "                   ['Trevor Story', 0.284]],\n",
    "columns= ['Player', 'Probability']\n",
    ")\n",
    "\n",
    "print(rf)"
   ]
  },
  {
   "cell_type": "markdown",
   "metadata": {},
   "source": [
    "### Logistic Regression:"
   ]
  },
  {
   "cell_type": "code",
   "execution_count": 2,
   "metadata": {},
   "outputs": [
    {
     "name": "stdout",
     "output_type": "stream",
     "text": [
      "              Player  Probability\n",
      "0        Kris Bryant        0.383\n",
      "1         Ryan Braun        0.366\n",
      "2  Edwin Encarnacion        0.360\n",
      "3   Paul Goldschmidt        0.329\n",
      "4       Adam Frazier        0.319\n"
     ]
    }
   ],
   "source": [
    "lr = pd.DataFrame([['Kris Bryant', 0.383], \n",
    "                   ['Ryan Braun', 0.366], \n",
    "                   ['Edwin Encarnacion', 0.36], \n",
    "                   ['Paul Goldschmidt', 0.329], \n",
    "                   ['Adam Frazier', 0.319]],\n",
    "columns= ['Player', 'Probability']\n",
    ")\n",
    "\n",
    "print(lr)"
   ]
  },
  {
   "cell_type": "markdown",
   "metadata": {},
   "source": [
    "Both models like Frazier today. The program currently has a streak of 3. For those looking to double down, Logistic Regression loves Kris Bryant today."
   ]
  },
  {
   "cell_type": "markdown",
   "metadata": {},
   "source": [
    "#### Adam Frazier"
   ]
  },
  {
   "cell_type": "markdown",
   "metadata": {},
   "source": [
    "Frazier vs. Mikolas today. Should be a good matchup considering that Frazier is 8/18 (.444) against him with a handedness advantage (lefty vs. righty). To make things better, Frazier hits leadoff for the Pirates. Hopefully he gets 5 chances to extend our streak."
   ]
  }
 ],
 "metadata": {
  "kernelspec": {
   "display_name": "Python 3",
   "language": "python",
   "name": "python3"
  },
  "language_info": {
   "codemirror_mode": {
    "name": "ipython",
    "version": 3
   },
   "file_extension": ".py",
   "mimetype": "text/x-python",
   "name": "python",
   "nbconvert_exporter": "python",
   "pygments_lexer": "ipython3",
   "version": "3.7.2"
  }
 },
 "nbformat": 4,
 "nbformat_minor": 2
}
