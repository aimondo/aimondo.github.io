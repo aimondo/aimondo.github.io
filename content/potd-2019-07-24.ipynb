{
 "cells": [
  {
   "cell_type": "markdown",
   "metadata": {},
   "source": [
    "# No Pick Today"
   ]
  },
  {
   "cell_type": "markdown",
   "metadata": {},
   "source": [
    "### Random Forest:"
   ]
  },
  {
   "cell_type": "code",
   "execution_count": 1,
   "metadata": {},
   "outputs": [
    {
     "name": "stdout",
     "output_type": "stream",
     "text": [
      "           Player  Probability\n",
      "0   Nolan Arenado        0.300\n",
      "1     Colin Moran        0.294\n",
      "2     Jeff Mathis        0.289\n",
      "3     Trea Turner        0.288\n",
      "4  Anthony Rendon        0.288\n"
     ]
    }
   ],
   "source": [
    "import pandas as pd\n",
    "\n",
    "rf = pd.DataFrame([['Nolan Arenado', 0.3], \n",
    "                   ['Colin Moran', 0.294], \n",
    "                   ['Jeff Mathis', 0.289], \n",
    "                   ['Trea Turner', 0.288], \n",
    "                   ['Anthony Rendon', 0.288]],\n",
    "columns= ['Player', 'Probability']\n",
    ")\n",
    "\n",
    "print(rf)"
   ]
  },
  {
   "cell_type": "markdown",
   "metadata": {},
   "source": [
    "### Logistic Regression:"
   ]
  },
  {
   "cell_type": "code",
   "execution_count": 2,
   "metadata": {},
   "outputs": [
    {
     "name": "stdout",
     "output_type": "stream",
     "text": [
      "             Player  Probability\n",
      "0       Yasiel Puig        0.348\n",
      "1      Hunter Pence        0.338\n",
      "2  Paul Goldschmidt        0.325\n",
      "3       Nelson Cruz        0.322\n",
      "4      Rougned Odor        0.316\n"
     ]
    }
   ],
   "source": [
    "lr = pd.DataFrame([['Yasiel Puig', 0.348], \n",
    "                   ['Hunter Pence', 0.338], \n",
    "                   ['Paul Goldschmidt', 0.325], \n",
    "                   ['Nelson Cruz', 0.322], \n",
    "                   ['Rougned Odor', 0.316]],\n",
    "columns= ['Player', 'Probability']\n",
    ")\n",
    "\n",
    "print(lr)"
   ]
  },
  {
   "cell_type": "markdown",
   "metadata": {},
   "source": [
    "No official pick today, but our streak did end at 7. I'll be taking the top player from each list today. Arenado & Puig are the unofficial picks."
   ]
  }
 ],
 "metadata": {
  "kernelspec": {
   "display_name": "Python 3",
   "language": "python",
   "name": "python3"
  },
  "language_info": {
   "codemirror_mode": {
    "name": "ipython",
    "version": 3
   },
   "file_extension": ".py",
   "mimetype": "text/x-python",
   "name": "python",
   "nbconvert_exporter": "python",
   "pygments_lexer": "ipython3",
   "version": "3.7.2"
  }
 },
 "nbformat": 4,
 "nbformat_minor": 2
}
