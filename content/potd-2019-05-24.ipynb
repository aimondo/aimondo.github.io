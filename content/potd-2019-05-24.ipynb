{
 "cells": [
  {
   "cell_type": "markdown",
   "metadata": {},
   "source": [
    "# POTD (Pick of the Day) - DOUBLE DOWN!!!\n",
    "#### Double Down - Steve Pearce & Mookie Betts"
   ]
  },
  {
   "cell_type": "markdown",
   "metadata": {},
   "source": [
    "### Random Forest:"
   ]
  },
  {
   "cell_type": "code",
   "execution_count": 1,
   "metadata": {},
   "outputs": [
    {
     "name": "stdout",
     "output_type": "stream",
     "text": [
      "           Player  Probability\n",
      "0    Steve Pearce        0.310\n",
      "1    Mookie Betts        0.296\n",
      "2  Odubel Herrera        0.285\n",
      "3       Joe Panik        0.285\n",
      "4      Mike Trout        0.281\n"
     ]
    }
   ],
   "source": [
    "import pandas as pd\n",
    "import plotly.plotly as py\n",
    "import plotly.figure_factory as ff\n",
    "import plotly.graph_objs as go\n",
    "\n",
    "rf = pd.DataFrame([['Steve Pearce', 0.31], \n",
    "                   ['Mookie Betts', 0.296], \n",
    "                   ['Odubel Herrera', 0.285], \n",
    "                   ['Joe Panik', 0.285], \n",
    "                   ['Mike Trout', 0.281]],\n",
    "columns= ['Player', 'Probability']\n",
    ")\n",
    "\n",
    "print(rf)"
   ]
  },
  {
   "cell_type": "markdown",
   "metadata": {},
   "source": [
    "### Logistic Regression:"
   ]
  },
  {
   "cell_type": "code",
   "execution_count": 2,
   "metadata": {},
   "outputs": [
    {
     "name": "stdout",
     "output_type": "stream",
     "text": [
      "         Player  Probability\n",
      "0  Steve Pearce        0.317\n",
      "1    Joey Votto        0.311\n",
      "2  Mookie Betts        0.308\n",
      "3     Joe Panik        0.299\n",
      "4  James McCann        0.296\n"
     ]
    }
   ],
   "source": [
    "lr = pd.DataFrame([['Steve Pearce', 0.317], \n",
    "                   ['Joey Votto', 0.311], \n",
    "                   ['Mookie Betts', 0.308], \n",
    "                   ['Joe Panik', 0.299], \n",
    "                   ['James McCann', 0.296]],\n",
    "columns= ['Player', 'Probability']\n",
    ")\n",
    "\n",
    "print(lr)"
   ]
  },
  {
   "cell_type": "markdown",
   "metadata": {},
   "source": [
    "The program will double down with Pearce and Betts today. Pearce could be out of the lineup though, so it's best to double check before picks lock!"
   ]
  },
  {
   "cell_type": "markdown",
   "metadata": {},
   "source": [
    "#### Steve Pearce"
   ]
  },
  {
   "cell_type": "markdown",
   "metadata": {},
   "source": [
    "The 2018 World Series MVP has struggled so far this season, but might see Wade Miley. He is 7/21 (.333) against Miley and crushes lefties. He hasn't been very good this season though and might not even be in the lineup, so buyer beware here."
   ]
  },
  {
   "cell_type": "markdown",
   "metadata": {},
   "source": [
    "#### Mookie Betts"
   ]
  },
  {
   "cell_type": "markdown",
   "metadata": {},
   "source": [
    "Can't go wrong with this pick. The reigning MVP is 6/11 (.545) against Miley."
   ]
  }
 ],
 "metadata": {
  "kernelspec": {
   "display_name": "Python 3",
   "language": "python",
   "name": "python3"
  },
  "language_info": {
   "codemirror_mode": {
    "name": "ipython",
    "version": 3
   },
   "file_extension": ".py",
   "mimetype": "text/x-python",
   "name": "python",
   "nbconvert_exporter": "python",
   "pygments_lexer": "ipython3",
   "version": "3.7.2"
  }
 },
 "nbformat": 4,
 "nbformat_minor": 2
}
