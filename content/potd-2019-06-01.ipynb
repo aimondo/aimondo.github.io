{
 "cells": [
  {
   "cell_type": "markdown",
   "metadata": {},
   "source": [
    "# POTD (Pick of the Day) - Alex Gordon"
   ]
  },
  {
   "cell_type": "markdown",
   "metadata": {},
   "source": [
    "### Random Forest:"
   ]
  },
  {
   "cell_type": "code",
   "execution_count": 1,
   "metadata": {},
   "outputs": [
    {
     "name": "stdout",
     "output_type": "stream",
     "text": [
      "            Player  Probability\n",
      "0      Alex Gordon        0.298\n",
      "1     Jose Ramirez        0.285\n",
      "2  Kevin Kiermaier        0.279\n",
      "3      Kyle Seager        0.277\n",
      "4     Jason Kipnis        0.274\n"
     ]
    }
   ],
   "source": [
    "import pandas as pd\n",
    "import plotly.plotly as py\n",
    "import plotly.figure_factory as ff\n",
    "import plotly.graph_objs as go\n",
    "\n",
    "rf = pd.DataFrame([['Alex Gordon', 0.298], \n",
    "                   ['Jose Ramirez', 0.285], \n",
    "                   ['Kevin Kiermaier', 0.279], \n",
    "                   ['Kyle Seager', 0.277], \n",
    "                   ['Jason Kipnis', 0.274]],\n",
    "columns= ['Player', 'Probability']\n",
    ")\n",
    "\n",
    "print(rf)"
   ]
  },
  {
   "cell_type": "markdown",
   "metadata": {},
   "source": [
    "### Logistic Regression:"
   ]
  },
  {
   "cell_type": "code",
   "execution_count": 2,
   "metadata": {},
   "outputs": [
    {
     "name": "stdout",
     "output_type": "stream",
     "text": [
      "          Player  Probability\n",
      "0    Alex Gordon        0.330\n",
      "1  Dexter Fowler        0.312\n",
      "2   Jason Kipnis        0.304\n",
      "3    Kyle Seager        0.298\n",
      "4  Leonys Martin        0.294\n"
     ]
    }
   ],
   "source": [
    "lr = pd.DataFrame([['Alex Gordon', 0.33], \n",
    "                   ['Dexter Fowler', 0.312], \n",
    "                   ['Jason Kipnis', 0.304], \n",
    "                   ['Kyle Seager', 0.298], \n",
    "                   ['Leonys Martin', 0.294]],\n",
    "columns= ['Player', 'Probability']\n",
    ")\n",
    "\n",
    "print(lr)"
   ]
  },
  {
   "cell_type": "markdown",
   "metadata": {},
   "source": [
    "#### Alex Gordon"
   ]
  },
  {
   "cell_type": "markdown",
   "metadata": {},
   "source": [
    "Both models agree on Gordon as the top pick today. He is 10/22 (.455) against Lance Lynn and has a nice handedness advantage (lefty vs. righty)."
   ]
  }
 ],
 "metadata": {
  "kernelspec": {
   "display_name": "Python 3",
   "language": "python",
   "name": "python3"
  },
  "language_info": {
   "codemirror_mode": {
    "name": "ipython",
    "version": 3
   },
   "file_extension": ".py",
   "mimetype": "text/x-python",
   "name": "python",
   "nbconvert_exporter": "python",
   "pygments_lexer": "ipython3",
   "version": "3.7.2"
  }
 },
 "nbformat": 4,
 "nbformat_minor": 2
}
