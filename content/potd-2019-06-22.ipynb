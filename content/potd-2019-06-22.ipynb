{
 "cells": [
  {
   "cell_type": "markdown",
   "metadata": {},
   "source": [
    "# POTD (Pick of the Day) - Brian McCann"
   ]
  },
  {
   "cell_type": "markdown",
   "metadata": {},
   "source": [
    "### Random Forest:"
   ]
  },
  {
   "cell_type": "code",
   "execution_count": 1,
   "metadata": {},
   "outputs": [
    {
     "name": "stdout",
     "output_type": "stream",
     "text": [
      "             Player  Probability\n",
      "0     Orlando Arcia        0.288\n",
      "1       Nelson Cruz        0.280\n",
      "2       Jose Altuve        0.275\n",
      "3      Brian McCann        0.274\n",
      "4  Michael Brantley        0.273\n"
     ]
    }
   ],
   "source": [
    "import pandas as pd\n",
    "import plotly.plotly as py\n",
    "import plotly.figure_factory as ff\n",
    "import plotly.graph_objs as go\n",
    "\n",
    "rf = pd.DataFrame([['Orlando Arcia', 0.288], \n",
    "                   ['Nelson Cruz', 0.28], \n",
    "                   ['Jose Altuve', 0.275], \n",
    "                   ['Brian McCann', 0.274], \n",
    "                   ['Michael Brantley', 0.273]],\n",
    "columns= ['Player', 'Probability']\n",
    ")\n",
    "\n",
    "print(rf)"
   ]
  },
  {
   "cell_type": "markdown",
   "metadata": {},
   "source": [
    "### Logistic Regression:"
   ]
  },
  {
   "cell_type": "code",
   "execution_count": 2,
   "metadata": {},
   "outputs": [
    {
     "name": "stdout",
     "output_type": "stream",
     "text": [
      "              Player  Probability\n",
      "0       Brian McCann        0.340\n",
      "1      Nolan Arenado        0.338\n",
      "2        Kyle Seager        0.320\n",
      "3  Edwin Encarnacion        0.313\n",
      "4      Jason Heyward        0.313\n"
     ]
    }
   ],
   "source": [
    "lr = pd.DataFrame([['Brian McCann', 0.34], \n",
    "                   ['Nolan Arenado', 0.338], \n",
    "                   ['Kyle Seager', 0.32], \n",
    "                   ['Edwin Encarnacion', 0.313], \n",
    "                   ['Jason Heyward', 0.313]],\n",
    "columns= ['Player', 'Probability']\n",
    ")\n",
    "\n",
    "print(lr)"
   ]
  },
  {
   "cell_type": "markdown",
   "metadata": {},
   "source": [
    "#### Brian McCann"
   ]
  },
  {
   "cell_type": "markdown",
   "metadata": {},
   "source": [
    "Interesting pick. McCann has actually been pretty good this year and owns a .289 BA in 151 PA. He will face off against Anibal Sanchez. He is 11/38 (.289) with a handedness advantage."
   ]
  }
 ],
 "metadata": {
  "kernelspec": {
   "display_name": "Python 3",
   "language": "python",
   "name": "python3"
  },
  "language_info": {
   "codemirror_mode": {
    "name": "ipython",
    "version": 3
   },
   "file_extension": ".py",
   "mimetype": "text/x-python",
   "name": "python",
   "nbconvert_exporter": "python",
   "pygments_lexer": "ipython3",
   "version": "3.7.2"
  }
 },
 "nbformat": 4,
 "nbformat_minor": 2
}
