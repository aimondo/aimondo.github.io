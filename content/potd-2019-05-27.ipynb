{
 "cells": [
  {
   "cell_type": "markdown",
   "metadata": {},
   "source": [
    "# POTD (Pick of the Day) - DOUBLE DOWN!!!\n",
    "#### Double Down - Trevor Story & Elvis Andrus"
   ]
  },
  {
   "cell_type": "markdown",
   "metadata": {},
   "source": [
    "### Random Forest:"
   ]
  },
  {
   "cell_type": "code",
   "execution_count": 1,
   "metadata": {},
   "outputs": [
    {
     "name": "stdout",
     "output_type": "stream",
     "text": [
      "           Player  Probability\n",
      "0   Mark Reynolds        0.376\n",
      "1    Trevor Story        0.336\n",
      "2    Elvis Andrus        0.311\n",
      "3  Michael Taylor        0.301\n",
      "4  Carlos Santana        0.297\n"
     ]
    }
   ],
   "source": [
    "import pandas as pd\n",
    "import plotly.plotly as py\n",
    "import plotly.figure_factory as ff\n",
    "import plotly.graph_objs as go\n",
    "\n",
    "rf = pd.DataFrame([['Mark Reynolds', 0.376], \n",
    "                   ['Trevor Story', 0.336], \n",
    "                   ['Elvis Andrus', 0.311], \n",
    "                   ['Michael Taylor', 0.301], \n",
    "                   ['Carlos Santana', 0.297]],\n",
    "columns= ['Player', 'Probability']\n",
    ")\n",
    "\n",
    "print(rf)"
   ]
  },
  {
   "cell_type": "markdown",
   "metadata": {},
   "source": [
    "### Logistic Regression:"
   ]
  },
  {
   "cell_type": "code",
   "execution_count": 2,
   "metadata": {},
   "outputs": [
    {
     "name": "stdout",
     "output_type": "stream",
     "text": [
      "           Player  Probability\n",
      "0    Martin Prado        0.410\n",
      "1       Jay Bruce        0.350\n",
      "2    Elvis Andrus        0.337\n",
      "3    Trevor Story        0.324\n",
      "4  Carlos Santana        0.320\n"
     ]
    }
   ],
   "source": [
    "lr = pd.DataFrame([['Martin Prado', 0.41], \n",
    "                   ['Jay Bruce', 0.35], \n",
    "                   ['Elvis Andrus', 0.337], \n",
    "                   ['Trevor Story', 0.324], \n",
    "                   ['Carlos Santana', 0.32]],\n",
    "columns= ['Player', 'Probability']\n",
    ")\n",
    "\n",
    "print(lr)"
   ]
  },
  {
   "cell_type": "markdown",
   "metadata": {},
   "source": [
    "#### Trevor Story"
   ]
  },
  {
   "cell_type": "markdown",
   "metadata": {},
   "source": [
    "Trevor Story vs. Zack Greinke. Should be a fun showdown in Coors. Both players have been great so far this season. Story is 11/38 (.289) against Greinke."
   ]
  },
  {
   "cell_type": "markdown",
   "metadata": {},
   "source": [
    "#### Elvis Andrus"
   ]
  },
  {
   "cell_type": "markdown",
   "metadata": {},
   "source": [
    "Another player who is currently having a great season. Andrus will see Tommy Milone and is 11/29 (.379) against him with a handedness advantage."
   ]
  }
 ],
 "metadata": {
  "kernelspec": {
   "display_name": "Python 3",
   "language": "python",
   "name": "python3"
  },
  "language_info": {
   "codemirror_mode": {
    "name": "ipython",
    "version": 3
   },
   "file_extension": ".py",
   "mimetype": "text/x-python",
   "name": "python",
   "nbconvert_exporter": "python",
   "pygments_lexer": "ipython3",
   "version": "3.7.2"
  }
 },
 "nbformat": 4,
 "nbformat_minor": 2
}
