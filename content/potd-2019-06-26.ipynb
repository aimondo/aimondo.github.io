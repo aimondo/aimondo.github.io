{
 "cells": [
  {
   "cell_type": "markdown",
   "metadata": {},
   "source": [
    "# POTD (Pick of the Day) - Francisco Lindor"
   ]
  },
  {
   "cell_type": "markdown",
   "metadata": {},
   "source": [
    "### Random Forest:"
   ]
  },
  {
   "cell_type": "code",
   "execution_count": 1,
   "metadata": {},
   "outputs": [
    {
     "name": "stdout",
     "output_type": "stream",
     "text": [
      "             Player  Probability\n",
      "0  Francisco Lindor        0.308\n",
      "1     Nick Markakis        0.285\n",
      "2     J.D. Martinez        0.279\n",
      "3      Joc Pederson        0.277\n",
      "4      Ozzie Albies        0.277\n"
     ]
    }
   ],
   "source": [
    "import pandas as pd\n",
    "import plotly.plotly as py\n",
    "import plotly.figure_factory as ff\n",
    "import plotly.graph_objs as go\n",
    "\n",
    "rf = pd.DataFrame([['Francisco Lindor', 0.308], \n",
    "                   ['Nick Markakis', 0.285], \n",
    "                   ['J.D. Martinez', 0.279], \n",
    "                   ['Joc Pederson', 0.277], \n",
    "                   ['Ozzie Albies', 0.277]],\n",
    "columns= ['Player', 'Probability']\n",
    ")\n",
    "\n",
    "print(rf)"
   ]
  },
  {
   "cell_type": "markdown",
   "metadata": {},
   "source": [
    "### Logistic Regression:"
   ]
  },
  {
   "cell_type": "code",
   "execution_count": 2,
   "metadata": {},
   "outputs": [
    {
     "name": "stdout",
     "output_type": "stream",
     "text": [
      "             Player  Probability\n",
      "0     Nolan Arenado        0.345\n",
      "1     Daniel Murphy        0.323\n",
      "2  Francisco Lindor        0.323\n",
      "3   Jonathan Lucroy        0.313\n",
      "4       Ian Desmond        0.310\n"
     ]
    }
   ],
   "source": [
    "lr = pd.DataFrame([['Nolan Arenado', 0.345], \n",
    "                   ['Daniel Murphy', 0.323], \n",
    "                   ['Francisco Lindor', 0.323], \n",
    "                   ['Jonathan Lucroy', 0.313], \n",
    "                   ['Ian Desmond', 0.31]],\n",
    "columns= ['Player', 'Probability']\n",
    ")\n",
    "\n",
    "print(lr)"
   ]
  },
  {
   "cell_type": "markdown",
   "metadata": {},
   "source": [
    "#### Francisco Lindor"
   ]
  },
  {
   "cell_type": "markdown",
   "metadata": {},
   "source": [
    "Lindor will face Jakob Junis. He is 7/16 (.438) against him with a handedness advantage. Junis has a 5.18 ERA and has allowed 96 hits in 88.2 IP this season."
   ]
  }
 ],
 "metadata": {
  "kernelspec": {
   "display_name": "Python 3",
   "language": "python",
   "name": "python3"
  },
  "language_info": {
   "codemirror_mode": {
    "name": "ipython",
    "version": 3
   },
   "file_extension": ".py",
   "mimetype": "text/x-python",
   "name": "python",
   "nbconvert_exporter": "python",
   "pygments_lexer": "ipython3",
   "version": "3.7.2"
  }
 },
 "nbformat": 4,
 "nbformat_minor": 2
}
