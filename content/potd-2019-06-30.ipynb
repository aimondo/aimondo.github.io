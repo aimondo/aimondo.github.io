{
 "cells": [
  {
   "cell_type": "markdown",
   "metadata": {},
   "source": [
    "# POTD (Pick of the Day) - Charlie Blackmon"
   ]
  },
  {
   "cell_type": "markdown",
   "metadata": {},
   "source": [
    "### Random Forest:"
   ]
  },
  {
   "cell_type": "code",
   "execution_count": 1,
   "metadata": {},
   "outputs": [
    {
     "name": "stdout",
     "output_type": "stream",
     "text": [
      "             Player  Probability\n",
      "0        Adam Eaton        0.315\n",
      "1  Charlie Blackmon        0.315\n",
      "2    Bryan Reynolds        0.299\n",
      "3     Albert Pujols        0.291\n",
      "4     Nick Markakis        0.291\n"
     ]
    }
   ],
   "source": [
    "import pandas as pd\n",
    "\n",
    "rf = pd.DataFrame([['Adam Eaton', 0.315], \n",
    "                   ['Charlie Blackmon', 0.315], \n",
    "                   ['Bryan Reynolds', 0.299], \n",
    "                   ['Albert Pujols', 0.291], \n",
    "                   ['Nick Markakis', 0.291]],\n",
    "columns= ['Player', 'Probability']\n",
    ")\n",
    "\n",
    "print(rf)"
   ]
  },
  {
   "cell_type": "markdown",
   "metadata": {},
   "source": [
    "### Logistic Regression:"
   ]
  },
  {
   "cell_type": "code",
   "execution_count": 2,
   "metadata": {},
   "outputs": [
    {
     "name": "stdout",
     "output_type": "stream",
     "text": [
      "              Player  Probability\n",
      "0        Jose Peraza        0.347\n",
      "1   Charlie Blackmon        0.320\n",
      "2     Eugenio Suarez        0.318\n",
      "3  Edwin Encarnacion        0.317\n",
      "4    Freddie Freeman        0.302\n"
     ]
    }
   ],
   "source": [
    "lr = pd.DataFrame([['Jose Peraza', 0.347], \n",
    "                   ['Charlie Blackmon', 0.32], \n",
    "                   ['Eugenio Suarez', 0.318], \n",
    "                   ['Edwin Encarnacion', 0.317], \n",
    "                   ['Freddie Freeman', 0.302]],\n",
    "columns= ['Player', 'Probability']\n",
    ")\n",
    "\n",
    "print(lr)"
   ]
  },
  {
   "cell_type": "markdown",
   "metadata": {},
   "source": [
    "Looks like we will be taking Blackmon for the third day in a row. Let's look at the matchup!"
   ]
  },
  {
   "cell_type": "markdown",
   "metadata": {},
   "source": [
    "#### Charlie Blackmon"
   ]
  },
  {
   "cell_type": "markdown",
   "metadata": {},
   "source": [
    "Blackmon will see Kenta Maeda in Coors! He is 7/21 (.333) against him with a handedness advantage. "
   ]
  }
 ],
 "metadata": {
  "kernelspec": {
   "display_name": "Python 3",
   "language": "python",
   "name": "python3"
  },
  "language_info": {
   "codemirror_mode": {
    "name": "ipython",
    "version": 3
   },
   "file_extension": ".py",
   "mimetype": "text/x-python",
   "name": "python",
   "nbconvert_exporter": "python",
   "pygments_lexer": "ipython3",
   "version": "3.7.2"
  }
 },
 "nbformat": 4,
 "nbformat_minor": 2
}
