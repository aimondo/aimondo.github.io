{
 "cells": [
  {
   "cell_type": "markdown",
   "metadata": {},
   "source": [
    "# POTD (Pick of the Day) - Whit Merrifield"
   ]
  },
  {
   "cell_type": "markdown",
   "metadata": {},
   "source": [
    "### Random Forest:"
   ]
  },
  {
   "cell_type": "code",
   "execution_count": 1,
   "metadata": {},
   "outputs": [
    {
     "name": "stdout",
     "output_type": "stream",
     "text": [
      "            Player  Probability\n",
      "0  Whit Merrifield        0.293\n",
      "1     Mookie Betts        0.279\n",
      "2     Nomar Mazara        0.275\n"
     ]
    }
   ],
   "source": [
    "import pandas as pd\n",
    "import plotly.plotly as py\n",
    "import plotly.figure_factory as ff\n",
    "import plotly.graph_objs as go\n",
    "\n",
    "rf = pd.DataFrame([['Whit Merrifield', 0.293], \n",
    "                   ['Mookie Betts', 0.279], \n",
    "                   ['Nomar Mazara', 0.275]],\n",
    "columns= ['Player', 'Probability']\n",
    ")\n",
    "\n",
    "print(rf)"
   ]
  },
  {
   "cell_type": "markdown",
   "metadata": {},
   "source": [
    "### Logistic Regression:"
   ]
  },
  {
   "cell_type": "code",
   "execution_count": 2,
   "metadata": {},
   "outputs": [
    {
     "name": "stdout",
     "output_type": "stream",
     "text": [
      "            Player  Probability\n",
      "0     Rougned Odor        0.311\n",
      "1      Alex Gordon        0.301\n",
      "2  Whit Merrifield        0.300\n"
     ]
    }
   ],
   "source": [
    "lr = pd.DataFrame([['Rougned Odor', 0.311], \n",
    "                   ['Alex Gordon', 0.301], \n",
    "                   ['Whit Merrifield', 0.3]],\n",
    "columns= ['Player', 'Probability']\n",
    ")\n",
    "\n",
    "print(lr)"
   ]
  },
  {
   "cell_type": "markdown",
   "metadata": {},
   "source": [
    "#### Whit Merrifield"
   ]
  },
  {
   "cell_type": "markdown",
   "metadata": {},
   "source": [
    "Merrifield will face Daniel Norris, who owns a 4.60 ERA and has given up 75 hits in 62.2 IP. Whit is 6/16 against Norris with a handedness advantage (righty vs. lefty) and should be a solid choice today."
   ]
  }
 ],
 "metadata": {
  "kernelspec": {
   "display_name": "Python 3",
   "language": "python",
   "name": "python3"
  },
  "language_info": {
   "codemirror_mode": {
    "name": "ipython",
    "version": 3
   },
   "file_extension": ".py",
   "mimetype": "text/x-python",
   "name": "python",
   "nbconvert_exporter": "python",
   "pygments_lexer": "ipython3",
   "version": "3.7.2"
  }
 },
 "nbformat": 4,
 "nbformat_minor": 2
}
