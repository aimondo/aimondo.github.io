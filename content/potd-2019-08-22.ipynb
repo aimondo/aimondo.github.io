{
 "cells": [
  {
   "cell_type": "markdown",
   "metadata": {},
   "source": [
    "# POTD (Pick of the Day) - DOUBLE DOWN!!!\n",
    "### Double Down - Jose Abreu & Ozzie Albies"
   ]
  },
  {
   "cell_type": "markdown",
   "metadata": {},
   "source": [
    "### Random Forest:"
   ]
  },
  {
   "cell_type": "code",
   "execution_count": 1,
   "metadata": {},
   "outputs": [
    {
     "name": "stdout",
     "output_type": "stream",
     "text": [
      "            Player  Probability\n",
      "0       Jose Abreu        0.294\n",
      "1  Freddie Freeman        0.281\n",
      "2    Nolan Arenado        0.281\n",
      "3     Ozzie Albies        0.280\n",
      "4   Cameron Maybin        0.274\n"
     ]
    }
   ],
   "source": [
    "import pandas as pd\n",
    "\n",
    "rf = pd.DataFrame([['Jose Abreu', 0.294], \n",
    "                   ['Freddie Freeman', 0.281], \n",
    "                   ['Nolan Arenado', 0.281], \n",
    "                   ['Ozzie Albies', 0.28], \n",
    "                   ['Cameron Maybin', 0.274]],\n",
    "columns= ['Player', 'Probability']\n",
    ")\n",
    "\n",
    "print(rf)"
   ]
  },
  {
   "cell_type": "markdown",
   "metadata": {},
   "source": [
    "### Logistic Regression:"
   ]
  },
  {
   "cell_type": "code",
   "execution_count": 2,
   "metadata": {},
   "outputs": [
    {
     "name": "stdout",
     "output_type": "stream",
     "text": [
      "         Player  Probability\n",
      "0   Jose Altuve        0.292\n",
      "1  Ozzie Albies        0.280\n",
      "2   Kris Bryant        0.278\n",
      "3  Adam Frazier        0.278\n",
      "4    Jose Abreu        0.277\n"
     ]
    }
   ],
   "source": [
    "lr = pd.DataFrame([['Jose Altuve', 0.292], \n",
    "                   ['Ozzie Albies', 0.28], \n",
    "                   ['Kris Bryant', 0.278], \n",
    "                   ['Adam Frazier', 0.278], \n",
    "                   ['Jose Abreu', 0.277]],\n",
    "columns= ['Player', 'Probability']\n",
    ")\n",
    "\n",
    "print(lr)"
   ]
  },
  {
   "cell_type": "markdown",
   "metadata": {},
   "source": [
    "#### Jose Abreu"
   ]
  },
  {
   "cell_type": "markdown",
   "metadata": {},
   "source": [
    "Will face Ariel Jurado. He is 3/5 (.600) against him."
   ]
  },
  {
   "cell_type": "markdown",
   "metadata": {},
   "source": [
    "#### Ozzie Albies"
   ]
  },
  {
   "cell_type": "markdown",
   "metadata": {},
   "source": [
    "Albies will see Sandy Alcantara. He is 3/7 (.429) against him with a handedness advantage."
   ]
  }
 ],
 "metadata": {
  "kernelspec": {
   "display_name": "Python 3",
   "language": "python",
   "name": "python3"
  },
  "language_info": {
   "codemirror_mode": {
    "name": "ipython",
    "version": 3
   },
   "file_extension": ".py",
   "mimetype": "text/x-python",
   "name": "python",
   "nbconvert_exporter": "python",
   "pygments_lexer": "ipython3",
   "version": "3.7.2"
  }
 },
 "nbformat": 4,
 "nbformat_minor": 2
}
