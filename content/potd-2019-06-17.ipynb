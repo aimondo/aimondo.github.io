{
 "cells": [
  {
   "cell_type": "markdown",
   "metadata": {},
   "source": [
    "# No Pick Today"
   ]
  },
  {
   "cell_type": "markdown",
   "metadata": {},
   "source": [
    "### Random Forest:"
   ]
  },
  {
   "cell_type": "code",
   "execution_count": 1,
   "metadata": {},
   "outputs": [
    {
     "name": "stdout",
     "output_type": "stream",
     "text": [
      "         Player  Probability\n",
      "0   Yasiel Puig        0.289\n",
      "1   Jean Segura        0.278\n",
      "2     Joe Panik        0.277\n",
      "3  Matt Chapman        0.274\n",
      "4   Mike Zunino        0.274\n"
     ]
    }
   ],
   "source": [
    "import pandas as pd\n",
    "import plotly.plotly as py\n",
    "import plotly.figure_factory as ff\n",
    "import plotly.graph_objs as go\n",
    "\n",
    "rf = pd.DataFrame([['Yasiel Puig', 0.289], \n",
    "                   ['Jean Segura', 0.278], \n",
    "                   ['Joe Panik', 0.277], \n",
    "                   ['Matt Chapman', 0.274], \n",
    "                   ['Mike Zunino', 0.274]],\n",
    "columns= ['Player', 'Probability']\n",
    ")\n",
    "\n",
    "print(rf)"
   ]
  },
  {
   "cell_type": "markdown",
   "metadata": {},
   "source": [
    "### Logistic Regression:"
   ]
  },
  {
   "cell_type": "code",
   "execution_count": 2,
   "metadata": {},
   "outputs": [
    {
     "name": "stdout",
     "output_type": "stream",
     "text": [
      "            Player  Probability\n",
      "0  Jonathan Lucroy        0.353\n",
      "1  Freddie Freeman        0.316\n",
      "2        Joe Panik        0.309\n",
      "3      Jean Segura        0.296\n",
      "4     Matt Chapman        0.287\n"
     ]
    }
   ],
   "source": [
    "lr = pd.DataFrame([['Jonathan Lucroy', 0.353], \n",
    "                   ['Freddie Freeman', 0.316], \n",
    "                   ['Joe Panik', 0.309], \n",
    "                   ['Jean Segura', 0.296], \n",
    "                   ['Matt Chapman', 0.287]],\n",
    "columns= ['Player', 'Probability']\n",
    ")\n",
    "\n",
    "print(lr)"
   ]
  },
  {
   "cell_type": "markdown",
   "metadata": {},
   "source": [
    "Both models like Matt Chapman against Andrew Cashner. He is our unofficial pick of the day!"
   ]
  }
 ],
 "metadata": {
  "kernelspec": {
   "display_name": "Python 3",
   "language": "python",
   "name": "python3"
  },
  "language_info": {
   "codemirror_mode": {
    "name": "ipython",
    "version": 3
   },
   "file_extension": ".py",
   "mimetype": "text/x-python",
   "name": "python",
   "nbconvert_exporter": "python",
   "pygments_lexer": "ipython3",
   "version": "3.7.2"
  }
 },
 "nbformat": 4,
 "nbformat_minor": 2
}
