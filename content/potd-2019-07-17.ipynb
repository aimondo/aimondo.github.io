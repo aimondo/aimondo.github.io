{
 "cells": [
  {
   "cell_type": "markdown",
   "metadata": {},
   "source": [
    "# No Pick Today"
   ]
  },
  {
   "cell_type": "markdown",
   "metadata": {},
   "source": [
    "### Random Forest:"
   ]
  },
  {
   "cell_type": "code",
   "execution_count": 1,
   "metadata": {},
   "outputs": [
    {
     "name": "stdout",
     "output_type": "stream",
     "text": [
      "            Player  Probability\n",
      "0     Kevin Pillar        0.303\n",
      "1   Donovan Solano        0.299\n",
      "2  Lourdes Gurriel        0.292\n",
      "3     Jason Kipnis        0.288\n",
      "4      Gio Urshela        0.286\n"
     ]
    }
   ],
   "source": [
    "import pandas as pd\n",
    "\n",
    "rf = pd.DataFrame([['Kevin Pillar', 0.303], \n",
    "                   ['Donovan Solano', 0.299], \n",
    "                   ['Lourdes Gurriel', 0.292], \n",
    "                   ['Jason Kipnis', 0.288], \n",
    "                   ['Gio Urshela', 0.286]],\n",
    "columns= ['Player', 'Probability']\n",
    ")\n",
    "\n",
    "print(rf)"
   ]
  },
  {
   "cell_type": "markdown",
   "metadata": {},
   "source": [
    "### Logistic Regression:"
   ]
  },
  {
   "cell_type": "code",
   "execution_count": 2,
   "metadata": {},
   "outputs": [
    {
     "name": "stdout",
     "output_type": "stream",
     "text": [
      "               Player  Probability\n",
      "0          Jose Abreu        0.356\n",
      "1         Nelson Cruz        0.339\n",
      "2  Jackie Bradley Jr.        0.304\n",
      "3        Lorenzo Cain        0.299\n",
      "4   Andrew Benintendi        0.293\n"
     ]
    }
   ],
   "source": [
    "lr = pd.DataFrame([['Jose Abreu', 0.356], \n",
    "                   ['Nelson Cruz', 0.339], \n",
    "                   ['Jackie Bradley Jr.', 0.304], \n",
    "                   ['Lorenzo Cain', 0.299], \n",
    "                   ['Andrew Benintendi', 0.293]],\n",
    "columns= ['Player', 'Probability']\n",
    ")\n",
    "\n",
    "print(lr)"
   ]
  }
 ],
 "metadata": {
  "kernelspec": {
   "display_name": "Python 3",
   "language": "python",
   "name": "python3"
  },
  "language_info": {
   "codemirror_mode": {
    "name": "ipython",
    "version": 3
   },
   "file_extension": ".py",
   "mimetype": "text/x-python",
   "name": "python",
   "nbconvert_exporter": "python",
   "pygments_lexer": "ipython3",
   "version": "3.7.2"
  }
 },
 "nbformat": 4,
 "nbformat_minor": 2
}
