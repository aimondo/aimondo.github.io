{
 "cells": [
  {
   "cell_type": "markdown",
   "metadata": {},
   "source": [
    "# POTD (Pick of the Day) - Nick Ahmed"
   ]
  },
  {
   "cell_type": "markdown",
   "metadata": {},
   "source": [
    "### Random Forest:"
   ]
  },
  {
   "cell_type": "code",
   "execution_count": 1,
   "metadata": {},
   "outputs": [
    {
     "name": "stdout",
     "output_type": "stream",
     "text": [
      "          Player  Probability\n",
      "0     Nick Ahmed        0.305\n",
      "1  Yonder Alonso        0.283\n",
      "2   Adam Frazier        0.276\n"
     ]
    }
   ],
   "source": [
    "import pandas as pd\n",
    "import plotly.plotly as py\n",
    "import plotly.figure_factory as ff\n",
    "import plotly.graph_objs as go\n",
    "\n",
    "rf = pd.DataFrame([['Nick Ahmed', 0.305], \n",
    "                   ['Yonder Alonso', 0.283], \n",
    "                   ['Adam Frazier', 0.276]],\n",
    "columns= ['Player', 'Probability']\n",
    ")\n",
    "\n",
    "print(rf)"
   ]
  },
  {
   "cell_type": "markdown",
   "metadata": {},
   "source": [
    "### Logistic Regression:"
   ]
  },
  {
   "cell_type": "code",
   "execution_count": 2,
   "metadata": {},
   "outputs": [
    {
     "name": "stdout",
     "output_type": "stream",
     "text": [
      "            Player  Probability\n",
      "0   Starling Marte        0.347\n",
      "1  Kendrys Morales        0.316\n",
      "2       Nick Ahmed        0.310\n"
     ]
    }
   ],
   "source": [
    "lr = pd.DataFrame([['Starling Marte', 0.347], \n",
    "                   ['Kendrys Morales', 0.316], \n",
    "                   ['Nick Ahmed', 0.31]],\n",
    "columns= ['Player', 'Probability']\n",
    ")\n",
    "\n",
    "print(lr)"
   ]
  },
  {
   "cell_type": "markdown",
   "metadata": {},
   "source": [
    "#### Nick Ahmed"
   ]
  },
  {
   "cell_type": "markdown",
   "metadata": {},
   "source": [
    "Well, this is a surprising pick. Ahmed has been hitting the ball extremely well lately though. He is hitting .480 over the last 7 days and .386 over his last 14. He also is hitting .278 on the season with a .387 BA against lefties. He'll be seeing Kyle Freeland, a lefty, who has struggled this season with a 6.71 ERA. Ahmed also hits better away from home and will be in Coors. I actually like this matchup a lot. Oh, and Ahmed is also 5/16 against Freeland (.313)."
   ]
  }
 ],
 "metadata": {
  "kernelspec": {
   "display_name": "Python 3",
   "language": "python",
   "name": "python3"
  },
  "language_info": {
   "codemirror_mode": {
    "name": "ipython",
    "version": 3
   },
   "file_extension": ".py",
   "mimetype": "text/x-python",
   "name": "python",
   "nbconvert_exporter": "python",
   "pygments_lexer": "ipython3",
   "version": "3.7.2"
  }
 },
 "nbformat": 4,
 "nbformat_minor": 2
}
