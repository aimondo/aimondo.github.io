{
 "cells": [
  {
   "cell_type": "markdown",
   "metadata": {},
   "source": [
    "# No Pick Today!"
   ]
  },
  {
   "cell_type": "markdown",
   "metadata": {},
   "source": [
    "### Random Forest:"
   ]
  },
  {
   "cell_type": "code",
   "execution_count": 1,
   "metadata": {},
   "outputs": [
    {
     "name": "stdout",
     "output_type": "stream",
     "text": [
      "         Player  Probability\n",
      "0  Buster Posey        0.312\n",
      "1   Tim Beckham        0.290\n"
     ]
    }
   ],
   "source": [
    "import pandas as pd\n",
    "import plotly.plotly as py\n",
    "import plotly.figure_factory as ff\n",
    "import plotly.graph_objs as go\n",
    "\n",
    "rf = pd.DataFrame([['Buster Posey', 0.312], \n",
    "                   ['Tim Beckham', 0.29]],\n",
    "columns= ['Player', 'Probability']\n",
    ")\n",
    "\n",
    "print(rf)"
   ]
  },
  {
   "cell_type": "markdown",
   "metadata": {},
   "source": [
    "### Logistic Regression:"
   ]
  },
  {
   "cell_type": "code",
   "execution_count": 2,
   "metadata": {},
   "outputs": [
    {
     "name": "stdout",
     "output_type": "stream",
     "text": [
      "          Player  Probability\n",
      "0  Justin Turner        0.357\n",
      "1   Yuli Gurriel        0.307\n"
     ]
    }
   ],
   "source": [
    "lr = pd.DataFrame([['Justin Turner', 0.357], \n",
    "                   ['Yuli Gurriel', 0.307]],\n",
    "columns= ['Player', 'Probability']\n",
    ")\n",
    "\n",
    "print(lr)"
   ]
  },
  {
   "cell_type": "markdown",
   "metadata": {},
   "source": [
    "Looks like another no pick day. Hopefully our streak of no pick days will end tomorrow!"
   ]
  }
 ],
 "metadata": {
  "kernelspec": {
   "display_name": "Python 3",
   "language": "python",
   "name": "python3"
  },
  "language_info": {
   "codemirror_mode": {
    "name": "ipython",
    "version": 3
   },
   "file_extension": ".py",
   "mimetype": "text/x-python",
   "name": "python",
   "nbconvert_exporter": "python",
   "pygments_lexer": "ipython3",
   "version": "3.7.2"
  }
 },
 "nbformat": 4,
 "nbformat_minor": 2
}
