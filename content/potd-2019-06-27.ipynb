{
 "cells": [
  {
   "cell_type": "markdown",
   "metadata": {},
   "source": [
    "# POTD (Pick of the Day) - Cesar Hernandez"
   ]
  },
  {
   "cell_type": "markdown",
   "metadata": {},
   "source": [
    "### Random Forest:"
   ]
  },
  {
   "cell_type": "code",
   "execution_count": 1,
   "metadata": {},
   "outputs": [
    {
     "name": "stdout",
     "output_type": "stream",
     "text": [
      "            Player  Probability\n",
      "0     Alex Verdugo        0.311\n",
      "1        Max Muncy        0.308\n",
      "2       Matt Beaty        0.307\n",
      "3  Cesar Hernandez        0.298\n",
      "4     Chris Taylor        0.294\n"
     ]
    }
   ],
   "source": [
    "import pandas as pd\n",
    "import plotly.plotly as py\n",
    "import plotly.figure_factory as ff\n",
    "import plotly.graph_objs as go\n",
    "\n",
    "rf = pd.DataFrame([['Alex Verdugo', 0.311], \n",
    "                   ['Max Muncy', 0.308], \n",
    "                   ['Matt Beaty', 0.307], \n",
    "                   ['Cesar Hernandez', 0.298], \n",
    "                   ['Chris Taylor', 0.294]],\n",
    "columns= ['Player', 'Probability']\n",
    ")\n",
    "\n",
    "print(rf)"
   ]
  },
  {
   "cell_type": "markdown",
   "metadata": {},
   "source": [
    "### Logistic Regression:"
   ]
  },
  {
   "cell_type": "code",
   "execution_count": 2,
   "metadata": {},
   "outputs": [
    {
     "name": "stdout",
     "output_type": "stream",
     "text": [
      "              Player  Probability\n",
      "0  Guillermo Heredia        0.339\n",
      "1    Freddie Freeman        0.308\n",
      "2    Cesar Hernandez        0.303\n",
      "3   Charlie Blackmon        0.293\n",
      "4     Anthony Rendon        0.291\n"
     ]
    }
   ],
   "source": [
    "lr = pd.DataFrame([['Guillermo Heredia', 0.339], \n",
    "                   ['Freddie Freeman', 0.308], \n",
    "                   ['Cesar Hernandez', 0.303], \n",
    "                   ['Charlie Blackmon', 0.293], \n",
    "                   ['Anthony Rendon', 0.291]],\n",
    "columns= ['Player', 'Probability']\n",
    ")\n",
    "\n",
    "print(lr)"
   ]
  },
  {
   "cell_type": "markdown",
   "metadata": {},
   "source": [
    "#### Cesar Hernandez"
   ]
  },
  {
   "cell_type": "markdown",
   "metadata": {},
   "source": [
    "Should see Zack Wheeler on the mound. He is 9/19 (.474) against Wheeler with a handedness advantage. Wheeler owns a 4.69 ERA and has given up 103 hits in 101.2 IP. He has been at his worst on the road (5.01 ERA), which is where he will be for this matchup!"
   ]
  }
 ],
 "metadata": {
  "kernelspec": {
   "display_name": "Python 3",
   "language": "python",
   "name": "python3"
  },
  "language_info": {
   "codemirror_mode": {
    "name": "ipython",
    "version": 3
   },
   "file_extension": ".py",
   "mimetype": "text/x-python",
   "name": "python",
   "nbconvert_exporter": "python",
   "pygments_lexer": "ipython3",
   "version": "3.7.2"
  }
 },
 "nbformat": 4,
 "nbformat_minor": 2
}
