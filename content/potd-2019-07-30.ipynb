{
 "cells": [
  {
   "cell_type": "markdown",
   "metadata": {},
   "source": [
    "# No Pick Today"
   ]
  },
  {
   "cell_type": "markdown",
   "metadata": {},
   "source": [
    "### Random Forest:"
   ]
  },
  {
   "cell_type": "code",
   "execution_count": 1,
   "metadata": {},
   "outputs": [
    {
     "name": "stdout",
     "output_type": "stream",
     "text": [
      "             Player  Probability\n",
      "0      A.J. Pollock        0.315\n",
      "1      Corey Seager        0.312\n",
      "2  Charlie Blackmon        0.300\n",
      "3      Joc Pederson        0.300\n",
      "4     Nolan Arenado        0.299\n"
     ]
    }
   ],
   "source": [
    "import pandas as pd\n",
    "\n",
    "rf = pd.DataFrame([['A.J. Pollock', 0.315], \n",
    "                   ['Corey Seager', 0.312], \n",
    "                   ['Charlie Blackmon', 0.3], \n",
    "                   ['Joc Pederson', 0.3], \n",
    "                   ['Nolan Arenado', 0.299]],\n",
    "columns= ['Player', 'Probability']\n",
    ")\n",
    "\n",
    "print(rf)"
   ]
  },
  {
   "cell_type": "markdown",
   "metadata": {},
   "source": [
    "### Logistic Regression:"
   ]
  },
  {
   "cell_type": "code",
   "execution_count": 2,
   "metadata": {},
   "outputs": [
    {
     "name": "stdout",
     "output_type": "stream",
     "text": [
      "             Player  Probability\n",
      "0      Jose Ramirez        0.362\n",
      "1  Francisco Lindor        0.356\n",
      "2      Hunter Pence        0.354\n",
      "3     Justin Turner        0.347\n",
      "4     Jason Heyward        0.340\n"
     ]
    }
   ],
   "source": [
    "lr = pd.DataFrame([['Jose Ramirez', 0.362], \n",
    "                   ['Francisco Lindor', 0.356], \n",
    "                   ['Hunter Pence', 0.354], \n",
    "                   ['Justin Turner', 0.347], \n",
    "                   ['Jason Heyward', 0.34]],\n",
    "columns= ['Player', 'Probability']\n",
    ")\n",
    "\n",
    "print(lr)"
   ]
  }
 ],
 "metadata": {
  "kernelspec": {
   "display_name": "Python 3",
   "language": "python",
   "name": "python3"
  },
  "language_info": {
   "codemirror_mode": {
    "name": "ipython",
    "version": 3
   },
   "file_extension": ".py",
   "mimetype": "text/x-python",
   "name": "python",
   "nbconvert_exporter": "python",
   "pygments_lexer": "ipython3",
   "version": "3.7.2"
  }
 },
 "nbformat": 4,
 "nbformat_minor": 2
}
