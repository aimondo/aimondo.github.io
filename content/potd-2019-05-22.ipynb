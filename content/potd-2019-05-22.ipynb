{
 "cells": [
  {
   "cell_type": "markdown",
   "metadata": {},
   "source": [
    "# POTD (Pick of the Day) - DOUBLE DOWN!!!\n",
    "#### Double Down - Albert Pujols & Joey Votto"
   ]
  },
  {
   "cell_type": "markdown",
   "metadata": {},
   "source": [
    "### Random Forest:"
   ]
  },
  {
   "cell_type": "code",
   "execution_count": 1,
   "metadata": {},
   "outputs": [
    {
     "name": "stdout",
     "output_type": "stream",
     "text": [
      "          Player  Probability\n",
      "0     Joey Votto        0.345\n",
      "1  Albert Pujols        0.302\n",
      "2  Orlando Arcia        0.291\n"
     ]
    }
   ],
   "source": [
    "import pandas as pd\n",
    "import plotly.plotly as py\n",
    "import plotly.figure_factory as ff\n",
    "import plotly.graph_objs as go\n",
    "\n",
    "rf = pd.DataFrame([['Joey Votto', 0.345], \n",
    "                   ['Albert Pujols', 0.302], \n",
    "                   ['Orlando Arcia', 0.291]],\n",
    "columns= ['Player', 'Probability']\n",
    ")\n",
    "\n",
    "print(rf)"
   ]
  },
  {
   "cell_type": "markdown",
   "metadata": {},
   "source": [
    "### Logistic Regression:"
   ]
  },
  {
   "cell_type": "code",
   "execution_count": 2,
   "metadata": {},
   "outputs": [
    {
     "name": "stdout",
     "output_type": "stream",
     "text": [
      "          Player  Probability\n",
      "0  Albert Pujols        0.362\n",
      "1     Joey Votto        0.338\n",
      "2   Justin Smoak        0.315\n"
     ]
    }
   ],
   "source": [
    "lr = pd.DataFrame([['Albert Pujols', 0.362], \n",
    "                   ['Joey Votto', 0.338], \n",
    "                   ['Justin Smoak', 0.315]],\n",
    "columns= ['Player', 'Probability']\n",
    ")\n",
    "\n",
    "print(lr)"
   ]
  },
  {
   "cell_type": "markdown",
   "metadata": {},
   "source": [
    "#### Albert Pujols"
   ]
  },
  {
   "cell_type": "markdown",
   "metadata": {},
   "source": [
    "Pujols is 10/27 (.370) against Martin Perez, but this is far from a safe pick. Perez has been great this year, while Pujols may not even be a full-time player at this point in his career."
   ]
  },
  {
   "cell_type": "markdown",
   "metadata": {},
   "source": [
    "#### Joey Votto"
   ]
  },
  {
   "cell_type": "markdown",
   "metadata": {},
   "source": [
    "Votto will face Zach Davies, whom he is 10/25 (.400) against. Davies also has been great this year, while Votto has struggled with a .208 BA."
   ]
  },
  {
   "cell_type": "markdown",
   "metadata": {},
   "source": [
    "Looks like my models are in desperate need of recent data. I'll add the first 2 months of 2019 data this weekend or next. I also plan on adding another threshold that should filter out hitters who have less than a .250 avg for the season. I could use a simple moving average instead though to add emphasis on hitters who are on a hot streak."
   ]
  }
 ],
 "metadata": {
  "kernelspec": {
   "display_name": "Python 3",
   "language": "python",
   "name": "python3"
  },
  "language_info": {
   "codemirror_mode": {
    "name": "ipython",
    "version": 3
   },
   "file_extension": ".py",
   "mimetype": "text/x-python",
   "name": "python",
   "nbconvert_exporter": "python",
   "pygments_lexer": "ipython3",
   "version": "3.7.2"
  }
 },
 "nbformat": 4,
 "nbformat_minor": 2
}
