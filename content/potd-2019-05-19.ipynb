{
 "cells": [
  {
   "cell_type": "markdown",
   "metadata": {},
   "source": [
    "# POTD (Pick of the Day) - DOUBLE DOWN!!!\n",
    "#### Double Down - Christian Yelich & Mike Trout"
   ]
  },
  {
   "cell_type": "markdown",
   "metadata": {},
   "source": [
    "### Random Forest:"
   ]
  },
  {
   "cell_type": "code",
   "execution_count": 1,
   "metadata": {},
   "outputs": [
    {
     "name": "stdout",
     "output_type": "stream",
     "text": [
      "             Player  Probability\n",
      "0  Christian Yelich        0.301\n",
      "1        Mike Trout        0.291\n",
      "2       DJ LeMahieu        0.276\n",
      "3      Tony Wolters        0.273\n"
     ]
    }
   ],
   "source": [
    "import pandas as pd\n",
    "import plotly.plotly as py\n",
    "import plotly.figure_factory as ff\n",
    "import plotly.graph_objs as go\n",
    "\n",
    "rf = pd.DataFrame([['Christian Yelich', 0.301], \n",
    "                   ['Mike Trout', 0.291], \n",
    "                   ['DJ LeMahieu', 0.276], \n",
    "                   ['Tony Wolters', 0.273]],\n",
    "columns= ['Player', 'Probability']\n",
    ")\n",
    "\n",
    "print(rf)"
   ]
  },
  {
   "cell_type": "markdown",
   "metadata": {},
   "source": [
    "### Logistic Regression:"
   ]
  },
  {
   "cell_type": "code",
   "execution_count": 2,
   "metadata": {},
   "outputs": [
    {
     "name": "stdout",
     "output_type": "stream",
     "text": [
      "              Player  Probability\n",
      "0  Edwin Encarnacion        0.306\n",
      "1       Tony Wolters        0.305\n",
      "2   Christian Yelich        0.305\n",
      "3         Mike Trout        0.300\n"
     ]
    }
   ],
   "source": [
    "lr = pd.DataFrame([['Edwin Encarnacion', 0.306], \n",
    "                   ['Tony Wolters', 0.305], \n",
    "                   ['Christian Yelich', 0.305], \n",
    "                   ['Mike Trout', 0.3]],\n",
    "columns= ['Player', 'Probability']\n",
    ")\n",
    "\n",
    "print(lr)"
   ]
  },
  {
   "cell_type": "markdown",
   "metadata": {},
   "source": [
    "Now this is more like it! Let's take a look at the matchups!"
   ]
  },
  {
   "cell_type": "markdown",
   "metadata": {},
   "source": [
    "#### Christian Yelich"
   ]
  },
  {
   "cell_type": "markdown",
   "metadata": {},
   "source": [
    "Yelich will see Mike Foltynewicz and is 9/22 (.409) against him with a handedness advantage. Folty has really struggled so far this season and currently has an 8.02 ERA. Meanwhile, Yelich is currently playing at a MVP level. Don't overthink it, this is a great spot to take Yelich."
   ]
  },
  {
   "cell_type": "markdown",
   "metadata": {},
   "source": [
    "#### Mike Trout"
   ]
  },
  {
   "cell_type": "markdown",
   "metadata": {},
   "source": [
    "Trout will face Danny Duffy. He is currently 7/17 (.412) against him and carries a handedness advantage. This is also a fantastic pick and shouldn't need further analysis. The program is picking arguably the top two players in the game today."
   ]
  }
 ],
 "metadata": {
  "kernelspec": {
   "display_name": "Python 3",
   "language": "python",
   "name": "python3"
  },
  "language_info": {
   "codemirror_mode": {
    "name": "ipython",
    "version": 3
   },
   "file_extension": ".py",
   "mimetype": "text/x-python",
   "name": "python",
   "nbconvert_exporter": "python",
   "pygments_lexer": "ipython3",
   "version": "3.7.2"
  }
 },
 "nbformat": 4,
 "nbformat_minor": 2
}
