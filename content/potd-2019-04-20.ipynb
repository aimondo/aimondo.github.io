{
 "cells": [
  {
   "cell_type": "markdown",
   "metadata": {},
   "source": [
    "# POTD (Pick of the Day) - DOUBLE DOWN!!!\n",
    "#### Double Down - Dee Gordon & Nicholas Castellanos"
   ]
  },
  {
   "cell_type": "markdown",
   "metadata": {},
   "source": [
    "__UPDATE:__ CHW @ DET has been postponed. Second pick becomes Anthony Rizzo."
   ]
  },
  {
   "cell_type": "markdown",
   "metadata": {},
   "source": [
    "Yup! Another double down day. That's two in a row! Compared to yesterday, these picks make a lot more sense. Both are great hitters with very exploitable matchups. Here are the model outputs:"
   ]
  },
  {
   "cell_type": "markdown",
   "metadata": {},
   "source": [
    "### Random Forest:"
   ]
  },
  {
   "cell_type": "code",
   "execution_count": 1,
   "metadata": {},
   "outputs": [
    {
     "data": {
      "text/html": [
       "<iframe id=\"igraph\" scrolling=\"no\" style=\"border:none;\" seamless=\"seamless\" src=\"https://plot.ly/~AimonAllouache/36.embed\" height=\"230px\" width=\"100%\"></iframe>"
      ],
      "text/plain": [
       "<plotly.tools.PlotlyDisplay object>"
      ]
     },
     "execution_count": 1,
     "metadata": {},
     "output_type": "execute_result"
    }
   ],
   "source": [
    "import pandas as pd\n",
    "import plotly.plotly as py\n",
    "import plotly.figure_factory as ff\n",
    "import plotly.graph_objs as go\n",
    "\n",
    "\n",
    "rf = pd.DataFrame([['Dee Gordon', 0.284], \n",
    "                   ['Anthony Rizzo', 0.283], \n",
    "                   ['Nicholas Castellanos', 0.282], \n",
    "                   ['Josh Donaldson', 0.282], \n",
    "                   ['Khris Davis', 0.278]],\n",
    "columns= ['Player', 'Probability']\n",
    ")\n",
    "\n",
    "rf_table = ff.create_table(rf)\n",
    "py.iplot(rf_table, filename='potd-rf-4-19-20')"
   ]
  },
  {
   "cell_type": "markdown",
   "metadata": {},
   "source": [
    "### Logistic Regression:"
   ]
  },
  {
   "cell_type": "code",
   "execution_count": 2,
   "metadata": {},
   "outputs": [
    {
     "data": {
      "text/html": [
       "<iframe id=\"igraph\" scrolling=\"no\" style=\"border:none;\" seamless=\"seamless\" src=\"https://plot.ly/~AimonAllouache/38.embed\" height=\"230px\" width=\"100%\"></iframe>"
      ],
      "text/plain": [
       "<plotly.tools.PlotlyDisplay object>"
      ]
     },
     "execution_count": 2,
     "metadata": {},
     "output_type": "execute_result"
    }
   ],
   "source": [
    "lr = pd.DataFrame([['Dee Gordon', 0.328], \n",
    "                   ['Nicholas Castellanos', 0.31], \n",
    "                   ['Anthony Rizzo', 0.305], \n",
    "                   ['Josh Donaldson', 0.299], \n",
    "                   ['Curtis Granderson', 0.289]],\n",
    "columns= ['Player', 'Probability']\n",
    ")\n",
    "\n",
    "lr_table = ff.create_table(lr)\n",
    "py.iplot(lr_table, filename='potd-lr-4-19-20')"
   ]
  },
  {
   "cell_type": "markdown",
   "metadata": {},
   "source": [
    "As you can see, both models agree on Dee Gordon as the top pick. Both models also agree on the top four players. I'm glad that the program didn't pick Rizzo against Greinke. Greinke has certainly been attackable as of late, but he is a great pitcher who typically doesn't give up a lot of hits."
   ]
  },
  {
   "cell_type": "markdown",
   "metadata": {},
   "source": [
    "#### Dee Gordon"
   ]
  },
  {
   "cell_type": "markdown",
   "metadata": {},
   "source": [
    "Dee will be facing off against Trevor Cahill, whom he is 7/20 (.350) against with a handedness advantage (lefty vs. righty). The only thing that I don't like about picking Dee Gordon is that he bats ninth in the order. This just basically ensures that he will only be limited to four at-bats. Hopefully that is all he needs to advance our streak!"
   ]
  },
  {
   "cell_type": "markdown",
   "metadata": {},
   "source": [
    "#### Nicholas Castellanos"
   ]
  },
  {
   "cell_type": "markdown",
   "metadata": {},
   "source": [
    "Castellanos will do battle against Ervin Santana. He has hit well against him, going 9/21 (.429). Unlike Gordon, Castellanos hits second in the lineup, meaning he could see a fifth opportunity to advance our streak. The only concern that I have with taking both Gordon and Castellanos is that Gordon doesn't play until 9:07 EST, but DET plays at 1:10 EST, meaning we may not know if Gordon is in the lineup until *after* our picks are locked. If our picks are locked and Gordon doesn't play, worst case scenario is that he pinch hits and gets out, ending our streak. I think that is unlikely to happen though and I'm willing to put my streak on the line with the double down."
   ]
  }
 ],
 "metadata": {
  "kernelspec": {
   "display_name": "Python 3",
   "language": "python",
   "name": "python3"
  },
  "language_info": {
   "codemirror_mode": {
    "name": "ipython",
    "version": 3
   },
   "file_extension": ".py",
   "mimetype": "text/x-python",
   "name": "python",
   "nbconvert_exporter": "python",
   "pygments_lexer": "ipython3",
   "version": "3.7.2"
  }
 },
 "nbformat": 4,
 "nbformat_minor": 2
}
