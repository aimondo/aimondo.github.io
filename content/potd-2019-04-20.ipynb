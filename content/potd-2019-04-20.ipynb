{
 "cells": [
  {
   "cell_type": "markdown",
   "metadata": {},
   "source": [
    "# POTD (Pick of the Day) - DOUBLE DOWN!!!\n",
    "#### Double Down - Dee Gordon & Nicholas Castellanos"
   ]
  },
  {
   "cell_type": "markdown",
   "metadata": {},
   "source": [
    "__UPDATE:__ CHW @ DET has been postponed. Second pick becomes Anthony Rizzo."
   ]
  },
  {
   "cell_type": "markdown",
   "metadata": {},
   "source": [
    "Yup! Another double down day. That's two in a row! Compared to yesterday, these picks make a lot more sense. Both are great hitters with very exploitable matchups. Here are the model outputs:"
   ]
  },
  {
   "cell_type": "markdown",
   "metadata": {},
   "source": [
    "### Random Forest:"
   ]
  },
  {
   "cell_type": "code",
   "execution_count": 1,
   "metadata": {},
   "outputs": [
    {
     "data": {
      "text/html": [
       "<iframe id=\"igraph\" scrolling=\"no\" style=\"border:none;\" seamless=\"seamless\" src=\"https://plot.ly/~AimonAllouache/36.embed\" height=\"230px\" width=\"100%\"></iframe>"
      ],
      "text/plain": [
       "<plotly.tools.PlotlyDisplay object>"
      ]
     },
     "execution_count": 1,
     "metadata": {},
     "output_type": "execute_result"
    }
   ],
   "source": [
    "import pandas as pd\n",
    "import plotly.plotly as py\n",
    "import plotly.figure_factory as ff\n",
    "import plotly.graph_objs as go\n",
    "\n",
    "\n",
    "rf = pd.DataFrame([['Dee Gordon', 0.284], \n",
    "                   ['Anthony Rizzo', 0.283], \n",
    "                   ['Nicholas Castellanos', 0.282], \n",
    "                   ['Josh Donaldson', 0.282], \n",
    "                   ['Khris Davis', 0.278]],\n",
    "columns= ['Player', 'Probability']\n",
    ")\n",
    "\n",
    "rf_table = ff.create_table(rf)\n",
    "py.iplot(rf_table, filename='potd-rf-4-19-20')"
   ]
  },
  {
   "cell_type": "markdown",
   "metadata": {},
   "source": [
    "### Logistic Regression:"
   ]
  },
  {
   "cell_type": "code",
   "execution_count": 2,
   "metadata": {},
   "outputs": [
    {
     "data": {
      "text/html": [
       "<iframe id=\"igraph\" scrolling=\"no\" style=\"border:none;\" seamless=\"seamless\" src=\"https://plot.ly/~AimonAllouache/38.embed\" height=\"230px\" width=\"100%\"></iframe>"
      ],
      "text/plain": [
       "<plotly.tools.PlotlyDisplay object>"
      ]
     },
     "execution_count": 2,
     "metadata": {},
     "output_type": "execute_result"
    }
   ],
   "source": [
    "lr = pd.DataFrame([['Dee Gordon', 0.328], \n",
    "                   ['Nicholas Castellanos', 0.31], \n",
    "                   ['Anthony Rizzo', 0.305], \n",
    "                   ['Josh Donaldson', 0.299], \n",
    "                   ['Curtis Granderson', 0.289]],\n",
    "columns= ['Player', 'Probability']\n",
    ")\n",
    "\n",
    "lr_table = ff.create_table(lr)\n",
    "py.iplot(lr_table, filename='potd-lr-4-19-20')"
   ]
  },
  {
   "cell_type": "markdown",
   "metadata": {},
   "source": [
    "As you can see, both models agree on Dee Gordon as the top pick. Both models also agree on the top four players. I'm glad that the program didn't pick Rizzo against Greinke. Greinke has certainly been attackable as of late, but he is a great pitcher who typically doesn't give up a lot of hits."
   ]
  },
  {
   "cell_type": "markdown",
   "metadata": {},
   "source": [
    "#### Dee Gordon"
   ]
  },
  {
   "cell_type": "markdown",
   "metadata": {},
   "source": [
    "Dee will be facing off against Trevor Cahill, whom he is 7/20 (.350) against with a handedness advantage (lefty vs. righty). The only thing that I don't like about picking Dee Gordon is that he bats ninth in the order. This just basically ensures that he will only be limited to four at-bats. Hopefully that is all he needs to advance our streak!"
   ]
  },
  {
   "cell_type": "markdown",
   "metadata": {},
   "source": [
    "#### Nicholas Castellanos"
   ]
  },
  {
   "cell_type": "markdown",
   "metadata": {},
   "source": [
    "Castellanos will do battle against Ervin Santana. He has hit well against him, going 9/21 (.429). Unlike Gordon, Castellanos hits second in the lineup, meaning he could see a fifth opportunity to advance our streak. The only concern that I have with taking both Gordon and Castellanos is that Gordon doesn't play until 9:07 EST, but DET plays at 1:10 EST, meaning we may not know if Gordon is in the lineup until *after* our picks are locked. If our picks are locked and Gordon doesn't play, worst case scenario is that he pinch hits and gets out, ending our streak. I think that is unlikely to happen though and I'm willing to put my streak on the line with the double down."
   ]
  },
  {
   "cell_type": "markdown",
   "metadata": {},
   "source": [
    "### POTD Strategy To-Date Performance\n",
    "Also, it's time to update on the performance of our pick strategy. Below is an updated chart of our streaks."
   ]
  },
  {
   "cell_type": "code",
   "execution_count": 7,
   "metadata": {},
   "outputs": [
    {
     "data": {
      "text/html": [
       "<iframe id=\"igraph\" scrolling=\"no\" style=\"border:none;\" seamless=\"seamless\" src=\"https://plot.ly/~AimonAllouache/40.embed\" height=\"525px\" width=\"100%\"></iframe>"
      ],
      "text/plain": [
       "<plotly.tools.PlotlyDisplay object>"
      ]
     },
     "execution_count": 7,
     "metadata": {},
     "output_type": "execute_result"
    }
   ],
   "source": [
    "import pandas as pd\n",
    "import plotly.plotly as py\n",
    "import plotly.figure_factory as ff\n",
    "import plotly.graph_objs as go\n",
    "\n",
    "df = pd.DataFrame([\n",
    "['3/28/2019','Odubel Herrera',1],\n",
    "['3/29/2019','No Pick',1],\n",
    "['3/30/2019','No Pick',1],\n",
    "['3/31/2019','Trea Turner, Joey Votto',3],\n",
    "['4/1/2019','Joey Votto, Jose Peraza',5],\n",
    "['4/2/2019','No Pick',5],\n",
    "['4/3/2019','Carlos Santana, Andrew Benintendi',7],\n",
    "['4/4/2019','Anthony Rendon, Starling Marte',9],\n",
    "['4/5/2019 12:00','Justin Turner',10],\n",
    "['4/5/2019 20:00','Enrique Hernandez',0],\n",
    "['4/6/2019 12:00','Joey Votto',1],\n",
    "['4/6/2019 20:00','Christian Yelich',0],\n",
    "['4/7/2019','Justin Turner, Edwin Encarnacion',2],\n",
    "['4/8/2019','No Pick',2],\n",
    "['4/9/2019','No Pick',2],\n",
    "['4/10/2019','Miguel Cabrera',3],\n",
    "['4/11/2019','No Pick',3],\n",
    "['4/12/2019','No Pick',3],\n",
    "['4/13/2019','No Pick',3],\n",
    "['4/14/2019','Jorge Polanco',4],\n",
    "['4/15/2019','No Pick',4],\n",
    "['4/16/2019','Whit Merrifield',5],\n",
    "['4/17/2019','No Pick',5],\n",
    "['4/18/2019','Miguel Cabrera',6],\n",
    "['4/19/2019','Jose Abreu, Andrelton Simmons',8]], columns= ['Date','Strategy','Streak'])\n",
    "\n",
    "trace = go.Scatter(\n",
    "    x = df.Date,\n",
    "    y = df.Streak,\n",
    "    mode = 'lines+markers',\n",
    "    name = 'Streak',\n",
    "    text = df.Strategy\n",
    ")\n",
    "\n",
    "layout = go.Layout(\n",
    "    showlegend=False,\n",
    "    title='Pick of the Day Strategy Performance (4/20)',\n",
    "    yaxis=dict(\n",
    "        title='Streak'\n",
    "    )\n",
    ")\n",
    "\n",
    "\n",
    "data = [trace]\n",
    "\n",
    "fig = go.Figure(data=data, layout=layout)\n",
    "py.iplot(fig, filename='potd-strategy-performance-04-20-19')"
   ]
  }
 ],
 "metadata": {
  "kernelspec": {
   "display_name": "Python 3",
   "language": "python",
   "name": "python3"
  },
  "language_info": {
   "codemirror_mode": {
    "name": "ipython",
    "version": 3
   },
   "file_extension": ".py",
   "mimetype": "text/x-python",
   "name": "python",
   "nbconvert_exporter": "python",
   "pygments_lexer": "ipython3",
   "version": "3.7.2"
  }
 },
 "nbformat": 4,
 "nbformat_minor": 2
}
