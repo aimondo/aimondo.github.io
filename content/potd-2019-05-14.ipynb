{
 "cells": [
  {
   "cell_type": "markdown",
   "metadata": {},
   "source": [
    "# POTD (Pick of the Day) - Eric Hosmer"
   ]
  },
  {
   "cell_type": "markdown",
   "metadata": {},
   "source": [
    "### Random Forest:"
   ]
  },
  {
   "cell_type": "code",
   "execution_count": 1,
   "metadata": {},
   "outputs": [
    {
     "name": "stdout",
     "output_type": "stream",
     "text": [
      "         Player  Probability\n",
      "0   Aaron Hicks        0.307\n",
      "1   Eric Hosmer        0.287\n",
      "2  Trey Mancini        0.284\n",
      "3    Joey Votto        0.284\n"
     ]
    }
   ],
   "source": [
    "import pandas as pd\n",
    "import plotly.plotly as py\n",
    "import plotly.figure_factory as ff\n",
    "import plotly.graph_objs as go\n",
    "\n",
    "rf = pd.DataFrame([['Aaron Hicks', 0.307], \n",
    "                   ['Eric Hosmer', 0.287], \n",
    "                   ['Trey Mancini', 0.284], \n",
    "                   ['Joey Votto', 0.284]],\n",
    "columns= ['Player', 'Probability']\n",
    ")\n",
    "\n",
    "print(rf)"
   ]
  },
  {
   "cell_type": "markdown",
   "metadata": {},
   "source": [
    "### Logistic Regression:"
   ]
  },
  {
   "cell_type": "code",
   "execution_count": 2,
   "metadata": {},
   "outputs": [
    {
     "name": "stdout",
     "output_type": "stream",
     "text": [
      "             Player  Probability\n",
      "0    Starlin Castro        0.346\n",
      "1       Eric Hosmer        0.315\n",
      "2  Stephen Piscotty        0.311\n",
      "3    Anthony Rendon        0.309\n"
     ]
    }
   ],
   "source": [
    "lr = pd.DataFrame([['Starlin Castro', 0.346], \n",
    "                   ['Eric Hosmer', 0.315], \n",
    "                   ['Stephen Piscotty', 0.311], \n",
    "                   ['Anthony Rendon', 0.309]],\n",
    "columns= ['Player', 'Probability']\n",
    ")\n",
    "\n",
    "print(lr)"
   ]
  },
  {
   "cell_type": "markdown",
   "metadata": {},
   "source": [
    "The Random Forest is assigning pretty low probabilities today."
   ]
  },
  {
   "cell_type": "markdown",
   "metadata": {},
   "source": [
    "#### Eric Hosmer"
   ]
  },
  {
   "cell_type": "markdown",
   "metadata": {},
   "source": [
    "Hosmer against Clayton Kershaw...not the matchup we are looking for, but here are the numbers. Hosmer is 7/18 (.389) against Kershaw and has only struck out once against him. Kershaw is still Kershaw though, so I wouldn't blame people for fading this pick today."
   ]
  }
 ],
 "metadata": {
  "kernelspec": {
   "display_name": "Python 3",
   "language": "python",
   "name": "python3"
  },
  "language_info": {
   "codemirror_mode": {
    "name": "ipython",
    "version": 3
   },
   "file_extension": ".py",
   "mimetype": "text/x-python",
   "name": "python",
   "nbconvert_exporter": "python",
   "pygments_lexer": "ipython3",
   "version": "3.7.2"
  }
 },
 "nbformat": 4,
 "nbformat_minor": 2
}
