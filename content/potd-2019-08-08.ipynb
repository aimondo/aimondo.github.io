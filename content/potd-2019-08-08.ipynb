{
 "cells": [
  {
   "cell_type": "markdown",
   "metadata": {},
   "source": [
    "# POTD (Pick of the Day) - DOUBLE DOWN!!!\n",
    "### Double Down - Cheslor Cuthbert & Eddie Rosario"
   ]
  },
  {
   "cell_type": "markdown",
   "metadata": {},
   "source": [
    "### Random Forest:"
   ]
  },
  {
   "cell_type": "code",
   "execution_count": 1,
   "metadata": {},
   "outputs": [
    {
     "name": "stdout",
     "output_type": "stream",
     "text": [
      "             Player  Probability\n",
      "0     Eddie Rosario        0.320\n",
      "1       Javier Baez        0.320\n",
      "2     Bryan Holaday        0.319\n",
      "3       Jose Peraza        0.319\n",
      "4  Cheslor Cuthbert        0.315\n"
     ]
    }
   ],
   "source": [
    "import pandas as pd\n",
    "\n",
    "rf = pd.DataFrame([['Eddie Rosario', 0.32], \n",
    "                   ['Javier Baez', 0.32], \n",
    "                   ['Bryan Holaday', 0.319], \n",
    "                   ['Jose Peraza', 0.319], \n",
    "                   ['Cheslor Cuthbert', 0.315]],\n",
    "columns= ['Player', 'Probability']\n",
    ")\n",
    "\n",
    "print(rf)"
   ]
  },
  {
   "cell_type": "markdown",
   "metadata": {},
   "source": [
    "### Logistic Regression:"
   ]
  },
  {
   "cell_type": "code",
   "execution_count": 2,
   "metadata": {},
   "outputs": [
    {
     "name": "stdout",
     "output_type": "stream",
     "text": [
      "             Player  Probability\n",
      "0      Jose Ramirez        0.455\n",
      "1  Cheslor Cuthbert        0.411\n",
      "2   Whit Merrifield        0.407\n",
      "3     Eddie Rosario        0.310\n",
      "4         Wil Myers        0.309\n"
     ]
    }
   ],
   "source": [
    "lr = pd.DataFrame([['Jose Ramirez', 0.455], \n",
    "                   ['Cheslor Cuthbert', 0.411], \n",
    "                   ['Whit Merrifield', 0.407], \n",
    "                   ['Eddie Rosario', 0.31], \n",
    "                   ['Wil Myers', 0.309]],\n",
    "columns= ['Player', 'Probability']\n",
    ")\n",
    "\n",
    "print(lr)"
   ]
  },
  {
   "cell_type": "markdown",
   "metadata": {},
   "source": [
    "#### Cheslor Cuthbert"
   ]
  },
  {
   "cell_type": "markdown",
   "metadata": {},
   "source": [
    "Cuthbert will face Matthew Boyd. He is 6/17 (.353) against him with a handedness advantage."
   ]
  },
  {
   "cell_type": "markdown",
   "metadata": {},
   "source": [
    "#### Eddie Rosario"
   ]
  },
  {
   "cell_type": "markdown",
   "metadata": {},
   "source": [
    "Rosario will face Mike Clevinger. He is 4/12 (.333) against him with a handedness advantage."
   ]
  }
 ],
 "metadata": {
  "kernelspec": {
   "display_name": "Python 3",
   "language": "python",
   "name": "python3"
  },
  "language_info": {
   "codemirror_mode": {
    "name": "ipython",
    "version": 3
   },
   "file_extension": ".py",
   "mimetype": "text/x-python",
   "name": "python",
   "nbconvert_exporter": "python",
   "pygments_lexer": "ipython3",
   "version": "3.7.2"
  }
 },
 "nbformat": 4,
 "nbformat_minor": 2
}
