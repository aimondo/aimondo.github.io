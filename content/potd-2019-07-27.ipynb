{
 "cells": [
  {
   "cell_type": "markdown",
   "metadata": {},
   "source": [
    "# POTD (Pick of the Day) - Daniel Murphy"
   ]
  },
  {
   "cell_type": "markdown",
   "metadata": {},
   "source": [
    "### Random Forest:"
   ]
  },
  {
   "cell_type": "code",
   "execution_count": 1,
   "metadata": {},
   "outputs": [
    {
     "name": "stdout",
     "output_type": "stream",
     "text": [
      "            Player  Probability\n",
      "0       Ryan Braun        0.303\n",
      "1    Daniel Murphy        0.298\n",
      "2    Yonder Alonso        0.293\n",
      "3  Lourdes Gurriel        0.292\n",
      "4    Nick Markakis        0.289\n"
     ]
    }
   ],
   "source": [
    "import pandas as pd\n",
    "\n",
    "rf = pd.DataFrame([['Ryan Braun', 0.303], \n",
    "                   ['Daniel Murphy', 0.298], \n",
    "                   ['Yonder Alonso', 0.293], \n",
    "                   ['Lourdes Gurriel', 0.292], \n",
    "                   ['Nick Markakis', 0.289]],\n",
    "columns= ['Player', 'Probability']\n",
    ")\n",
    "\n",
    "print(rf)"
   ]
  },
  {
   "cell_type": "markdown",
   "metadata": {},
   "source": [
    "### Logistic Regression:"
   ]
  },
  {
   "cell_type": "code",
   "execution_count": 2,
   "metadata": {},
   "outputs": [
    {
     "name": "stdout",
     "output_type": "stream",
     "text": [
      "             Player  Probability\n",
      "0      Mookie Betts        0.348\n",
      "1     Daniel Murphy        0.325\n",
      "2     Gerardo Parra        0.321\n",
      "3       Kris Bryant        0.318\n",
      "4  Francisco Lindor        0.297\n"
     ]
    }
   ],
   "source": [
    "lr = pd.DataFrame([['Mookie Betts', 0.348], \n",
    "                   ['Daniel Murphy', 0.325], \n",
    "                   ['Gerardo Parra', 0.321], \n",
    "                   ['Kris Bryant', 0.318], \n",
    "                   ['Francisco Lindor', 0.297]],\n",
    "columns= ['Player', 'Probability']\n",
    ")\n",
    "\n",
    "print(lr)"
   ]
  },
  {
   "cell_type": "markdown",
   "metadata": {},
   "source": [
    "#### Daniel Murphy"
   ]
  },
  {
   "cell_type": "markdown",
   "metadata": {},
   "source": [
    "Murphy will see Anthony DeSclafani. He is 7/15 (.467) against him with a handedness advantage. Both players have been pretty solid lately."
   ]
  }
 ],
 "metadata": {
  "kernelspec": {
   "display_name": "Python 3",
   "language": "python",
   "name": "python3"
  },
  "language_info": {
   "codemirror_mode": {
    "name": "ipython",
    "version": 3
   },
   "file_extension": ".py",
   "mimetype": "text/x-python",
   "name": "python",
   "nbconvert_exporter": "python",
   "pygments_lexer": "ipython3",
   "version": "3.7.2"
  }
 },
 "nbformat": 4,
 "nbformat_minor": 2
}
