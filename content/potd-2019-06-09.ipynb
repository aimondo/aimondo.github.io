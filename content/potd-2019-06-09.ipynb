{
 "cells": [
  {
   "cell_type": "markdown",
   "metadata": {},
   "source": [
    "# POTD (Pick of the Day) - Starling Marte"
   ]
  },
  {
   "cell_type": "markdown",
   "metadata": {},
   "source": [
    "### Random Forest:"
   ]
  },
  {
   "cell_type": "code",
   "execution_count": 1,
   "metadata": {},
   "outputs": [
    {
     "name": "stdout",
     "output_type": "stream",
     "text": [
      "            Player  Probability\n",
      "0  Addison Russell        0.287\n",
      "1   Starling Marte        0.282\n",
      "2     Josh Reddick        0.279\n",
      "3   Cody Bellinger        0.278\n",
      "4     Adam Frazier        0.277\n"
     ]
    }
   ],
   "source": [
    "import pandas as pd\n",
    "import plotly.plotly as py\n",
    "import plotly.figure_factory as ff\n",
    "import plotly.graph_objs as go\n",
    "\n",
    "rf = pd.DataFrame([['Addison Russell', 0.287], \n",
    "                   ['Starling Marte', 0.282], \n",
    "                   ['Josh Reddick', 0.279], \n",
    "                   ['Cody Bellinger', 0.278], \n",
    "                   ['Adam Frazier', 0.277]],\n",
    "columns= ['Player', 'Probability']\n",
    ")\n",
    "\n",
    "print(rf)"
   ]
  },
  {
   "cell_type": "markdown",
   "metadata": {},
   "source": [
    "### Logistic Regression:"
   ]
  },
  {
   "cell_type": "code",
   "execution_count": 2,
   "metadata": {},
   "outputs": [
    {
     "name": "stdout",
     "output_type": "stream",
     "text": [
      "              Player  Probability\n",
      "0      Justin Turner        0.398\n",
      "1  Enrique Hernandez        0.355\n",
      "2     Starling Marte        0.345\n",
      "3    Whit Merrifield        0.344\n",
      "4      Marcell Ozuna        0.331\n"
     ]
    }
   ],
   "source": [
    "lr = pd.DataFrame([['Justin Turner', 0.398], \n",
    "                   ['Enrique Hernandez', 0.355], \n",
    "                   ['Starling Marte', 0.345], \n",
    "                   ['Whit Merrifield', 0.344], \n",
    "                   ['Marcell Ozuna', 0.331]],\n",
    "columns= ['Player', 'Probability']\n",
    ")\n",
    "\n",
    "print(lr)"
   ]
  },
  {
   "cell_type": "markdown",
   "metadata": {},
   "source": [
    "#### Starling Marte"
   ]
  },
  {
   "cell_type": "markdown",
   "metadata": {},
   "source": [
    "Marte will see Chase Anderson today. He is 13/29 (.448) against him and is coming into the game hot with a .350/.339/.333 split. Marte was one of our picks yesterday and he didn't let us down. This is actually the first time that the model has ever picked the same player in consecutive days. Hopefully he can extend our streak once again!"
   ]
  }
 ],
 "metadata": {
  "kernelspec": {
   "display_name": "Python 3",
   "language": "python",
   "name": "python3"
  },
  "language_info": {
   "codemirror_mode": {
    "name": "ipython",
    "version": 3
   },
   "file_extension": ".py",
   "mimetype": "text/x-python",
   "name": "python",
   "nbconvert_exporter": "python",
   "pygments_lexer": "ipython3",
   "version": "3.7.2"
  }
 },
 "nbformat": 4,
 "nbformat_minor": 2
}
