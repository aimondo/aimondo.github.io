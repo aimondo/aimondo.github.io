{
 "cells": [
  {
   "cell_type": "markdown",
   "metadata": {},
   "source": [
    "# POTD (Pick of the Day) - Brett Gardner"
   ]
  },
  {
   "cell_type": "markdown",
   "metadata": {},
   "source": [
    "### Random Forest:"
   ]
  },
  {
   "cell_type": "code",
   "execution_count": 1,
   "metadata": {},
   "outputs": [
    {
     "name": "stdout",
     "output_type": "stream",
     "text": [
      "             Player  Probability\n",
      "0  Christian Yelich        0.289\n",
      "1     Brett Gardner        0.284\n"
     ]
    }
   ],
   "source": [
    "import pandas as pd\n",
    "import plotly.plotly as py\n",
    "import plotly.figure_factory as ff\n",
    "import plotly.graph_objs as go\n",
    "\n",
    "rf = pd.DataFrame([['Christian Yelich', 0.289], \n",
    "                   ['Brett Gardner', 0.284]],\n",
    "columns= ['Player', 'Probability']\n",
    ")\n",
    "\n",
    "print(rf)"
   ]
  },
  {
   "cell_type": "markdown",
   "metadata": {},
   "source": [
    "### Logistic Regression:"
   ]
  },
  {
   "cell_type": "code",
   "execution_count": 2,
   "metadata": {},
   "outputs": [
    {
     "name": "stdout",
     "output_type": "stream",
     "text": [
      "          Player  Probability\n",
      "0  Brett Gardner        0.342\n",
      "1   Justin Smoak        0.296\n"
     ]
    }
   ],
   "source": [
    "lr = pd.DataFrame([['Brett Gardner', 0.342], \n",
    "                   ['Justin Smoak', 0.296]],\n",
    "columns= ['Player', 'Probability']\n",
    ")\n",
    "\n",
    "print(lr)"
   ]
  },
  {
   "cell_type": "markdown",
   "metadata": {},
   "source": [
    "#### Brett Gardner"
   ]
  },
  {
   "cell_type": "markdown",
   "metadata": {},
   "source": [
    "Gardner will see Felix Hernandez at Yankee Stadium. He is currently 14/37 (.378) against King Felix, but neither of these players are still in their prime and Gardner could bat as high as leadoff or as low as sixth. Both players have been pretty bad so far this year, but Gardner does have the handedness advantage (lefty vs. righty) and has hit out of the leadoff spot in 20 games when the Yankees face a right-handed pitcher like Felix. "
   ]
  },
  {
   "cell_type": "markdown",
   "metadata": {},
   "source": [
    "I did have to raise the probability threshold a bit to keep the program from making a pick every single day, but I may have to raise it more in the near future. When combined, the models have assigned Gardner a 31.3% chance of getting a hit per at-bat against Felix. That's pretty good, but since tuning the models, they are starting to assign higher probabilities to players each day. My threshold is currently set to 30%. I'll keep it there for now and either manually raise it if we can't get a good streak going or implement a streak counter that would automatically adjust it to reflect our streak."
   ]
  }
 ],
 "metadata": {
  "kernelspec": {
   "display_name": "Python 3",
   "language": "python",
   "name": "python3"
  },
  "language_info": {
   "codemirror_mode": {
    "name": "ipython",
    "version": 3
   },
   "file_extension": ".py",
   "mimetype": "text/x-python",
   "name": "python",
   "nbconvert_exporter": "python",
   "pygments_lexer": "ipython3",
   "version": "3.7.2"
  }
 },
 "nbformat": 4,
 "nbformat_minor": 2
}
