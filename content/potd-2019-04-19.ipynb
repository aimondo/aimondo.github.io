{
 "cells": [
  {
   "cell_type": "markdown",
   "metadata": {},
   "source": [
    "# POTD (Pick of the Day) - DOUBLE DOWN!!!\n",
    "#### Double Down - Martin Prado & Gerardo Parra"
   ]
  },
  {
   "cell_type": "markdown",
   "metadata": {},
   "source": [
    "__UPDATE__: Due to the horrible weather in Pittsburgh, we have swapped out Parra for Simmons. Prado is also sitting today, so we are taking Abreu as our second pick.\n",
    "\n",
    "That's right! Today is a double down day! The program doesn't double down often, because the models don't agree on multiple players too frequently. This is by design ofcourse, because doubling down is risky."
   ]
  },
  {
   "cell_type": "markdown",
   "metadata": {},
   "source": [
    "Here were the model outputs for today:"
   ]
  },
  {
   "cell_type": "markdown",
   "metadata": {},
   "source": [
    "### Random Forest:"
   ]
  },
  {
   "cell_type": "code",
   "execution_count": 1,
   "metadata": {},
   "outputs": [
    {
     "data": {
      "text/html": [
       "<iframe id=\"igraph\" scrolling=\"no\" style=\"border:none;\" seamless=\"seamless\" src=\"https://plot.ly/~AimonAllouache/30.embed\" height=\"230px\" width=\"100%\"></iframe>"
      ],
      "text/plain": [
       "<plotly.tools.PlotlyDisplay object>"
      ]
     },
     "execution_count": 1,
     "metadata": {},
     "output_type": "execute_result"
    }
   ],
   "source": [
    "import pandas as pd\n",
    "import plotly.plotly as py\n",
    "import plotly.figure_factory as ff\n",
    "import plotly.graph_objs as go\n",
    "\n",
    "\n",
    "rf = pd.DataFrame([\n",
    "    ['Gerardo Parra', 0.289], \n",
    "    ['Jose Abreu', 0.288], \n",
    "    ['Martin Prado', 0.284], \n",
    "    ['Andrelton Simmons', 0.283], \n",
    "    ['Mike Trout', 0.283]],\n",
    "columns= ['Player', 'Probability']\n",
    ")\n",
    "\n",
    "rf_table = ff.create_table(rf)\n",
    "py.iplot(rf_table, filename='potd-rf-4-19-19')"
   ]
  },
  {
   "cell_type": "markdown",
   "metadata": {},
   "source": [
    "### Logistic Regression:"
   ]
  },
  {
   "cell_type": "code",
   "execution_count": 2,
   "metadata": {},
   "outputs": [
    {
     "data": {
      "text/html": [
       "<iframe id=\"igraph\" scrolling=\"no\" style=\"border:none;\" seamless=\"seamless\" src=\"https://plot.ly/~AimonAllouache/32.embed\" height=\"230px\" width=\"100%\"></iframe>"
      ],
      "text/plain": [
       "<plotly.tools.PlotlyDisplay object>"
      ]
     },
     "execution_count": 2,
     "metadata": {},
     "output_type": "execute_result"
    }
   ],
   "source": [
    "lr = pd.DataFrame([\n",
    "    ['Martin Prado', 0.404], \n",
    "    ['Gerardo Parra', 0.332], \n",
    "    ['Andrelton Simmons', 0.324], \n",
    "    ['Jose Abreu', 0.315], \n",
    "    ['Yolmer Sanchez', 0.308]],\n",
    "columns= ['Player', 'Probability']\n",
    ")\n",
    "\n",
    "lr_table = ff.create_table(lr)\n",
    "py.iplot(lr_table, filename='potd-lr-4-19-19')"
   ]
  },
  {
   "cell_type": "markdown",
   "metadata": {},
   "source": [
    "The results are surprising for multiple reasons. As mentioned above, the program doesn't double down often because the models typically don't agree on multiple player hit probabilities. But today, they agree on every qualified pick...meaning the program would __QUADRUPLE__ down if it could. This hasn't happened once yet so far this season."
   ]
  },
  {
   "cell_type": "markdown",
   "metadata": {},
   "source": [
    "The second reason that these results are surprising is, ofcourse, because of the players that were selected by the program. We are expecting most readers to scoff and say *\"Seriously? These are the picks today? Are either of these players even full-time ones?* We had the same reaction initially (and are still pretty nervous about these picks)."
   ]
  },
  {
   "cell_type": "markdown",
   "metadata": {},
   "source": [
    "But let's look at the numbers."
   ]
  },
  {
   "cell_type": "markdown",
   "metadata": {},
   "source": [
    "#### Martin Prado"
   ]
  },
  {
   "cell_type": "markdown",
   "metadata": {},
   "source": [
    "Prado (*if he plays*) will be facing off against Anibal Sanchez. He has gone 15/36 (.417) against him and he could be batting high in the lineup at 2. That's important because it makes it more likely that he gets a fifth plate appearence."
   ]
  },
  {
   "cell_type": "markdown",
   "metadata": {},
   "source": [
    "#### Gerardo Parra"
   ]
  },
  {
   "cell_type": "markdown",
   "metadata": {},
   "source": [
    "Parra, who typically sits against lefties, should face-off against Jordan Lyles. Parra hits well against righties like Lyles and has gone 9/23 (.391) against him. In previous seasons, Lyles gave up a __ton__ of hits. He gave up more hits than innings pitched nearly every season. However, he has started the year off very well and in 11 IP (2 starts) has only given up 6 hits. We don't expect that trend to continue and are hoping to see the Jordan Lyles from every season before this one. "
   ]
  },
  {
   "cell_type": "markdown",
   "metadata": {},
   "source": [
    "#### *\"But you guys, why can't we just take Abreu or Simmons instead since we know they will play?\"*"
   ]
  },
  {
   "cell_type": "markdown",
   "metadata": {},
   "source": [
    "You absolutely could! The program thinks that they are also great bets to end up with hits. When both models have more than two of the same players in their outputs, the program adds up the probabilities between the models and selects the two players with the highest mean probability. Here is what that looks like today:"
   ]
  },
  {
   "cell_type": "code",
   "execution_count": 4,
   "metadata": {},
   "outputs": [
    {
     "data": {
      "text/html": [
       "<iframe id=\"igraph\" scrolling=\"no\" style=\"border:none;\" seamless=\"seamless\" src=\"https://plot.ly/~AimonAllouache/34.embed\" height=\"200px\" width=\"100%\"></iframe>"
      ],
      "text/plain": [
       "<plotly.tools.PlotlyDisplay object>"
      ]
     },
     "execution_count": 4,
     "metadata": {},
     "output_type": "execute_result"
    }
   ],
   "source": [
    "top_picks = pd.DataFrame([['Martin Prado', 0.344], \n",
    " ['Gerardo Parra', 0.311], \n",
    " ['Andrelton Simmons', 0.304], \n",
    " ['Jose Abreu', 0.302]], columns = ['Player', 'Probability'])\n",
    "\n",
    "top_picks_table = ff.create_table(top_picks)\n",
    "py.iplot(top_picks_table, filename='potd-overall-4-19-19')"
   ]
  },
  {
   "cell_type": "markdown",
   "metadata": {},
   "source": [
    "So to be clear, if either Prado or Parra sit today, we will take Simmons as our second pick. If they *both* sit, we will take Simmons and Abreu."
   ]
  }
 ],
 "metadata": {
  "kernelspec": {
   "display_name": "Python 3",
   "language": "python",
   "name": "python3"
  },
  "language_info": {
   "codemirror_mode": {
    "name": "ipython",
    "version": 3
   },
   "file_extension": ".py",
   "mimetype": "text/x-python",
   "name": "python",
   "nbconvert_exporter": "python",
   "pygments_lexer": "ipython3",
   "version": "3.6.3"
  }
 },
 "nbformat": 4,
 "nbformat_minor": 2
}
