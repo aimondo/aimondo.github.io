{
 "cells": [
  {
   "cell_type": "markdown",
   "metadata": {},
   "source": [
    "# POTD (Pick of the Day) - No Pick Today!"
   ]
  },
  {
   "cell_type": "markdown",
   "metadata": {},
   "source": [
    "Our models couldn't agree on a player or two, so today is a no pick day..."
   ]
  },
  {
   "cell_type": "markdown",
   "metadata": {},
   "source": [
    "### Random Forest:"
   ]
  },
  {
   "cell_type": "code",
   "execution_count": 2,
   "metadata": {},
   "outputs": [
    {
     "name": "stdout",
     "output_type": "stream",
     "text": [
      "           Player  Probability\n",
      "0  Cody Bellinger        0.391\n",
      "1      Adam Jones        0.374\n",
      "2   Nolan Arenado        0.370\n"
     ]
    }
   ],
   "source": [
    "import pandas as pd\n",
    "import plotly.plotly as py\n",
    "import plotly.figure_factory as ff\n",
    "import plotly.graph_objs as go\n",
    "\n",
    "rf = pd.DataFrame([['Cody Bellinger', 0.391],\n",
    "                   ['Adam Jones', 0.374],\n",
    "                   ['Nolan Arenado', 0.37]],\n",
    "columns= ['Player', 'Probability']\n",
    ")\n",
    "\n",
    "print(rf)"
   ]
  },
  {
   "cell_type": "markdown",
   "metadata": {},
   "source": [
    "### Logistic Regression:"
   ]
  },
  {
   "cell_type": "code",
   "execution_count": 3,
   "metadata": {},
   "outputs": [
    {
     "name": "stdout",
     "output_type": "stream",
     "text": [
      "           Player  Probability\n",
      "0   Justin Turner        0.409\n",
      "1  Starling Marte        0.328\n",
      "2     Jose Altuve        0.328\n"
     ]
    }
   ],
   "source": [
    "lr = pd.DataFrame([['Justin Turner', 0.409], \n",
    "                   ['Starling Marte', 0.328], \n",
    "                   ['Jose Altuve', 0.328]],\n",
    "columns= ['Player', 'Probability']\n",
    ")\n",
    "\n",
    "print(lr)"
   ]
  },
  {
   "cell_type": "markdown",
   "metadata": {},
   "source": [
    "As you may have noticed, our models prefer higher profile hitters since we added a couple new features to the program. Let's take a look at our current set of features."
   ]
  },
  {
   "cell_type": "markdown",
   "metadata": {},
   "source": [
    "### Current Features:"
   ]
  },
  {
   "cell_type": "markdown",
   "metadata": {},
   "source": [
    "Batter  \n",
    "Pitcher  \n",
    "Number of At-Bats vs. Pitcher  \n",
    "Number of Hits vs. Pitcher  \n",
    "Number of Strikeouts vs. Pitcher  \n",
    "Number of Runs Batted In vs. Pitcher  \n",
    "Batting Average vs. Pitcher  \n",
    "Slugging Percentage vs. Pitcher  \n",
    "Ballpark  "
   ]
  },
  {
   "cell_type": "markdown",
   "metadata": {},
   "source": [
    "Drop-column Importance was calculated on the feature set to discover how important each feature was to the Random Forest. Extra Base Hits and Home Runs were part of our feature set at the time, but this experiment revealed that they were actually making our models less accurate, so we removed them from the set. Surprisingly, Batter RBI vs. Pitcher is actually a pretty important feature. "
   ]
  },
  {
   "cell_type": "markdown",
   "metadata": {},
   "source": [
    "#### What Was Added:"
   ]
  },
  {
   "cell_type": "markdown",
   "metadata": {},
   "source": [
    "I decided to test out something that I thought could help the models recognize some of the best hitters in the league. We already had the records of every at-bat from the previous three seasons. I decided to encode the batter and pitcher names and retrain our models with them in our feature set. My hope was that this would allow them to identify some of the best hitters and some of the worst pitchers over the three year period. I think that the idea worked, because they seem to have a preference for hitters like Altuve and Trout over ones like Longoria and Cargo now. This is good and I'll continue to experiment with it. I plan on hyperparameter tuning our models throughout the weekend with the hopes that we can get their testing accuracies closer to 80% (which would be crazy). "
   ]
  },
  {
   "cell_type": "markdown",
   "metadata": {},
   "source": [
    "That's all for now. If anyone has any questions about our models, feel free to leave us a comment below. Stay tuned for more!"
   ]
  }
 ],
 "metadata": {
  "kernelspec": {
   "display_name": "Python 3",
   "language": "python",
   "name": "python3"
  },
  "language_info": {
   "codemirror_mode": {
    "name": "ipython",
    "version": 3
   },
   "file_extension": ".py",
   "mimetype": "text/x-python",
   "name": "python",
   "nbconvert_exporter": "python",
   "pygments_lexer": "ipython3",
   "version": "3.7.2"
  }
 },
 "nbformat": 4,
 "nbformat_minor": 2
}
