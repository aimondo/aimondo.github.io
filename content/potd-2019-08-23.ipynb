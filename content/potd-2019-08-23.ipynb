{
 "cells": [
  {
   "cell_type": "markdown",
   "metadata": {},
   "source": [
    "# No Pick Today"
   ]
  },
  {
   "cell_type": "markdown",
   "metadata": {},
   "source": [
    "### Random Forest:"
   ]
  },
  {
   "cell_type": "code",
   "execution_count": 1,
   "metadata": {},
   "outputs": [
    {
     "name": "stdout",
     "output_type": "stream",
     "text": [
      "         Player  Probability\n",
      "0    Mike Trout        0.293\n",
      "1  Kole Calhoun        0.277\n",
      "2     Jake Lamb        0.273\n",
      "3     Josh Bell        0.272\n"
     ]
    }
   ],
   "source": [
    "import pandas as pd\n",
    "\n",
    "rf = pd.DataFrame([['Mike Trout', 0.293], \n",
    "                   ['Kole Calhoun', 0.277], \n",
    "                   ['Jake Lamb', 0.273], \n",
    "                   ['Josh Bell', 0.272]]\n",
    ",\n",
    "columns= ['Player', 'Probability']\n",
    ")\n",
    "\n",
    "print(rf)"
   ]
  },
  {
   "cell_type": "markdown",
   "metadata": {},
   "source": [
    "### Logistic Regression:"
   ]
  },
  {
   "cell_type": "code",
   "execution_count": 2,
   "metadata": {},
   "outputs": [
    {
     "name": "stdout",
     "output_type": "stream",
     "text": [
      "             Player  Probability\n",
      "0  Francisco Lindor        0.336\n",
      "1      Brian Dozier        0.294\n",
      "2    Yolmer Sanchez        0.294\n",
      "3    Carlos Santana        0.292\n"
     ]
    }
   ],
   "source": [
    "lr = pd.DataFrame([['Francisco Lindor', 0.336], \n",
    "                   ['Brian Dozier', 0.294], \n",
    "                   ['Yolmer Sanchez', 0.294], \n",
    "                   ['Carlos Santana', 0.292]],\n",
    "columns= ['Player', 'Probability']\n",
    ")\n",
    "\n",
    "print(lr)"
   ]
  }
 ],
 "metadata": {
  "kernelspec": {
   "display_name": "Python 3",
   "language": "python",
   "name": "python3"
  },
  "language_info": {
   "codemirror_mode": {
    "name": "ipython",
    "version": 3
   },
   "file_extension": ".py",
   "mimetype": "text/x-python",
   "name": "python",
   "nbconvert_exporter": "python",
   "pygments_lexer": "ipython3",
   "version": "3.7.2"
  }
 },
 "nbformat": 4,
 "nbformat_minor": 2
}
