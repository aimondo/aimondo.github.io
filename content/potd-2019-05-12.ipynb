{
 "cells": [
  {
   "cell_type": "markdown",
   "metadata": {},
   "source": [
    "# POTD (Pick of the Day) - Anthony Rizzo"
   ]
  },
  {
   "cell_type": "markdown",
   "metadata": {},
   "source": [
    "### Random Forest:"
   ]
  },
  {
   "cell_type": "code",
   "execution_count": 1,
   "metadata": {},
   "outputs": [
    {
     "name": "stdout",
     "output_type": "stream",
     "text": [
      "          Player  Probability\n",
      "0      Wil Myers        0.308\n",
      "1   Lorenzo Cain        0.304\n",
      "2  Anthony Rizzo        0.298\n"
     ]
    }
   ],
   "source": [
    "import pandas as pd\n",
    "import plotly.plotly as py\n",
    "import plotly.figure_factory as ff\n",
    "import plotly.graph_objs as go\n",
    "\n",
    "rf = pd.DataFrame([['Wil Myers', 0.308], \n",
    "                   ['Lorenzo Cain', 0.304], \n",
    "                   ['Anthony Rizzo', 0.298]],\n",
    "columns= ['Player', 'Probability']\n",
    ")\n",
    "\n",
    "print(rf)"
   ]
  },
  {
   "cell_type": "markdown",
   "metadata": {},
   "source": [
    "### Logistic Regression:"
   ]
  },
  {
   "cell_type": "code",
   "execution_count": 2,
   "metadata": {},
   "outputs": [
    {
     "name": "stdout",
     "output_type": "stream",
     "text": [
      "          Player  Probability\n",
      "0   Elvis Andrus        0.325\n",
      "1   Rougned Odor        0.325\n",
      "2  Anthony Rizzo        0.313\n"
     ]
    }
   ],
   "source": [
    "lr = pd.DataFrame([['Elvis Andrus', 0.325], \n",
    "                   ['Rougned Odor', 0.325], \n",
    "                   ['Anthony Rizzo', 0.313]],\n",
    "columns= ['Player', 'Probability']\n",
    ")\n",
    "\n",
    "print(lr)"
   ]
  },
  {
   "cell_type": "markdown",
   "metadata": {},
   "source": [
    "#### Anthony Rizzo"
   ]
  },
  {
   "cell_type": "markdown",
   "metadata": {},
   "source": [
    "Rizzo against Jhoulys Chacin today. Should be a favorable matchup for Rizzo, who is 7/22 (.318) vs. Chacin with a handedness advantage (lefty vs. righty). Chacin has really struggled on the road this season (7.5 ERA in 18 IP), which is exactly where he'll be when he faces the Cubs."
   ]
  }
 ],
 "metadata": {
  "kernelspec": {
   "display_name": "Python 3",
   "language": "python",
   "name": "python3"
  },
  "language_info": {
   "codemirror_mode": {
    "name": "ipython",
    "version": 3
   },
   "file_extension": ".py",
   "mimetype": "text/x-python",
   "name": "python",
   "nbconvert_exporter": "python",
   "pygments_lexer": "ipython3",
   "version": "3.7.2"
  }
 },
 "nbformat": 4,
 "nbformat_minor": 2
}
