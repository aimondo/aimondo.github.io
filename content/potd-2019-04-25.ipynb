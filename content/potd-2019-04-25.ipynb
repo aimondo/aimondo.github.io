{
 "cells": [
  {
   "cell_type": "markdown",
   "metadata": {},
   "source": [
    "# POTD (Pick of the Day) - DOUBLE DOWN!!!\n",
    "#### Double Down - A.J. Pollock & Yasiel Puig"
   ]
  },
  {
   "cell_type": "markdown",
   "metadata": {},
   "source": [
    "It seems like the program is eager to get back to 10, as it's doubling down for the second day in a row. Below are the model ouputs."
   ]
  },
  {
   "cell_type": "markdown",
   "metadata": {},
   "source": [
    "### Random Forest:"
   ]
  },
  {
   "cell_type": "code",
   "execution_count": 1,
   "metadata": {},
   "outputs": [
    {
     "data": {
      "text/html": [
       "<iframe id=\"igraph\" scrolling=\"no\" style=\"border:none;\" seamless=\"seamless\" src=\"https://plot.ly/~AimonAllouache/68.embed\" height=\"170px\" width=\"100%\"></iframe>"
      ],
      "text/plain": [
       "<plotly.tools.PlotlyDisplay object>"
      ]
     },
     "execution_count": 1,
     "metadata": {},
     "output_type": "execute_result"
    }
   ],
   "source": [
    "import pandas as pd\n",
    "import plotly.plotly as py\n",
    "import plotly.figure_factory as ff\n",
    "import plotly.graph_objs as go\n",
    "\n",
    "\n",
    "rf = pd.DataFrame([['Derek Dietrich', 0.289], \n",
    "                   ['Yasiel Puig', 0.287], \n",
    "                   ['A.J. Pollock', 0.281]],\n",
    "columns= ['Player', 'Probability']\n",
    ")\n",
    "\n",
    "rf_table = ff.create_table(rf)\n",
    "py.iplot(rf_table, filename='potd-rf-4-25-19')"
   ]
  },
  {
   "cell_type": "markdown",
   "metadata": {},
   "source": [
    "It should be noted that our Random Forest is currently on an 8 game hitting streak."
   ]
  },
  {
   "cell_type": "markdown",
   "metadata": {},
   "source": [
    "### Logistic Regression:"
   ]
  },
  {
   "cell_type": "code",
   "execution_count": 2,
   "metadata": {},
   "outputs": [
    {
     "data": {
      "text/html": [
       "<iframe id=\"igraph\" scrolling=\"no\" style=\"border:none;\" seamless=\"seamless\" src=\"https://plot.ly/~AimonAllouache/70.embed\" height=\"170px\" width=\"100%\"></iframe>"
      ],
      "text/plain": [
       "<plotly.tools.PlotlyDisplay object>"
      ]
     },
     "execution_count": 2,
     "metadata": {},
     "output_type": "execute_result"
    }
   ],
   "source": [
    "lr = pd.DataFrame([['Gordon Beckham', 0.315], \n",
    "                   ['A.J. Pollock', 0.313], \n",
    "                   ['Yasiel Puig', 0.298]],\n",
    "columns= ['Player', 'Probability']\n",
    ")\n",
    "\n",
    "lr_table = ff.create_table(lr)\n",
    "py.iplot(lr_table, filename='potd-lr-4-25-19')"
   ]
  },
  {
   "cell_type": "markdown",
   "metadata": {},
   "source": [
    "Our models couldn't agree on the top pick, but they agreed on the second and third picks while giving them high enough probabilities to become our picks of the day. Now time for some matchup analysis."
   ]
  },
  {
   "cell_type": "markdown",
   "metadata": {},
   "source": [
    "#### A.J. Pollock"
   ]
  },
  {
   "cell_type": "markdown",
   "metadata": {},
   "source": [
    "Pollock _should_ be facing off against Jon Lester today. I say _should_ because Lester is expected to return from the disab-err, I mean, injury list. Pollock is 6/18 (.333) vs. Lester and carries a handedness advantage (righty vs. lefty). Pollock can typically be found hitting somewhere in the middle of a solid Dodgers lineup. He has surely been slow going to begin the season, but has been crushing southpaws with a .348 average."
   ]
  },
  {
   "cell_type": "markdown",
   "metadata": {},
   "source": [
    "#### Yasiel Puig"
   ]
  },
  {
   "cell_type": "markdown",
   "metadata": {},
   "source": [
    "Once again, our program is showing its love for the Great American Ballpark by selecting Yasiel Puig. Like Pollock, Puig has also started the season with his new team pretty cold. He will be facing Julio Teheran, whom he is 7/12 (.583) against with 3 extra base hits and 0 strikeouts. Puig also hits pretty high in the lineup (usually in the three-hole)."
   ]
  }
 ],
 "metadata": {
  "kernelspec": {
   "display_name": "Python 3",
   "language": "python",
   "name": "python3"
  },
  "language_info": {
   "codemirror_mode": {
    "name": "ipython",
    "version": 3
   },
   "file_extension": ".py",
   "mimetype": "text/x-python",
   "name": "python",
   "nbconvert_exporter": "python",
   "pygments_lexer": "ipython3",
   "version": "3.6.3"
  }
 },
 "nbformat": 4,
 "nbformat_minor": 2
}
