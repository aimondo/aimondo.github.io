{
 "cells": [
  {
   "cell_type": "markdown",
   "metadata": {},
   "source": [
    "# POTD (Pick of the Day) - DOUBLE DOWN!!!\n",
    "### Double Down - Nolan Arenado & Charlie Blackmon"
   ]
  },
  {
   "cell_type": "markdown",
   "metadata": {},
   "source": [
    "### Random Forest:"
   ]
  },
  {
   "cell_type": "code",
   "execution_count": 1,
   "metadata": {},
   "outputs": [
    {
     "name": "stdout",
     "output_type": "stream",
     "text": [
      "             Player  Probability\n",
      "0  Charlie Blackmon        0.305\n",
      "1       Ian Desmond        0.303\n",
      "2       Pat Valaika        0.296\n",
      "3     Nolan Arenado        0.291\n",
      "4      Lorenzo Cain        0.285\n"
     ]
    }
   ],
   "source": [
    "import pandas as pd\n",
    "import plotly.plotly as py\n",
    "import plotly.figure_factory as ff\n",
    "import plotly.graph_objs as go\n",
    "\n",
    "rf = pd.DataFrame([['Charlie Blackmon', 0.305], \n",
    "                   ['Ian Desmond', 0.303], \n",
    "                   ['Pat Valaika', 0.296], \n",
    "                   ['Nolan Arenado', 0.291], \n",
    "                   ['Lorenzo Cain', 0.285]],\n",
    "columns= ['Player', 'Probability']\n",
    ")\n",
    "\n",
    "print(rf)"
   ]
  },
  {
   "cell_type": "markdown",
   "metadata": {},
   "source": [
    "### Logistic Regression:"
   ]
  },
  {
   "cell_type": "code",
   "execution_count": 2,
   "metadata": {},
   "outputs": [
    {
     "name": "stdout",
     "output_type": "stream",
     "text": [
      "             Player  Probability\n",
      "0     Nolan Arenado        0.352\n",
      "1      Lorenzo Cain        0.333\n",
      "2   Freddie Freeman        0.319\n",
      "3      Kole Calhoun        0.316\n",
      "4  Charlie Blackmon        0.316\n"
     ]
    }
   ],
   "source": [
    "lr = pd.DataFrame([['Nolan Arenado', 0.352], \n",
    "                   ['Lorenzo Cain', 0.333], \n",
    "                   ['Freddie Freeman', 0.319], \n",
    "                   ['Kole Calhoun', 0.316], \n",
    "                   ['Charlie Blackmon', 0.316]],\n",
    "columns= ['Player', 'Probability']\n",
    ")\n",
    "\n",
    "print(lr)"
   ]
  },
  {
   "cell_type": "markdown",
   "metadata": {},
   "source": [
    "#### Nolan Arenado"
   ]
  },
  {
   "cell_type": "markdown",
   "metadata": {},
   "source": [
    "Arenado will face Hyun-Jin Ryu. He is 12/21 (.571) against him with a handedness advantage."
   ]
  },
  {
   "cell_type": "markdown",
   "metadata": {},
   "source": [
    "#### Charlie Blackmon"
   ]
  },
  {
   "cell_type": "markdown",
   "metadata": {},
   "source": [
    "Blackmon is 8/27 (.296) against Ryu. This game will be in Coors too."
   ]
  }
 ],
 "metadata": {
  "kernelspec": {
   "display_name": "Python 3",
   "language": "python",
   "name": "python3"
  },
  "language_info": {
   "codemirror_mode": {
    "name": "ipython",
    "version": 3
   },
   "file_extension": ".py",
   "mimetype": "text/x-python",
   "name": "python",
   "nbconvert_exporter": "python",
   "pygments_lexer": "ipython3",
   "version": "3.7.2"
  }
 },
 "nbformat": 4,
 "nbformat_minor": 2
}
