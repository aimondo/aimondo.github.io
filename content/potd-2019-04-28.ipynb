{
 "cells": [
  {
   "cell_type": "markdown",
   "metadata": {},
   "source": [
    "# POTD (Pick of the Day) - DOUBLE DOWN!!!\n",
    "#### Double Down - Carlos Gonzalez & Nicholas Castellanos"
   ]
  },
  {
   "cell_type": "markdown",
   "metadata": {},
   "source": [
    "Double down day. Here were the model outputs:"
   ]
  },
  {
   "cell_type": "markdown",
   "metadata": {},
   "source": [
    "### Random Forest:"
   ]
  },
  {
   "cell_type": "code",
   "execution_count": 1,
   "metadata": {},
   "outputs": [
    {
     "data": {
      "text/html": [
       "<iframe id=\"igraph\" scrolling=\"no\" style=\"border:none;\" seamless=\"seamless\" src=\"https://plot.ly/~AimonAllouache/80.embed\" height=\"230px\" width=\"100%\"></iframe>"
      ],
      "text/plain": [
       "<plotly.tools.PlotlyDisplay object>"
      ]
     },
     "execution_count": 1,
     "metadata": {},
     "output_type": "execute_result"
    }
   ],
   "source": [
    "import pandas as pd\n",
    "import plotly.plotly as py\n",
    "import plotly.figure_factory as ff\n",
    "import plotly.graph_objs as go\n",
    "\n",
    "\n",
    "rf = pd.DataFrame([['Anthony Rizzo', 0.286], \n",
    "                   ['Jason Heyward', 0.281], \n",
    "                   ['Carlos Santana', 0.28], \n",
    "                   ['Nicholas Castellanos', 0.278], \n",
    "                   ['Carlos Gonzalez', 0.278]],\n",
    "columns= ['Player', 'Probability']\n",
    ")\n",
    "\n",
    "rf_table = ff.create_table(rf)\n",
    "py.iplot(rf_table, filename='potd-rf-4-28-19')"
   ]
  },
  {
   "cell_type": "markdown",
   "metadata": {},
   "source": [
    "### Logistic Regression:"
   ]
  },
  {
   "cell_type": "code",
   "execution_count": 2,
   "metadata": {},
   "outputs": [
    {
     "data": {
      "text/html": [
       "<iframe id=\"igraph\" scrolling=\"no\" style=\"border:none;\" seamless=\"seamless\" src=\"https://plot.ly/~AimonAllouache/82.embed\" height=\"230px\" width=\"100%\"></iframe>"
      ],
      "text/plain": [
       "<plotly.tools.PlotlyDisplay object>"
      ]
     },
     "execution_count": 2,
     "metadata": {},
     "output_type": "execute_result"
    }
   ],
   "source": [
    "lr = pd.DataFrame([['Jose Altuve', 0.341], \n",
    "                   ['Carlos Gonzalez', 0.335], \n",
    "                   ['Nicholas Castellanos', 0.328], \n",
    "                   ['Jason Heyward', 0.311], \n",
    "                   ['Albert Pujols', 0.303]],\n",
    "columns= ['Player', 'Probability']\n",
    ")\n",
    "\n",
    "lr_table = ff.create_table(lr)\n",
    "py.iplot(lr_table, filename='potd-lr-4-28-19')"
   ]
  },
  {
   "cell_type": "markdown",
   "metadata": {},
   "source": [
    "#### Carlos Gonzalez"
   ]
  },
  {
   "cell_type": "markdown",
   "metadata": {},
   "source": [
    "Carlos Gonzalez will face Wade Miley. He has 9 hits in 24 at-bats (.375) and 3 of those hits went for extra bases, but that's pretty much where the good news ends. Cargo carries a handedness _disadvantage_ into this matchup (lefty vs. lefty) and just isn't the same hitter he used to be. Interestingly enough, he is hitting .333 against left-handed hitters so far this season, but I expect that number to regress. On the mound, Miley has been pitching pretty well for the Astros and was good for the Brewers last year too. \n",
    "\n",
    "Cargo will likely be batting 3rd or 5th for the Indians on Sunday, but I recommend thinking twice about this pick. The program has had a pretty bad week (which we will recap in a later post) and needs some planned improvements (which we will also talk about later). This pick is very similar to the Evan Longoria pick from yesterday. They were both elite players in their prime, but the models can't see that they aren't playing like they used to. Until we train our models on a few features that help them understand this, we can't be very confident in picks like this one.\n",
    "\n",
    "With that said, our program as a whole is still expected to be significantly more accurate than random guessing or picking one of the Top4 most popular picks each day."
   ]
  },
  {
   "cell_type": "markdown",
   "metadata": {},
   "source": [
    "#### Nicholas Castellanos"
   ]
  },
  {
   "cell_type": "markdown",
   "metadata": {},
   "source": [
    "This is a pick that I can get behind. This was supposed to be a solid pick yesterday, but got moved to today due to bad weather. Hopefully weather isn't a concern again, but be sure to monitor it leading up to the game. Below is the matchup analysis from yesterday.\n",
    "\n",
    "Castellanos will do battle against Reynaldo Lopez. He has had success against Lopez, going 9/24 (.375) with 5 extra base hits. Lopez has been horrible this month and has given up a whopping 34 hits in 25 IP. Lopez shouldn't be feared and I'm very confident in Castellanos here."
   ]
  },
  {
   "cell_type": "markdown",
   "metadata": {},
   "source": [
    "#### Conclusion:"
   ]
  },
  {
   "cell_type": "markdown",
   "metadata": {},
   "source": [
    "In conclusion, I like Castellanos, but can't recommend Cargo right now. We'll be posting again soon to recap our program performance for the past week and discuss a few features that we plan on implementing to improve our models."
   ]
  }
 ],
 "metadata": {
  "kernelspec": {
   "display_name": "Python 3",
   "language": "python",
   "name": "python3"
  },
  "language_info": {
   "codemirror_mode": {
    "name": "ipython",
    "version": 3
   },
   "file_extension": ".py",
   "mimetype": "text/x-python",
   "name": "python",
   "nbconvert_exporter": "python",
   "pygments_lexer": "ipython3",
   "version": "3.6.3"
  }
 },
 "nbformat": 4,
 "nbformat_minor": 2
}
