{
 "cells": [
  {
   "cell_type": "markdown",
   "metadata": {},
   "source": [
    "# POTD (Pick of the Day) - Michael Brantley"
   ]
  },
  {
   "cell_type": "markdown",
   "metadata": {},
   "source": [
    "### Random Forest:"
   ]
  },
  {
   "cell_type": "code",
   "execution_count": 1,
   "metadata": {},
   "outputs": [
    {
     "name": "stdout",
     "output_type": "stream",
     "text": [
      "             Player  Probability\n",
      "0      Alex Bregman        0.290\n",
      "1   George Springer        0.288\n",
      "2  Michael Brantley        0.285\n",
      "3    Matt Carpenter        0.282\n",
      "4      Buster Posey        0.281\n"
     ]
    }
   ],
   "source": [
    "import pandas as pd\n",
    "\n",
    "rf = pd.DataFrame([['Alex Bregman', 0.29], \n",
    "                   ['George Springer', 0.288], \n",
    "                   ['Michael Brantley', 0.285], \n",
    "                   ['Matt Carpenter', 0.282], \n",
    "                   ['Buster Posey', 0.281]],\n",
    "columns= ['Player', 'Probability']\n",
    ")\n",
    "\n",
    "print(rf)"
   ]
  },
  {
   "cell_type": "markdown",
   "metadata": {},
   "source": [
    "### Logistic Regression:"
   ]
  },
  {
   "cell_type": "code",
   "execution_count": 2,
   "metadata": {},
   "outputs": [
    {
     "name": "stdout",
     "output_type": "stream",
     "text": [
      "             Player  Probability\n",
      "0    Carlos Santana        0.319\n",
      "1  Michael Brantley        0.283\n",
      "2      Buster Posey        0.283\n",
      "3      Josh Reddick        0.283\n",
      "4  Francisco Lindor        0.278\n"
     ]
    }
   ],
   "source": [
    "lr = pd.DataFrame([['Carlos Santana', 0.319], \n",
    "                   ['Michael Brantley', 0.283], \n",
    "                   ['Buster Posey', 0.283], \n",
    "                   ['Josh Reddick', 0.283], \n",
    "                   ['Francisco Lindor', 0.278]],\n",
    "columns= ['Player', 'Probability']\n",
    ")\n",
    "\n",
    "print(lr)"
   ]
  },
  {
   "cell_type": "markdown",
   "metadata": {},
   "source": [
    "#### Michael Brantley"
   ]
  },
  {
   "cell_type": "markdown",
   "metadata": {},
   "source": [
    "Brantley will face Brett Anderson. He is 6/15 (.400) against him in his career."
   ]
  }
 ],
 "metadata": {
  "kernelspec": {
   "display_name": "Python 3",
   "language": "python",
   "name": "python3"
  },
  "language_info": {
   "codemirror_mode": {
    "name": "ipython",
    "version": 3
   },
   "file_extension": ".py",
   "mimetype": "text/x-python",
   "name": "python",
   "nbconvert_exporter": "python",
   "pygments_lexer": "ipython3",
   "version": "3.7.2"
  }
 },
 "nbformat": 4,
 "nbformat_minor": 2
}
