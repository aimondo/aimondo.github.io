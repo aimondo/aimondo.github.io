{
 "cells": [
  {
   "cell_type": "markdown",
   "metadata": {},
   "source": [
    "# No Pick Today"
   ]
  },
  {
   "cell_type": "markdown",
   "metadata": {},
   "source": [
    "### Random Forest:"
   ]
  },
  {
   "cell_type": "code",
   "execution_count": 1,
   "metadata": {},
   "outputs": [
    {
     "name": "stdout",
     "output_type": "stream",
     "text": [
      "            Player  Probability\n",
      "0      Ketel Marte        0.332\n",
      "1     Jason Kipnis        0.324\n",
      "2          Jon Jay        0.323\n",
      "3  Jonathan Lucroy        0.323\n",
      "4  George Springer        0.322\n"
     ]
    }
   ],
   "source": [
    "import pandas as pd\n",
    "\n",
    "rf = pd.DataFrame([['Ketel Marte', 0.332], \n",
    "                   ['Jason Kipnis', 0.324], \n",
    "                   ['Jon Jay', 0.323], \n",
    "                   ['Jonathan Lucroy', 0.323], \n",
    "                   ['George Springer', 0.322]],\n",
    "columns= ['Player', 'Probability']\n",
    ")\n",
    "\n",
    "print(rf)"
   ]
  },
  {
   "cell_type": "markdown",
   "metadata": {},
   "source": [
    "### Logistic Regression:"
   ]
  },
  {
   "cell_type": "code",
   "execution_count": 2,
   "metadata": {},
   "outputs": [
    {
     "name": "stdout",
     "output_type": "stream",
     "text": [
      "              Player  Probability\n",
      "0     Anthony Rendon        0.567\n",
      "1       Kole Calhoun        0.406\n",
      "2  Albert Almora Jr.        0.374\n",
      "3   Francisco Lindor        0.348\n",
      "4   Asdrubal Cabrera        0.339\n"
     ]
    }
   ],
   "source": [
    "lr = pd.DataFrame([['Anthony Rendon', 0.567], \n",
    "                   ['Kole Calhoun', 0.406], \n",
    "                   ['Albert Almora Jr.', 0.374], \n",
    "                   ['Francisco Lindor', 0.348], \n",
    "                   ['Asdrubal Cabrera', 0.339]],\n",
    "columns= ['Player', 'Probability']\n",
    ")\n",
    "\n",
    "print(lr)"
   ]
  }
 ],
 "metadata": {
  "kernelspec": {
   "display_name": "Python 3",
   "language": "python",
   "name": "python3"
  },
  "language_info": {
   "codemirror_mode": {
    "name": "ipython",
    "version": 3
   },
   "file_extension": ".py",
   "mimetype": "text/x-python",
   "name": "python",
   "nbconvert_exporter": "python",
   "pygments_lexer": "ipython3",
   "version": "3.7.2"
  }
 },
 "nbformat": 4,
 "nbformat_minor": 2
}
