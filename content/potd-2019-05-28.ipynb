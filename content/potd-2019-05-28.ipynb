{
 "cells": [
  {
   "cell_type": "markdown",
   "metadata": {},
   "source": [
    "# POTD (Pick of the Day) - DOUBLE DOWN!!!\n",
    "#### Double Down - Freddie Freeman & Bryce Harper"
   ]
  },
  {
   "cell_type": "markdown",
   "metadata": {},
   "source": [
    "### Random Forest:"
   ]
  },
  {
   "cell_type": "code",
   "execution_count": 1,
   "metadata": {},
   "outputs": [
    {
     "name": "stdout",
     "output_type": "stream",
     "text": [
      "            Player  Probability\n",
      "0       Nick Ahmed        0.318\n",
      "1  Freddie Freeman        0.311\n",
      "2    Manny Machado        0.295\n",
      "3     Bryce Harper        0.285\n"
     ]
    }
   ],
   "source": [
    "import pandas as pd\n",
    "import plotly.plotly as py\n",
    "import plotly.figure_factory as ff\n",
    "import plotly.graph_objs as go\n",
    "\n",
    "rf = pd.DataFrame([['Nick Ahmed', 0.318], \n",
    "                   ['Freddie Freeman', 0.311], \n",
    "                   ['Manny Machado', 0.295], \n",
    "                   ['Bryce Harper', 0.285]],\n",
    "columns= ['Player', 'Probability']\n",
    ")\n",
    "\n",
    "print(rf)"
   ]
  },
  {
   "cell_type": "markdown",
   "metadata": {},
   "source": [
    "### Logistic Regression:"
   ]
  },
  {
   "cell_type": "code",
   "execution_count": 2,
   "metadata": {},
   "outputs": [
    {
     "name": "stdout",
     "output_type": "stream",
     "text": [
      "             Player  Probability\n",
      "0  Andrew McCutchen        0.374\n",
      "1   Freddie Freeman        0.348\n",
      "2       Jean Segura        0.327\n",
      "3      Bryce Harper        0.325\n"
     ]
    }
   ],
   "source": [
    "lr = pd.DataFrame([['Andrew McCutchen', 0.374], \n",
    "                   ['Freddie Freeman', 0.348], \n",
    "                   ['Jean Segura', 0.327], \n",
    "                   ['Bryce Harper', 0.325]],\n",
    "columns= ['Player', 'Probability']\n",
    ")\n",
    "\n",
    "print(lr)"
   ]
  },
  {
   "cell_type": "markdown",
   "metadata": {},
   "source": [
    "#### Freddie Freeman"
   ]
  },
  {
   "cell_type": "markdown",
   "metadata": {},
   "source": [
    "Freeman will face Stephen Strasburg. He is 17/48 (.354) against him with a handedness advantage (lefty vs. righty). "
   ]
  },
  {
   "cell_type": "markdown",
   "metadata": {},
   "source": [
    "#### Bryce Harper"
   ]
  },
  {
   "cell_type": "markdown",
   "metadata": {},
   "source": [
    "Harper will see Adam Wainwright. He also has a nice handedness advantage (lefty vs. righty) and is 9/20 (.450) against him."
   ]
  }
 ],
 "metadata": {
  "kernelspec": {
   "display_name": "Python 3",
   "language": "python",
   "name": "python3"
  },
  "language_info": {
   "codemirror_mode": {
    "name": "ipython",
    "version": 3
   },
   "file_extension": ".py",
   "mimetype": "text/x-python",
   "name": "python",
   "nbconvert_exporter": "python",
   "pygments_lexer": "ipython3",
   "version": "3.7.2"
  }
 },
 "nbformat": 4,
 "nbformat_minor": 2
}
