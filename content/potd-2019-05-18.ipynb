{
 "cells": [
  {
   "cell_type": "markdown",
   "metadata": {},
   "source": [
    "# No Pick Today!"
   ]
  },
  {
   "cell_type": "markdown",
   "metadata": {},
   "source": [
    "### Random Forest:"
   ]
  },
  {
   "cell_type": "code",
   "execution_count": 1,
   "metadata": {},
   "outputs": [
    {
     "name": "stdout",
     "output_type": "stream",
     "text": [
      "             Player  Probability\n",
      "0   Freddie Freeman        0.290\n",
      "1  Charlie Blackmon        0.283\n"
     ]
    }
   ],
   "source": [
    "import pandas as pd\n",
    "import plotly.plotly as py\n",
    "import plotly.figure_factory as ff\n",
    "import plotly.graph_objs as go\n",
    "\n",
    "rf = pd.DataFrame([['Freddie Freeman', 0.29], \n",
    "                   ['Charlie Blackmon', 0.283]],\n",
    "columns= ['Player', 'Probability']\n",
    ")\n",
    "\n",
    "print(rf)"
   ]
  },
  {
   "cell_type": "markdown",
   "metadata": {},
   "source": [
    "### Logistic Regression:"
   ]
  },
  {
   "cell_type": "code",
   "execution_count": 2,
   "metadata": {},
   "outputs": [
    {
     "name": "stdout",
     "output_type": "stream",
     "text": [
      "          Player  Probability\n",
      "0  Jason Heyward        0.360\n",
      "1  Daniel Murphy        0.335\n"
     ]
    }
   ],
   "source": [
    "lr = pd.DataFrame([['Jason Heyward', 0.36], \n",
    "                   ['Daniel Murphy', 0.335]],\n",
    "columns= ['Player', 'Probability']\n",
    ")\n",
    "\n",
    "print(lr)"
   ]
  },
  {
   "cell_type": "markdown",
   "metadata": {},
   "source": [
    "This is just getting ridiculous. The program will never get close to beating the streak if it doesn't make a pick. I could force it to make a pick by lowering a couple of thresholds, but I don't think today would be a good day to do that. The probabilities are low on the Random Forest side. The model didn't give any player a high enough probability that would've passed the current threshold. If we don't have a pick of the day tomorrow, then something will need to be done."
   ]
  }
 ],
 "metadata": {
  "kernelspec": {
   "display_name": "Python 3",
   "language": "python",
   "name": "python3"
  },
  "language_info": {
   "codemirror_mode": {
    "name": "ipython",
    "version": 3
   },
   "file_extension": ".py",
   "mimetype": "text/x-python",
   "name": "python",
   "nbconvert_exporter": "python",
   "pygments_lexer": "ipython3",
   "version": "3.7.2"
  }
 },
 "nbformat": 4,
 "nbformat_minor": 2
}
