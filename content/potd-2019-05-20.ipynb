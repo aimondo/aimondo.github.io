{
 "cells": [
  {
   "cell_type": "markdown",
   "metadata": {},
   "source": [
    "# POTD (Pick of the Day) - Kendrys Morales"
   ]
  },
  {
   "cell_type": "markdown",
   "metadata": {},
   "source": [
    "### Random Forest:"
   ]
  },
  {
   "cell_type": "code",
   "execution_count": 1,
   "metadata": {},
   "outputs": [
    {
     "name": "stdout",
     "output_type": "stream",
     "text": [
      "            Player  Probability\n",
      "0  Kendrys Morales        0.325\n",
      "1      Aaron Hicks        0.314\n",
      "2    Shin-Soo Choo        0.284\n"
     ]
    }
   ],
   "source": [
    "import pandas as pd\n",
    "import plotly.plotly as py\n",
    "import plotly.figure_factory as ff\n",
    "import plotly.graph_objs as go\n",
    "\n",
    "rf = pd.DataFrame([['Kendrys Morales', 0.325], \n",
    "                   ['Aaron Hicks', 0.314], \n",
    "                   ['Shin-Soo Choo', 0.284]],\n",
    "columns= ['Player', 'Probability']\n",
    ")\n",
    "\n",
    "print(rf)"
   ]
  },
  {
   "cell_type": "markdown",
   "metadata": {},
   "source": [
    "### Logistic Regression:"
   ]
  },
  {
   "cell_type": "code",
   "execution_count": 2,
   "metadata": {},
   "outputs": [
    {
     "name": "stdout",
     "output_type": "stream",
     "text": [
      "            Player  Probability\n",
      "0     Hunter Pence        0.335\n",
      "1  Kendrys Morales        0.323\n",
      "2     Renato Nunez        0.306\n"
     ]
    }
   ],
   "source": [
    "lr = pd.DataFrame([['Hunter Pence', 0.335], \n",
    "                   ['Kendrys Morales', 0.323], \n",
    "                   ['Renato Nunez', 0.306]],\n",
    "columns= ['Player', 'Probability']\n",
    ")\n",
    "\n",
    "print(lr)"
   ]
  },
  {
   "cell_type": "markdown",
   "metadata": {},
   "source": [
    "#### Kendrys Morales"
   ]
  },
  {
   "cell_type": "markdown",
   "metadata": {},
   "source": [
    "Most of you may not even know what team Morales plays for now. The Yankees acquired him last week, which is a good landing spot for him. If he plays tomorrow, he'll be facing Andrew Cashner, who just pitched against the Yankees in his last start. Cashner was good in that start, allowing only 4 hits in 6 IP. Let's hope that the Yankees can get to him in this start though. Morales is 7/14 (.500) against Cashner going into this meeting. He may not play tomorrow though, so if you do take him, make sure he is in the lineup!"
   ]
  }
 ],
 "metadata": {
  "kernelspec": {
   "display_name": "Python 3",
   "language": "python",
   "name": "python3"
  },
  "language_info": {
   "codemirror_mode": {
    "name": "ipython",
    "version": 3
   },
   "file_extension": ".py",
   "mimetype": "text/x-python",
   "name": "python",
   "nbconvert_exporter": "python",
   "pygments_lexer": "ipython3",
   "version": "3.7.2"
  }
 },
 "nbformat": 4,
 "nbformat_minor": 2
}
