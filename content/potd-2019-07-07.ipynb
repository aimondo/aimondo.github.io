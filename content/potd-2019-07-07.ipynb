{
 "cells": [
  {
   "cell_type": "markdown",
   "metadata": {},
   "source": [
    "# POTD (Pick of the Day) - DOUBLE DOWN!!!\n",
    "### Double Down - Anthony Rizzo & Cesar Hernandez"
   ]
  },
  {
   "cell_type": "markdown",
   "metadata": {},
   "source": [
    "### Random Forest:"
   ]
  },
  {
   "cell_type": "code",
   "execution_count": 1,
   "metadata": {},
   "outputs": [
    {
     "name": "stdout",
     "output_type": "stream",
     "text": [
      "            Player  Probability\n",
      "0    Anthony Rizzo        0.303\n",
      "1  Cesar Hernandez        0.303\n",
      "2     Buster Posey        0.292\n",
      "3    J.T. Realmuto        0.291\n",
      "4    Jose Iglesias        0.290\n"
     ]
    }
   ],
   "source": [
    "import pandas as pd\n",
    "\n",
    "rf = pd.DataFrame([['Anthony Rizzo', 0.303], \n",
    "                   ['Cesar Hernandez', 0.303], \n",
    "                   ['Buster Posey', 0.292], \n",
    "                   ['J.T. Realmuto', 0.291], \n",
    "                   ['Jose Iglesias', 0.29]]\n",
    ",\n",
    "columns= ['Player', 'Probability']\n",
    ")\n",
    "\n",
    "print(rf)"
   ]
  },
  {
   "cell_type": "markdown",
   "metadata": {},
   "source": [
    "### Logistic Regression:"
   ]
  },
  {
   "cell_type": "code",
   "execution_count": 2,
   "metadata": {},
   "outputs": [
    {
     "name": "stdout",
     "output_type": "stream",
     "text": [
      "            Player  Probability\n",
      "0   Starling Marte        0.361\n",
      "1    Yadier Molina        0.349\n",
      "2    Jason Heyward        0.325\n",
      "3    Anthony Rizzo        0.322\n",
      "4  Cesar Hernandez        0.307\n"
     ]
    }
   ],
   "source": [
    "lr = pd.DataFrame([['Starling Marte', 0.361], \n",
    "                   ['Yadier Molina', 0.349], \n",
    "                   ['Jason Heyward', 0.325], \n",
    "                   ['Anthony Rizzo', 0.322], \n",
    "                   ['Cesar Hernandez', 0.307]],\n",
    "columns= ['Player', 'Probability']\n",
    ")\n",
    "\n",
    "print(lr)"
   ]
  },
  {
   "cell_type": "markdown",
   "metadata": {},
   "source": [
    "#### Anthony Rizzo"
   ]
  },
  {
   "cell_type": "markdown",
   "metadata": {},
   "source": [
    "Rizzo will face Ivan Nova. He is 7/16 (.438) against him with a handedness advantage."
   ]
  },
  {
   "cell_type": "markdown",
   "metadata": {},
   "source": [
    "#### Cesar Hernandez"
   ]
  },
  {
   "cell_type": "markdown",
   "metadata": {},
   "source": [
    "Hernandez will see Zack Wheeler. He is 9/21 (.429) against him with a handedness advantage."
   ]
  }
 ],
 "metadata": {
  "kernelspec": {
   "display_name": "Python 3",
   "language": "python",
   "name": "python3"
  },
  "language_info": {
   "codemirror_mode": {
    "name": "ipython",
    "version": 3
   },
   "file_extension": ".py",
   "mimetype": "text/x-python",
   "name": "python",
   "nbconvert_exporter": "python",
   "pygments_lexer": "ipython3",
   "version": "3.7.2"
  }
 },
 "nbformat": 4,
 "nbformat_minor": 2
}
