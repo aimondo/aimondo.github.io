{
 "cells": [
  {
   "cell_type": "markdown",
   "metadata": {},
   "source": [
    "# No Pick Today"
   ]
  },
  {
   "cell_type": "markdown",
   "metadata": {},
   "source": [
    "### Random Forest:"
   ]
  },
  {
   "cell_type": "code",
   "execution_count": 1,
   "metadata": {},
   "outputs": [
    {
     "name": "stdout",
     "output_type": "stream",
     "text": [
      "              Player  Probability\n",
      "0  Andrelton Simmons        0.287\n",
      "1        Gio Urshela        0.281\n",
      "2       Tim Anderson        0.274\n",
      "3    Whit Merrifield        0.273\n",
      "4      Jorge Polanco        0.270\n"
     ]
    }
   ],
   "source": [
    "import pandas as pd\n",
    "\n",
    "rf = pd.DataFrame([['Andrelton Simmons', 0.287], \n",
    "                   ['Gio Urshela', 0.281], \n",
    "                   ['Tim Anderson', 0.274], \n",
    "                   ['Whit Merrifield', 0.273], \n",
    "                   ['Jorge Polanco', 0.27]],\n",
    "columns= ['Player', 'Probability']\n",
    ")\n",
    "\n",
    "print(rf)"
   ]
  },
  {
   "cell_type": "markdown",
   "metadata": {},
   "source": [
    "### Logistic Regression:"
   ]
  },
  {
   "cell_type": "code",
   "execution_count": 2,
   "metadata": {},
   "outputs": [
    {
     "name": "stdout",
     "output_type": "stream",
     "text": [
      "              Player  Probability\n",
      "0        Kris Bryant        0.389\n",
      "1       Jordy Mercer        0.353\n",
      "2  Edwin Encarnacion        0.327\n",
      "3    Freddie Freeman        0.303\n",
      "4       Mookie Betts        0.302\n"
     ]
    }
   ],
   "source": [
    "lr = pd.DataFrame([['Kris Bryant', 0.389], \n",
    "                   ['Jordy Mercer', 0.353], \n",
    "                   ['Edwin Encarnacion', 0.327], \n",
    "                   ['Freddie Freeman', 0.303], \n",
    "                   ['Mookie Betts', 0.302]],\n",
    "columns= ['Player', 'Probability']\n",
    ")\n",
    "\n",
    "print(lr)"
   ]
  }
 ],
 "metadata": {
  "kernelspec": {
   "display_name": "Python 3",
   "language": "python",
   "name": "python3"
  },
  "language_info": {
   "codemirror_mode": {
    "name": "ipython",
    "version": 3
   },
   "file_extension": ".py",
   "mimetype": "text/x-python",
   "name": "python",
   "nbconvert_exporter": "python",
   "pygments_lexer": "ipython3",
   "version": "3.7.2"
  }
 },
 "nbformat": 4,
 "nbformat_minor": 2
}
