{
 "cells": [
  {
   "cell_type": "markdown",
   "metadata": {},
   "source": [
    "# POTD (Pick of the Day)\n",
    "#### There is no Pick of the Day today.\n",
    "\n",
    "Our models couldn't agree on players for today, so it apparently isn't a good day to make a pick!\n",
    "\n",
    "Here were the model outputs:"
   ]
  },
  {
   "cell_type": "markdown",
   "metadata": {},
   "source": [
    "### Random Forest:"
   ]
  },
  {
   "cell_type": "code",
   "execution_count": 1,
   "metadata": {},
   "outputs": [
    {
     "data": {
      "text/html": [
       "<iframe id=\"igraph\" scrolling=\"no\" style=\"border:none;\" seamless=\"seamless\" src=\"https://plot.ly/~AimonAllouache/42.embed\" height=\"170px\" width=\"100%\"></iframe>"
      ],
      "text/plain": [
       "<plotly.tools.PlotlyDisplay object>"
      ]
     },
     "execution_count": 1,
     "metadata": {},
     "output_type": "execute_result"
    }
   ],
   "source": [
    "import pandas as pd\n",
    "import plotly.plotly as py\n",
    "import plotly.figure_factory as ff\n",
    "import plotly.graph_objs as go\n",
    "\n",
    "\n",
    "rf = pd.DataFrame([['Andrew McCutchen', 0.296], \n",
    "                   ['Christian Yelich', 0.287], \n",
    "                   ['Nicholas Castellanos', 0.286]],\n",
    "columns= ['Player', 'Probability']\n",
    ")\n",
    "\n",
    "rf_table = ff.create_table(rf)\n",
    "py.iplot(rf_table, filename='potd-rf-4-19-21')"
   ]
  },
  {
   "cell_type": "markdown",
   "metadata": {},
   "source": [
    "### Logistic Regression:"
   ]
  },
  {
   "cell_type": "code",
   "execution_count": 2,
   "metadata": {},
   "outputs": [
    {
     "data": {
      "text/html": [
       "<iframe id=\"igraph\" scrolling=\"no\" style=\"border:none;\" seamless=\"seamless\" src=\"https://plot.ly/~AimonAllouache/44.embed\" height=\"170px\" width=\"100%\"></iframe>"
      ],
      "text/plain": [
       "<plotly.tools.PlotlyDisplay object>"
      ]
     },
     "execution_count": 2,
     "metadata": {},
     "output_type": "execute_result"
    }
   ],
   "source": [
    "lr = pd.DataFrame([['Jonathan Lucroy', 0.404], \n",
    "                   ['Andrelton Simmons', 0.335], \n",
    "                   ['Albert Pujols', 0.334]],\n",
    "columns= ['Player', 'Probability']\n",
    ")\n",
    "\n",
    "lr_table = ff.create_table(lr)\n",
    "py.iplot(lr_table, filename='potd-lr-4-19-21')"
   ]
  },
  {
   "cell_type": "markdown",
   "metadata": {},
   "source": [
    "Logistic Regression is very confident in its players today. It seems to like the Angels against Mike Leake. Leake gives up a ton of hits and shouldn't be feared. However, our recommendation is to not pick anyone today.\n",
    "\n",
    "### Current Strategy Performance:\n",
    "the program has been on fire the last few days, going 5/5 to increase its streak to 10!"
   ]
  },
  {
   "cell_type": "code",
   "execution_count": 4,
   "metadata": {},
   "outputs": [
    {
     "data": {
      "text/html": [
       "<iframe id=\"igraph\" scrolling=\"no\" style=\"border:none;\" seamless=\"seamless\" src=\"https://plot.ly/~AimonAllouache/46.embed\" height=\"525px\" width=\"100%\"></iframe>"
      ],
      "text/plain": [
       "<plotly.tools.PlotlyDisplay object>"
      ]
     },
     "execution_count": 4,
     "metadata": {},
     "output_type": "execute_result"
    }
   ],
   "source": [
    "import pandas as pd\n",
    "import plotly.plotly as py\n",
    "import plotly.figure_factory as ff\n",
    "import plotly.graph_objs as go\n",
    "\n",
    "df = pd.DataFrame([\n",
    "['3/28/2019','Odubel Herrera',1],\n",
    "['3/29/2019','No Pick',1],\n",
    "['3/30/2019','No Pick',1],\n",
    "['3/31/2019','Trea Turner, Joey Votto',3],\n",
    "['4/1/2019','Joey Votto, Jose Peraza',5],\n",
    "['4/2/2019','No Pick',5],\n",
    "['4/3/2019','Carlos Santana, Andrew Benintendi',7],\n",
    "['4/4/2019','Anthony Rendon, Starling Marte',9],\n",
    "['4/5/2019 12:00','Justin Turner',10],\n",
    "['4/5/2019 20:00','Enrique Hernandez',0],\n",
    "['4/6/2019 12:00','Joey Votto',1],\n",
    "['4/6/2019 20:00','Christian Yelich',0],\n",
    "['4/7/2019','Justin Turner, Edwin Encarnacion',2],\n",
    "['4/8/2019','No Pick',2],\n",
    "['4/9/2019','No Pick',2],\n",
    "['4/10/2019','Miguel Cabrera',3],\n",
    "['4/11/2019','No Pick',3],\n",
    "['4/12/2019','No Pick',3],\n",
    "['4/13/2019','No Pick',3],\n",
    "['4/14/2019','Jorge Polanco',4],\n",
    "['4/15/2019','No Pick',4],\n",
    "['4/16/2019','Whit Merrifield',5],\n",
    "['4/17/2019','No Pick',5],\n",
    "['4/18/2019','Miguel Cabrera',6],\n",
    "['4/19/2019','Jose Abreu, Andrelton Simmons',8],\n",
    "['4/20/2019','Anthony Rizzo, Dee Gordon',10]], columns= ['Date','Strategy','Streak'])\n",
    "\n",
    "trace = go.Scatter(\n",
    "    x = df.Date,\n",
    "    y = df.Streak,\n",
    "    mode = 'lines+markers',\n",
    "    name = 'Streak',\n",
    "    text = df.Strategy\n",
    ")\n",
    "\n",
    "layout = go.Layout(\n",
    "    showlegend=False,\n",
    "    title='Pick of the Day Strategy Performance (4/20)',\n",
    "    yaxis=dict(\n",
    "        title='Streak'\n",
    "    )\n",
    ")\n",
    "\n",
    "\n",
    "data = [trace]\n",
    "\n",
    "fig = go.Figure(data=data, layout=layout)\n",
    "py.iplot(fig, filename='potd-strategy-performance-04-21-19')"
   ]
  }
 ],
 "metadata": {
  "kernelspec": {
   "display_name": "Python 3",
   "language": "python",
   "name": "python3"
  },
  "language_info": {
   "codemirror_mode": {
    "name": "ipython",
    "version": 3
   },
   "file_extension": ".py",
   "mimetype": "text/x-python",
   "name": "python",
   "nbconvert_exporter": "python",
   "pygments_lexer": "ipython3",
   "version": "3.6.3"
  }
 },
 "nbformat": 4,
 "nbformat_minor": 2
}
