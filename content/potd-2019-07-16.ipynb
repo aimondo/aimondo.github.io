{
 "cells": [
  {
   "cell_type": "markdown",
   "metadata": {},
   "source": [
    "# POTD (Pick of the Day) - Matt Chapman"
   ]
  },
  {
   "cell_type": "markdown",
   "metadata": {},
   "source": [
    "### Random Forest:"
   ]
  },
  {
   "cell_type": "code",
   "execution_count": 2,
   "metadata": {},
   "outputs": [
    {
     "name": "stdout",
     "output_type": "stream",
     "text": [
      "              Player  Probability\n",
      "0      Phillip Ervin        0.309\n",
      "1    Garrett Hampson        0.300\n",
      "2     Chris Iannetta        0.298\n",
      "3       Matt Chapman        0.292\n",
      "4  Robinson Chirinos        0.286\n"
     ]
    }
   ],
   "source": [
    "import pandas as pd\n",
    "\n",
    "rf = pd.DataFrame([['Phillip Ervin', 0.309], \n",
    "                   ['Garrett Hampson', 0.3], \n",
    "                   ['Chris Iannetta', 0.298], \n",
    "                   ['Matt Chapman', 0.292], \n",
    "                   ['Robinson Chirinos', 0.286]],\n",
    "columns= ['Player', 'Probability']\n",
    ")\n",
    "\n",
    "print(rf)"
   ]
  },
  {
   "cell_type": "markdown",
   "metadata": {},
   "source": [
    "### Logistic Regression:"
   ]
  },
  {
   "cell_type": "code",
   "execution_count": 3,
   "metadata": {},
   "outputs": [
    {
     "name": "stdout",
     "output_type": "stream",
     "text": [
      "              Player  Probability\n",
      "0       Matt Chapman        0.322\n",
      "1        Jose Altuve        0.317\n",
      "2  Andrelton Simmons        0.304\n",
      "3        Kris Bryant        0.302\n",
      "4      Robinson Cano        0.294\n"
     ]
    }
   ],
   "source": [
    "lr = pd.DataFrame([['Matt Chapman', 0.322], \n",
    "                   ['Jose Altuve', 0.317], \n",
    "                   ['Andrelton Simmons', 0.304], \n",
    "                   ['Kris Bryant', 0.302], \n",
    "                   ['Robinson Cano', 0.294]],\n",
    "columns= ['Player', 'Probability']\n",
    ")\n",
    "\n",
    "print(lr)"
   ]
  },
  {
   "cell_type": "markdown",
   "metadata": {},
   "source": [
    "#### Matt Chapman"
   ]
  },
  {
   "cell_type": "markdown",
   "metadata": {},
   "source": [
    "Has been on fire lately with a .545/.323/.321 split. He will face Marco Gonzalez tonight, who has given up 123 hits in 114.2 IP. Chapman is 9/20 (.450) against Gonzalez with a handedness advantage."
   ]
  }
 ],
 "metadata": {
  "kernelspec": {
   "display_name": "Python 3",
   "language": "python",
   "name": "python3"
  },
  "language_info": {
   "codemirror_mode": {
    "name": "ipython",
    "version": 3
   },
   "file_extension": ".py",
   "mimetype": "text/x-python",
   "name": "python",
   "nbconvert_exporter": "python",
   "pygments_lexer": "ipython3",
   "version": "3.7.2"
  }
 },
 "nbformat": 4,
 "nbformat_minor": 2
}
