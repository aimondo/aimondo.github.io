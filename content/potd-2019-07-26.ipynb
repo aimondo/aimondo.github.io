{
 "cells": [
  {
   "cell_type": "markdown",
   "metadata": {},
   "source": [
    "# POTD (Pick of the Day) - Didi Gregorius"
   ]
  },
  {
   "cell_type": "markdown",
   "metadata": {},
   "source": [
    "### Random Forest:"
   ]
  },
  {
   "cell_type": "code",
   "execution_count": 1,
   "metadata": {},
   "outputs": [
    {
     "name": "stdout",
     "output_type": "stream",
     "text": [
      "            Player  Probability\n",
      "0     Alex Verdugo        0.301\n",
      "1        Max Muncy        0.298\n",
      "2   Didi Gregorius        0.290\n",
      "3  Xander Bogaerts        0.282\n",
      "4     Raimel Tapia        0.279\n"
     ]
    }
   ],
   "source": [
    "import pandas as pd\n",
    "\n",
    "rf = pd.DataFrame([['Alex Verdugo', 0.301], \n",
    "                   ['Max Muncy', 0.298], \n",
    "                   ['Didi Gregorius', 0.29], \n",
    "                   ['Xander Bogaerts', 0.282], \n",
    "                   ['Raimel Tapia', 0.279]],\n",
    "columns= ['Player', 'Probability']\n",
    ")\n",
    "\n",
    "print(rf)"
   ]
  },
  {
   "cell_type": "markdown",
   "metadata": {},
   "source": [
    "### Logistic Regression:"
   ]
  },
  {
   "cell_type": "code",
   "execution_count": 2,
   "metadata": {},
   "outputs": [
    {
     "name": "stdout",
     "output_type": "stream",
     "text": [
      "             Player  Probability\n",
      "0  Francisco Lindor        0.365\n",
      "1    Didi Gregorius        0.322\n",
      "2     Manny Machado        0.302\n",
      "3    Gleyber Torres        0.298\n",
      "4    Carlos Santana        0.296\n"
     ]
    }
   ],
   "source": [
    "lr = pd.DataFrame([['Francisco Lindor', 0.365], \n",
    "                   ['Didi Gregorius', 0.322], \n",
    "                   ['Manny Machado', 0.302], \n",
    "                   ['Gleyber Torres', 0.298], \n",
    "                   ['Carlos Santana', 0.296]],\n",
    "columns= ['Player', 'Probability']\n",
    ")\n",
    "\n",
    "print(lr)"
   ]
  },
  {
   "cell_type": "markdown",
   "metadata": {},
   "source": [
    "#### Didi Gregorius"
   ]
  },
  {
   "cell_type": "markdown",
   "metadata": {},
   "source": [
    "Gregorius will face Andrew Cashner. He is 7/22 (.318) against him with a handedness advantage."
   ]
  }
 ],
 "metadata": {
  "kernelspec": {
   "display_name": "Python 3",
   "language": "python",
   "name": "python3"
  },
  "language_info": {
   "codemirror_mode": {
    "name": "ipython",
    "version": 3
   },
   "file_extension": ".py",
   "mimetype": "text/x-python",
   "name": "python",
   "nbconvert_exporter": "python",
   "pygments_lexer": "ipython3",
   "version": "3.7.2"
  }
 },
 "nbformat": 4,
 "nbformat_minor": 2
}
