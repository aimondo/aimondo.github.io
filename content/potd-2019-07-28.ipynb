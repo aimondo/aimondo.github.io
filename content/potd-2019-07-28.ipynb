{
 "cells": [
  {
   "cell_type": "markdown",
   "metadata": {},
   "source": [
    "# No Pick Today"
   ]
  },
  {
   "cell_type": "markdown",
   "metadata": {},
   "source": [
    "### Random Forest:"
   ]
  },
  {
   "cell_type": "code",
   "execution_count": 2,
   "metadata": {},
   "outputs": [
    {
     "name": "stdout",
     "output_type": "stream",
     "text": [
      "              Player  Probability\n",
      "0      Shin-Soo Choo        0.308\n",
      "1       Ronald Acuna        0.293\n",
      "2  Willson Contreras        0.291\n",
      "3          Wil Myers        0.290\n",
      "4       Willy Adames        0.289\n"
     ]
    }
   ],
   "source": [
    "import pandas as pd\n",
    "\n",
    "rf = pd.DataFrame([['Shin-Soo Choo', 0.308], \n",
    "                   ['Ronald Acuna', 0.293], \n",
    "                   ['Willson Contreras', 0.291], \n",
    "                   ['Wil Myers', 0.29], \n",
    "                   ['Willy Adames', 0.289]],\n",
    "columns= ['Player', 'Probability']\n",
    ")\n",
    "\n",
    "print(rf)"
   ]
  },
  {
   "cell_type": "markdown",
   "metadata": {},
   "source": [
    "### Logistic Regression:"
   ]
  },
  {
   "cell_type": "code",
   "execution_count": 3,
   "metadata": {},
   "outputs": [
    {
     "name": "stdout",
     "output_type": "stream",
     "text": [
      "             Player  Probability\n",
      "0    Carlos Santana        0.381\n",
      "1       Kris Bryant        0.380\n",
      "2     Melky Cabrera        0.347\n",
      "3  Charlie Blackmon        0.335\n",
      "4        Ryan Braun        0.324\n"
     ]
    }
   ],
   "source": [
    "lr = pd.DataFrame([['Carlos Santana', 0.381], \n",
    "                   ['Kris Bryant', 0.38], \n",
    "                   ['Melky Cabrera', 0.347], \n",
    "                   ['Charlie Blackmon', 0.335], \n",
    "                   ['Ryan Braun', 0.324]],\n",
    "columns= ['Player', 'Probability']\n",
    ")\n",
    "\n",
    "print(lr)"
   ]
  }
 ],
 "metadata": {
  "kernelspec": {
   "display_name": "Python 3",
   "language": "python",
   "name": "python3"
  },
  "language_info": {
   "codemirror_mode": {
    "name": "ipython",
    "version": 3
   },
   "file_extension": ".py",
   "mimetype": "text/x-python",
   "name": "python",
   "nbconvert_exporter": "python",
   "pygments_lexer": "ipython3",
   "version": "3.7.2"
  }
 },
 "nbformat": 4,
 "nbformat_minor": 2
}
