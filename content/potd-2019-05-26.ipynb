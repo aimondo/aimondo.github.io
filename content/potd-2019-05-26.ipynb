{
 "cells": [
  {
   "cell_type": "markdown",
   "metadata": {},
   "source": [
    "# POTD (Pick of the Day) - Joey Votto"
   ]
  },
  {
   "cell_type": "markdown",
   "metadata": {},
   "source": [
    "### Random Forest:"
   ]
  },
  {
   "cell_type": "code",
   "execution_count": 1,
   "metadata": {},
   "outputs": [
    {
     "name": "stdout",
     "output_type": "stream",
     "text": [
      "         Player  Probability\n",
      "0   Aaron Hicks        0.302\n",
      "1  Elvis Andrus        0.300\n",
      "2    Joey Votto        0.280\n"
     ]
    }
   ],
   "source": [
    "import pandas as pd\n",
    "import plotly.plotly as py\n",
    "import plotly.figure_factory as ff\n",
    "import plotly.graph_objs as go\n",
    "\n",
    "rf = pd.DataFrame([['Aaron Hicks', 0.302], \n",
    "                   ['Elvis Andrus', 0.3], \n",
    "                   ['Joey Votto', 0.28]],\n",
    "columns= ['Player', 'Probability']\n",
    ")\n",
    "\n",
    "print(rf)"
   ]
  },
  {
   "cell_type": "markdown",
   "metadata": {},
   "source": [
    "### Logistic Regression:"
   ]
  },
  {
   "cell_type": "code",
   "execution_count": 2,
   "metadata": {},
   "outputs": [
    {
     "name": "stdout",
     "output_type": "stream",
     "text": [
      "             Player  Probability\n",
      "0     Marcell Ozuna        0.383\n",
      "1  Stephen Piscotty        0.330\n",
      "2        Joey Votto        0.322\n"
     ]
    }
   ],
   "source": [
    "lr = pd.DataFrame([['Marcell Ozuna', 0.383], \n",
    "                   ['Stephen Piscotty', 0.33], \n",
    "                   ['Joey Votto', 0.322]],\n",
    "columns= ['Player', 'Probability']\n",
    ")\n",
    "\n",
    "print(lr)"
   ]
  },
  {
   "cell_type": "markdown",
   "metadata": {},
   "source": [
    "#### Joey Votto"
   ]
  },
  {
   "cell_type": "markdown",
   "metadata": {},
   "source": [
    "Votto is 8/17 (.471) against Quintana, but has struggled for the first third of the season. He is hitting .333 over his last 7 and .283 over his last 14 though, so he could be a good pick here. Quintana allows a fair number of hits but has shined at home this season, which is where he will be today."
   ]
  }
 ],
 "metadata": {
  "kernelspec": {
   "display_name": "Python 3",
   "language": "python",
   "name": "python3"
  },
  "language_info": {
   "codemirror_mode": {
    "name": "ipython",
    "version": 3
   },
   "file_extension": ".py",
   "mimetype": "text/x-python",
   "name": "python",
   "nbconvert_exporter": "python",
   "pygments_lexer": "ipython3",
   "version": "3.7.2"
  }
 },
 "nbformat": 4,
 "nbformat_minor": 2
}
