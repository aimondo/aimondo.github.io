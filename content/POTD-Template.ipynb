{
 "cells": [
  {
   "cell_type": "markdown",
   "metadata": {},
   "source": [
    "# POTD (Pick of the Day)\n",
    "#### Today's pick is *Jorge Polanco*. He showed up on both Random Forest and Logistic Regression's radar."
   ]
  },
  {
   "cell_type": "code",
   "execution_count": 21,
   "metadata": {},
   "outputs": [
    {
     "data": {
      "text/html": [
       "<iframe id=\"igraph\" scrolling=\"no\" style=\"border:none;\" seamless=\"seamless\" src=\"https://plot.ly/~AimonAllouache/14.embed\" height=\"230px\" width=\"100%\"></iframe>"
      ],
      "text/plain": [
       "<plotly.tools.PlotlyDisplay object>"
      ]
     },
     "execution_count": 21,
     "metadata": {},
     "output_type": "execute_result"
    }
   ],
   "source": [
    "import pandas as pd\n",
    "import plotly.plotly as py\n",
    "import plotly.figure_factory as ff\n",
    "import plotly.graph_objs as go\n",
    "\n",
    "# Random Forest:\n",
    "rf = pd.DataFrame([\n",
    "['Paul Goldschmidt',0.280],\n",
    "['Jay Bruce', 0.280],\n",
    "['Jorge Polanco', 0.279],\n",
    "['Johan Camargo', 0.277],\n",
    "['Charlie Blackmon', 0.276]], columns=['Player', 'Probability'])\n",
    "\n",
    "rf_table = ff.create_table(rf)\n",
    "py.iplot(rf_table, filename='player-prob-rf')"
   ]
  },
  {
   "cell_type": "code",
   "execution_count": 16,
   "metadata": {},
   "outputs": [
    {
     "data": {
      "text/html": [
       "<iframe id=\"igraph\" scrolling=\"no\" style=\"border:none;\" seamless=\"seamless\" src=\"https://plot.ly/~AimonAllouache/16.embed\" height=\"230px\" width=\"100%\"></iframe>"
      ],
      "text/plain": [
       "<plotly.tools.PlotlyDisplay object>"
      ]
     },
     "execution_count": 16,
     "metadata": {},
     "output_type": "execute_result"
    }
   ],
   "source": [
    "# Logistic Regression:\n",
    "lr = pd.DataFrame([\n",
    "['Kevin Kiermaier', 0.318],\n",
    "['Odubel Herrera', 0.302],\n",
    "['Jorge Polanco', 0.300],\n",
    "['Joc Pederson', 0.298],\n",
    "['Justin Turner', 0.296]], columns=['Player', 'Probability'])\n",
    "\n",
    "lr_table = ff.create_table(lr)\n",
    "py.iplot(lr_table, filename='player-prob-lr')"
   ]
  }
 ],
 "metadata": {
  "kernelspec": {
   "display_name": "Python 3",
   "language": "python",
   "name": "python3"
  },
  "language_info": {
   "codemirror_mode": {
    "name": "ipython",
    "version": 3
   },
   "file_extension": ".py",
   "mimetype": "text/x-python",
   "name": "python",
   "nbconvert_exporter": "python",
   "pygments_lexer": "ipython3",
   "version": "3.6.3"
  }
 },
 "nbformat": 4,
 "nbformat_minor": 2
}
