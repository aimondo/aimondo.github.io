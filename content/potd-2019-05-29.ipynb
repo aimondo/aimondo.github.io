{
 "cells": [
  {
   "cell_type": "markdown",
   "metadata": {},
   "source": [
    "# POTD (Pick of the Day) - DOUBLE DOWN!!!\n",
    "#### Double Down - Nolan Arenado & Whit Merrifield"
   ]
  },
  {
   "cell_type": "markdown",
   "metadata": {},
   "source": [
    "### Random Forest:"
   ]
  },
  {
   "cell_type": "code",
   "execution_count": 1,
   "metadata": {},
   "outputs": [
    {
     "name": "stdout",
     "output_type": "stream",
     "text": [
      "            Player  Probability\n",
      "0     Trevor Story        0.312\n",
      "1    Nolan Arenado        0.286\n",
      "2  Whit Merrifield        0.279\n"
     ]
    }
   ],
   "source": [
    "import pandas as pd\n",
    "import plotly.plotly as py\n",
    "import plotly.figure_factory as ff\n",
    "import plotly.graph_objs as go\n",
    "\n",
    "rf = pd.DataFrame([['Trevor Story', 0.312], \n",
    "                   ['Nolan Arenado', 0.286], \n",
    "                   ['Whit Merrifield', 0.279]],\n",
    "columns= ['Player', 'Probability']\n",
    ")\n",
    "\n",
    "print(rf)"
   ]
  },
  {
   "cell_type": "markdown",
   "metadata": {},
   "source": [
    "### Logistic Regression:"
   ]
  },
  {
   "cell_type": "code",
   "execution_count": 2,
   "metadata": {},
   "outputs": [
    {
     "name": "stdout",
     "output_type": "stream",
     "text": [
      "            Player  Probability\n",
      "0   Starlin Castro        0.344\n",
      "1    Nolan Arenado        0.337\n",
      "2  Whit Merrifield        0.327\n"
     ]
    }
   ],
   "source": [
    "lr = pd.DataFrame([['Starlin Castro', 0.344], \n",
    "                   ['Nolan Arenado', 0.337], \n",
    "                   ['Whit Merrifield', 0.327]],\n",
    "columns= ['Player', 'Probability']\n",
    ")\n",
    "\n",
    "print(lr)"
   ]
  },
  {
   "cell_type": "markdown",
   "metadata": {},
   "source": [
    "#### Nolan Arenado"
   ]
  },
  {
   "cell_type": "markdown",
   "metadata": {},
   "source": [
    "Arenado will see Robbie Ray in Coors. Should be a good matchup. Arenado is 13/34 (.382) vs. Ray with a handedness advantage."
   ]
  },
  {
   "cell_type": "markdown",
   "metadata": {},
   "source": [
    "#### Whit Merrifield"
   ]
  },
  {
   "cell_type": "markdown",
   "metadata": {},
   "source": [
    "Merrifield is 8/24 (.333) against Reynaldo Lopez. Lopez has allowed a whopping 66 hits in 59 IP and has a 6.03 ERA for the season."
   ]
  }
 ],
 "metadata": {
  "kernelspec": {
   "display_name": "Python 3",
   "language": "python",
   "name": "python3"
  },
  "language_info": {
   "codemirror_mode": {
    "name": "ipython",
    "version": 3
   },
   "file_extension": ".py",
   "mimetype": "text/x-python",
   "name": "python",
   "nbconvert_exporter": "python",
   "pygments_lexer": "ipython3",
   "version": "3.7.2"
  }
 },
 "nbformat": 4,
 "nbformat_minor": 2
}
