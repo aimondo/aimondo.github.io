{
 "cells": [
  {
   "cell_type": "markdown",
   "metadata": {},
   "source": [
    "# No Pick Today"
   ]
  },
  {
   "cell_type": "markdown",
   "metadata": {},
   "source": [
    "### Random Forest:"
   ]
  },
  {
   "cell_type": "code",
   "execution_count": 4,
   "metadata": {},
   "outputs": [
    {
     "name": "stdout",
     "output_type": "stream",
     "text": [
      "            Player  Probability\n",
      "0     Jesse Winker        0.324\n",
      "1  Travis d'Arnaud        0.323\n",
      "2     Justin Upton        0.319\n",
      "3  Kevin Kiermaier        0.317\n"
     ]
    }
   ],
   "source": [
    "import pandas as pd\n",
    "\n",
    "rf = pd.DataFrame([['Jesse Winker', 0.324], \n",
    "                   [\"Travis d'Arnaud\", 0.323],\n",
    "                   ['Justin Upton', 0.319], \n",
    "                   ['Kevin Kiermaier', 0.317]],\n",
    "columns= ['Player', 'Probability']\n",
    ")\n",
    "\n",
    "print(rf)"
   ]
  },
  {
   "cell_type": "markdown",
   "metadata": {},
   "source": [
    "### Logistic Regression:"
   ]
  },
  {
   "cell_type": "code",
   "execution_count": 5,
   "metadata": {},
   "outputs": [
    {
     "name": "stdout",
     "output_type": "stream",
     "text": [
      "            Player  Probability\n",
      "0     A.J. Pollock        0.428\n",
      "1   Matt Carpenter        0.327\n",
      "2    Jason Heyward        0.325\n",
      "3  Freddie Freeman        0.312\n"
     ]
    }
   ],
   "source": [
    "lr = pd.DataFrame([['A.J. Pollock', 0.428], \n",
    "                   ['Matt Carpenter', 0.327], \n",
    "                   ['Jason Heyward', 0.325], \n",
    "                   ['Freddie Freeman', 0.312]],\n",
    "columns= ['Player', 'Probability']\n",
    ")\n",
    "\n",
    "print(lr)"
   ]
  }
 ],
 "metadata": {
  "kernelspec": {
   "display_name": "Python 3",
   "language": "python",
   "name": "python3"
  },
  "language_info": {
   "codemirror_mode": {
    "name": "ipython",
    "version": 3
   },
   "file_extension": ".py",
   "mimetype": "text/x-python",
   "name": "python",
   "nbconvert_exporter": "python",
   "pygments_lexer": "ipython3",
   "version": "3.7.2"
  }
 },
 "nbformat": 4,
 "nbformat_minor": 2
}
