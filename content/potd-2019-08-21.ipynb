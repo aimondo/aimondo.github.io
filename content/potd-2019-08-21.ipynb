{
 "cells": [
  {
   "cell_type": "markdown",
   "metadata": {},
   "source": [
    "# POTD (Pick of the Day) - DOUBLE DOWN!!!\n",
    "### Double Down - David Peralta & Tyler Naquin"
   ]
  },
  {
   "cell_type": "markdown",
   "metadata": {},
   "source": [
    "### Random Forest:"
   ]
  },
  {
   "cell_type": "code",
   "execution_count": 1,
   "metadata": {},
   "outputs": [
    {
     "name": "stdout",
     "output_type": "stream",
     "text": [
      "          Player  Probability\n",
      "0  David Peralta        0.287\n",
      "1   Lorenzo Cain        0.279\n",
      "2  Orlando Arcia        0.278\n",
      "3   Tyler Naquin        0.276\n"
     ]
    }
   ],
   "source": [
    "import pandas as pd\n",
    "\n",
    "rf = pd.DataFrame([['David Peralta', 0.287], \n",
    "                   ['Lorenzo Cain', 0.279], \n",
    "                   ['Orlando Arcia', 0.278], \n",
    "                   ['Tyler Naquin', 0.276]],\n",
    "columns= ['Player', 'Probability']\n",
    ")\n",
    "\n",
    "print(rf)"
   ]
  },
  {
   "cell_type": "markdown",
   "metadata": {},
   "source": [
    "### Logistic Regression:"
   ]
  },
  {
   "cell_type": "code",
   "execution_count": 2,
   "metadata": {},
   "outputs": [
    {
     "name": "stdout",
     "output_type": "stream",
     "text": [
      "          Player  Probability\n",
      "0  Yonder Alonso        0.310\n",
      "1  Marcus Semien        0.295\n",
      "2   Tyler Naquin        0.288\n",
      "3  David Peralta        0.285\n"
     ]
    }
   ],
   "source": [
    "lr = pd.DataFrame([['Yonder Alonso', 0.31], \n",
    "                   ['Marcus Semien', 0.295], \n",
    "                   ['Tyler Naquin', 0.288], \n",
    "                   ['David Peralta', 0.285]],\n",
    "columns= ['Player', 'Probability']\n",
    ")\n",
    "\n",
    "print(lr)"
   ]
  },
  {
   "cell_type": "markdown",
   "metadata": {},
   "source": [
    "#### David Peralta"
   ]
  },
  {
   "cell_type": "markdown",
   "metadata": {},
   "source": [
    "Will face Jon Gray. He is 9/21 (.429) against him with a handedness advantage."
   ]
  },
  {
   "cell_type": "markdown",
   "metadata": {},
   "source": [
    "#### Tyler Naquin"
   ]
  },
  {
   "cell_type": "markdown",
   "metadata": {},
   "source": [
    "Naquin will see Marcus Stroman. He is 7/12 (.583) against him with a handedness advantage."
   ]
  }
 ],
 "metadata": {
  "kernelspec": {
   "display_name": "Python 3",
   "language": "python",
   "name": "python3"
  },
  "language_info": {
   "codemirror_mode": {
    "name": "ipython",
    "version": 3
   },
   "file_extension": ".py",
   "mimetype": "text/x-python",
   "name": "python",
   "nbconvert_exporter": "python",
   "pygments_lexer": "ipython3",
   "version": "3.7.2"
  }
 },
 "nbformat": 4,
 "nbformat_minor": 2
}
