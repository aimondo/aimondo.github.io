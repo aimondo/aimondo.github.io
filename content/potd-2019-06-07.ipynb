{
 "cells": [
  {
   "cell_type": "markdown",
   "metadata": {},
   "source": [
    "# POTD (Pick of the Day) - Mike Trout"
   ]
  },
  {
   "cell_type": "markdown",
   "metadata": {},
   "source": [
    "### Random Forest:"
   ]
  },
  {
   "cell_type": "code",
   "execution_count": 1,
   "metadata": {},
   "outputs": [
    {
     "name": "stdout",
     "output_type": "stream",
     "text": [
      "            Player  Probability\n",
      "0       Mike Trout        0.296\n",
      "1    Mitch Haniger        0.284\n",
      "2    Marcell Ozuna        0.278\n",
      "3  Jonathan Lucroy        0.274\n"
     ]
    }
   ],
   "source": [
    "import pandas as pd\n",
    "import plotly.plotly as py\n",
    "import plotly.figure_factory as ff\n",
    "import plotly.graph_objs as go\n",
    "\n",
    "rf = pd.DataFrame([['Mike Trout', 0.296], \n",
    "                   ['Mitch Haniger', 0.284], \n",
    "                   ['Marcell Ozuna', 0.278], \n",
    "                   ['Jonathan Lucroy', 0.274]],\n",
    "columns= ['Player', 'Probability']\n",
    ")\n",
    "\n",
    "print(rf)"
   ]
  },
  {
   "cell_type": "markdown",
   "metadata": {},
   "source": [
    "### Logistic Regression:"
   ]
  },
  {
   "cell_type": "code",
   "execution_count": 2,
   "metadata": {},
   "outputs": [
    {
     "name": "stdout",
     "output_type": "stream",
     "text": [
      "            Player  Probability\n",
      "0       Mike Trout        0.330\n",
      "1   David Fletcher        0.317\n",
      "2  Freddie Freeman        0.310\n",
      "3   Avisail Garcia        0.304\n"
     ]
    }
   ],
   "source": [
    "lr = pd.DataFrame([['Mike Trout', 0.33], \n",
    "                   ['David Fletcher', 0.317], \n",
    "                   ['Freddie Freeman', 0.31], \n",
    "                   ['Avisail Garcia', 0.304]],\n",
    "columns= ['Player', 'Probability']\n",
    ")\n",
    "\n",
    "print(lr)"
   ]
  },
  {
   "cell_type": "markdown",
   "metadata": {},
   "source": [
    "#### Mike Trout"
   ]
  },
  {
   "cell_type": "markdown",
   "metadata": {},
   "source": [
    "Both systems are in agreement. Take Trout against Marco Gonzales!"
   ]
  }
 ],
 "metadata": {
  "kernelspec": {
   "display_name": "Python 3",
   "language": "python",
   "name": "python3"
  },
  "language_info": {
   "codemirror_mode": {
    "name": "ipython",
    "version": 3
   },
   "file_extension": ".py",
   "mimetype": "text/x-python",
   "name": "python",
   "nbconvert_exporter": "python",
   "pygments_lexer": "ipython3",
   "version": "3.7.2"
  }
 },
 "nbformat": 4,
 "nbformat_minor": 2
}
