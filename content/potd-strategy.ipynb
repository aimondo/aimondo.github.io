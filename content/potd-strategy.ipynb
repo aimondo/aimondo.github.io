{
 "cells": [
  {
   "cell_type": "markdown",
   "metadata": {},
   "source": [
    "# POTD | Our Strategy"
   ]
  },
  {
   "cell_type": "markdown",
   "metadata": {},
   "source": [
    "## Today is a good day to explain our strategy"
   ]
  },
  {
   "cell_type": "markdown",
   "metadata": {},
   "source": [
    "Beating the streak requires contestants to select 57 consecutive batters who get a hit on the day they are chosen. It __doesn't__ require you to make a pick each day though. Therefore, we only have a pick of the day when both of our models like the same player(s) and are confident that they will get a hit. Confidence is measured by having a higher average probability of getting a hit per at-bat than our predetermined threshold. <br>"
   ]
  },
  {
   "cell_type": "markdown",
   "metadata": {},
   "source": [
    "Why are we telling you this? Because there is no pick today. Our program compared the outputs of our models and determined that today wasn't a good enough day to risk breaking a streak."
   ]
  },
  {
   "cell_type": "markdown",
   "metadata": {},
   "source": [
    "Here are the model outputs for today:"
   ]
  },
  {
   "cell_type": "markdown",
   "metadata": {},
   "source": [
    "### Random Forest:"
   ]
  },
  {
   "cell_type": "code",
   "execution_count": 6,
   "metadata": {},
   "outputs": [
    {
     "name": "stdout",
     "output_type": "stream",
     "text": [
      "              Player  Probability\n",
      "0       Justin Smoak        0.292\n",
      "1  Andrelton Simmons        0.289\n"
     ]
    }
   ],
   "source": [
    "import pandas as pd\n",
    "import plotly.plotly as py\n",
    "import plotly.figure_factory as ff\n",
    "import plotly.graph_objs as go\n",
    "\n",
    "# Random Forest:\n",
    "rf = pd.DataFrame([\n",
    "['Justin Smoak',0.292],\n",
    "['Andrelton Simmons', 0.289]], columns=['Player', 'Probability'])\n",
    "\n",
    "print(rf)"
   ]
  },
  {
   "cell_type": "markdown",
   "metadata": {},
   "source": [
    "### Logistic Regression:"
   ]
  },
  {
   "cell_type": "code",
   "execution_count": 7,
   "metadata": {},
   "outputs": [
    {
     "name": "stdout",
     "output_type": "stream",
     "text": [
      "            Player  Probability\n",
      "0  Whit Merrifield        0.317\n",
      "1  Cesar Hernandez        0.288\n"
     ]
    }
   ],
   "source": [
    "# Logistic Regression:\n",
    "lr = pd.DataFrame([\n",
    "['Whit Merrifield', 0.317],\n",
    "['Cesar Hernandez', 0.288]], columns=['Player', 'Probability'])\n",
    "\n",
    "print(lr)"
   ]
  },
  {
   "cell_type": "markdown",
   "metadata": {},
   "source": [
    "Each model has been trained on every at-bat over the previous three seasons and are very accurate by themselves. Picking a top player from either list is typically a good bet. However, our recommended approach is to pick a player or two when our models agree on player hit probabilities. It's important to note that the probabilities for each player represent the probability of them getting a hit each at-bat against the opposing starting pitcher."
   ]
  },
  {
   "cell_type": "code",
   "execution_count": null,
   "metadata": {},
   "outputs": [],
   "source": []
  }
 ],
 "metadata": {
  "kernelspec": {
   "display_name": "Python 3",
   "language": "python",
   "name": "python3"
  },
  "language_info": {
   "codemirror_mode": {
    "name": "ipython",
    "version": 3
   },
   "file_extension": ".py",
   "mimetype": "text/x-python",
   "name": "python",
   "nbconvert_exporter": "python",
   "pygments_lexer": "ipython3",
   "version": "3.7.2"
  }
 },
 "nbformat": 4,
 "nbformat_minor": 2
}
