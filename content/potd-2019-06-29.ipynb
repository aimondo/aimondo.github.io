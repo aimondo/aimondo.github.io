{
 "cells": [
  {
   "cell_type": "markdown",
   "metadata": {},
   "source": [
    "# POTD (Pick of the Day) - DOUBLE DOWN!!!\n",
    "### Double Down - Nolan Arenado & Charlie Blackmon"
   ]
  },
  {
   "cell_type": "markdown",
   "metadata": {},
   "source": [
    "### Random Forest:"
   ]
  },
  {
   "cell_type": "code",
   "execution_count": 2,
   "metadata": {},
   "outputs": [
    {
     "name": "stdout",
     "output_type": "stream",
     "text": [
      "             Player  Probability\n",
      "0    Cody Bellinger        0.309\n",
      "1     Justin Turner        0.305\n",
      "2      Adam Frazier        0.304\n",
      "3     Nolan Arenado        0.300\n",
      "4  Charlie Blackmon        0.294\n"
     ]
    }
   ],
   "source": [
    "import pandas as pd\n",
    "import plotly.plotly as py\n",
    "import plotly.figure_factory as ff\n",
    "import plotly.graph_objs as go\n",
    "\n",
    "rf = pd.DataFrame([['Cody Bellinger', 0.309], \n",
    "                   ['Justin Turner', 0.305], \n",
    "                   ['Adam Frazier', 0.304], \n",
    "                   ['Nolan Arenado', 0.3], \n",
    "                   ['Charlie Blackmon', 0.294]],\n",
    "columns= ['Player', 'Probability']\n",
    ")\n",
    "\n",
    "print(rf)"
   ]
  },
  {
   "cell_type": "markdown",
   "metadata": {},
   "source": [
    "### Logistic Regression:"
   ]
  },
  {
   "cell_type": "code",
   "execution_count": 3,
   "metadata": {},
   "outputs": [
    {
     "name": "stdout",
     "output_type": "stream",
     "text": [
      "              Player  Probability\n",
      "0      Nolan Arenado        0.399\n",
      "1       Mookie Betts        0.381\n",
      "2  Edwin Encarnacion        0.363\n",
      "3   Charlie Blackmon        0.344\n",
      "4         Joey Votto        0.335\n"
     ]
    }
   ],
   "source": [
    "lr = pd.DataFrame([['Nolan Arenado', 0.399], \n",
    "                   ['Mookie Betts', 0.381], \n",
    "                   ['Edwin Encarnacion', 0.363], \n",
    "                   ['Charlie Blackmon', 0.344], \n",
    "                   ['Joey Votto', 0.335]],\n",
    "columns= ['Player', 'Probability']\n",
    ")\n",
    "\n",
    "print(lr)"
   ]
  },
  {
   "cell_type": "markdown",
   "metadata": {},
   "source": [
    "This is the first time ever that my program has doubled down on the same pair of batters consecutively."
   ]
  },
  {
   "cell_type": "markdown",
   "metadata": {},
   "source": [
    "#### Nolan Arenado"
   ]
  },
  {
   "cell_type": "markdown",
   "metadata": {},
   "source": [
    "Arenado will face Clayton Kershaw this time around. He is 16/55 (.291) with a handedness advantage."
   ]
  },
  {
   "cell_type": "markdown",
   "metadata": {},
   "source": [
    "#### Charlie Blackmon"
   ]
  },
  {
   "cell_type": "markdown",
   "metadata": {},
   "source": [
    "Blackmon is 16/53 (.302) against Kershaw. Like yesterday, this matchup will take place in Coors."
   ]
  }
 ],
 "metadata": {
  "kernelspec": {
   "display_name": "Python 3",
   "language": "python",
   "name": "python3"
  },
  "language_info": {
   "codemirror_mode": {
    "name": "ipython",
    "version": 3
   },
   "file_extension": ".py",
   "mimetype": "text/x-python",
   "name": "python",
   "nbconvert_exporter": "python",
   "pygments_lexer": "ipython3",
   "version": "3.7.2"
  }
 },
 "nbformat": 4,
 "nbformat_minor": 2
}
