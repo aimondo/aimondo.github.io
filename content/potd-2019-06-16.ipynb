{
 "cells": [
  {
   "cell_type": "markdown",
   "metadata": {},
   "source": [
    "# POTD (Pick of the Day) - Ryan Braun"
   ]
  },
  {
   "cell_type": "markdown",
   "metadata": {},
   "source": [
    "### Random Forest:"
   ]
  },
  {
   "cell_type": "code",
   "execution_count": 1,
   "metadata": {},
   "outputs": [
    {
     "name": "stdout",
     "output_type": "stream",
     "text": [
      "             Player  Probability\n",
      "0        Ryan Braun        0.296\n",
      "1     Nick Markakis        0.286\n",
      "2  Christian Yelich        0.285\n",
      "3      Bryce Harper        0.277\n",
      "4       Eric Sogard        0.272\n"
     ]
    }
   ],
   "source": [
    "import pandas as pd\n",
    "import plotly.plotly as py\n",
    "import plotly.figure_factory as ff\n",
    "import plotly.graph_objs as go\n",
    "\n",
    "rf = pd.DataFrame([['Ryan Braun', 0.296], \n",
    "                   ['Nick Markakis', 0.286], \n",
    "                   ['Christian Yelich', 0.285], \n",
    "                   ['Bryce Harper', 0.277], \n",
    "                   ['Eric Sogard', 0.272]],\n",
    "columns= ['Player', 'Probability']\n",
    ")\n",
    "\n",
    "print(rf)"
   ]
  },
  {
   "cell_type": "markdown",
   "metadata": {},
   "source": [
    "### Logistic Regression:"
   ]
  },
  {
   "cell_type": "code",
   "execution_count": 2,
   "metadata": {},
   "outputs": [
    {
     "name": "stdout",
     "output_type": "stream",
     "text": [
      "           Player  Probability\n",
      "0      Ryan Braun        0.358\n",
      "1  Miguel Cabrera        0.336\n",
      "2    Matt Chapman        0.306\n",
      "3   Yadier Molina        0.302\n",
      "4    Buster Posey        0.301\n"
     ]
    }
   ],
   "source": [
    "lr = pd.DataFrame([['Ryan Braun', 0.358], \n",
    "                   ['Miguel Cabrera', 0.336], \n",
    "                   ['Matt Chapman', 0.306], \n",
    "                   ['Yadier Molina', 0.302], \n",
    "                   ['Buster Posey', 0.301]],\n",
    "columns= ['Player', 'Probability']\n",
    ")\n",
    "\n",
    "print(lr)"
   ]
  },
  {
   "cell_type": "markdown",
   "metadata": {},
   "source": [
    "#### Ryan Braun"
   ]
  },
  {
   "cell_type": "markdown",
   "metadata": {},
   "source": [
    "Braun will face Jeff Samardzija. He is 11/26 (.423) and has been hitting the ball pretty well lately. He should be hitting near the top of the lineup. Yelich is probably a good pick to pair him with."
   ]
  }
 ],
 "metadata": {
  "kernelspec": {
   "display_name": "Python 3",
   "language": "python",
   "name": "python3"
  },
  "language_info": {
   "codemirror_mode": {
    "name": "ipython",
    "version": 3
   },
   "file_extension": ".py",
   "mimetype": "text/x-python",
   "name": "python",
   "nbconvert_exporter": "python",
   "pygments_lexer": "ipython3",
   "version": "3.7.2"
  }
 },
 "nbformat": 4,
 "nbformat_minor": 2
}
