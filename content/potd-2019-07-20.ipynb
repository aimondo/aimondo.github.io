{
 "cells": [
  {
   "cell_type": "markdown",
   "metadata": {},
   "source": [
    "# POTD (Pick of the Day) - Francisco Lindor"
   ]
  },
  {
   "cell_type": "markdown",
   "metadata": {},
   "source": [
    "### Random Forest:"
   ]
  },
  {
   "cell_type": "code",
   "execution_count": 1,
   "metadata": {},
   "outputs": [
    {
     "name": "stdout",
     "output_type": "stream",
     "text": [
      "             Player  Probability\n",
      "0     Robinson Cano        0.292\n",
      "1       Nelson Cruz        0.288\n",
      "2      Miguel Rojas        0.281\n",
      "3  Francisco Lindor        0.281\n",
      "4      Wilson Ramos        0.280\n"
     ]
    }
   ],
   "source": [
    "import pandas as pd\n",
    "\n",
    "rf = pd.DataFrame([['Robinson Cano', 0.292], \n",
    "                   ['Nelson Cruz', 0.288], \n",
    "                   ['Miguel Rojas', 0.281], \n",
    "                   ['Francisco Lindor', 0.281], \n",
    "                   ['Wilson Ramos', 0.28]],\n",
    "columns= ['Player', 'Probability']\n",
    ")\n",
    "\n",
    "print(rf)"
   ]
  },
  {
   "cell_type": "markdown",
   "metadata": {},
   "source": [
    "### Logistic Regression:"
   ]
  },
  {
   "cell_type": "code",
   "execution_count": 2,
   "metadata": {},
   "outputs": [
    {
     "name": "stdout",
     "output_type": "stream",
     "text": [
      "               Player  Probability\n",
      "0    Francisco Lindor        0.363\n",
      "1        Todd Frazier        0.305\n",
      "2      Carlos Santana        0.303\n",
      "3  Adeiny Hechavarria        0.301\n",
      "4         Jake Bauers        0.283\n"
     ]
    }
   ],
   "source": [
    "lr = pd.DataFrame([['Francisco Lindor', 0.363], \n",
    "                   ['Todd Frazier', 0.305], \n",
    "                   ['Carlos Santana', 0.303], \n",
    "                   ['Adeiny Hechavarria', 0.301], \n",
    "                   ['Jake Bauers', 0.283]],\n",
    "columns= ['Player', 'Probability']\n",
    ")\n",
    "\n",
    "print(lr)"
   ]
  },
  {
   "cell_type": "markdown",
   "metadata": {},
   "source": [
    "#### Francisco Lindor"
   ]
  },
  {
   "cell_type": "markdown",
   "metadata": {},
   "source": [
    "Lindor will face Jakob Junis. He is 11/22 (.500) against him with a handedness advantage. Junis struggled throughout the first half of the season but has been dominant in his last two starts. It's worth mentioning that he had a 3.35 ERA in the second half last year. Nevertheless, Lindor will be home today and should be a solid pick."
   ]
  }
 ],
 "metadata": {
  "kernelspec": {
   "display_name": "Python 3",
   "language": "python",
   "name": "python3"
  },
  "language_info": {
   "codemirror_mode": {
    "name": "ipython",
    "version": 3
   },
   "file_extension": ".py",
   "mimetype": "text/x-python",
   "name": "python",
   "nbconvert_exporter": "python",
   "pygments_lexer": "ipython3",
   "version": "3.7.2"
  }
 },
 "nbformat": 4,
 "nbformat_minor": 2
}
