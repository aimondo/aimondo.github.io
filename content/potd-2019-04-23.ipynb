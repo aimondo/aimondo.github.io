{
 "cells": [
  {
   "cell_type": "markdown",
   "metadata": {},
   "source": [
    "# POTD (Pick of the Day)\n",
    "#### Today's pick is *Nolan Arenado*. He showed up on both Random Forest and Logistic Regression's radar."
   ]
  },
  {
   "cell_type": "markdown",
   "metadata": {},
   "source": [
    "### Random Forest:"
   ]
  },
  {
   "cell_type": "code",
   "execution_count": 1,
   "metadata": {},
   "outputs": [
    {
     "data": {
      "text/html": [
       "<iframe id=\"igraph\" scrolling=\"no\" style=\"border:none;\" seamless=\"seamless\" src=\"https://plot.ly/~AimonAllouache/58.embed\" height=\"200px\" width=\"100%\"></iframe>"
      ],
      "text/plain": [
       "<plotly.tools.PlotlyDisplay object>"
      ]
     },
     "execution_count": 1,
     "metadata": {},
     "output_type": "execute_result"
    }
   ],
   "source": [
    "import pandas as pd\n",
    "import plotly.plotly as py\n",
    "import plotly.figure_factory as ff\n",
    "import plotly.graph_objs as go\n",
    "\n",
    "rf = pd.DataFrame([['Trevor Story', 0.303], \n",
    "                   ['Nolan Arenado', 0.293], \n",
    "                   ['Cesar Hernandez', 0.283], \n",
    "                   ['Marwin Gonzalez', 0.28]],\n",
    "columns= ['Player', 'Probability']\n",
    ")\n",
    "\n",
    "rf_table = ff.create_table(rf)\n",
    "py.iplot(rf_table, filename='potd-rf-4-22-19')"
   ]
  },
  {
   "cell_type": "markdown",
   "metadata": {},
   "source": [
    "### Logistic Regression:"
   ]
  },
  {
   "cell_type": "code",
   "execution_count": 2,
   "metadata": {},
   "outputs": [
    {
     "data": {
      "text/html": [
       "<iframe id=\"igraph\" scrolling=\"no\" style=\"border:none;\" seamless=\"seamless\" src=\"https://plot.ly/~AimonAllouache/60.embed\" height=\"200px\" width=\"100%\"></iframe>"
      ],
      "text/plain": [
       "<plotly.tools.PlotlyDisplay object>"
      ]
     },
     "execution_count": 2,
     "metadata": {},
     "output_type": "execute_result"
    }
   ],
   "source": [
    "lr = pd.DataFrame([['Nolan Arenado', 0.354], \n",
    "                   ['Carlos Correa', 0.285], \n",
    "                   ['Brian McCann', 0.285], \n",
    "                   ['Marcell Ozuna', 0.282]],\n",
    "columns= ['Player', 'Probability']\n",
    ")\n",
    "\n",
    "lr_table = ff.create_table(lr)\n",
    "py.iplot(lr_table, filename='potd-lr-4-22-19')"
   ]
  },
  {
   "cell_type": "markdown",
   "metadata": {},
   "source": [
    "This is gonna be fun. Arenado Vs. Corbin, who has been great pitching for the Nationals this month. Arenado is 12/41 (.293) against Corbin and carries a handedness advantage (righty vs lefty). Luckily for Arenado, they will be playing in Coors field, the most hitter friendly park in the league. "
   ]
  }
 ],
 "metadata": {
  "kernelspec": {
   "display_name": "Python 3",
   "language": "python",
   "name": "python3"
  },
  "language_info": {
   "codemirror_mode": {
    "name": "ipython",
    "version": 3
   },
   "file_extension": ".py",
   "mimetype": "text/x-python",
   "name": "python",
   "nbconvert_exporter": "python",
   "pygments_lexer": "ipython3",
   "version": "3.7.2"
  }
 },
 "nbformat": 4,
 "nbformat_minor": 2
}
