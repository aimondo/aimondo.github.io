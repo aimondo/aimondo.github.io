{
 "cells": [
  {
   "cell_type": "markdown",
   "metadata": {},
   "source": [
    "# POTD (Pick of the Day) - DOUBLE DOWN!!!\n",
    "#### Double Down - Charlie Blackmon & Nolan Arenado"
   ]
  },
  {
   "cell_type": "markdown",
   "metadata": {},
   "source": [
    "### Random Forest:"
   ]
  },
  {
   "cell_type": "code",
   "execution_count": 1,
   "metadata": {},
   "outputs": [
    {
     "name": "stdout",
     "output_type": "stream",
     "text": [
      "             Player  Probability\n",
      "0  Charlie Blackmon        0.348\n",
      "1      Trevor Story        0.291\n",
      "2     Nolan Arenado        0.289\n",
      "3    Anthony Rendon        0.283\n"
     ]
    }
   ],
   "source": [
    "import pandas as pd\n",
    "import plotly.plotly as py\n",
    "import plotly.figure_factory as ff\n",
    "import plotly.graph_objs as go\n",
    "\n",
    "rf = pd.DataFrame([['Charlie Blackmon', 0.348], \n",
    "                   ['Trevor Story', 0.291], \n",
    "                   ['Nolan Arenado', 0.289], \n",
    "                   ['Anthony Rendon', 0.283]],\n",
    "columns= ['Player', 'Probability']\n",
    ")\n",
    "\n",
    "print(rf)"
   ]
  },
  {
   "cell_type": "markdown",
   "metadata": {},
   "source": [
    "### Logistic Regression:"
   ]
  },
  {
   "cell_type": "code",
   "execution_count": 2,
   "metadata": {},
   "outputs": [
    {
     "name": "stdout",
     "output_type": "stream",
     "text": [
      "              Player  Probability\n",
      "0   Charlie Blackmon        0.417\n",
      "1      Justin Turner        0.414\n",
      "2  Enrique Hernandez        0.371\n",
      "3      Nolan Arenado        0.344\n"
     ]
    }
   ],
   "source": [
    "lr = pd.DataFrame([['Charlie Blackmon', 0.417], \n",
    "                   ['Justin Turner', 0.414], \n",
    "                   ['Enrique Hernandez', 0.371], \n",
    "                   ['Nolan Arenado', 0.344]],\n",
    "columns= ['Player', 'Probability']\n",
    ")\n",
    "\n",
    "print(lr)"
   ]
  },
  {
   "cell_type": "markdown",
   "metadata": {},
   "source": [
    "Both models are very confident in Blackmon as the top pick here. They are also confident in Arenado as well. These are solid picks"
   ]
  },
  {
   "cell_type": "markdown",
   "metadata": {},
   "source": [
    "#### Charlie Blackmon"
   ]
  },
  {
   "cell_type": "markdown",
   "metadata": {},
   "source": [
    "Blackmon will see Robbie Ray, who unfortunately is also a lefty. However, Blackmon has always done well against Ray, going 18/39 (.462). They will be outside of Coors today, which is disappointing."
   ]
  },
  {
   "cell_type": "markdown",
   "metadata": {},
   "source": [
    "#### Nolan Arenado"
   ]
  },
  {
   "cell_type": "markdown",
   "metadata": {},
   "source": [
    "Arenado also sees Ray and is 14/37 (.378) with a handedness advantage. Hopefully this is a good game for the Rockies!"
   ]
  }
 ],
 "metadata": {
  "kernelspec": {
   "display_name": "Python 3",
   "language": "python",
   "name": "python3"
  },
  "language_info": {
   "codemirror_mode": {
    "name": "ipython",
    "version": 3
   },
   "file_extension": ".py",
   "mimetype": "text/x-python",
   "name": "python",
   "nbconvert_exporter": "python",
   "pygments_lexer": "ipython3",
   "version": "3.7.2"
  }
 },
 "nbformat": 4,
 "nbformat_minor": 2
}
