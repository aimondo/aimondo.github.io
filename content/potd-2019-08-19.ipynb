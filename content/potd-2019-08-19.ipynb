{
 "cells": [
  {
   "cell_type": "markdown",
   "metadata": {},
   "source": [
    "# No Pick Today"
   ]
  },
  {
   "cell_type": "markdown",
   "metadata": {},
   "source": [
    "### Random Forest:"
   ]
  },
  {
   "cell_type": "code",
   "execution_count": 1,
   "metadata": {},
   "outputs": [
    {
     "name": "stdout",
     "output_type": "stream",
     "text": [
      "             Player  Probability\n",
      "0     Marcell Ozuna        0.312\n",
      "1      Alex Bregman        0.284\n",
      "2  Charlie Blackmon        0.277\n",
      "3    Miguel Cabrera        0.276\n",
      "4   Jonathan Villar        0.275\n"
     ]
    }
   ],
   "source": [
    "import pandas as pd\n",
    "\n",
    "rf = pd.DataFrame([['Marcell Ozuna', 0.312], \n",
    "                   ['Alex Bregman', 0.284], \n",
    "                   ['Charlie Blackmon', 0.277], \n",
    "                   ['Miguel Cabrera', 0.276], \n",
    "                   ['Jonathan Villar', 0.275]],\n",
    "columns= ['Player', 'Probability']\n",
    ")\n",
    "\n",
    "print(rf)"
   ]
  },
  {
   "cell_type": "markdown",
   "metadata": {},
   "source": [
    "### Logistic Regression:"
   ]
  },
  {
   "cell_type": "code",
   "execution_count": 2,
   "metadata": {},
   "outputs": [
    {
     "name": "stdout",
     "output_type": "stream",
     "text": [
      "             Player  Probability\n",
      "0      Jordy Mercer        0.297\n",
      "1        Jose Abreu        0.296\n",
      "2     Manny Machado        0.291\n",
      "3  Martin Maldonado        0.285\n",
      "4  Charlie Blackmon        0.281\n"
     ]
    }
   ],
   "source": [
    "lr = pd.DataFrame([['Jordy Mercer', 0.297], \n",
    "                   ['Jose Abreu', 0.296], \n",
    "                   ['Manny Machado', 0.291], \n",
    "                   ['Martin Maldonado', 0.285], \n",
    "                   ['Charlie Blackmon', 0.281]],\n",
    "columns= ['Player', 'Probability']\n",
    ")\n",
    "\n",
    "print(lr)"
   ]
  },
  {
   "cell_type": "markdown",
   "metadata": {},
   "source": [
    "Blackmon is the unofficial pick of the day. His probability isn't high enough to be an official pick."
   ]
  }
 ],
 "metadata": {
  "kernelspec": {
   "display_name": "Python 3",
   "language": "python",
   "name": "python3"
  },
  "language_info": {
   "codemirror_mode": {
    "name": "ipython",
    "version": 3
   },
   "file_extension": ".py",
   "mimetype": "text/x-python",
   "name": "python",
   "nbconvert_exporter": "python",
   "pygments_lexer": "ipython3",
   "version": "3.7.2"
  }
 },
 "nbformat": 4,
 "nbformat_minor": 2
}
