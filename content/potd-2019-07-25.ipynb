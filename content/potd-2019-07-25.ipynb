{
 "cells": [
  {
   "cell_type": "markdown",
   "metadata": {},
   "source": [
    "# POTD (Pick of the Day) - James McCann"
   ]
  },
  {
   "cell_type": "markdown",
   "metadata": {},
   "source": [
    "### Random Forest:"
   ]
  },
  {
   "cell_type": "code",
   "execution_count": 1,
   "metadata": {},
   "outputs": [
    {
     "name": "stdout",
     "output_type": "stream",
     "text": [
      "                 Player  Probability\n",
      "0           Aaron Hicks        0.379\n",
      "1  Delino DeShields Jr.        0.307\n",
      "2          James McCann        0.302\n",
      "3         Eddie Rosario        0.296\n",
      "4         Victor Robles        0.292\n"
     ]
    }
   ],
   "source": [
    "import pandas as pd\n",
    "\n",
    "rf = pd.DataFrame([['Aaron Hicks', 0.379], \n",
    "                   ['Delino DeShields Jr.', 0.307], \n",
    "                   ['James McCann', 0.302], \n",
    "                   ['Eddie Rosario', 0.296], \n",
    "                   ['Victor Robles', 0.292]],\n",
    "columns= ['Player', 'Probability']\n",
    ")\n",
    "\n",
    "print(rf)"
   ]
  },
  {
   "cell_type": "markdown",
   "metadata": {},
   "source": [
    "### Logistic Regression:"
   ]
  },
  {
   "cell_type": "code",
   "execution_count": 2,
   "metadata": {},
   "outputs": [
    {
     "name": "stdout",
     "output_type": "stream",
     "text": [
      "              Player  Probability\n",
      "0       Mookie Betts        0.392\n",
      "1       Adam Frazier        0.329\n",
      "2       James McCann        0.321\n",
      "3  Andrew Benintendi        0.320\n",
      "4       Elvis Andrus        0.310\n"
     ]
    }
   ],
   "source": [
    "lr = pd.DataFrame([['Mookie Betts', 0.392], \n",
    "                   ['Adam Frazier', 0.329], \n",
    "                   ['James McCann', 0.321], \n",
    "                   ['Andrew Benintendi', 0.32], \n",
    "                   ['Elvis Andrus', 0.31]],\n",
    "columns= ['Player', 'Probability']\n",
    ")\n",
    "\n",
    "print(lr)"
   ]
  },
  {
   "cell_type": "markdown",
   "metadata": {},
   "source": [
    "#### James McCann"
   ]
  },
  {
   "cell_type": "markdown",
   "metadata": {},
   "source": [
    "This pick may surprise some, but McCann actually has a .292 BA in 293 PA. He will see Jose Berrios, who he is 6/15 (.400) against."
   ]
  }
 ],
 "metadata": {
  "kernelspec": {
   "display_name": "Python 3",
   "language": "python",
   "name": "python3"
  },
  "language_info": {
   "codemirror_mode": {
    "name": "ipython",
    "version": 3
   },
   "file_extension": ".py",
   "mimetype": "text/x-python",
   "name": "python",
   "nbconvert_exporter": "python",
   "pygments_lexer": "ipython3",
   "version": "3.7.2"
  }
 },
 "nbformat": 4,
 "nbformat_minor": 2
}
