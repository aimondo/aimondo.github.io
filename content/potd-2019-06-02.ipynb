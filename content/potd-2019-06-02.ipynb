{
 "cells": [
  {
   "cell_type": "markdown",
   "metadata": {},
   "source": [
    "# POTD (Pick of the Day) - DOUBLE DOWN!!!\n",
    "#### Double Down - Mookie Betts & Addison Russell"
   ]
  },
  {
   "cell_type": "markdown",
   "metadata": {},
   "source": [
    "### Random Forest:"
   ]
  },
  {
   "cell_type": "code",
   "execution_count": 1,
   "metadata": {},
   "outputs": [
    {
     "name": "stdout",
     "output_type": "stream",
     "text": [
      "            Player  Probability\n",
      "0  Addison Russell        0.303\n",
      "1     Mookie Betts        0.300\n",
      "2     Adam Frazier        0.286\n",
      "3   Starling Marte        0.285\n",
      "4    Austin Romine        0.283\n"
     ]
    }
   ],
   "source": [
    "import pandas as pd\n",
    "import plotly.plotly as py\n",
    "import plotly.figure_factory as ff\n",
    "import plotly.graph_objs as go\n",
    "\n",
    "rf = pd.DataFrame([['Addison Russell', 0.303], \n",
    "                   ['Mookie Betts', 0.3], \n",
    "                   ['Adam Frazier', 0.286], \n",
    "                   ['Starling Marte', 0.285], \n",
    "                   ['Austin Romine', 0.283]],\n",
    "columns= ['Player', 'Probability']\n",
    ")\n",
    "\n",
    "print(rf)"
   ]
  },
  {
   "cell_type": "markdown",
   "metadata": {},
   "source": [
    "### Logistic Regression:"
   ]
  },
  {
   "cell_type": "code",
   "execution_count": 2,
   "metadata": {},
   "outputs": [
    {
     "name": "stdout",
     "output_type": "stream",
     "text": [
      "            Player  Probability\n",
      "0     Mookie Betts        0.344\n",
      "1    Jason Heyward        0.326\n",
      "2       Mike Trout        0.311\n",
      "3  Addison Russell        0.309\n",
      "4     Gary Sanchez        0.304\n"
     ]
    }
   ],
   "source": [
    "lr = pd.DataFrame([['Mookie Betts', 0.344], \n",
    "                   ['Jason Heyward', 0.326], \n",
    "                   ['Mike Trout', 0.311], \n",
    "                   ['Addison Russell', 0.309], \n",
    "                   ['Gary Sanchez', 0.304]],\n",
    "columns= ['Player', 'Probability']\n",
    ")\n",
    "\n",
    "print(lr)"
   ]
  },
  {
   "cell_type": "markdown",
   "metadata": {},
   "source": [
    "Both models are in agreement. Today is a double down day! The streak is currently at 4. Let's look at the matchups."
   ]
  },
  {
   "cell_type": "markdown",
   "metadata": {},
   "source": [
    "#### Mookie Betts"
   ]
  },
  {
   "cell_type": "markdown",
   "metadata": {},
   "source": [
    "Betts will see CC Sabathia, who he is 12/28 (.429) against with a handedness advantage (righty vs lefty). This is a solid pick."
   ]
  },
  {
   "cell_type": "markdown",
   "metadata": {},
   "source": [
    "#### Addison Russell"
   ]
  },
  {
   "cell_type": "markdown",
   "metadata": {},
   "source": [
    "Russell has actually been really good since returning from his suspension. He is hitting .288 with a .350/.293/.314 slash line. He will face off against Adam Wainwright today, who the models really like to pick against. Wainwright has a 4.94 ERA and has given up 59 hits in 58 IP. Russell is 7/18 (.389) against him. A couple concerning statistics are that Wainwright has been much better at home this season and against righties like Russell. Regardless, I'll take my chances with Russell here."
   ]
  }
 ],
 "metadata": {
  "kernelspec": {
   "display_name": "Python 3",
   "language": "python",
   "name": "python3"
  },
  "language_info": {
   "codemirror_mode": {
    "name": "ipython",
    "version": 3
   },
   "file_extension": ".py",
   "mimetype": "text/x-python",
   "name": "python",
   "nbconvert_exporter": "python",
   "pygments_lexer": "ipython3",
   "version": "3.7.2"
  }
 },
 "nbformat": 4,
 "nbformat_minor": 2
}
