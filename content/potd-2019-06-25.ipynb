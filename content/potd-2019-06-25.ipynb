{
 "cells": [
  {
   "cell_type": "markdown",
   "metadata": {},
   "source": [
    "# POTD (Pick of the Day) - DOUBLE DOWN!!!\n",
    "#### Double Down - Jeff McNeil & David Peralta"
   ]
  },
  {
   "cell_type": "markdown",
   "metadata": {},
   "source": [
    "### Random Forest:"
   ]
  },
  {
   "cell_type": "code",
   "execution_count": 1,
   "metadata": {},
   "outputs": [
    {
     "name": "stdout",
     "output_type": "stream",
     "text": [
      "              Player  Probability\n",
      "0  Enrique Hernandez        0.320\n",
      "1        Jeff McNeil        0.296\n",
      "2       Wilson Ramos        0.283\n",
      "3      David Peralta        0.280\n",
      "4     Miguel Cabrera        0.277\n"
     ]
    }
   ],
   "source": [
    "import pandas as pd\n",
    "import plotly.plotly as py\n",
    "import plotly.figure_factory as ff\n",
    "import plotly.graph_objs as go\n",
    "\n",
    "rf = pd.DataFrame([['Enrique Hernandez', 0.32], \n",
    "                   ['Jeff McNeil', 0.296], \n",
    "                   ['Wilson Ramos', 0.283], \n",
    "                   ['David Peralta', 0.28], \n",
    "                   ['Miguel Cabrera', 0.277]],\n",
    "columns= ['Player', 'Probability']\n",
    ")\n",
    "\n",
    "print(rf)"
   ]
  },
  {
   "cell_type": "markdown",
   "metadata": {},
   "source": [
    "### Logistic Regression:"
   ]
  },
  {
   "cell_type": "code",
   "execution_count": 2,
   "metadata": {},
   "outputs": [
    {
     "name": "stdout",
     "output_type": "stream",
     "text": [
      "              Player  Probability\n",
      "0  Curtis Granderson        0.317\n",
      "1        Jeff McNeil        0.307\n",
      "2      David Peralta        0.304\n",
      "3    Kevin Kiermaier        0.298\n",
      "4     Miguel Cabrera        0.296\n"
     ]
    }
   ],
   "source": [
    "lr = pd.DataFrame([['Curtis Granderson', 0.317], \n",
    "                   ['Jeff McNeil', 0.307], \n",
    "                   ['David Peralta', 0.304], \n",
    "                   ['Kevin Kiermaier', 0.298], \n",
    "                   ['Miguel Cabrera', 0.296]],\n",
    "columns= ['Player', 'Probability']\n",
    ")\n",
    "\n",
    "print(lr)"
   ]
  },
  {
   "cell_type": "markdown",
   "metadata": {},
   "source": [
    "#### Jeff McNeil"
   ]
  },
  {
   "cell_type": "markdown",
   "metadata": {},
   "source": [
    "He was on our list yesterday against Arrieta, but my source was wrong and it turned out that Eflin was starting instead. It turned out fine though, as he got a hit to advance our streak. I think he should start against Arrieta today, but I'll keep a closer eye on it this time. McNeil is 7/13 (.538) against Arrieta."
   ]
  },
  {
   "cell_type": "markdown",
   "metadata": {},
   "source": [
    "#### David Peralta"
   ]
  },
  {
   "cell_type": "markdown",
   "metadata": {},
   "source": [
    "Peralta should face Ross Stripling. He is 6/18 (.333) against him with a handedness advantage."
   ]
  }
 ],
 "metadata": {
  "kernelspec": {
   "display_name": "Python 3",
   "language": "python",
   "name": "python3"
  },
  "language_info": {
   "codemirror_mode": {
    "name": "ipython",
    "version": 3
   },
   "file_extension": ".py",
   "mimetype": "text/x-python",
   "name": "python",
   "nbconvert_exporter": "python",
   "pygments_lexer": "ipython3",
   "version": "3.7.2"
  }
 },
 "nbformat": 4,
 "nbformat_minor": 2
}
