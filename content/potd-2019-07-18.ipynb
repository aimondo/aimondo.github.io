{
 "cells": [
  {
   "cell_type": "markdown",
   "metadata": {},
   "source": [
    "# POTD (Pick of the Day) - Freddie Freeman"
   ]
  },
  {
   "cell_type": "markdown",
   "metadata": {},
   "source": [
    "### Random Forest:"
   ]
  },
  {
   "cell_type": "code",
   "execution_count": 1,
   "metadata": {},
   "outputs": [
    {
     "name": "stdout",
     "output_type": "stream",
     "text": [
      "            Player  Probability\n",
      "0     Ronald Acuna        0.303\n",
      "1       Matt Joyce        0.296\n",
      "2     A.J. Pollock        0.294\n",
      "3  Freddie Freeman        0.289\n",
      "4      Nelson Cruz        0.288\n"
     ]
    }
   ],
   "source": [
    "import pandas as pd\n",
    "\n",
    "rf = pd.DataFrame([['Ronald Acuna', 0.303], \n",
    "                   ['Matt Joyce', 0.296], \n",
    "                   ['A.J. Pollock', 0.294], \n",
    "                   ['Freddie Freeman', 0.289], \n",
    "                   ['Nelson Cruz', 0.288]],\n",
    "columns= ['Player', 'Probability']\n",
    ")\n",
    "\n",
    "print(rf)"
   ]
  },
  {
   "cell_type": "markdown",
   "metadata": {},
   "source": [
    "### Logistic Regression:"
   ]
  },
  {
   "cell_type": "code",
   "execution_count": 2,
   "metadata": {},
   "outputs": [
    {
     "name": "stdout",
     "output_type": "stream",
     "text": [
      "             Player  Probability\n",
      "0   Freddie Freeman        0.354\n",
      "1    Miguel Cabrera        0.340\n",
      "2  Francisco Lindor        0.340\n",
      "3      Leury Garcia        0.310\n",
      "4      Wilson Ramos        0.308\n"
     ]
    }
   ],
   "source": [
    "lr = pd.DataFrame([['Freddie Freeman', 0.354], \n",
    "                   ['Miguel Cabrera', 0.34], \n",
    "                   ['Francisco Lindor', 0.34], \n",
    "                   ['Leury Garcia', 0.31], \n",
    "                   ['Wilson Ramos', 0.308]],\n",
    "columns= ['Player', 'Probability']\n",
    ")\n",
    "\n",
    "print(lr)"
   ]
  },
  {
   "cell_type": "markdown",
   "metadata": {},
   "source": [
    "#### Freddie Freeman"
   ]
  },
  {
   "cell_type": "markdown",
   "metadata": {},
   "source": [
    "Freeman will face Stephen Strasburg. He is 18/53 (.340) against him with a handedness advantage."
   ]
  }
 ],
 "metadata": {
  "kernelspec": {
   "display_name": "Python 3",
   "language": "python",
   "name": "python3"
  },
  "language_info": {
   "codemirror_mode": {
    "name": "ipython",
    "version": 3
   },
   "file_extension": ".py",
   "mimetype": "text/x-python",
   "name": "python",
   "nbconvert_exporter": "python",
   "pygments_lexer": "ipython3",
   "version": "3.7.2"
  }
 },
 "nbformat": 4,
 "nbformat_minor": 2
}
