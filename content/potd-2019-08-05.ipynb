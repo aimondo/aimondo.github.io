{
 "cells": [
  {
   "cell_type": "markdown",
   "metadata": {},
   "source": [
    "# POTD (Pick of the Day) - A.J. Pollock"
   ]
  },
  {
   "cell_type": "markdown",
   "metadata": {},
   "source": [
    "### Random Forest:"
   ]
  },
  {
   "cell_type": "code",
   "execution_count": 1,
   "metadata": {},
   "outputs": [
    {
     "name": "stdout",
     "output_type": "stream",
     "text": [
      "                 Player  Probability\n",
      "0     Jeimer Candelario        0.333\n",
      "1        Josh Donaldson        0.327\n",
      "2          A.J. Pollock        0.323\n",
      "3  Nicholas Castellanos        0.322\n",
      "4           Ji-Man Choi        0.322\n"
     ]
    }
   ],
   "source": [
    "import pandas as pd\n",
    "\n",
    "rf = pd.DataFrame([['Jeimer Candelario', 0.333], \n",
    "                   ['Josh Donaldson', 0.327], \n",
    "                   ['A.J. Pollock', 0.323], \n",
    "                   ['Nicholas Castellanos', 0.322], \n",
    "                   ['Ji-Man Choi', 0.322]],\n",
    "columns= ['Player', 'Probability']\n",
    ")\n",
    "\n",
    "print(rf)"
   ]
  },
  {
   "cell_type": "markdown",
   "metadata": {},
   "source": [
    "### Logistic Regression:"
   ]
  },
  {
   "cell_type": "code",
   "execution_count": 2,
   "metadata": {},
   "outputs": [
    {
     "name": "stdout",
     "output_type": "stream",
     "text": [
      "          Player  Probability\n",
      "0   Brian McCann        0.507\n",
      "1  Gerardo Parra        0.458\n",
      "2     Alex Avila        0.385\n",
      "3   A.J. Pollock        0.384\n",
      "4  David Peralta        0.345\n"
     ]
    }
   ],
   "source": [
    "lr = pd.DataFrame([['Brian McCann', 0.507], \n",
    "                   ['Gerardo Parra', 0.458], \n",
    "                   ['Alex Avila', 0.385], \n",
    "                   ['A.J. Pollock', 0.384], \n",
    "                   ['David Peralta', 0.345]],\n",
    "columns= ['Player', 'Probability']\n",
    ")\n",
    "\n",
    "print(lr)"
   ]
  },
  {
   "cell_type": "markdown",
   "metadata": {},
   "source": [
    "#### A.J. Pollock"
   ]
  },
  {
   "cell_type": "markdown",
   "metadata": {},
   "source": [
    "Pollock will see Michael Wacha. He is 5/11 (.455) against him. Wacha has allowed 98 hits in 85.2 IP and gets hit hard by righties like Pollock (.327)."
   ]
  }
 ],
 "metadata": {
  "kernelspec": {
   "display_name": "Python 3",
   "language": "python",
   "name": "python3"
  },
  "language_info": {
   "codemirror_mode": {
    "name": "ipython",
    "version": 3
   },
   "file_extension": ".py",
   "mimetype": "text/x-python",
   "name": "python",
   "nbconvert_exporter": "python",
   "pygments_lexer": "ipython3",
   "version": "3.7.2"
  }
 },
 "nbformat": 4,
 "nbformat_minor": 2
}
