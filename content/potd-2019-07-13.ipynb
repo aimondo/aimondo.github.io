{
 "cells": [
  {
   "cell_type": "markdown",
   "metadata": {},
   "source": [
    "# No Pick Today"
   ]
  },
  {
   "cell_type": "markdown",
   "metadata": {},
   "source": [
    "### Random Forest:"
   ]
  },
  {
   "cell_type": "code",
   "execution_count": 1,
   "metadata": {},
   "outputs": [
    {
     "name": "stdout",
     "output_type": "stream",
     "text": [
      "              Player  Probability\n",
      "0        Jose Peraza        0.305\n",
      "1     Derek Dietrich        0.298\n",
      "2  Albert Almora Jr.        0.294\n",
      "3   Charlie Blackmon        0.293\n",
      "4        Yasiel Puig        0.289\n"
     ]
    }
   ],
   "source": [
    "import pandas as pd\n",
    "\n",
    "rf = pd.DataFrame([['Jose Peraza', 0.305], \n",
    "                   ['Derek Dietrich', 0.298], \n",
    "                   ['Albert Almora Jr.', 0.294], \n",
    "                   ['Charlie Blackmon', 0.293], \n",
    "                   ['Yasiel Puig', 0.289]],\n",
    "columns= ['Player', 'Probability']\n",
    ")\n",
    "\n",
    "print(rf)"
   ]
  },
  {
   "cell_type": "markdown",
   "metadata": {},
   "source": [
    "### Logistic Regression:"
   ]
  },
  {
   "cell_type": "code",
   "execution_count": 2,
   "metadata": {},
   "outputs": [
    {
     "name": "stdout",
     "output_type": "stream",
     "text": [
      "            Player  Probability\n",
      "0  Whit Merrifield        0.350\n",
      "1      DJ LeMahieu        0.328\n",
      "2       Max Kepler        0.324\n",
      "3       Ryan Braun        0.318\n",
      "4     Yuli Gurriel        0.314\n"
     ]
    }
   ],
   "source": [
    "lr = pd.DataFrame([['Whit Merrifield', 0.35], \n",
    "                   ['DJ LeMahieu', 0.328], \n",
    "                   ['Max Kepler', 0.324], \n",
    "                   ['Ryan Braun', 0.318], \n",
    "                   ['Yuli Gurriel', 0.314]],\n",
    "columns= ['Player', 'Probability']\n",
    ")\n",
    "\n",
    "print(lr)"
   ]
  }
 ],
 "metadata": {
  "kernelspec": {
   "display_name": "Python 3",
   "language": "python",
   "name": "python3"
  },
  "language_info": {
   "codemirror_mode": {
    "name": "ipython",
    "version": 3
   },
   "file_extension": ".py",
   "mimetype": "text/x-python",
   "name": "python",
   "nbconvert_exporter": "python",
   "pygments_lexer": "ipython3",
   "version": "3.7.2"
  }
 },
 "nbformat": 4,
 "nbformat_minor": 2
}
