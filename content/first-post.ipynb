{
 "cells": [
  {
   "cell_type": "markdown",
   "metadata": {},
   "source": [
    "# *Welcome to SeaminglyAccurate*\n",
    "\n",
    "### Where we try to predict which players in MLB will get a hit on any given day\n",
    "\n",
    "<img src=\"http://www.mlbstatic.com/team-logos/league-on-dark/1.svg\" alt=\"MLB Logo\" title=\"MLB Logo\" width=200 align=\"left\"/>"
   ]
  },
  {
   "cell_type": "markdown",
   "metadata": {},
   "source": [
    "# *But, why would anyone care about that?*\n",
    "\n",
    "### Because it's fun\n",
    "### ...And because there's a competition called \"Beat the Streak\"\n",
    "\n",
    "<img src=\"https://is1-ssl.mzstatic.com/image/thumb/Purple113/v4/db/73/48/db7348f6-c3c1-0116-87e3-db4815fd6626/AppIcon-0-1x_U007emarketing-0-0-sRGB-85-220-0-5.png/246x0w.jpg\" alt=\"MLB Logo\" title=\"MLB Logo\" width=200 align=\"left\"/>"
   ]
  },
  {
   "cell_type": "code",
   "execution_count": null,
   "metadata": {
    "collapsed": true
   },
   "outputs": [],
   "source": []
  }
 ],
 "metadata": {
  "kernelspec": {
   "display_name": "Python 3",
   "language": "python",
   "name": "python3"
  },
  "language_info": {
   "codemirror_mode": {
    "name": "ipython",
    "version": 3
   },
   "file_extension": ".py",
   "mimetype": "text/x-python",
   "name": "python",
   "nbconvert_exporter": "python",
   "pygments_lexer": "ipython3",
   "version": "3.6.3"
  }
 },
 "nbformat": 4,
 "nbformat_minor": 2
}
