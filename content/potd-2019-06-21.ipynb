{
 "cells": [
  {
   "cell_type": "markdown",
   "metadata": {},
   "source": [
    "# POTD (Pick of the Day) - DOUBLE DOWN!!!\n",
    "#### Double Down - Francisco Lindor & Howie Kendrick"
   ]
  },
  {
   "cell_type": "markdown",
   "metadata": {},
   "source": [
    "### Random Forest:"
   ]
  },
  {
   "cell_type": "code",
   "execution_count": 1,
   "metadata": {},
   "outputs": [
    {
     "name": "stdout",
     "output_type": "stream",
     "text": [
      "             Player  Probability\n",
      "0  Francisco Lindor        0.282\n",
      "1    Howie Kendrick        0.275\n",
      "2   Jonathan Villar        0.273\n",
      "3      Niko Goodrum        0.271\n",
      "4  Martin Maldonado        0.269\n"
     ]
    }
   ],
   "source": [
    "import pandas as pd\n",
    "import plotly.plotly as py\n",
    "import plotly.figure_factory as ff\n",
    "import plotly.graph_objs as go\n",
    "\n",
    "rf = pd.DataFrame([['Francisco Lindor', 0.282], \n",
    "                   ['Howie Kendrick', 0.275], \n",
    "                   ['Jonathan Villar', 0.273], \n",
    "                   ['Niko Goodrum', 0.271], \n",
    "                   ['Martin Maldonado', 0.269]],\n",
    "columns= ['Player', 'Probability']\n",
    ")\n",
    "\n",
    "print(rf)"
   ]
  },
  {
   "cell_type": "markdown",
   "metadata": {},
   "source": [
    "### Logistic Regression:"
   ]
  },
  {
   "cell_type": "code",
   "execution_count": 2,
   "metadata": {},
   "outputs": [
    {
     "name": "stdout",
     "output_type": "stream",
     "text": [
      "             Player  Probability\n",
      "0    Miguel Cabrera        0.337\n",
      "1  Francisco Lindor        0.336\n",
      "2   Freddie Freeman        0.334\n",
      "3    Howie Kendrick        0.311\n",
      "4       Jose Altuve        0.305\n"
     ]
    }
   ],
   "source": [
    "lr = pd.DataFrame([['Miguel Cabrera', 0.337], \n",
    "                   ['Francisco Lindor', 0.336], \n",
    "                   ['Freddie Freeman', 0.334], \n",
    "                   ['Howie Kendrick', 0.311], \n",
    "                   ['Jose Altuve', 0.305]],\n",
    "columns= ['Player', 'Probability']\n",
    ")\n",
    "\n",
    "print(lr)"
   ]
  },
  {
   "cell_type": "markdown",
   "metadata": {},
   "source": [
    "#### Francisco Lindor"
   ]
  },
  {
   "cell_type": "markdown",
   "metadata": {},
   "source": [
    "Lindor is seeing Matthew Boyd today and is 9/22 (.409) against him."
   ]
  },
  {
   "cell_type": "markdown",
   "metadata": {},
   "source": [
    "#### Howie Kendrick"
   ]
  },
  {
   "cell_type": "markdown",
   "metadata": {},
   "source": [
    "Kendrick should see Dallas Keuchel. He is 8/21 (.381) against him. This will be Keuchel's first major league start this season."
   ]
  }
 ],
 "metadata": {
  "kernelspec": {
   "display_name": "Python 3",
   "language": "python",
   "name": "python3"
  },
  "language_info": {
   "codemirror_mode": {
    "name": "ipython",
    "version": 3
   },
   "file_extension": ".py",
   "mimetype": "text/x-python",
   "name": "python",
   "nbconvert_exporter": "python",
   "pygments_lexer": "ipython3",
   "version": "3.7.2"
  }
 },
 "nbformat": 4,
 "nbformat_minor": 2
}
