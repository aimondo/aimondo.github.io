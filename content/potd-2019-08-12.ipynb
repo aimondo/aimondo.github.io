{
 "cells": [
  {
   "cell_type": "markdown",
   "metadata": {},
   "source": [
    "# POTD (Pick of the Day) - Charlie Blackmon"
   ]
  },
  {
   "cell_type": "markdown",
   "metadata": {},
   "source": [
    "https://www.youtube.com/watch?v=i32EjRvqH-Q"
   ]
  },
  {
   "cell_type": "markdown",
   "metadata": {},
   "source": [
    "### Random Forest:"
   ]
  },
  {
   "cell_type": "code",
   "execution_count": 1,
   "metadata": {},
   "outputs": [
    {
     "name": "stdout",
     "output_type": "stream",
     "text": [
      "             Player  Probability\n",
      "0   Jonathan Villar        0.317\n",
      "1     Roberto Perez        0.314\n",
      "2         Juan Soto        0.310\n",
      "3  Charlie Blackmon        0.310\n",
      "4      Brian Dozier        0.307\n"
     ]
    }
   ],
   "source": [
    "import pandas as pd\n",
    "\n",
    "rf = pd.DataFrame([['Jonathan Villar', 0.317], \n",
    "                   ['Roberto Perez', 0.314], \n",
    "                   ['Juan Soto', 0.31], \n",
    "                   ['Charlie Blackmon', 0.31], \n",
    "                   ['Brian Dozier', 0.307]],\n",
    "columns= ['Player', 'Probability']\n",
    ")\n",
    "\n",
    "print(rf)"
   ]
  },
  {
   "cell_type": "markdown",
   "metadata": {},
   "source": [
    "### Logistic Regression:"
   ]
  },
  {
   "cell_type": "code",
   "execution_count": 2,
   "metadata": {},
   "outputs": [
    {
     "name": "stdout",
     "output_type": "stream",
     "text": [
      "              Player  Probability\n",
      "0         Brock Holt        0.329\n",
      "1  Christian Vazquez        0.305\n",
      "2   Charlie Blackmon        0.297\n",
      "3     Chris Iannetta        0.294\n",
      "4      J.D. Martinez        0.275\n"
     ]
    }
   ],
   "source": [
    "lr = pd.DataFrame([['Brock Holt', 0.329], \n",
    "                   ['Christian Vazquez', 0.305], \n",
    "                   ['Charlie Blackmon', 0.297], \n",
    "                   ['Chris Iannetta', 0.294], \n",
    "                   ['J.D. Martinez', 0.275]],\n",
    "columns= ['Player', 'Probability']\n",
    ")\n",
    "\n",
    "print(lr)"
   ]
  },
  {
   "cell_type": "markdown",
   "metadata": {},
   "source": [
    "#### Charlie Blackmon"
   ]
  },
  {
   "cell_type": "markdown",
   "metadata": {},
   "source": [
    "Will see Merrill Kelly in Coors Field. He is 2/3 (.667) against him with a handedness advantage. Kelly has really struggled lately, allowing 18 runs in 14 IP over his last three starts. He struggles in away games too (5.21 ERA)"
   ]
  }
 ],
 "metadata": {
  "kernelspec": {
   "display_name": "Python 3",
   "language": "python",
   "name": "python3"
  },
  "language_info": {
   "codemirror_mode": {
    "name": "ipython",
    "version": 3
   },
   "file_extension": ".py",
   "mimetype": "text/x-python",
   "name": "python",
   "nbconvert_exporter": "python",
   "pygments_lexer": "ipython3",
   "version": "3.7.2"
  }
 },
 "nbformat": 4,
 "nbformat_minor": 2
}
