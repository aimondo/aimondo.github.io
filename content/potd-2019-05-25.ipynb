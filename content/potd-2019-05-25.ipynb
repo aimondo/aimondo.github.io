{
 "cells": [
  {
   "cell_type": "markdown",
   "metadata": {},
   "source": [
    "# POTD (Pick of the Day) - DOUBLE DOWN!!!\n",
    "#### Double Down - Charlie Blackmon & Daniel Murphy"
   ]
  },
  {
   "cell_type": "markdown",
   "metadata": {},
   "source": [
    "### Random Forest:"
   ]
  },
  {
   "cell_type": "code",
   "execution_count": 1,
   "metadata": {},
   "outputs": [
    {
     "name": "stdout",
     "output_type": "stream",
     "text": [
      "             Player  Probability\n",
      "0  Charlie Blackmon        0.330\n",
      "1     Daniel Murphy        0.304\n",
      "2     Shin-Soo Choo        0.289\n",
      "3        Ryan Braun        0.281\n"
     ]
    }
   ],
   "source": [
    "import pandas as pd\n",
    "import plotly.plotly as py\n",
    "import plotly.figure_factory as ff\n",
    "import plotly.graph_objs as go\n",
    "\n",
    "rf = pd.DataFrame([['Charlie Blackmon', 0.33], \n",
    "                   ['Daniel Murphy', 0.304], \n",
    "                   ['Shin-Soo Choo', 0.289], \n",
    "                   ['Ryan Braun', 0.281]],\n",
    "columns= ['Player', 'Probability']\n",
    ")\n",
    "\n",
    "print(rf)"
   ]
  },
  {
   "cell_type": "markdown",
   "metadata": {},
   "source": [
    "### Logistic Regression:"
   ]
  },
  {
   "cell_type": "code",
   "execution_count": 2,
   "metadata": {},
   "outputs": [
    {
     "name": "stdout",
     "output_type": "stream",
     "text": [
      "             Player  Probability\n",
      "0        Ryan Braun        0.325\n",
      "1  Charlie Blackmon        0.307\n",
      "2     Daniel Murphy        0.306\n",
      "3    Miguel Cabrera        0.304\n"
     ]
    }
   ],
   "source": [
    "lr = pd.DataFrame([['Ryan Braun', 0.325],\n",
    "                  ['Charlie Blackmon', 0.307], \n",
    "                  ['Daniel Murphy', 0.306], \n",
    "                  ['Miguel Cabrera', 0.304]],\n",
    "columns= ['Player', 'Probability']\n",
    ")\n",
    "\n",
    "print(lr)"
   ]
  },
  {
   "cell_type": "markdown",
   "metadata": {},
   "source": [
    "Looks like the program will double down again! This time with a pair of Rockies (if Blackmon plays). Our streak is at 3."
   ]
  },
  {
   "cell_type": "markdown",
   "metadata": {},
   "source": [
    "#### Charlie Blackmon"
   ]
  },
  {
   "cell_type": "markdown",
   "metadata": {},
   "source": [
    "I really hope Blackmon plays today. He would be coming back from a calf injury, but also would have a great matchup against Andrew Cashner, whom is he is 8/23 (.348) against with a handedness advantage. Cashner has been terrible against lefties this year. He has also struggled away from home with a 5.10 ERA, and guess where he'll be today - COORS!!!!"
   ]
  },
  {
   "cell_type": "markdown",
   "metadata": {},
   "source": [
    "#### Daniel Murphy"
   ]
  },
  {
   "cell_type": "markdown",
   "metadata": {},
   "source": [
    "Murphy has also had success against Cashner - 6/14 (.429), but has struggled to begin the season. He has been a lot better lately though, with a .300 BA in the last 7 days and .269 over the last 14. He also will carry a valuable handedness advantage into this matchup. I'm comfortable doubling down with him and Blackmon today (if they both play). If one of them doesn't, the program likes Braun too, so you could take him or roll with another hitter in Coors (Arenado maybe?)."
   ]
  }
 ],
 "metadata": {
  "kernelspec": {
   "display_name": "Python 3",
   "language": "python",
   "name": "python3"
  },
  "language_info": {
   "codemirror_mode": {
    "name": "ipython",
    "version": 3
   },
   "file_extension": ".py",
   "mimetype": "text/x-python",
   "name": "python",
   "nbconvert_exporter": "python",
   "pygments_lexer": "ipython3",
   "version": "3.7.2"
  }
 },
 "nbformat": 4,
 "nbformat_minor": 2
}
