{
 "cells": [
  {
   "cell_type": "markdown",
   "metadata": {},
   "source": [
    "# POTD (Pick of the Day) - Andrelton Simmons"
   ]
  },
  {
   "cell_type": "markdown",
   "metadata": {},
   "source": [
    "### Random Forest:"
   ]
  },
  {
   "cell_type": "code",
   "execution_count": 1,
   "metadata": {},
   "outputs": [
    {
     "name": "stdout",
     "output_type": "stream",
     "text": [
      "              Player  Probability\n",
      "0     Carlos Santana        0.330\n",
      "1  Curtis Granderson        0.307\n",
      "2         Joey Votto        0.306\n",
      "3  Andrelton Simmons        0.305\n",
      "4     Derek Dietrich        0.304\n"
     ]
    }
   ],
   "source": [
    "import pandas as pd\n",
    "\n",
    "rf = pd.DataFrame([['Carlos Santana', 0.33], \n",
    "                   ['Curtis Granderson', 0.307], \n",
    "                   ['Joey Votto', 0.306], \n",
    "                   ['Andrelton Simmons', 0.305], \n",
    "                   ['Derek Dietrich', 0.304]],\n",
    "columns= ['Player', 'Probability']\n",
    ")\n",
    "\n",
    "print(rf)"
   ]
  },
  {
   "cell_type": "markdown",
   "metadata": {},
   "source": [
    "### Logistic Regression:"
   ]
  },
  {
   "cell_type": "code",
   "execution_count": 2,
   "metadata": {},
   "outputs": [
    {
     "name": "stdout",
     "output_type": "stream",
     "text": [
      "              Player  Probability\n",
      "0  Andrelton Simmons        0.365\n",
      "1       Jason Kipnis        0.361\n",
      "2   Francisco Lindor        0.357\n",
      "3       Justin Upton        0.356\n",
      "4     Anthony Rendon        0.350\n"
     ]
    }
   ],
   "source": [
    "lr = pd.DataFrame([['Andrelton Simmons', 0.365], \n",
    "                   ['Jason Kipnis', 0.361], \n",
    "                   ['Francisco Lindor', 0.357], \n",
    "                   ['Justin Upton', 0.356], \n",
    "                   ['Anthony Rendon', 0.35]],\n",
    "columns= ['Player', 'Probability']\n",
    ")\n",
    "\n",
    "print(lr)"
   ]
  },
  {
   "cell_type": "markdown",
   "metadata": {},
   "source": [
    "#### Andrelton Simmons"
   ]
  },
  {
   "cell_type": "markdown",
   "metadata": {},
   "source": [
    "Simmons will face Mike Leake and is 13/33 (.394) against him. It may not be a bad move to double down and pair him with Trout tonight."
   ]
  }
 ],
 "metadata": {
  "kernelspec": {
   "display_name": "Python 3",
   "language": "python",
   "name": "python3"
  },
  "language_info": {
   "codemirror_mode": {
    "name": "ipython",
    "version": 3
   },
   "file_extension": ".py",
   "mimetype": "text/x-python",
   "name": "python",
   "nbconvert_exporter": "python",
   "pygments_lexer": "ipython3",
   "version": "3.7.2"
  }
 },
 "nbformat": 4,
 "nbformat_minor": 2
}
