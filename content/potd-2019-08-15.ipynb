{
 "cells": [
  {
   "cell_type": "markdown",
   "metadata": {},
   "source": [
    "# POTD (Pick of the Day) - Eugenio Suarez"
   ]
  },
  {
   "cell_type": "markdown",
   "metadata": {},
   "source": [
    "### Random Forest:"
   ]
  },
  {
   "cell_type": "code",
   "execution_count": 1,
   "metadata": {},
   "outputs": [
    {
     "name": "stdout",
     "output_type": "stream",
     "text": [
      "            Player  Probability\n",
      "0     Jesse Winker        0.331\n",
      "1  Corey Dickerson        0.325\n",
      "2   Eugenio Suarez        0.320\n",
      "3  Robbie Grossman        0.316\n",
      "4       Mike Trout        0.315\n"
     ]
    }
   ],
   "source": [
    "import pandas as pd\n",
    "\n",
    "rf = pd.DataFrame([['Jesse Winker', 0.331], \n",
    "                   ['Corey Dickerson', 0.325], \n",
    "                   ['Eugenio Suarez', 0.32], \n",
    "                   ['Robbie Grossman', 0.316], \n",
    "                   ['Mike Trout', 0.315]],\n",
    "columns= ['Player', 'Probability']\n",
    ")\n",
    "\n",
    "print(rf)"
   ]
  },
  {
   "cell_type": "markdown",
   "metadata": {},
   "source": [
    "### Logistic Regression:"
   ]
  },
  {
   "cell_type": "code",
   "execution_count": 2,
   "metadata": {},
   "outputs": [
    {
     "name": "stdout",
     "output_type": "stream",
     "text": [
      "            Player  Probability\n",
      "0       Joey Votto        0.624\n",
      "1   Eugenio Suarez        0.410\n",
      "2       Matt Joyce        0.373\n",
      "3   Brian Anderson        0.350\n",
      "4  Cesar Hernandez        0.347\n"
     ]
    }
   ],
   "source": [
    "lr = pd.DataFrame([['Joey Votto', 0.624], \n",
    "                   ['Eugenio Suarez', 0.41], \n",
    "                   ['Matt Joyce', 0.373], \n",
    "                   ['Brian Anderson', 0.35], \n",
    "                   ['Cesar Hernandez', 0.347]],\n",
    "columns= ['Player', 'Probability']\n",
    ")\n",
    "\n",
    "print(lr)"
   ]
  },
  {
   "cell_type": "markdown",
   "metadata": {},
   "source": [
    "#### Eugenio Suarez"
   ]
  },
  {
   "cell_type": "markdown",
   "metadata": {},
   "source": [
    "Will see Michael Wacha, who has allowed 105 hits in 89.1 IP. Suarez is 7/18 (.389) against him."
   ]
  }
 ],
 "metadata": {
  "kernelspec": {
   "display_name": "Python 3",
   "language": "python",
   "name": "python3"
  },
  "language_info": {
   "codemirror_mode": {
    "name": "ipython",
    "version": 3
   },
   "file_extension": ".py",
   "mimetype": "text/x-python",
   "name": "python",
   "nbconvert_exporter": "python",
   "pygments_lexer": "ipython3",
   "version": "3.7.2"
  }
 },
 "nbformat": 4,
 "nbformat_minor": 2
}
