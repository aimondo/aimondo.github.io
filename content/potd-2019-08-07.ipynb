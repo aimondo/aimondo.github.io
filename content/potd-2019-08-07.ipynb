{
 "cells": [
  {
   "cell_type": "markdown",
   "metadata": {},
   "source": [
    "# POTD (Pick of the Day) - Alex Gordon"
   ]
  },
  {
   "cell_type": "markdown",
   "metadata": {},
   "source": [
    "### Random Forest:"
   ]
  },
  {
   "cell_type": "code",
   "execution_count": 1,
   "metadata": {},
   "outputs": [
    {
     "name": "stdout",
     "output_type": "stream",
     "text": [
      "           Player  Probability\n",
      "0    Martin Prado        0.332\n",
      "1    Jorge Alfaro        0.329\n",
      "2     Alex Gordon        0.327\n",
      "3   Orlando Arcia        0.326\n",
      "4  Gordon Beckham        0.324\n"
     ]
    }
   ],
   "source": [
    "import pandas as pd\n",
    "\n",
    "rf = pd.DataFrame([['Martin Prado', 0.332], \n",
    "                   ['Jorge Alfaro', 0.329], \n",
    "                   ['Alex Gordon', 0.327], \n",
    "                   ['Orlando Arcia', 0.326], \n",
    "                   ['Gordon Beckham', 0.324]]\n",
    ",\n",
    "columns= ['Player', 'Probability']\n",
    ")\n",
    "\n",
    "print(rf)"
   ]
  },
  {
   "cell_type": "markdown",
   "metadata": {},
   "source": [
    "### Logistic Regression:"
   ]
  },
  {
   "cell_type": "code",
   "execution_count": 2,
   "metadata": {},
   "outputs": [
    {
     "name": "stdout",
     "output_type": "stream",
     "text": [
      "           Player  Probability\n",
      "0   Anthony Rizzo        0.553\n",
      "1      Alex Avila        0.416\n",
      "2   Jason Heyward        0.389\n",
      "3     Alex Gordon        0.365\n",
      "4  Miguel Cabrera        0.334\n"
     ]
    }
   ],
   "source": [
    "lr = pd.DataFrame([['Anthony Rizzo', 0.553], \n",
    "                   ['Alex Avila', 0.416], \n",
    "                   ['Jason Heyward', 0.389], \n",
    "                   ['Alex Gordon', 0.365], \n",
    "                   ['Miguel Cabrera', 0.334]]\n",
    ",\n",
    "columns= ['Player', 'Probability']\n",
    ")\n",
    "\n",
    "print(lr)"
   ]
  },
  {
   "cell_type": "markdown",
   "metadata": {},
   "source": [
    "#### Alex Gordon"
   ]
  },
  {
   "cell_type": "markdown",
   "metadata": {},
   "source": [
    "Gordon will face Eduardo Rodriguez. He is 4/10 (.400) against him. Hopefully he doesn't get a rest day like our last two picks of the day..."
   ]
  }
 ],
 "metadata": {
  "kernelspec": {
   "display_name": "Python 3",
   "language": "python",
   "name": "python3"
  },
  "language_info": {
   "codemirror_mode": {
    "name": "ipython",
    "version": 3
   },
   "file_extension": ".py",
   "mimetype": "text/x-python",
   "name": "python",
   "nbconvert_exporter": "python",
   "pygments_lexer": "ipython3",
   "version": "3.7.2"
  }
 },
 "nbformat": 4,
 "nbformat_minor": 2
}
