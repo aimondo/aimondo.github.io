{
 "cells": [
  {
   "cell_type": "markdown",
   "metadata": {},
   "source": [
    "# No Pick Today"
   ]
  },
  {
   "cell_type": "markdown",
   "metadata": {},
   "source": [
    "### Random Forest:"
   ]
  },
  {
   "cell_type": "code",
   "execution_count": 1,
   "metadata": {},
   "outputs": [
    {
     "name": "stdout",
     "output_type": "stream",
     "text": [
      "             Player  Probability\n",
      "0  Francisco Lindor        0.295\n",
      "1      Ronald Acuna        0.288\n",
      "2   Marwin Gonzalez        0.285\n",
      "3   Whit Merrifield        0.284\n",
      "4       Kolten Wong        0.282\n"
     ]
    }
   ],
   "source": [
    "import pandas as pd\n",
    "\n",
    "rf = pd.DataFrame([['Francisco Lindor', 0.295], \n",
    "                   ['Ronald Acuna', 0.288], \n",
    "                   ['Marwin Gonzalez', 0.285], \n",
    "                   ['Whit Merrifield', 0.284], \n",
    "                   ['Kolten Wong', 0.282]],\n",
    "columns= ['Player', 'Probability']\n",
    ")\n",
    "\n",
    "print(rf)"
   ]
  },
  {
   "cell_type": "markdown",
   "metadata": {},
   "source": [
    "### Logistic Regression:"
   ]
  },
  {
   "cell_type": "code",
   "execution_count": 2,
   "metadata": {},
   "outputs": [
    {
     "name": "stdout",
     "output_type": "stream",
     "text": [
      "             Player  Probability\n",
      "0     Jason Heyward        0.325\n",
      "1  Brandon Crawford        0.286\n",
      "2  Asdrubal Cabrera        0.286\n",
      "3    Ehire Adrianza        0.283\n",
      "4   Kevin Kiermaier        0.283\n"
     ]
    }
   ],
   "source": [
    "lr = pd.DataFrame([['Jason Heyward', 0.325], \n",
    "                   ['Brandon Crawford', 0.286], \n",
    "                   ['Asdrubal Cabrera', 0.286], \n",
    "                   ['Ehire Adrianza', 0.283], \n",
    "                   ['Kevin Kiermaier', 0.283]],\n",
    "columns= ['Player', 'Probability']\n",
    ")\n",
    "\n",
    "print(lr)"
   ]
  }
 ],
 "metadata": {
  "kernelspec": {
   "display_name": "Python 3",
   "language": "python",
   "name": "python3"
  },
  "language_info": {
   "codemirror_mode": {
    "name": "ipython",
    "version": 3
   },
   "file_extension": ".py",
   "mimetype": "text/x-python",
   "name": "python",
   "nbconvert_exporter": "python",
   "pygments_lexer": "ipython3",
   "version": "3.7.4"
  }
 },
 "nbformat": 4,
 "nbformat_minor": 2
}
