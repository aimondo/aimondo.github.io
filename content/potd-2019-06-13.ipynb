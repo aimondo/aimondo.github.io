{
 "cells": [
  {
   "cell_type": "markdown",
   "metadata": {},
   "source": [
    "# POTD (Pick of the Day) - DOUBLE DOWN!!!\n",
    "#### Double Down - Elvis Andrus & Asdrubal Cabrera"
   ]
  },
  {
   "cell_type": "markdown",
   "metadata": {},
   "source": [
    "### Random Forest:"
   ]
  },
  {
   "cell_type": "code",
   "execution_count": 1,
   "metadata": {},
   "outputs": [
    {
     "name": "stdout",
     "output_type": "stream",
     "text": [
      "             Player  Probability\n",
      "0     Anthony Rizzo        0.280\n",
      "1      Elvis Andrus        0.278\n",
      "2   Carlos Gonzalez        0.277\n",
      "3  Asdrubal Cabrera        0.272\n"
     ]
    }
   ],
   "source": [
    "import pandas as pd\n",
    "import plotly.plotly as py\n",
    "import plotly.figure_factory as ff\n",
    "import plotly.graph_objs as go\n",
    "\n",
    "rf = pd.DataFrame([['Anthony Rizzo', 0.28], \n",
    "                   ['Elvis Andrus', 0.278], \n",
    "                   ['Carlos Gonzalez', 0.277], \n",
    "                   ['Asdrubal Cabrera', 0.272]],\n",
    "columns= ['Player', 'Probability']\n",
    ")\n",
    "\n",
    "print(rf)"
   ]
  },
  {
   "cell_type": "markdown",
   "metadata": {},
   "source": [
    "### Logistic Regression:"
   ]
  },
  {
   "cell_type": "code",
   "execution_count": 2,
   "metadata": {},
   "outputs": [
    {
     "name": "stdout",
     "output_type": "stream",
     "text": [
      "             Player  Probability\n",
      "0      Elvis Andrus        0.377\n",
      "1   Whit Merrifield        0.341\n",
      "2  Asdrubal Cabrera        0.324\n",
      "3     Shin-Soo Choo        0.300\n"
     ]
    }
   ],
   "source": [
    "lr = pd.DataFrame([['Elvis Andrus', 0.377], \n",
    "                   ['Whit Merrifield', 0.341], \n",
    "                   ['Asdrubal Cabrera', 0.324], \n",
    "                   ['Shin-Soo Choo', 0.3]],\n",
    "columns= ['Player', 'Probability']\n",
    ")\n",
    "\n",
    "print(lr)"
   ]
  },
  {
   "cell_type": "markdown",
   "metadata": {},
   "source": [
    "The program is doubling down with its streak at 8. Let's take a look at the matchups."
   ]
  },
  {
   "cell_type": "markdown",
   "metadata": {},
   "source": [
    "#### Elvis Andrus"
   ]
  },
  {
   "cell_type": "markdown",
   "metadata": {},
   "source": [
    "Andrus is having a nice season and will see David Price. He is 15/32 (.469) with a handedness advantage (righty vs lefty)."
   ]
  },
  {
   "cell_type": "markdown",
   "metadata": {},
   "source": [
    "#### Asdrubal Cabrera"
   ]
  },
  {
   "cell_type": "markdown",
   "metadata": {},
   "source": [
    "The program must think that David Price will have a rough start today. He has been an ace so far this season, but Cabrera is 9/24 (.375) against him with a handedness advantage. He also has been seeing the ball well lately with a .370/.413/.359 split."
   ]
  }
 ],
 "metadata": {
  "kernelspec": {
   "display_name": "Python 3",
   "language": "python",
   "name": "python3"
  },
  "language_info": {
   "codemirror_mode": {
    "name": "ipython",
    "version": 3
   },
   "file_extension": ".py",
   "mimetype": "text/x-python",
   "name": "python",
   "nbconvert_exporter": "python",
   "pygments_lexer": "ipython3",
   "version": "3.7.2"
  }
 },
 "nbformat": 4,
 "nbformat_minor": 2
}
