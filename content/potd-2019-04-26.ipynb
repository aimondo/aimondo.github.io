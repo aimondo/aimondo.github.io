{
 "cells": [
  {
   "cell_type": "markdown",
   "metadata": {},
   "source": [
    "# POTD (Pick of the Day)\n",
    "#### Today's pick is *Christian Yelich*. He showed up on both Random Forest and Logistic Regression's radar."
   ]
  },
  {
   "cell_type": "markdown",
   "metadata": {},
   "source": [
    "__UPDATE__: Few games with serious weather concerns today. This unfortunately includes our top pick of the day. We've removed any players where weather could affect their performances today and ran the program again. Here was its output:"
   ]
  },
  {
   "cell_type": "markdown",
   "metadata": {},
   "source": [
    "__\"Todays Pick: Nelson Cruz\"__"
   ]
  },
  {
   "cell_type": "markdown",
   "metadata": {},
   "source": [
    "If you want another player to double down with, Marcell Ozuna or Paul Goldschmidt are solid second options. Ozuna showed up in Logistic Regression's second spot while Goldy appeared in second place for the Random Forest."
   ]
  },
  {
   "cell_type": "markdown",
   "metadata": {},
   "source": [
    "### Random Forest:"
   ]
  },
  {
   "cell_type": "code",
   "execution_count": 1,
   "metadata": {},
   "outputs": [
    {
     "data": {
      "text/html": [
       "<iframe id=\"igraph\" scrolling=\"no\" style=\"border:none;\" seamless=\"seamless\" src=\"https://plot.ly/~AimonAllouache/72.embed\" height=\"140px\" width=\"100%\"></iframe>"
      ],
      "text/plain": [
       "<plotly.tools.PlotlyDisplay object>"
      ]
     },
     "execution_count": 1,
     "metadata": {},
     "output_type": "execute_result"
    }
   ],
   "source": [
    "import pandas as pd\n",
    "import plotly.plotly as py\n",
    "import plotly.figure_factory as ff\n",
    "import plotly.graph_objs as go\n",
    "\n",
    "rf = pd.DataFrame([['Christian Yelich', 0.288], \n",
    "                   ['Paul Goldschmidt', 0.287]],\n",
    "columns= ['Player', 'Probability']\n",
    ")\n",
    "\n",
    "rf_table = ff.create_table(rf)\n",
    "py.iplot(rf_table, filename='potd-rf-4-26-19')"
   ]
  },
  {
   "cell_type": "markdown",
   "metadata": {},
   "source": [
    "### Logistic Regression:"
   ]
  },
  {
   "cell_type": "code",
   "execution_count": 2,
   "metadata": {},
   "outputs": [
    {
     "data": {
      "text/html": [
       "<iframe id=\"igraph\" scrolling=\"no\" style=\"border:none;\" seamless=\"seamless\" src=\"https://plot.ly/~AimonAllouache/74.embed\" height=\"140px\" width=\"100%\"></iframe>"
      ],
      "text/plain": [
       "<plotly.tools.PlotlyDisplay object>"
      ]
     },
     "execution_count": 2,
     "metadata": {},
     "output_type": "execute_result"
    }
   ],
   "source": [
    "lr = pd.DataFrame([['Christian Yelich', 0.318], \n",
    "                   ['Justin Smoak', 0.284]],\n",
    "columns= ['Player', 'Probability']\n",
    ")\n",
    "\n",
    "lr_table = ff.create_table(lr)\n",
    "py.iplot(lr_table, filename='potd-lr-4-26-19')"
   ]
  },
  {
   "cell_type": "markdown",
   "metadata": {},
   "source": [
    "There you have it, the program has picked the reigning NL MVP. Let's take a look at the matchup."
   ]
  },
  {
   "cell_type": "markdown",
   "metadata": {},
   "source": [
    "#### Christian Yelich Vs. Jacob Degrom"
   ]
  },
  {
   "cell_type": "markdown",
   "metadata": {},
   "source": [
    "What a showdown. One of the games best hitters against one of its best pitchers. Degrom will be making his first start since hitting the IL with elbow soreness. We'll see if he is a different pitcher now, but the program says we don't need him to be and the numbers back that up. Yelich is 14/32 (.438) against Degrom and carries a handedness advantage (lefty vs. righty). He's also hitting .373 against right-handed pitchers and carries a batting average of .326 into this game. That last statistic is slightly misleading though, as his home/away splits are pretty dramatic. At Miller Park, he is hitting .417 with a slugging percentage of 1.271. Everywhere else though, he is only hitting .227 with a SLG of .273. Not good. To make matters worse, he will be playing in a very pitcher friendly environment (Citi Field). Nevertheless, our program is confident in the reigning NL MVP (and likely 2019 NL MVP candidate)."
   ]
  }
 ],
 "metadata": {
  "kernelspec": {
   "display_name": "Python 3",
   "language": "python",
   "name": "python3"
  },
  "language_info": {
   "codemirror_mode": {
    "name": "ipython",
    "version": 3
   },
   "file_extension": ".py",
   "mimetype": "text/x-python",
   "name": "python",
   "nbconvert_exporter": "python",
   "pygments_lexer": "ipython3",
   "version": "3.6.3"
  }
 },
 "nbformat": 4,
 "nbformat_minor": 2
}
