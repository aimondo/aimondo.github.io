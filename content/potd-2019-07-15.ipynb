{
 "cells": [
  {
   "cell_type": "markdown",
   "metadata": {},
   "source": [
    "# No Pick Today"
   ]
  },
  {
   "cell_type": "markdown",
   "metadata": {},
   "source": [
    "### Random Forest:"
   ]
  },
  {
   "cell_type": "code",
   "execution_count": 1,
   "metadata": {},
   "outputs": [
    {
     "name": "stdout",
     "output_type": "stream",
     "text": [
      "             Player  Probability\n",
      "0     Mike Tauchman        0.304\n",
      "1   Lourdes Gurriel        0.302\n",
      "2   Garrett Hampson        0.299\n",
      "3  Mike Yastrzemski        0.296\n",
      "4    Alex Dickerson        0.296\n"
     ]
    }
   ],
   "source": [
    "import pandas as pd\n",
    "\n",
    "rf = pd.DataFrame([['Mike Tauchman', 0.304], \n",
    "                   ['Lourdes Gurriel', 0.302], \n",
    "                   ['Garrett Hampson', 0.299], \n",
    "                   ['Mike Yastrzemski', 0.296], \n",
    "                   ['Alex Dickerson', 0.296]],\n",
    "columns= ['Player', 'Probability']\n",
    ")\n",
    "\n",
    "print(rf)"
   ]
  },
  {
   "cell_type": "markdown",
   "metadata": {},
   "source": [
    "### Logistic Regression:"
   ]
  },
  {
   "cell_type": "code",
   "execution_count": 2,
   "metadata": {},
   "outputs": [
    {
     "name": "stdout",
     "output_type": "stream",
     "text": [
      "          Player  Probability\n",
      "0  Nolan Arenado        0.358\n",
      "1  Daniel Murphy        0.336\n",
      "2    Ian Desmond        0.316\n",
      "3   Adam Frazier        0.315\n",
      "4     Joey Votto        0.309\n"
     ]
    }
   ],
   "source": [
    "lr = pd.DataFrame([['Nolan Arenado', 0.358], \n",
    "                   ['Daniel Murphy', 0.336], \n",
    "                   ['Ian Desmond', 0.316], \n",
    "                   ['Adam Frazier', 0.315], \n",
    "                   ['Joey Votto', 0.309]],\n",
    "columns= ['Player', 'Probability']\n",
    ")\n",
    "\n",
    "print(lr)"
   ]
  }
 ],
 "metadata": {
  "kernelspec": {
   "display_name": "Python 3",
   "language": "python",
   "name": "python3"
  },
  "language_info": {
   "codemirror_mode": {
    "name": "ipython",
    "version": 3
   },
   "file_extension": ".py",
   "mimetype": "text/x-python",
   "name": "python",
   "nbconvert_exporter": "python",
   "pygments_lexer": "ipython3",
   "version": "3.7.2"
  }
 },
 "nbformat": 4,
 "nbformat_minor": 2
}
