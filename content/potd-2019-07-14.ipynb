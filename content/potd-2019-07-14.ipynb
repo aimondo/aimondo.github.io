{
 "cells": [
  {
   "cell_type": "markdown",
   "metadata": {},
   "source": [
    "# No Pick Today"
   ]
  },
  {
   "cell_type": "markdown",
   "metadata": {},
   "source": [
    "### Random Forest:"
   ]
  },
  {
   "cell_type": "code",
   "execution_count": 1,
   "metadata": {},
   "outputs": [
    {
     "name": "stdout",
     "output_type": "stream",
     "text": [
      "           Player  Probability\n",
      "0   Shin-Soo Choo        0.311\n",
      "1     Yasiel Puig        0.296\n",
      "2  Matt Carpenter        0.294\n",
      "3  Willie Calhoun        0.293\n",
      "4  Eugenio Suarez        0.292\n"
     ]
    }
   ],
   "source": [
    "import pandas as pd\n",
    "\n",
    "rf = pd.DataFrame([['Shin-Soo Choo', 0.311], \n",
    "                   ['Yasiel Puig', 0.296], \n",
    "                   ['Matt Carpenter', 0.294], \n",
    "                   ['Willie Calhoun', 0.293], \n",
    "                   ['Eugenio Suarez', 0.292]],\n",
    "columns= ['Player', 'Probability']\n",
    ")\n",
    "\n",
    "print(rf)"
   ]
  },
  {
   "cell_type": "markdown",
   "metadata": {},
   "source": [
    "### Logistic Regression:"
   ]
  },
  {
   "cell_type": "code",
   "execution_count": 2,
   "metadata": {},
   "outputs": [
    {
     "name": "stdout",
     "output_type": "stream",
     "text": [
      "           Player  Probability\n",
      "0  Pablo Sandoval        0.362\n",
      "1    Buster Posey        0.345\n",
      "2  Kyle Schwarber        0.309\n",
      "3  Brian Anderson        0.296\n",
      "4     Aaron Judge        0.295\n"
     ]
    }
   ],
   "source": [
    "lr = pd.DataFrame([['Pablo Sandoval', 0.362], \n",
    "                   ['Buster Posey', 0.345], \n",
    "                   ['Kyle Schwarber', 0.309], \n",
    "                   ['Brian Anderson', 0.296], \n",
    "                   ['Aaron Judge', 0.295]],\n",
    "columns= ['Player', 'Probability']\n",
    ")\n",
    "\n",
    "print(lr)"
   ]
  }
 ],
 "metadata": {
  "kernelspec": {
   "display_name": "Python 3",
   "language": "python",
   "name": "python3"
  },
  "language_info": {
   "codemirror_mode": {
    "name": "ipython",
    "version": 3
   },
   "file_extension": ".py",
   "mimetype": "text/x-python",
   "name": "python",
   "nbconvert_exporter": "python",
   "pygments_lexer": "ipython3",
   "version": "3.7.2"
  }
 },
 "nbformat": 4,
 "nbformat_minor": 2
}
