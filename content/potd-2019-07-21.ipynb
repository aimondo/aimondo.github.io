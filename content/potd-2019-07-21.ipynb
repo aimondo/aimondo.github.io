{
 "cells": [
  {
   "cell_type": "markdown",
   "metadata": {},
   "source": [
    "# No Pick Today"
   ]
  },
  {
   "cell_type": "markdown",
   "metadata": {},
   "source": [
    "### Random Forest:"
   ]
  },
  {
   "cell_type": "code",
   "execution_count": 1,
   "metadata": {},
   "outputs": [
    {
     "name": "stdout",
     "output_type": "stream",
     "text": [
      "             Player  Probability\n",
      "0    Harrison Bader        0.300\n",
      "1      Dwight Smith        0.284\n",
      "2         Juan Soto        0.283\n",
      "3       Jose Peraza        0.281\n",
      "4  Francisco Lindor        0.280\n"
     ]
    }
   ],
   "source": [
    "import pandas as pd\n",
    "\n",
    "rf = pd.DataFrame([['Harrison Bader', 0.3], \n",
    "                   ['Dwight Smith', 0.284], \n",
    "                   ['Juan Soto', 0.283], \n",
    "                   ['Jose Peraza', 0.281], \n",
    "                   ['Francisco Lindor', 0.28]],\n",
    "columns= ['Player', 'Probability']\n",
    ")\n",
    "\n",
    "print(rf)"
   ]
  },
  {
   "cell_type": "markdown",
   "metadata": {},
   "source": [
    "### Logistic Regression:"
   ]
  },
  {
   "cell_type": "code",
   "execution_count": 2,
   "metadata": {},
   "outputs": [
    {
     "name": "stdout",
     "output_type": "stream",
     "text": [
      "             Player  Probability\n",
      "0  Paul Goldschmidt        0.330\n",
      "1    Anthony Rendon        0.311\n",
      "2       Trea Turner        0.296\n",
      "3     Nick Markakis        0.296\n",
      "4       Jose Peraza        0.289\n"
     ]
    }
   ],
   "source": [
    "lr = pd.DataFrame([['Paul Goldschmidt', 0.33], \n",
    "                   ['Anthony Rendon', 0.311], \n",
    "                   ['Trea Turner', 0.296], \n",
    "                   ['Nick Markakis', 0.296], \n",
    "                   ['Jose Peraza', 0.289]],\n",
    "columns= ['Player', 'Probability']\n",
    ")\n",
    "\n",
    "print(lr)"
   ]
  }
 ],
 "metadata": {
  "kernelspec": {
   "display_name": "Python 3",
   "language": "python",
   "name": "python3"
  },
  "language_info": {
   "codemirror_mode": {
    "name": "ipython",
    "version": 3
   },
   "file_extension": ".py",
   "mimetype": "text/x-python",
   "name": "python",
   "nbconvert_exporter": "python",
   "pygments_lexer": "ipython3",
   "version": "3.7.2"
  }
 },
 "nbformat": 4,
 "nbformat_minor": 2
}
