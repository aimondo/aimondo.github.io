{
 "cells": [
  {
   "cell_type": "markdown",
   "metadata": {},
   "source": [
    "# POTD (Pick of the Day) - DOUBLE DOWN!!!\n",
    "#### Double Down - J.T. Realmuto & Starling Marte"
   ]
  },
  {
   "cell_type": "markdown",
   "metadata": {},
   "source": [
    "### Random Forest:"
   ]
  },
  {
   "cell_type": "code",
   "execution_count": 1,
   "metadata": {},
   "outputs": [
    {
     "name": "stdout",
     "output_type": "stream",
     "text": [
      "              Player  Probability\n",
      "0     Matt Carpenter        0.333\n",
      "1      J.T. Realmuto        0.325\n",
      "2     Starling Marte        0.317\n",
      "3  Curtis Granderson        0.304\n",
      "4       Adam Frazier        0.282\n"
     ]
    }
   ],
   "source": [
    "import pandas as pd\n",
    "import plotly.plotly as py\n",
    "import plotly.figure_factory as ff\n",
    "import plotly.graph_objs as go\n",
    "\n",
    "rf = pd.DataFrame([['Matt Carpenter', 0.333], \n",
    "                   ['J.T. Realmuto', 0.325], \n",
    "                   ['Starling Marte', 0.317],\n",
    "                   ['Curtis Granderson', 0.304], \n",
    "                   ['Adam Frazier', 0.282]],\n",
    "columns= ['Player', 'Probability']\n",
    ")\n",
    "\n",
    "print(rf)"
   ]
  },
  {
   "cell_type": "markdown",
   "metadata": {},
   "source": [
    "### Logistic Regression:"
   ]
  },
  {
   "cell_type": "code",
   "execution_count": 2,
   "metadata": {},
   "outputs": [
    {
     "name": "stdout",
     "output_type": "stream",
     "text": [
      "              Player  Probability\n",
      "0      J.T. Realmuto        0.358\n",
      "1     Carlos Santana        0.338\n",
      "2  Curtis Granderson        0.325\n",
      "3     Starling Marte        0.318\n",
      "4      Anthony Rizzo        0.309\n"
     ]
    }
   ],
   "source": [
    "lr = pd.DataFrame([['J.T. Realmuto', 0.358], \n",
    "                   ['Carlos Santana', 0.338], \n",
    "                   ['Curtis Granderson', 0.325], \n",
    "                   ['Starling Marte', 0.318], \n",
    "                   ['Anthony Rizzo', 0.309]],\n",
    "columns= ['Player', 'Probability']\n",
    ")\n",
    "\n",
    "print(lr)"
   ]
  },
  {
   "cell_type": "markdown",
   "metadata": {},
   "source": [
    "#### J.T. Realmuto"
   ]
  },
  {
   "cell_type": "markdown",
   "metadata": {},
   "source": [
    "Realmuto will see Tanner Roark. He is 11/24 (.458) against Tanner and hasn't struck out against him yet."
   ]
  },
  {
   "cell_type": "markdown",
   "metadata": {},
   "source": [
    "#### Starling Marte"
   ]
  },
  {
   "cell_type": "markdown",
   "metadata": {},
   "source": [
    "Marte is 7/17 (.412) against Zach Davies, who has been pitching great this season. He owns a 2.20 ERA this season, but 2.70 at home, which is where he will be today. He has still allowed a fair number of hits this season (65 in 69.2 IP), so I won't be backing away from this matchup. Marte has been on fire lately, with a .435/.375/.342 split."
   ]
  }
 ],
 "metadata": {
  "kernelspec": {
   "display_name": "Python 3",
   "language": "python",
   "name": "python3"
  },
  "language_info": {
   "codemirror_mode": {
    "name": "ipython",
    "version": 3
   },
   "file_extension": ".py",
   "mimetype": "text/x-python",
   "name": "python",
   "nbconvert_exporter": "python",
   "pygments_lexer": "ipython3",
   "version": "3.7.2"
  }
 },
 "nbformat": 4,
 "nbformat_minor": 2
}
