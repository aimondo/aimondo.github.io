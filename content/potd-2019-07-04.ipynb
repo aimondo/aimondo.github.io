{
 "cells": [
  {
   "cell_type": "markdown",
   "metadata": {},
   "source": [
    "# No Pick Today"
   ]
  },
  {
   "cell_type": "markdown",
   "metadata": {},
   "source": [
    "### Random Forest:"
   ]
  },
  {
   "cell_type": "code",
   "execution_count": 1,
   "metadata": {},
   "outputs": [
    {
     "name": "stdout",
     "output_type": "stream",
     "text": [
      "              Player  Probability\n",
      "0    Addison Russell        0.290\n",
      "1     Anthony Rendon        0.288\n",
      "2          Juan Soto        0.287\n",
      "3        Gio Urshela        0.286\n",
      "4  Andrelton Simmons        0.285\n"
     ]
    }
   ],
   "source": [
    "import pandas as pd\n",
    "\n",
    "rf = pd.DataFrame([['Addison Russell', 0.29], \n",
    "                   ['Anthony Rendon', 0.288], \n",
    "                   ['Juan Soto', 0.287], \n",
    "                   ['Gio Urshela', 0.286], \n",
    "                   ['Andrelton Simmons', 0.285]],\n",
    "columns= ['Player', 'Probability']\n",
    ")\n",
    "\n",
    "print(rf)"
   ]
  },
  {
   "cell_type": "markdown",
   "metadata": {},
   "source": [
    "### Logistic Regression:"
   ]
  },
  {
   "cell_type": "code",
   "execution_count": 2,
   "metadata": {},
   "outputs": [
    {
     "name": "stdout",
     "output_type": "stream",
     "text": [
      "                 Player  Probability\n",
      "0            Jose Abreu        0.329\n",
      "1  Nicholas Castellanos        0.327\n",
      "2       Xander Bogaerts        0.312\n",
      "3         Orlando Arcia        0.309\n",
      "4     Andrew Benintendi        0.295\n"
     ]
    }
   ],
   "source": [
    "lr = pd.DataFrame([['Jose Abreu', 0.329], \n",
    "                   ['Nicholas Castellanos', 0.327], \n",
    "                   ['Xander Bogaerts', 0.312], \n",
    "                   ['Orlando Arcia', 0.309], \n",
    "                   ['Andrew Benintendi', 0.295]],\n",
    "columns= ['Player', 'Probability']\n",
    ")\n",
    "\n",
    "print(lr)"
   ]
  }
 ],
 "metadata": {
  "kernelspec": {
   "display_name": "Python 3",
   "language": "python",
   "name": "python3"
  },
  "language_info": {
   "codemirror_mode": {
    "name": "ipython",
    "version": 3
   },
   "file_extension": ".py",
   "mimetype": "text/x-python",
   "name": "python",
   "nbconvert_exporter": "python",
   "pygments_lexer": "ipython3",
   "version": "3.7.2"
  }
 },
 "nbformat": 4,
 "nbformat_minor": 2
}
