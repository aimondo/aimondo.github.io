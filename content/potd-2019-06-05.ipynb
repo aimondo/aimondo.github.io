{
 "cells": [
  {
   "cell_type": "markdown",
   "metadata": {},
   "source": [
    "# POTD (Pick of the Day) - Jorge Polanco"
   ]
  },
  {
   "cell_type": "markdown",
   "metadata": {},
   "source": [
    "### Random Forest:"
   ]
  },
  {
   "cell_type": "code",
   "execution_count": 1,
   "metadata": {},
   "outputs": [
    {
     "name": "stdout",
     "output_type": "stream",
     "text": [
      "           Player  Probability\n",
      "0     Ketel Marte        0.300\n",
      "1    Jose Ramirez        0.292\n",
      "2   Jorge Polanco        0.281\n",
      "3  Carlos Santana        0.281\n"
     ]
    }
   ],
   "source": [
    "import pandas as pd\n",
    "import plotly.plotly as py\n",
    "import plotly.figure_factory as ff\n",
    "import plotly.graph_objs as go\n",
    "\n",
    "rf = pd.DataFrame([['Ketel Marte', 0.3], \n",
    "                   ['Jose Ramirez', 0.292], \n",
    "                   ['Jorge Polanco', 0.281], \n",
    "                   ['Carlos Santana', 0.281]],\n",
    "columns= ['Player', 'Probability']\n",
    ")\n",
    "\n",
    "print(rf)"
   ]
  },
  {
   "cell_type": "markdown",
   "metadata": {},
   "source": [
    "### Logistic Regression:"
   ]
  },
  {
   "cell_type": "code",
   "execution_count": 2,
   "metadata": {},
   "outputs": [
    {
     "name": "stdout",
     "output_type": "stream",
     "text": [
      "           Player  Probability\n",
      "0      Jose Abreu        0.364\n",
      "1     Kyle Seager        0.316\n",
      "2  Matt Carpenter        0.315\n",
      "3   Jorge Polanco        0.310\n"
     ]
    }
   ],
   "source": [
    "lr = pd.DataFrame([['Jose Abreu', 0.364], \n",
    "                   ['Kyle Seager', 0.316], \n",
    "                   ['Matt Carpenter', 0.315], \n",
    "                   ['Jorge Polanco', 0.31]],\n",
    "columns= ['Player', 'Probability']\n",
    ")\n",
    "\n",
    "print(lr)"
   ]
  },
  {
   "cell_type": "markdown",
   "metadata": {},
   "source": [
    "#### Jorge Polanco"
   ]
  },
  {
   "cell_type": "markdown",
   "metadata": {},
   "source": [
    "Polanco is hitting .338 on the season and will see Carlos Carrasco. He is 8/18 (.444) against him and will hopefully extend our streak."
   ]
  }
 ],
 "metadata": {
  "kernelspec": {
   "display_name": "Python 3",
   "language": "python",
   "name": "python3"
  },
  "language_info": {
   "codemirror_mode": {
    "name": "ipython",
    "version": 3
   },
   "file_extension": ".py",
   "mimetype": "text/x-python",
   "name": "python",
   "nbconvert_exporter": "python",
   "pygments_lexer": "ipython3",
   "version": "3.7.2"
  }
 },
 "nbformat": 4,
 "nbformat_minor": 2
}
