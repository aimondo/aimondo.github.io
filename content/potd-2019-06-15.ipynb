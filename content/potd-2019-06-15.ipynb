{
 "cells": [
  {
   "cell_type": "markdown",
   "metadata": {},
   "source": [
    "# POTD (Pick of the Day) - Mookie Betts"
   ]
  },
  {
   "cell_type": "markdown",
   "metadata": {},
   "source": [
    "### Random Forest:"
   ]
  },
  {
   "cell_type": "code",
   "execution_count": 1,
   "metadata": {},
   "outputs": [
    {
     "name": "stdout",
     "output_type": "stream",
     "text": [
      "             Player  Probability\n",
      "0         Joe Panik        0.301\n",
      "1  Francisco Lindor        0.293\n",
      "2      Mookie Betts        0.286\n",
      "3      Buster Posey        0.285\n",
      "4      Jason Kipnis        0.283\n"
     ]
    }
   ],
   "source": [
    "import pandas as pd\n",
    "import plotly.plotly as py\n",
    "import plotly.figure_factory as ff\n",
    "import plotly.graph_objs as go\n",
    "\n",
    "rf = pd.DataFrame([['Joe Panik', 0.301], \n",
    "                   ['Francisco Lindor', 0.293], \n",
    "                   ['Mookie Betts', 0.286], \n",
    "                   ['Buster Posey', 0.285], \n",
    "                   ['Jason Kipnis', 0.283]],\n",
    "columns= ['Player', 'Probability']\n",
    ")\n",
    "\n",
    "print(rf)"
   ]
  },
  {
   "cell_type": "markdown",
   "metadata": {},
   "source": [
    "### Logistic Regression:"
   ]
  },
  {
   "cell_type": "code",
   "execution_count": 2,
   "metadata": {},
   "outputs": [
    {
     "name": "stdout",
     "output_type": "stream",
     "text": [
      "              Player  Probability\n",
      "0  Andrew Benintendi        0.339\n",
      "1       Mookie Betts        0.334\n",
      "2         Brock Holt        0.332\n",
      "3       Todd Frazier        0.323\n",
      "4      Nick Markakis        0.311\n"
     ]
    }
   ],
   "source": [
    "lr = pd.DataFrame([['Andrew Benintendi', 0.339], \n",
    "                   ['Mookie Betts', 0.334], \n",
    "                   ['Brock Holt', 0.332], \n",
    "                   ['Todd Frazier', 0.323], \n",
    "                   ['Nick Markakis', 0.311]],\n",
    "columns= ['Player', 'Probability']\n",
    ")\n",
    "\n",
    "print(lr)"
   ]
  },
  {
   "cell_type": "markdown",
   "metadata": {},
   "source": [
    "#### Mookie Betts"
   ]
  },
  {
   "cell_type": "markdown",
   "metadata": {},
   "source": [
    "Will face Dylan Bundy today. He is 9/33 (.273) against him and should be leading off for the Red Sox today. It may be worth it to double down and pair him with Benintendi."
   ]
  }
 ],
 "metadata": {
  "kernelspec": {
   "display_name": "Python 3",
   "language": "python",
   "name": "python3"
  },
  "language_info": {
   "codemirror_mode": {
    "name": "ipython",
    "version": 3
   },
   "file_extension": ".py",
   "mimetype": "text/x-python",
   "name": "python",
   "nbconvert_exporter": "python",
   "pygments_lexer": "ipython3",
   "version": "3.7.2"
  }
 },
 "nbformat": 4,
 "nbformat_minor": 2
}
