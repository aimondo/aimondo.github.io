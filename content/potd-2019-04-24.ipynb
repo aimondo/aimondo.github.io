{
 "cells": [
  {
   "cell_type": "markdown",
   "metadata": {},
   "source": [
    "# POTD (Pick of the Day) - DOUBLE DOWN!!!\n",
    "#### Double Down - Nick Markakis and Ender Inciarte"
   ]
  },
  {
   "cell_type": "markdown",
   "metadata": {},
   "source": [
    "And like that, our streak has come to an end. Back to the bottom. If anyone is here with us and feels that we are responsible, we hear ya! But know that you are at least in good company! Let's get another run going and beat our previous streak!"
   ]
  },
  {
   "cell_type": "markdown",
   "metadata": {},
   "source": [
    "Coincidentally, the program has decided that it's a good day to double down! Here were the model outputs:"
   ]
  },
  {
   "cell_type": "markdown",
   "metadata": {},
   "source": [
    "### Random Forest:"
   ]
  },
  {
   "cell_type": "code",
   "execution_count": 5,
   "metadata": {},
   "outputs": [
    {
     "data": {
      "text/html": [
       "<iframe id=\"igraph\" scrolling=\"no\" style=\"border:none;\" seamless=\"seamless\" src=\"https://plot.ly/~AimonAllouache/62.embed\" height=\"170px\" width=\"100%\"></iframe>"
      ],
      "text/plain": [
       "<plotly.tools.PlotlyDisplay object>"
      ]
     },
     "execution_count": 5,
     "metadata": {},
     "output_type": "execute_result"
    }
   ],
   "source": [
    "import pandas as pd\n",
    "import plotly.plotly as py\n",
    "import plotly.figure_factory as ff\n",
    "import plotly.graph_objs as go\n",
    "\n",
    "\n",
    "rf = pd.DataFrame([['Ender Inciarte', 0.283], \n",
    "                   ['Nick Markakis', 0.282], \n",
    "                   ['Hernan Perez', 0.278]],\n",
    "columns= ['Player', 'Probability']\n",
    ")\n",
    "\n",
    "rf_table = ff.create_table(rf)\n",
    "py.iplot(rf_table, filename='potd-rf-4-24-19')"
   ]
  },
  {
   "cell_type": "markdown",
   "metadata": {},
   "source": [
    "### Logistic Regression:"
   ]
  },
  {
   "cell_type": "code",
   "execution_count": 6,
   "metadata": {},
   "outputs": [
    {
     "data": {
      "text/html": [
       "<iframe id=\"igraph\" scrolling=\"no\" style=\"border:none;\" seamless=\"seamless\" src=\"https://plot.ly/~AimonAllouache/64.embed\" height=\"170px\" width=\"100%\"></iframe>"
      ],
      "text/plain": [
       "<plotly.tools.PlotlyDisplay object>"
      ]
     },
     "execution_count": 6,
     "metadata": {},
     "output_type": "execute_result"
    }
   ],
   "source": [
    "lr = pd.DataFrame([['Nick Markakis', 0.383], \n",
    "                   ['Ender Inciarte', 0.342], \n",
    "                   ['Justin Smoak', 0.293]],\n",
    "columns= ['Player', 'Probability']\n",
    ")\n",
    "\n",
    "lr_table = ff.create_table(lr)\n",
    "py.iplot(lr_table, filename='potd-lr-4-24-19')"
   ]
  },
  {
   "cell_type": "markdown",
   "metadata": {},
   "source": [
    "Both models agree on the top two players and they play for the same team! Hopefully the Braves have a good time against Tanner Roark. I've noticed that our program likes players that play at the Great American Ballpark (Reds). Due to its dimensions, it's easier to hit for extra bases in."
   ]
  },
  {
   "cell_type": "markdown",
   "metadata": {},
   "source": [
    "#### Nick Markakis"
   ]
  },
  {
   "cell_type": "markdown",
   "metadata": {},
   "source": [
    "Markakis is 9/33 (.273) against Roark with 6 extra base hits and 0 strikeouts. That's right, in 41 plate appearances, Tanner has never struck him out, but he has walked him a whopping 8 times. Markakis typically hits in the middle of the Braves lethal batting order. He also carries a nice handedness advantage (lefty vs. righty). He's been hitting the ball well so far this month and Logistic Regression is very confident in him as its top pick."
   ]
  },
  {
   "cell_type": "markdown",
   "metadata": {},
   "source": [
    "#### Ender Inciarte"
   ]
  },
  {
   "cell_type": "markdown",
   "metadata": {},
   "source": [
    "This is a bit of a tougher sell, but let's look at the numbers. Inciarte is 12/30 (.400) against Roark with 8 singles, 4 extra base hits, and 3 strikeouts. So, he is certainly a less attractive pick than Markakis. He used to be a player that you could count on for average, but he is off to a slow start and finds himself batting ninth some days. However, He does have a hit in 7 of his last 8 games! He also carries a handedness advantage (lefty vs. righty). Nevertheless, the models have given both players high hit probabilities against the opposing pitcher."
   ]
  }
 ],
 "metadata": {
  "kernelspec": {
   "display_name": "Python 3",
   "language": "python",
   "name": "python3"
  },
  "language_info": {
   "codemirror_mode": {
    "name": "ipython",
    "version": 3
   },
   "file_extension": ".py",
   "mimetype": "text/x-python",
   "name": "python",
   "nbconvert_exporter": "python",
   "pygments_lexer": "ipython3",
   "version": "3.6.3"
  }
 },
 "nbformat": 4,
 "nbformat_minor": 2
}
