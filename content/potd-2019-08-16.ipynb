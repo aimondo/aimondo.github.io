{
 "cells": [
  {
   "cell_type": "markdown",
   "metadata": {},
   "source": [
    "# No Pick Today"
   ]
  },
  {
   "cell_type": "markdown",
   "metadata": {},
   "source": [
    "### Random Forest:"
   ]
  },
  {
   "cell_type": "code",
   "execution_count": 1,
   "metadata": {},
   "outputs": [
    {
     "name": "stdout",
     "output_type": "stream",
     "text": [
      "            Player  Probability\n",
      "0   Eugenio Suarez        0.329\n",
      "1      Kris Bryant        0.328\n",
      "2     Jesse Winker        0.325\n",
      "3    Freddy Galvis        0.325\n",
      "4  Tucker Barnhart        0.323\n"
     ]
    }
   ],
   "source": [
    "import pandas as pd\n",
    "\n",
    "rf = pd.DataFrame([['Eugenio Suarez', 0.329], \n",
    "                   ['Kris Bryant', 0.328], \n",
    "                   ['Jesse Winker', 0.325], \n",
    "                   ['Freddy Galvis', 0.325], \n",
    "                   ['Tucker Barnhart', 0.323]],\n",
    "columns= ['Player', 'Probability']\n",
    ")\n",
    "\n",
    "print(rf)"
   ]
  },
  {
   "cell_type": "markdown",
   "metadata": {},
   "source": [
    "### Logistic Regression:"
   ]
  },
  {
   "cell_type": "code",
   "execution_count": 2,
   "metadata": {},
   "outputs": [
    {
     "name": "stdout",
     "output_type": "stream",
     "text": [
      "             Player  Probability\n",
      "0        Joey Votto        0.619\n",
      "1  Brandon Crawford        0.524\n",
      "2      Brandon Belt        0.495\n",
      "3        Alex Avila        0.355\n",
      "4      Adam Frazier        0.326\n"
     ]
    }
   ],
   "source": [
    "lr = pd.DataFrame([['Joey Votto', 0.619], \n",
    "                   ['Brandon Crawford', 0.524], \n",
    "                   ['Brandon Belt', 0.495], \n",
    "                   ['Alex Avila', 0.355], \n",
    "                   ['Adam Frazier', 0.326]],\n",
    "columns= ['Player', 'Probability']\n",
    ")\n",
    "\n",
    "print(lr)"
   ]
  }
 ],
 "metadata": {
  "kernelspec": {
   "display_name": "Python 3",
   "language": "python",
   "name": "python3"
  },
  "language_info": {
   "codemirror_mode": {
    "name": "ipython",
    "version": 3
   },
   "file_extension": ".py",
   "mimetype": "text/x-python",
   "name": "python",
   "nbconvert_exporter": "python",
   "pygments_lexer": "ipython3",
   "version": "3.7.2"
  }
 },
 "nbformat": 4,
 "nbformat_minor": 2
}
