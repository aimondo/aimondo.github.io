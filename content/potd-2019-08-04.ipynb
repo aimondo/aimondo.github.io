{
 "cells": [
  {
   "cell_type": "markdown",
   "metadata": {},
   "source": [
    "# No Pick Today"
   ]
  },
  {
   "cell_type": "markdown",
   "metadata": {},
   "source": [
    "### Random Forest:"
   ]
  },
  {
   "cell_type": "code",
   "execution_count": 1,
   "metadata": {},
   "outputs": [
    {
     "name": "stdout",
     "output_type": "stream",
     "text": [
      "            Player  Probability\n",
      "0     Buster Posey        0.295\n",
      "1       Max Kepler        0.288\n",
      "2  Whit Merrifield        0.280\n",
      "3       Jose Abreu        0.280\n",
      "4      Kolten Wong        0.277\n"
     ]
    }
   ],
   "source": [
    "import pandas as pd\n",
    "\n",
    "rf = pd.DataFrame([['Buster Posey', 0.295], \n",
    "                   ['Max Kepler', 0.288], \n",
    "                   ['Whit Merrifield', 0.28], \n",
    "                   ['Jose Abreu', 0.28], \n",
    "                   ['Kolten Wong', 0.277]],\n",
    "columns= ['Player', 'Probability']\n",
    ")\n",
    "\n",
    "print(rf)"
   ]
  },
  {
   "cell_type": "markdown",
   "metadata": {},
   "source": [
    "### Logistic Regression:"
   ]
  },
  {
   "cell_type": "code",
   "execution_count": 2,
   "metadata": {},
   "outputs": [
    {
     "name": "stdout",
     "output_type": "stream",
     "text": [
      "           Player  Probability\n",
      "0  Didi Gregorius        0.369\n",
      "1     Kyle Seager        0.310\n",
      "2  Logan Forsythe        0.303\n",
      "3  Derek Dietrich        0.297\n",
      "4   Austin Romine        0.296\n"
     ]
    }
   ],
   "source": [
    "lr = pd.DataFrame([['Didi Gregorius', 0.369], \n",
    "                   ['Kyle Seager', 0.31], \n",
    "                   ['Logan Forsythe', 0.303], \n",
    "                   ['Derek Dietrich', 0.297], \n",
    "                   ['Austin Romine', 0.296]],\n",
    "columns= ['Player', 'Probability']\n",
    ")\n",
    "\n",
    "print(lr)"
   ]
  }
 ],
 "metadata": {
  "kernelspec": {
   "display_name": "Python 3",
   "language": "python",
   "name": "python3"
  },
  "language_info": {
   "codemirror_mode": {
    "name": "ipython",
    "version": 3
   },
   "file_extension": ".py",
   "mimetype": "text/x-python",
   "name": "python",
   "nbconvert_exporter": "python",
   "pygments_lexer": "ipython3",
   "version": "3.7.2"
  }
 },
 "nbformat": 4,
 "nbformat_minor": 2
}
