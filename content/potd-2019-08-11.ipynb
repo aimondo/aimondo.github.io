{
 "cells": [
  {
   "cell_type": "markdown",
   "metadata": {},
   "source": [
    "# No Pick Today"
   ]
  },
  {
   "cell_type": "markdown",
   "metadata": {},
   "source": [
    "### Random Forest:"
   ]
  },
  {
   "cell_type": "code",
   "execution_count": 1,
   "metadata": {},
   "outputs": [
    {
     "name": "stdout",
     "output_type": "stream",
     "text": [
      "            Player  Probability\n",
      "0     Elvis Andrus        0.341\n",
      "1    Justin Turner        0.320\n",
      "2      Ketel Marte        0.319\n",
      "3  Whit Merrifield        0.319\n",
      "4     A.J. Pollock        0.318\n"
     ]
    }
   ],
   "source": [
    "import pandas as pd\n",
    "\n",
    "rf = pd.DataFrame([['Elvis Andrus', 0.341], \n",
    "                   ['Justin Turner', 0.32], \n",
    "                   ['Ketel Marte', 0.319], \n",
    "                   ['Whit Merrifield', 0.319], \n",
    "                   ['A.J. Pollock', 0.318]],\n",
    "columns= ['Player', 'Probability']\n",
    ")\n",
    "\n",
    "print(rf)"
   ]
  },
  {
   "cell_type": "markdown",
   "metadata": {},
   "source": [
    "### Logistic Regression:"
   ]
  },
  {
   "cell_type": "code",
   "execution_count": 2,
   "metadata": {},
   "outputs": [
    {
     "name": "stdout",
     "output_type": "stream",
     "text": [
      "           Player  Probability\n",
      "0     Jose Peraza        0.469\n",
      "1    A.J. Pollock        0.411\n",
      "2     Alex Gordon        0.408\n",
      "3  Carlos Santana        0.365\n",
      "4      Adam Eaton        0.365\n"
     ]
    }
   ],
   "source": [
    "lr = pd.DataFrame([['Jose Peraza', 0.469], \n",
    "                   ['A.J. Pollock', 0.411], \n",
    "                   ['Alex Gordon', 0.408], \n",
    "                   ['Carlos Santana', 0.365], \n",
    "                   ['Adam Eaton', 0.365]],\n",
    "columns= ['Player', 'Probability']\n",
    ")\n",
    "\n",
    "print(lr)"
   ]
  }
 ],
 "metadata": {
  "kernelspec": {
   "display_name": "Python 3",
   "language": "python",
   "name": "python3"
  },
  "language_info": {
   "codemirror_mode": {
    "name": "ipython",
    "version": 3
   },
   "file_extension": ".py",
   "mimetype": "text/x-python",
   "name": "python",
   "nbconvert_exporter": "python",
   "pygments_lexer": "ipython3",
   "version": "3.7.2"
  }
 },
 "nbformat": 4,
 "nbformat_minor": 2
}
