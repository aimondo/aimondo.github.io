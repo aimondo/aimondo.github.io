{
 "cells": [
  {
   "cell_type": "markdown",
   "metadata": {},
   "source": [
    "# POTD (Pick of the Day) - Cheslor Cuthbert"
   ]
  },
  {
   "cell_type": "markdown",
   "metadata": {},
   "source": [
    "### Random Forest:"
   ]
  },
  {
   "cell_type": "code",
   "execution_count": 1,
   "metadata": {},
   "outputs": [
    {
     "name": "stdout",
     "output_type": "stream",
     "text": [
      "             Player  Probability\n",
      "0  Cheslor Cuthbert        0.289\n",
      "1      Jarrod Dyson        0.285\n",
      "2       Ketel Marte        0.282\n",
      "3  Francisco Lindor        0.281\n",
      "4      Tony Wolters        0.280\n"
     ]
    }
   ],
   "source": [
    "import pandas as pd\n",
    "\n",
    "rf = pd.DataFrame([['Cheslor Cuthbert', 0.289], \n",
    "                   ['Jarrod Dyson', 0.285], \n",
    "                   ['Ketel Marte', 0.282], \n",
    "                   ['Francisco Lindor', 0.281], \n",
    "                   ['Tony Wolters', 0.28]],\n",
    "columns= ['Player', 'Probability']\n",
    ")\n",
    "\n",
    "print(rf)"
   ]
  },
  {
   "cell_type": "markdown",
   "metadata": {},
   "source": [
    "### Logistic Regression:"
   ]
  },
  {
   "cell_type": "code",
   "execution_count": 2,
   "metadata": {},
   "outputs": [
    {
     "name": "stdout",
     "output_type": "stream",
     "text": [
      "              Player  Probability\n",
      "0        Ian Kinsler        0.527\n",
      "1  Edwin Encarnacion        0.329\n",
      "2   Cheslor Cuthbert        0.308\n",
      "3   Charlie Blackmon        0.294\n",
      "4     Derek Dietrich        0.294\n"
     ]
    }
   ],
   "source": [
    "lr = pd.DataFrame([['Ian Kinsler', 0.527], \n",
    "                   ['Edwin Encarnacion', 0.329], \n",
    "                   ['Cheslor Cuthbert', 0.308], \n",
    "                   ['Charlie Blackmon', 0.294], \n",
    "                   ['Derek Dietrich', 0.294]],\n",
    "columns= ['Player', 'Probability']\n",
    ")\n",
    "\n",
    "print(lr)"
   ]
  },
  {
   "cell_type": "markdown",
   "metadata": {},
   "source": [
    "#### Cheslor Cuthbert"
   ]
  },
  {
   "cell_type": "markdown",
   "metadata": {},
   "source": [
    "This pick may surprise you, but Cuthbert has been hitting the ball well and has a .298 BA. He will face Dallas Keuchel and is 5/9 (.556) against him with a handedness advantage."
   ]
  }
 ],
 "metadata": {
  "kernelspec": {
   "display_name": "Python 3",
   "language": "python",
   "name": "python3"
  },
  "language_info": {
   "codemirror_mode": {
    "name": "ipython",
    "version": 3
   },
   "file_extension": ".py",
   "mimetype": "text/x-python",
   "name": "python",
   "nbconvert_exporter": "python",
   "pygments_lexer": "ipython3",
   "version": "3.7.2"
  }
 },
 "nbformat": 4,
 "nbformat_minor": 2
}
