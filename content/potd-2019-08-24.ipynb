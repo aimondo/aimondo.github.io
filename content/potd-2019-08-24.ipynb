{
 "cells": [
  {
   "cell_type": "markdown",
   "metadata": {},
   "source": [
    "# POTD (Pick of the Day) - Francisco Lindor"
   ]
  },
  {
   "cell_type": "markdown",
   "metadata": {},
   "source": [
    "### Random Forest:"
   ]
  },
  {
   "cell_type": "code",
   "execution_count": 1,
   "metadata": {},
   "outputs": [
    {
     "name": "stdout",
     "output_type": "stream",
     "text": [
      "             Player  Probability\n",
      "0      Brian Dozier        0.340\n",
      "1    Josh Donaldson        0.320\n",
      "2      Ronald Acuna        0.307\n",
      "3  Francisco Lindor        0.307\n"
     ]
    }
   ],
   "source": [
    "import pandas as pd\n",
    "\n",
    "rf = pd.DataFrame([['Brian Dozier', 0.34], \n",
    "                   ['Josh Donaldson', 0.32], \n",
    "                   ['Ronald Acuna', 0.307], \n",
    "                   ['Francisco Lindor', 0.307]],\n",
    "columns= ['Player', 'Probability']\n",
    ")\n",
    "\n",
    "print(rf)"
   ]
  },
  {
   "cell_type": "markdown",
   "metadata": {},
   "source": [
    "### Logistic Regression:"
   ]
  },
  {
   "cell_type": "code",
   "execution_count": 2,
   "metadata": {},
   "outputs": [
    {
     "name": "stdout",
     "output_type": "stream",
     "text": [
      "             Player  Probability\n",
      "0  Francisco Lindor        0.301\n",
      "1       Nelson Cruz        0.301\n",
      "2     Oscar Mercado        0.290\n",
      "3   Marwin Gonzalez        0.287\n"
     ]
    }
   ],
   "source": [
    "lr = pd.DataFrame([['Francisco Lindor', 0.301], \n",
    "                   ['Nelson Cruz', 0.301], \n",
    "                   ['Oscar Mercado', 0.29], \n",
    "                   ['Marwin Gonzalez', 0.287]],\n",
    "columns= ['Player', 'Probability']\n",
    ")\n",
    "\n",
    "print(lr)"
   ]
  },
  {
   "cell_type": "markdown",
   "metadata": {},
   "source": [
    "#### Francisco Lindor"
   ]
  },
  {
   "cell_type": "markdown",
   "metadata": {},
   "source": [
    "Lindor will face Glenn Sparkman. He is 7/13 (.538) against him with a handedness advantage."
   ]
  }
 ],
 "metadata": {
  "kernelspec": {
   "display_name": "Python 3",
   "language": "python",
   "name": "python3"
  },
  "language_info": {
   "codemirror_mode": {
    "name": "ipython",
    "version": 3
   },
   "file_extension": ".py",
   "mimetype": "text/x-python",
   "name": "python",
   "nbconvert_exporter": "python",
   "pygments_lexer": "ipython3",
   "version": "3.7.2"
  }
 },
 "nbformat": 4,
 "nbformat_minor": 2
}
