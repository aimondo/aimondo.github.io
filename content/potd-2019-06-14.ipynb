{
 "cells": [
  {
   "cell_type": "markdown",
   "metadata": {},
   "source": [
    "# No Pick Today"
   ]
  },
  {
   "cell_type": "markdown",
   "metadata": {},
   "source": [
    "### Random Forest:"
   ]
  },
  {
   "cell_type": "code",
   "execution_count": 1,
   "metadata": {},
   "outputs": [
    {
     "name": "stdout",
     "output_type": "stream",
     "text": [
      "              Player  Probability\n",
      "0       Trey Mancini        0.288\n",
      "1  Adalberto Mondesi        0.281\n",
      "2        Alex Gordon        0.279\n"
     ]
    }
   ],
   "source": [
    "import pandas as pd\n",
    "import plotly.plotly as py\n",
    "import plotly.figure_factory as ff\n",
    "import plotly.graph_objs as go\n",
    "\n",
    "rf = pd.DataFrame([['Trey Mancini', 0.288], \n",
    "                   ['Adalberto Mondesi', 0.281], \n",
    "                   ['Alex Gordon', 0.279]],\n",
    "columns= ['Player', 'Probability']\n",
    ")\n",
    "\n",
    "print(rf)"
   ]
  },
  {
   "cell_type": "markdown",
   "metadata": {},
   "source": [
    "### Logistic Regression:"
   ]
  },
  {
   "cell_type": "code",
   "execution_count": 2,
   "metadata": {},
   "outputs": [
    {
     "name": "stdout",
     "output_type": "stream",
     "text": [
      "              Player  Probability\n",
      "0         Adam Jones        0.349\n",
      "1        Alex Gordon        0.348\n",
      "2  Adalberto Mondesi        0.297\n"
     ]
    }
   ],
   "source": [
    "lr = pd.DataFrame([['Adam Jones', 0.349], \n",
    "                   ['Alex Gordon', 0.348], \n",
    "                   ['Adalberto Mondesi', 0.297]],\n",
    "columns= ['Player', 'Probability']\n",
    ")\n",
    "\n",
    "print(lr)"
   ]
  },
  {
   "cell_type": "markdown",
   "metadata": {},
   "source": [
    "Today is an unofficial double down day. The program isn't picking Mondesi or Gordon even though they are each highly ranked by my models. Mondesi doesn't have a high enough average hit probability to qualify and Gordon is currently day to day with a back injury. Nevertheless, they are our unofficial picks of the day against Kyle Gibson."
   ]
  }
 ],
 "metadata": {
  "kernelspec": {
   "display_name": "Python 3",
   "language": "python",
   "name": "python3"
  },
  "language_info": {
   "codemirror_mode": {
    "name": "ipython",
    "version": 3
   },
   "file_extension": ".py",
   "mimetype": "text/x-python",
   "name": "python",
   "nbconvert_exporter": "python",
   "pygments_lexer": "ipython3",
   "version": "3.7.2"
  }
 },
 "nbformat": 4,
 "nbformat_minor": 2
}
