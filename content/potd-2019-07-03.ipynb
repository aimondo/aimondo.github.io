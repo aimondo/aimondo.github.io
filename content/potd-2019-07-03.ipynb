{
 "cells": [
  {
   "cell_type": "markdown",
   "metadata": {},
   "source": [
    "# POTD (Pick of the Day) - Carlos Santana"
   ]
  },
  {
   "cell_type": "markdown",
   "metadata": {},
   "source": [
    "### Random Forest:"
   ]
  },
  {
   "cell_type": "code",
   "execution_count": 1,
   "metadata": {},
   "outputs": [
    {
     "name": "stdout",
     "output_type": "stream",
     "text": [
      "           Player  Probability\n",
      "0  Carlos Santana        0.297\n",
      "1   Nolan Arenado        0.293\n",
      "2     Jorge Soler        0.293\n",
      "3    Kole Calhoun        0.292\n",
      "4      Adam Eaton        0.292\n"
     ]
    }
   ],
   "source": [
    "import pandas as pd\n",
    "\n",
    "rf = pd.DataFrame([['Carlos Santana', 0.297], \n",
    "                   ['Nolan Arenado', 0.293], \n",
    "                   ['Jorge Soler', 0.293], \n",
    "                   ['Kole Calhoun', 0.292], \n",
    "                   ['Adam Eaton', 0.292]],\n",
    "columns= ['Player', 'Probability']\n",
    ")\n",
    "\n",
    "print(rf)"
   ]
  },
  {
   "cell_type": "markdown",
   "metadata": {},
   "source": [
    "### Logistic Regression:"
   ]
  },
  {
   "cell_type": "code",
   "execution_count": 2,
   "metadata": {},
   "outputs": [
    {
     "name": "stdout",
     "output_type": "stream",
     "text": [
      "              Player  Probability\n",
      "0     Carlos Santana        0.359\n",
      "1  Edwin Encarnacion        0.341\n",
      "2        Yasiel Puig        0.338\n",
      "3    Freddie Freeman        0.316\n",
      "4       Jose Ramirez        0.310\n"
     ]
    }
   ],
   "source": [
    "lr = pd.DataFrame([['Carlos Santana', 0.359], \n",
    "                   ['Edwin Encarnacion', 0.341], \n",
    "                   ['Yasiel Puig', 0.338], \n",
    "                   ['Freddie Freeman', 0.316], \n",
    "                   ['Jose Ramirez', 0.31]],\n",
    "columns= ['Player', 'Probability']\n",
    ")\n",
    "\n",
    "print(lr)"
   ]
  },
  {
   "cell_type": "markdown",
   "metadata": {},
   "source": [
    "Both models agree on the top pick today."
   ]
  },
  {
   "cell_type": "markdown",
   "metadata": {},
   "source": [
    "#### Carlos Santana"
   ]
  },
  {
   "cell_type": "markdown",
   "metadata": {},
   "source": [
    "Santana will face Danny Duffy. He is 13/30 (.433) against him with a handedness advantage. Pairing him with Lindor may not be a bad move today."
   ]
  }
 ],
 "metadata": {
  "kernelspec": {
   "display_name": "Python 3",
   "language": "python",
   "name": "python3"
  },
  "language_info": {
   "codemirror_mode": {
    "name": "ipython",
    "version": 3
   },
   "file_extension": ".py",
   "mimetype": "text/x-python",
   "name": "python",
   "nbconvert_exporter": "python",
   "pygments_lexer": "ipython3",
   "version": "3.7.2"
  }
 },
 "nbformat": 4,
 "nbformat_minor": 2
}
