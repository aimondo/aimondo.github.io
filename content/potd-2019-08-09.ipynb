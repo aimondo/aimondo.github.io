{
 "cells": [
  {
   "cell_type": "markdown",
   "metadata": {},
   "source": [
    "# POTD (Pick of the Day) - Eddie Rosario"
   ]
  },
  {
   "cell_type": "markdown",
   "metadata": {},
   "source": [
    "### Random Forest:"
   ]
  },
  {
   "cell_type": "code",
   "execution_count": 1,
   "metadata": {},
   "outputs": [
    {
     "name": "stdout",
     "output_type": "stream",
     "text": [
      "          Player  Probability\n",
      "0   Todd Frazier        0.332\n",
      "1    Miguel Sano        0.327\n",
      "2    Nick Senzel        0.325\n",
      "3   Ozzie Albies        0.324\n",
      "4  Eddie Rosario        0.323\n"
     ]
    }
   ],
   "source": [
    "import pandas as pd\n",
    "\n",
    "rf = pd.DataFrame([['Todd Frazier', 0.332], \n",
    "                   ['Miguel Sano', 0.327], \n",
    "                   ['Nick Senzel', 0.325], \n",
    "                   ['Ozzie Albies', 0.324], \n",
    "                   ['Eddie Rosario', 0.323]],\n",
    "columns= ['Player', 'Probability']\n",
    ")\n",
    "\n",
    "print(rf)"
   ]
  },
  {
   "cell_type": "markdown",
   "metadata": {},
   "source": [
    "### Logistic Regression:"
   ]
  },
  {
   "cell_type": "code",
   "execution_count": 2,
   "metadata": {},
   "outputs": [
    {
     "name": "stdout",
     "output_type": "stream",
     "text": [
      "           Player  Probability\n",
      "0     Chris Davis        0.394\n",
      "1    Aledmys Diaz        0.367\n",
      "2  Brian Anderson        0.359\n",
      "3  Hanser Alberto        0.332\n",
      "4   Eddie Rosario        0.316\n"
     ]
    }
   ],
   "source": [
    "lr = pd.DataFrame([['Chris Davis', 0.394], \n",
    "                   ['Aledmys Diaz', 0.367], \n",
    "                   ['Brian Anderson', 0.359], \n",
    "                   ['Hanser Alberto', 0.332], \n",
    "                   ['Eddie Rosario', 0.316]],\n",
    "columns= ['Player', 'Probability']\n",
    ")\n",
    "\n",
    "print(lr)"
   ]
  },
  {
   "cell_type": "markdown",
   "metadata": {},
   "source": [
    "#### Eddie Rosario"
   ]
  },
  {
   "cell_type": "markdown",
   "metadata": {},
   "source": [
    "Will face Shane Bieber. He is 3/11 (.273) against him with a handedness advantage."
   ]
  }
 ],
 "metadata": {
  "kernelspec": {
   "display_name": "Python 3",
   "language": "python",
   "name": "python3"
  },
  "language_info": {
   "codemirror_mode": {
    "name": "ipython",
    "version": 3
   },
   "file_extension": ".py",
   "mimetype": "text/x-python",
   "name": "python",
   "nbconvert_exporter": "python",
   "pygments_lexer": "ipython3",
   "version": "3.7.2"
  }
 },
 "nbformat": 4,
 "nbformat_minor": 2
}
