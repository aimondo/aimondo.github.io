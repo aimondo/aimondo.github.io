{
 "cells": [
  {
   "cell_type": "markdown",
   "metadata": {},
   "source": [
    "# POTD (Pick of the Day) - DOUBLE DOWN!!!\n",
    "### Double Down - Charlie Blackmon & Alex Bregman"
   ]
  },
  {
   "cell_type": "markdown",
   "metadata": {},
   "source": [
    "https://www.youtube.com/watch?v=i32EjRvqH-Q"
   ]
  },
  {
   "cell_type": "markdown",
   "metadata": {},
   "source": [
    "### Random Forest:"
   ]
  },
  {
   "cell_type": "code",
   "execution_count": 1,
   "metadata": {},
   "outputs": [
    {
     "name": "stdout",
     "output_type": "stream",
     "text": [
      "             Player  Probability\n",
      "0      Trevor Story        0.336\n",
      "1  Charlie Blackmon        0.284\n",
      "2    Chris Iannetta        0.284\n",
      "3     Melky Cabrera        0.280\n",
      "4      Alex Bregman        0.273\n"
     ]
    }
   ],
   "source": [
    "import pandas as pd\n",
    "\n",
    "rf = pd.DataFrame([['Trevor Story', 0.336], \n",
    "                   ['Charlie Blackmon', 0.284], \n",
    "                   ['Chris Iannetta', 0.284], \n",
    "                   ['Melky Cabrera', 0.28], \n",
    "                   ['Alex Bregman', 0.273]],\n",
    "columns= ['Player', 'Probability']\n",
    ")\n",
    "\n",
    "print(rf)"
   ]
  },
  {
   "cell_type": "markdown",
   "metadata": {},
   "source": [
    "### Logistic Regression:"
   ]
  },
  {
   "cell_type": "code",
   "execution_count": 2,
   "metadata": {},
   "outputs": [
    {
     "name": "stdout",
     "output_type": "stream",
     "text": [
      "             Player  Probability\n",
      "0       Alex Gordon        0.346\n",
      "1  Charlie Blackmon        0.339\n",
      "2       Gio Urshela        0.297\n",
      "3    Didi Gregorius        0.297\n",
      "4      Alex Bregman        0.295\n"
     ]
    }
   ],
   "source": [
    "lr = pd.DataFrame([['Alex Gordon', 0.346], \n",
    "                   ['Charlie Blackmon', 0.339], \n",
    "                   ['Gio Urshela', 0.297], \n",
    "                   ['Didi Gregorius', 0.297], \n",
    "                   ['Alex Bregman', 0.295]],\n",
    "columns= ['Player', 'Probability']\n",
    ")\n",
    "\n",
    "print(lr)"
   ]
  },
  {
   "cell_type": "markdown",
   "metadata": {},
   "source": [
    "#### Charlie Blackmon"
   ]
  },
  {
   "cell_type": "markdown",
   "metadata": {},
   "source": [
    "He's here! - And home to face Madison Bumgarner. Blackmon is 14/39 (.359) against Bumgarner."
   ]
  },
  {
   "cell_type": "markdown",
   "metadata": {},
   "source": [
    "#### Alex Bregman"
   ]
  },
  {
   "cell_type": "markdown",
   "metadata": {},
   "source": [
    "Bregman will face Marco Gonzalez. He is 6/11 (.545) against him with a handedness advantage."
   ]
  },
  {
   "cell_type": "markdown",
   "metadata": {},
   "source": [
    "### Program Update:"
   ]
  },
  {
   "cell_type": "markdown",
   "metadata": {},
   "source": [
    "I know how I can improve my models and plan on adding the improvements sometime tomorrow. I'll also be testing out a new model and may add it to the program if it reports a high enough testing accuracy. My hope is that these improvements will make the program more consistent by cutting down on no pick days and improving accuracy."
   ]
  }
 ],
 "metadata": {
  "kernelspec": {
   "display_name": "Python 3",
   "language": "python",
   "name": "python3"
  },
  "language_info": {
   "codemirror_mode": {
    "name": "ipython",
    "version": 3
   },
   "file_extension": ".py",
   "mimetype": "text/x-python",
   "name": "python",
   "nbconvert_exporter": "python",
   "pygments_lexer": "ipython3",
   "version": "3.7.2"
  }
 },
 "nbformat": 4,
 "nbformat_minor": 2
}
