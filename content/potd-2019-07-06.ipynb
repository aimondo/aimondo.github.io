{
 "cells": [
  {
   "cell_type": "markdown",
   "metadata": {},
   "source": [
    "# POTD (Pick of the Day) - DOUBLE DOWN!!!\n",
    "### Double Down - Charlie Blackmon & Nolan Arenado"
   ]
  },
  {
   "cell_type": "markdown",
   "metadata": {},
   "source": [
    "### Random Forest:"
   ]
  },
  {
   "cell_type": "code",
   "execution_count": 1,
   "metadata": {},
   "outputs": [
    {
     "name": "stdout",
     "output_type": "stream",
     "text": [
      "             Player  Probability\n",
      "0  Charlie Blackmon        0.344\n",
      "1     Nolan Arenado        0.294\n",
      "2      Tyler Naquin        0.294\n",
      "3      Trevor Story        0.291\n",
      "4   Xander Bogaerts        0.290\n"
     ]
    }
   ],
   "source": [
    "import pandas as pd\n",
    "\n",
    "rf = pd.DataFrame([['Charlie Blackmon', 0.344], \n",
    "                   ['Nolan Arenado', 0.294], \n",
    "                   ['Tyler Naquin', 0.294], \n",
    "                   ['Trevor Story', 0.291], \n",
    "                   ['Xander Bogaerts', 0.29]]\n",
    ",\n",
    "columns= ['Player', 'Probability']\n",
    ")\n",
    "\n",
    "print(rf)"
   ]
  },
  {
   "cell_type": "markdown",
   "metadata": {},
   "source": [
    "### Logistic Regression:"
   ]
  },
  {
   "cell_type": "code",
   "execution_count": 2,
   "metadata": {},
   "outputs": [
    {
     "name": "stdout",
     "output_type": "stream",
     "text": [
      "             Player  Probability\n",
      "0  Charlie Blackmon        0.432\n",
      "1  Paul Goldschmidt        0.401\n",
      "2    Gordon Beckham        0.360\n",
      "3       Alex Gordon        0.339\n",
      "4     Nolan Arenado        0.339\n"
     ]
    }
   ],
   "source": [
    "lr = pd.DataFrame([['Charlie Blackmon', 0.432], \n",
    "                   ['Paul Goldschmidt', 0.401], \n",
    "                   ['Gordon Beckham', 0.36], \n",
    "                   ['Alex Gordon', 0.339], \n",
    "                   ['Nolan Arenado', 0.339]],\n",
    "columns= ['Player', 'Probability']\n",
    ")\n",
    "\n",
    "print(lr)"
   ]
  },
  {
   "cell_type": "markdown",
   "metadata": {},
   "source": [
    "#### Charlie Blackmon"
   ]
  },
  {
   "cell_type": "markdown",
   "metadata": {},
   "source": [
    "Both models agree that Blackmon is the best pick today. He is 19/42 (.452) against Robbie Ray."
   ]
  },
  {
   "cell_type": "markdown",
   "metadata": {},
   "source": [
    "#### Nolan Arenado"
   ]
  },
  {
   "cell_type": "markdown",
   "metadata": {},
   "source": [
    "Arenado is 14/38 (.368) against Ray with a handedness advantage."
   ]
  }
 ],
 "metadata": {
  "kernelspec": {
   "display_name": "Python 3",
   "language": "python",
   "name": "python3"
  },
  "language_info": {
   "codemirror_mode": {
    "name": "ipython",
    "version": 3
   },
   "file_extension": ".py",
   "mimetype": "text/x-python",
   "name": "python",
   "nbconvert_exporter": "python",
   "pygments_lexer": "ipython3",
   "version": "3.7.2"
  }
 },
 "nbformat": 4,
 "nbformat_minor": 2
}
