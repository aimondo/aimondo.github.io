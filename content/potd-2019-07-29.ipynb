{
 "cells": [
  {
   "cell_type": "markdown",
   "metadata": {},
   "source": [
    "# POTD (Pick of the Day) - Charlie Blackmon"
   ]
  },
  {
   "cell_type": "markdown",
   "metadata": {},
   "source": [
    "### Random Forest:"
   ]
  },
  {
   "cell_type": "code",
   "execution_count": 1,
   "metadata": {},
   "outputs": [
    {
     "name": "stdout",
     "output_type": "stream",
     "text": [
      "             Player  Probability\n",
      "0  Charlie Blackmon        0.316\n",
      "1     Justin Turner        0.313\n",
      "2     Victor Robles        0.310\n",
      "3      Tony Wolters        0.288\n",
      "4      Corey Seager        0.286\n"
     ]
    }
   ],
   "source": [
    "import pandas as pd\n",
    "\n",
    "rf = pd.DataFrame([['Charlie Blackmon', 0.316], \n",
    "                   ['Justin Turner', 0.313], \n",
    "                   ['Victor Robles', 0.31], \n",
    "                   ['Tony Wolters', 0.288], \n",
    "                   ['Corey Seager', 0.286]],\n",
    "columns= ['Player', 'Probability']\n",
    ")\n",
    "\n",
    "print(rf)"
   ]
  },
  {
   "cell_type": "markdown",
   "metadata": {},
   "source": [
    "### Logistic Regression:"
   ]
  },
  {
   "cell_type": "code",
   "execution_count": 2,
   "metadata": {},
   "outputs": [
    {
     "name": "stdout",
     "output_type": "stream",
     "text": [
      "             Player  Probability\n",
      "0    Cody Bellinger        0.325\n",
      "1  Charlie Blackmon        0.322\n",
      "2    Howie Kendrick        0.322\n",
      "3      Brian Dozier        0.303\n",
      "4        Joey Votto        0.300\n"
     ]
    }
   ],
   "source": [
    "lr = pd.DataFrame([['Cody Bellinger', 0.325], \n",
    "                   ['Charlie Blackmon', 0.322], \n",
    "                   ['Howie Kendrick', 0.322], \n",
    "                   ['Brian Dozier', 0.303], \n",
    "                   ['Joey Votto', 0.3]],\n",
    "columns= ['Player', 'Probability']\n",
    ")\n",
    "\n",
    "print(lr)"
   ]
  },
  {
   "cell_type": "markdown",
   "metadata": {},
   "source": [
    "#### Charlie Blackmon"
   ]
  },
  {
   "cell_type": "markdown",
   "metadata": {},
   "source": [
    "Blackmon will face Kenta Maeda in Coors. He is 7/22 (.318) against him with a handedness advantage."
   ]
  }
 ],
 "metadata": {
  "kernelspec": {
   "display_name": "Python 3",
   "language": "python",
   "name": "python3"
  },
  "language_info": {
   "codemirror_mode": {
    "name": "ipython",
    "version": 3
   },
   "file_extension": ".py",
   "mimetype": "text/x-python",
   "name": "python",
   "nbconvert_exporter": "python",
   "pygments_lexer": "ipython3",
   "version": "3.7.2"
  }
 },
 "nbformat": 4,
 "nbformat_minor": 2
}
