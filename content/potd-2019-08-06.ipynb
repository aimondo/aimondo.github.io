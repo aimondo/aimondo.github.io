{
 "cells": [
  {
   "cell_type": "markdown",
   "metadata": {},
   "source": [
    "# POTD (Pick of the Day) - Christian Yelich"
   ]
  },
  {
   "cell_type": "markdown",
   "metadata": {},
   "source": [
    "### Random Forest:"
   ]
  },
  {
   "cell_type": "code",
   "execution_count": 2,
   "metadata": {},
   "outputs": [
    {
     "name": "stdout",
     "output_type": "stream",
     "text": [
      "             Player  Probability\n",
      "0        Jose Abreu        0.327\n",
      "1  Christian Yelich        0.323\n",
      "2      Miguel Rojas        0.323\n",
      "3    Mike Moustakas        0.320\n",
      "4     Evan Longoria        0.320\n"
     ]
    }
   ],
   "source": [
    "import pandas as pd\n",
    "\n",
    "rf = pd.DataFrame([['Jose Abreu', 0.327], \n",
    "                   ['Christian Yelich', 0.323], \n",
    "                   ['Miguel Rojas', 0.323], \n",
    "                   ['Mike Moustakas', 0.32], \n",
    "                   ['Evan Longoria', 0.32]],\n",
    "columns= ['Player', 'Probability']\n",
    ")\n",
    "\n",
    "print(rf)"
   ]
  },
  {
   "cell_type": "markdown",
   "metadata": {},
   "source": [
    "### Logistic Regression:"
   ]
  },
  {
   "cell_type": "code",
   "execution_count": 4,
   "metadata": {},
   "outputs": [
    {
     "name": "stdout",
     "output_type": "stream",
     "text": [
      "             Player  Probability\n",
      "0      Trevor Story        0.505\n",
      "1  Paul Goldschmidt        0.467\n",
      "2      Adam Frazier        0.428\n",
      "3    Starling Marte        0.344\n",
      "4  Christian Yelich        0.327\n"
     ]
    }
   ],
   "source": [
    "lr = pd.DataFrame([['Trevor Story', 0.505], \n",
    "                   ['Paul Goldschmidt', 0.467], \n",
    "                   ['Adam Frazier', 0.428], \n",
    "                   ['Starling Marte', 0.344], \n",
    "                   ['Christian Yelich', 0.327]],\n",
    "columns= ['Player', 'Probability']\n",
    ")\n",
    "\n",
    "print(lr)"
   ]
  },
  {
   "cell_type": "markdown",
   "metadata": {},
   "source": [
    "#### Christian Yelich"
   ]
  },
  {
   "cell_type": "markdown",
   "metadata": {},
   "source": [
    "Yelich is 4/11 (.364) against Steven Brault, who will be returning from a shoulder injury today."
   ]
  }
 ],
 "metadata": {
  "kernelspec": {
   "display_name": "Python 3",
   "language": "python",
   "name": "python3"
  },
  "language_info": {
   "codemirror_mode": {
    "name": "ipython",
    "version": 3
   },
   "file_extension": ".py",
   "mimetype": "text/x-python",
   "name": "python",
   "nbconvert_exporter": "python",
   "pygments_lexer": "ipython3",
   "version": "3.7.2"
  }
 },
 "nbformat": 4,
 "nbformat_minor": 2
}
