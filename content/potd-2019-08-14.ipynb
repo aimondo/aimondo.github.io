{
 "cells": [
  {
   "cell_type": "markdown",
   "metadata": {},
   "source": [
    "# POTD (Pick of the Day) - Mike Moustakas"
   ]
  },
  {
   "cell_type": "markdown",
   "metadata": {},
   "source": [
    "### Random Forest:"
   ]
  },
  {
   "cell_type": "code",
   "execution_count": 1,
   "metadata": {},
   "outputs": [
    {
     "name": "stdout",
     "output_type": "stream",
     "text": [
      "           Player  Probability\n",
      "0     Ketel Marte        0.325\n",
      "1   Wilmer Flores        0.323\n",
      "2  Mike Moustakas        0.320\n",
      "3  Carlos Santana        0.317\n",
      "4      Nick Ahmed        0.317\n"
     ]
    }
   ],
   "source": [
    "import pandas as pd\n",
    "\n",
    "rf = pd.DataFrame([['Ketel Marte', 0.325], \n",
    "                   ['Wilmer Flores', 0.323], \n",
    "                   ['Mike Moustakas', 0.32], \n",
    "                   ['Carlos Santana', 0.317], \n",
    "                   ['Nick Ahmed', 0.317]],\n",
    "columns= ['Player', 'Probability']\n",
    ")\n",
    "\n",
    "print(rf)"
   ]
  },
  {
   "cell_type": "markdown",
   "metadata": {},
   "source": [
    "### Logistic Regression:"
   ]
  },
  {
   "cell_type": "code",
   "execution_count": 2,
   "metadata": {},
   "outputs": [
    {
     "name": "stdout",
     "output_type": "stream",
     "text": [
      "             Player  Probability\n",
      "0  Charlie Blackmon        0.732\n",
      "1     Nolan Arenado        0.498\n",
      "2    Mike Moustakas        0.485\n",
      "3   Freddie Freeman        0.445\n",
      "4       Ian Desmond        0.404\n"
     ]
    }
   ],
   "source": [
    "lr = pd.DataFrame([['Charlie Blackmon', 0.732], \n",
    "                   ['Nolan Arenado', 0.498], \n",
    "                   ['Mike Moustakas', 0.485], \n",
    "                   ['Freddie Freeman', 0.445], \n",
    "                   ['Ian Desmond', 0.404]],\n",
    "columns= ['Player', 'Probability']\n",
    ")\n",
    "\n",
    "print(lr)"
   ]
  },
  {
   "cell_type": "markdown",
   "metadata": {},
   "source": [
    "#### Mike Moustakas"
   ]
  },
  {
   "cell_type": "markdown",
   "metadata": {},
   "source": [
    "Will face Kyle Gibson. He is 11/35 (.314) against him with a handedness advantage."
   ]
  }
 ],
 "metadata": {
  "kernelspec": {
   "display_name": "Python 3",
   "language": "python",
   "name": "python3"
  },
  "language_info": {
   "codemirror_mode": {
    "name": "ipython",
    "version": 3
   },
   "file_extension": ".py",
   "mimetype": "text/x-python",
   "name": "python",
   "nbconvert_exporter": "python",
   "pygments_lexer": "ipython3",
   "version": "3.7.2"
  }
 },
 "nbformat": 4,
 "nbformat_minor": 2
}
