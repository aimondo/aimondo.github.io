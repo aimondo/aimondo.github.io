{
 "cells": [
  {
   "cell_type": "markdown",
   "metadata": {},
   "source": [
    "# POTD (Pick of the Day) - Marcus Semien"
   ]
  },
  {
   "cell_type": "markdown",
   "metadata": {},
   "source": [
    "### Random Forest:"
   ]
  },
  {
   "cell_type": "code",
   "execution_count": 1,
   "metadata": {},
   "outputs": [
    {
     "name": "stdout",
     "output_type": "stream",
     "text": [
      "          Player  Probability\n",
      "0  Marcus Semien        0.279\n",
      "1      Wil Myers        0.268\n",
      "2  Mark Reynolds        0.267\n",
      "3     Mike Trout        0.267\n",
      "4    Nelson Cruz        0.265\n"
     ]
    }
   ],
   "source": [
    "import pandas as pd\n",
    "import plotly.plotly as py\n",
    "import plotly.figure_factory as ff\n",
    "import plotly.graph_objs as go\n",
    "\n",
    "rf = pd.DataFrame([['Marcus Semien', 0.279], \n",
    "                   ['Wil Myers', 0.268], \n",
    "                   ['Mark Reynolds', 0.267], \n",
    "                   ['Mike Trout', 0.267], \n",
    "                   ['Nelson Cruz', 0.265]],\n",
    "columns= ['Player', 'Probability']\n",
    ")\n",
    "\n",
    "print(rf)"
   ]
  },
  {
   "cell_type": "markdown",
   "metadata": {},
   "source": [
    "### Logistic Regression:"
   ]
  },
  {
   "cell_type": "code",
   "execution_count": 2,
   "metadata": {},
   "outputs": [
    {
     "name": "stdout",
     "output_type": "stream",
     "text": [
      "          Player  Probability\n",
      "0  Marcus Semien        0.326\n",
      "1    Khris Davis        0.314\n",
      "2    Kyle Seager        0.311\n",
      "3  Jorge Polanco        0.307\n",
      "4      Wil Myers        0.300\n"
     ]
    }
   ],
   "source": [
    "lr = pd.DataFrame([['Marcus Semien', 0.326], \n",
    "                   ['Khris Davis', 0.314], \n",
    "                   ['Kyle Seager', 0.311], \n",
    "                   ['Jorge Polanco', 0.307], \n",
    "                   ['Wil Myers', 0.3]],\n",
    "columns= ['Player', 'Probability']\n",
    ")\n",
    "\n",
    "print(lr)"
   ]
  },
  {
   "cell_type": "markdown",
   "metadata": {},
   "source": [
    "#### Marcus Semien"
   ]
  },
  {
   "cell_type": "markdown",
   "metadata": {},
   "source": [
    "Semien will see Tyler Skaggs, who he is 10/21 (.476) against with a handedness advantage (righty vs. lefty). Semien has been good against lefties (.288) and typically bats leadoff, but Skaggs has been great at home (2.28 ERA). I'll probably double up with Semien and Khris Davis, who has similar numbers against Skaggs (.389 BA), and the handedness advantage to go with it."
   ]
  }
 ],
 "metadata": {
  "kernelspec": {
   "display_name": "Python 3",
   "language": "python",
   "name": "python3"
  },
  "language_info": {
   "codemirror_mode": {
    "name": "ipython",
    "version": 3
   },
   "file_extension": ".py",
   "mimetype": "text/x-python",
   "name": "python",
   "nbconvert_exporter": "python",
   "pygments_lexer": "ipython3",
   "version": "3.7.2"
  }
 },
 "nbformat": 4,
 "nbformat_minor": 2
}
