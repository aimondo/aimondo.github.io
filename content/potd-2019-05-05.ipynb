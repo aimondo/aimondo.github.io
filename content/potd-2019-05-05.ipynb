{
 "cells": [
  {
   "cell_type": "markdown",
   "metadata": {},
   "source": [
    "# POTD (Pick of the Day) - David Peralta"
   ]
  },
  {
   "cell_type": "markdown",
   "metadata": {},
   "source": [
    "### Random Forest:"
   ]
  },
  {
   "cell_type": "code",
   "execution_count": 1,
   "metadata": {},
   "outputs": [
    {
     "name": "stdout",
     "output_type": "stream",
     "text": [
      "          Player  Probability\n",
      "0  Mark Reynolds        0.376\n",
      "1   Trevor Story        0.306\n",
      "2  David Peralta        0.297\n"
     ]
    }
   ],
   "source": [
    "import pandas as pd\n",
    "import plotly.plotly as py\n",
    "import plotly.figure_factory as ff\n",
    "import plotly.graph_objs as go\n",
    "\n",
    "rf = pd.DataFrame([['Mark Reynolds', 0.376], \n",
    "                   ['Trevor Story', 0.306], \n",
    "                   ['David Peralta', 0.297]],\n",
    "columns= ['Player', 'Probability']\n",
    ")\n",
    "\n",
    "print(rf)"
   ]
  },
  {
   "cell_type": "markdown",
   "metadata": {},
   "source": [
    "### Logistic Regression:"
   ]
  },
  {
   "cell_type": "code",
   "execution_count": 2,
   "metadata": {},
   "outputs": [
    {
     "name": "stdout",
     "output_type": "stream",
     "text": [
      "             Player  Probability\n",
      "0     David Peralta        0.363\n",
      "1     Albert Pujols        0.350\n",
      "2  Asdrubal Cabrera        0.340\n"
     ]
    }
   ],
   "source": [
    "lr = pd.DataFrame([['David Peralta', 0.363], \n",
    "                   ['Albert Pujols', 0.35], \n",
    "                   ['Asdrubal Cabrera', 0.34]],\n",
    "columns= ['Player', 'Probability']\n",
    ")\n",
    "\n",
    "print(lr)"
   ]
  },
  {
   "cell_type": "markdown",
   "metadata": {},
   "source": [
    "The Random Forest seems to really like the game in Coors field today. Both models like Peralta, who will face off against German Marquez."
   ]
  },
  {
   "cell_type": "markdown",
   "metadata": {},
   "source": [
    "#### David Peralta"
   ]
  },
  {
   "cell_type": "markdown",
   "metadata": {},
   "source": [
    "Peralta is 13/29 (.448) against Marquez and carries a handedness advantage (lefty vs. righty). Peralta has been great so far this season, hitting .309. "
   ]
  },
  {
   "cell_type": "markdown",
   "metadata": {},
   "source": [
    "The Random Forest received another wave of tuning last night. I'll now start to tune the Logistic Regression model, which will take another couple of days to complete. I've also raised the probability threshold to 30% for now. This just means that a player needs to have at least a 30% chance of getting a hit per at-bat against the starting pitcher."
   ]
  },
  {
   "cell_type": "markdown",
   "metadata": {},
   "source": [
    "Once I've finished tuning my models, I want to implement a streak counter variable for my program to use when making picks. The idea is that this will make it always make a pick when it is at 0, but be more careful with making picks as its streak advances."
   ]
  }
 ],
 "metadata": {
  "kernelspec": {
   "display_name": "Python 3",
   "language": "python",
   "name": "python3"
  },
  "language_info": {
   "codemirror_mode": {
    "name": "ipython",
    "version": 3
   },
   "file_extension": ".py",
   "mimetype": "text/x-python",
   "name": "python",
   "nbconvert_exporter": "python",
   "pygments_lexer": "ipython3",
   "version": "3.7.2"
  }
 },
 "nbformat": 4,
 "nbformat_minor": 2
}
