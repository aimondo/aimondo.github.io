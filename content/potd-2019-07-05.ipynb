{
 "cells": [
  {
   "cell_type": "markdown",
   "metadata": {},
   "source": [
    "# POTD (Pick of the Day) - DOUBLE DOWN!!!\n",
    "### Double Down - Starling Marte & Adam Frazier"
   ]
  },
  {
   "cell_type": "markdown",
   "metadata": {},
   "source": [
    "### Random Forest:"
   ]
  },
  {
   "cell_type": "code",
   "execution_count": 1,
   "metadata": {},
   "outputs": [
    {
     "name": "stdout",
     "output_type": "stream",
     "text": [
      "            Player  Probability\n",
      "0   Starling Marte        0.333\n",
      "1    Mark Reynolds        0.323\n",
      "2     Adam Frazier        0.306\n",
      "3   Bryan Reynolds        0.296\n",
      "4  Eduardo Escobar        0.291\n"
     ]
    }
   ],
   "source": [
    "import pandas as pd\n",
    "\n",
    "rf = pd.DataFrame([['Starling Marte', 0.333], \n",
    "                   ['Mark Reynolds', 0.323], \n",
    "                   ['Adam Frazier', 0.306], \n",
    "                   ['Bryan Reynolds', 0.296], \n",
    "                   ['Eduardo Escobar', 0.291]]\n",
    ",\n",
    "columns= ['Player', 'Probability']\n",
    ")\n",
    "\n",
    "print(rf)"
   ]
  },
  {
   "cell_type": "markdown",
   "metadata": {},
   "source": [
    "### Logistic Regression:"
   ]
  },
  {
   "cell_type": "code",
   "execution_count": 2,
   "metadata": {},
   "outputs": [
    {
     "name": "stdout",
     "output_type": "stream",
     "text": [
      "           Player  Probability\n",
      "0  Starling Marte        0.344\n",
      "1     Eric Hosmer        0.324\n",
      "2   Daniel Murphy        0.324\n",
      "3    Adam Frazier        0.308\n",
      "4    Bryce Harper        0.294\n"
     ]
    }
   ],
   "source": [
    "lr = pd.DataFrame([['Starling Marte', 0.344], \n",
    "                   ['Eric Hosmer', 0.324], \n",
    "                   ['Daniel Murphy', 0.324], \n",
    "                   ['Adam Frazier', 0.308], \n",
    "                   ['Bryce Harper', 0.294]],\n",
    "columns= ['Player', 'Probability']\n",
    ")\n",
    "\n",
    "print(lr)"
   ]
  },
  {
   "cell_type": "markdown",
   "metadata": {},
   "source": [
    "#### Starling Marte"
   ]
  },
  {
   "cell_type": "markdown",
   "metadata": {},
   "source": [
    "Marte will face Zach Davies, who has given up 99 hits in 91.2 IP. Marte is 10/23 (.435) against him."
   ]
  },
  {
   "cell_type": "markdown",
   "metadata": {},
   "source": [
    "#### Adam Frazier"
   ]
  },
  {
   "cell_type": "markdown",
   "metadata": {},
   "source": [
    "Frazier should also face Davies out of the leadoff spot. He is 7/17 (.412) with a handedness advantage."
   ]
  }
 ],
 "metadata": {
  "kernelspec": {
   "display_name": "Python 3",
   "language": "python",
   "name": "python3"
  },
  "language_info": {
   "codemirror_mode": {
    "name": "ipython",
    "version": 3
   },
   "file_extension": ".py",
   "mimetype": "text/x-python",
   "name": "python",
   "nbconvert_exporter": "python",
   "pygments_lexer": "ipython3",
   "version": "3.7.2"
  }
 },
 "nbformat": 4,
 "nbformat_minor": 2
}
