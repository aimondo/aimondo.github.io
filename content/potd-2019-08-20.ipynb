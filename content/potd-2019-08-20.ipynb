{
 "cells": [
  {
   "cell_type": "markdown",
   "metadata": {},
   "source": [
    "# No Pick Today"
   ]
  },
  {
   "cell_type": "markdown",
   "metadata": {},
   "source": [
    "### Random Forest:"
   ]
  },
  {
   "cell_type": "code",
   "execution_count": 1,
   "metadata": {},
   "outputs": [
    {
     "name": "stdout",
     "output_type": "stream",
     "text": [
      "           Player  Probability\n",
      "0  Starling Marte        0.292\n",
      "1    Elvis Andrus        0.285\n",
      "2   Eddie Rosario        0.279\n",
      "3      Adam Eaton        0.278\n",
      "4   Orlando Arcia        0.275\n"
     ]
    }
   ],
   "source": [
    "import pandas as pd\n",
    "\n",
    "rf = pd.DataFrame([['Starling Marte', 0.292], \n",
    "                   ['Elvis Andrus', 0.285], \n",
    "                   ['Eddie Rosario', 0.279], \n",
    "                   ['Adam Eaton', 0.278], \n",
    "                   ['Orlando Arcia', 0.275]],\n",
    "columns= ['Player', 'Probability']\n",
    ")\n",
    "\n",
    "print(rf)"
   ]
  },
  {
   "cell_type": "markdown",
   "metadata": {},
   "source": [
    "### Logistic Regression:"
   ]
  },
  {
   "cell_type": "code",
   "execution_count": 2,
   "metadata": {},
   "outputs": [
    {
     "name": "stdout",
     "output_type": "stream",
     "text": [
      "          Player  Probability\n",
      "0     Nick Ahmed        0.308\n",
      "1    Ketel Marte        0.300\n",
      "2  Manny Machado        0.293\n",
      "3  Wilmer Flores        0.288\n",
      "4  Eddie Rosario        0.283\n"
     ]
    }
   ],
   "source": [
    "lr = pd.DataFrame([['Nick Ahmed', 0.308], \n",
    "                   ['Ketel Marte', 0.3], \n",
    "                   ['Manny Machado', 0.293], \n",
    "                   ['Wilmer Flores', 0.288], \n",
    "                   ['Eddie Rosario', 0.283]],\n",
    "columns= ['Player', 'Probability']\n",
    ")\n",
    "\n",
    "print(lr)"
   ]
  },
  {
   "cell_type": "markdown",
   "metadata": {},
   "source": [
    "Rosario is the unofficial pick of the day. His probability isn't high enough to be an official pick."
   ]
  }
 ],
 "metadata": {
  "kernelspec": {
   "display_name": "Python 3",
   "language": "python",
   "name": "python3"
  },
  "language_info": {
   "codemirror_mode": {
    "name": "ipython",
    "version": 3
   },
   "file_extension": ".py",
   "mimetype": "text/x-python",
   "name": "python",
   "nbconvert_exporter": "python",
   "pygments_lexer": "ipython3",
   "version": "3.7.2"
  }
 },
 "nbformat": 4,
 "nbformat_minor": 2
}
