{
 "cells": [
  {
   "cell_type": "markdown",
   "metadata": {},
   "source": [
    "# POTD (Pick of the Day) - DOUBLE DOWN!!!\n",
    "#### Double Down - Trevor Story & David Peralta"
   ]
  },
  {
   "cell_type": "markdown",
   "metadata": {},
   "source": [
    "### Random Forest:"
   ]
  },
  {
   "cell_type": "code",
   "execution_count": 1,
   "metadata": {},
   "outputs": [
    {
     "name": "stdout",
     "output_type": "stream",
     "text": [
      "          Player  Probability\n",
      "0  Mark Reynolds        0.323\n",
      "1   Trevor Story        0.309\n",
      "2  David Peralta        0.295\n",
      "3    Mike Zunino        0.281\n",
      "4      Juan Soto        0.279\n"
     ]
    }
   ],
   "source": [
    "import pandas as pd\n",
    "import plotly.plotly as py\n",
    "import plotly.figure_factory as ff\n",
    "import plotly.graph_objs as go\n",
    "\n",
    "rf = pd.DataFrame([['Mark Reynolds', 0.323], \n",
    "                   ['Trevor Story', 0.309], \n",
    "                   ['David Peralta', 0.295], \n",
    "                   ['Mike Zunino', 0.281], \n",
    "                   ['Juan Soto', 0.279]],\n",
    "columns= ['Player', 'Probability']\n",
    ")\n",
    "\n",
    "print(rf)"
   ]
  },
  {
   "cell_type": "markdown",
   "metadata": {},
   "source": [
    "### Logistic Regression:"
   ]
  },
  {
   "cell_type": "code",
   "execution_count": 2,
   "metadata": {},
   "outputs": [
    {
     "name": "stdout",
     "output_type": "stream",
     "text": [
      "          Player  Probability\n",
      "0   Buster Posey        0.330\n",
      "1   Trevor Story        0.325\n",
      "2  Melky Cabrera        0.306\n",
      "3   Mookie Betts        0.300\n",
      "4  David Peralta        0.299\n"
     ]
    }
   ],
   "source": [
    "lr = pd.DataFrame([['Buster Posey', 0.33], \n",
    "                   ['Trevor Story', 0.325], \n",
    "                   ['Melky Cabrera', 0.306], \n",
    "                   ['Mookie Betts', 0.3], \n",
    "                   ['David Peralta', 0.299]],\n",
    "columns= ['Player', 'Probability']\n",
    ")\n",
    "\n",
    "print(lr)"
   ]
  },
  {
   "cell_type": "markdown",
   "metadata": {},
   "source": [
    "#### Trevor Story"
   ]
  },
  {
   "cell_type": "markdown",
   "metadata": {},
   "source": [
    "Story will see Zack Greinke. He is 11/38 (.289) against him, so this should be an interesting showdown."
   ]
  },
  {
   "cell_type": "markdown",
   "metadata": {},
   "source": [
    "#### David Peralta"
   ]
  },
  {
   "cell_type": "markdown",
   "metadata": {},
   "source": [
    "Peralta will face off against Jon Gray. He is 8/18 (.444) against him with a handedness advantage. This is obviously a safer pick today."
   ]
  }
 ],
 "metadata": {
  "kernelspec": {
   "display_name": "Python 3",
   "language": "python",
   "name": "python3"
  },
  "language_info": {
   "codemirror_mode": {
    "name": "ipython",
    "version": 3
   },
   "file_extension": ".py",
   "mimetype": "text/x-python",
   "name": "python",
   "nbconvert_exporter": "python",
   "pygments_lexer": "ipython3",
   "version": "3.7.2"
  }
 },
 "nbformat": 4,
 "nbformat_minor": 2
}
