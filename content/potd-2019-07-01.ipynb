{
 "cells": [
  {
   "cell_type": "markdown",
   "metadata": {},
   "source": [
    "# No Pick Today"
   ]
  },
  {
   "cell_type": "markdown",
   "metadata": {},
   "source": [
    "### Random Forest:"
   ]
  },
  {
   "cell_type": "code",
   "execution_count": 1,
   "metadata": {},
   "outputs": [
    {
     "name": "stdout",
     "output_type": "stream",
     "text": [
      "             Player  Probability\n",
      "0        Joey Votto        0.277\n",
      "1  Christian Yelich        0.276\n",
      "2     Manny Machado        0.276\n",
      "3      Kole Calhoun        0.275\n",
      "4    Kyle Schwarber        0.273\n"
     ]
    }
   ],
   "source": [
    "import pandas as pd\n",
    "import plotly.plotly as py\n",
    "import plotly.figure_factory as ff\n",
    "import plotly.graph_objs as go\n",
    "\n",
    "rf = pd.DataFrame([['Joey Votto', 0.277], \n",
    "                   ['Christian Yelich', 0.276], \n",
    "                   ['Manny Machado', 0.276], \n",
    "                   ['Kole Calhoun', 0.275], \n",
    "                   ['Kyle Schwarber', 0.273]],\n",
    "columns= ['Player', 'Probability']\n",
    ")\n",
    "\n",
    "print(rf)"
   ]
  },
  {
   "cell_type": "markdown",
   "metadata": {},
   "source": [
    "### Logistic Regression:"
   ]
  },
  {
   "cell_type": "code",
   "execution_count": 2,
   "metadata": {},
   "outputs": [
    {
     "name": "stdout",
     "output_type": "stream",
     "text": [
      "            Player  Probability\n",
      "0    Manny Machado        0.295\n",
      "1   Kyle Schwarber        0.294\n",
      "2      Eric Hosmer        0.291\n",
      "3    Anthony Rizzo        0.284\n",
      "4  Jonathan Lucroy        0.280\n"
     ]
    }
   ],
   "source": [
    "lr = pd.DataFrame([['Manny Machado', 0.295], \n",
    "                   ['Kyle Schwarber', 0.294], \n",
    "                   ['Eric Hosmer', 0.291], \n",
    "                   ['Anthony Rizzo', 0.284], \n",
    "                   ['Jonathan Lucroy', 0.28]],\n",
    "columns= ['Player', 'Probability']\n",
    ")\n",
    "\n",
    "print(lr)"
   ]
  }
 ],
 "metadata": {
  "kernelspec": {
   "display_name": "Python 3",
   "language": "python",
   "name": "python3"
  },
  "language_info": {
   "codemirror_mode": {
    "name": "ipython",
    "version": 3
   },
   "file_extension": ".py",
   "mimetype": "text/x-python",
   "name": "python",
   "nbconvert_exporter": "python",
   "pygments_lexer": "ipython3",
   "version": "3.7.2"
  }
 },
 "nbformat": 4,
 "nbformat_minor": 2
}
