{
 "cells": [
  {
   "cell_type": "markdown",
   "metadata": {},
   "source": [
    "# No Pick Today"
   ]
  },
  {
   "cell_type": "markdown",
   "metadata": {},
   "source": [
    "### Random Forest:"
   ]
  },
  {
   "cell_type": "code",
   "execution_count": 1,
   "metadata": {},
   "outputs": [
    {
     "name": "stdout",
     "output_type": "stream",
     "text": [
      "           Player  Probability\n",
      "0    Jose Ramirez        0.334\n",
      "1       Jake Lamb        0.330\n",
      "2  Hanser Alberto        0.327\n",
      "3  Mike Moustakas        0.323\n",
      "4      Tommy Pham        0.323\n"
     ]
    }
   ],
   "source": [
    "import pandas as pd\n",
    "\n",
    "rf = pd.DataFrame([['Jose Ramirez', 0.334], \n",
    "                   ['Jake Lamb', 0.33], \n",
    "                   ['Hanser Alberto', 0.327], \n",
    "                   ['Mike Moustakas', 0.323], \n",
    "                   ['Tommy Pham', 0.323]],\n",
    "columns= ['Player', 'Probability']\n",
    ")\n",
    "\n",
    "print(rf)"
   ]
  },
  {
   "cell_type": "markdown",
   "metadata": {},
   "source": [
    "### Logistic Regression:"
   ]
  },
  {
   "cell_type": "code",
   "execution_count": 2,
   "metadata": {},
   "outputs": [
    {
     "name": "stdout",
     "output_type": "stream",
     "text": [
      "             Player  Probability\n",
      "0   Freddie Freeman        0.486\n",
      "1      Ronald Acuna        0.426\n",
      "2      Brian McCann        0.410\n",
      "3     David Peralta        0.409\n",
      "4  Francisco Lindor        0.390\n"
     ]
    }
   ],
   "source": [
    "lr = pd.DataFrame([['Freddie Freeman', 0.486], \n",
    "                   ['Ronald Acuna', 0.426], \n",
    "                   ['Brian McCann', 0.41], \n",
    "                   ['David Peralta', 0.409], \n",
    "                   ['Francisco Lindor', 0.39]],\n",
    "columns= ['Player', 'Probability']\n",
    ")\n",
    "\n",
    "print(lr)"
   ]
  }
 ],
 "metadata": {
  "kernelspec": {
   "display_name": "Python 3",
   "language": "python",
   "name": "python3"
  },
  "language_info": {
   "codemirror_mode": {
    "name": "ipython",
    "version": 3
   },
   "file_extension": ".py",
   "mimetype": "text/x-python",
   "name": "python",
   "nbconvert_exporter": "python",
   "pygments_lexer": "ipython3",
   "version": "3.7.2"
  }
 },
 "nbformat": 4,
 "nbformat_minor": 2
}
