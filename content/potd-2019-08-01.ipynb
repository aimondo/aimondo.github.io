{
 "cells": [
  {
   "cell_type": "markdown",
   "metadata": {},
   "source": [
    "# No Pick Today"
   ]
  },
  {
   "cell_type": "markdown",
   "metadata": {},
   "source": [
    "### Random Forest:"
   ]
  },
  {
   "cell_type": "code",
   "execution_count": 2,
   "metadata": {},
   "outputs": [
    {
     "name": "stdout",
     "output_type": "stream",
     "text": [
      "                  Player  Probability\n",
      "0        Lourdes Gurriel        0.301\n",
      "1          Phillip Ervin        0.294\n",
      "2           Danny Jansen        0.286\n",
      "3  Vladimir Guerrero Jr.        0.282\n",
      "4           Chance Sisco        0.279\n"
     ]
    }
   ],
   "source": [
    "import pandas as pd\n",
    "\n",
    "rf = pd.DataFrame([['Lourdes Gurriel', 0.301], \n",
    "                   ['Phillip Ervin', 0.294], \n",
    "                   ['Danny Jansen', 0.286], \n",
    "                   ['Vladimir Guerrero Jr.', 0.282], \n",
    "                   ['Chance Sisco', 0.279]],\n",
    "columns= ['Player', 'Probability']\n",
    ")\n",
    "\n",
    "print(rf)"
   ]
  },
  {
   "cell_type": "markdown",
   "metadata": {},
   "source": [
    "### Logistic Regression:"
   ]
  },
  {
   "cell_type": "code",
   "execution_count": 3,
   "metadata": {},
   "outputs": [
    {
     "name": "stdout",
     "output_type": "stream",
     "text": [
      "          Player  Probability\n",
      "0    Eric Hosmer        0.332\n",
      "1  Anthony Rizzo        0.312\n",
      "2    Yasiel Puig        0.296\n",
      "3      Joe Panik        0.290\n",
      "4  Manny Machado        0.288\n"
     ]
    }
   ],
   "source": [
    "lr = pd.DataFrame([['Eric Hosmer', 0.332], \n",
    "                   ['Anthony Rizzo', 0.312], \n",
    "                   ['Yasiel Puig', 0.296], \n",
    "                   ['Joe Panik', 0.29], \n",
    "                   ['Manny Machado', 0.288]],\n",
    "columns= ['Player', 'Probability']\n",
    ")\n",
    "\n",
    "print(lr)"
   ]
  },
  {
   "cell_type": "markdown",
   "metadata": {},
   "source": [
    "My models rarely agree on players since updating them with recent data. It has also been awhile since we've doubled down. This is the third no pick day in a row. I'll likely need to tweak my Random Forest this weekend to get them on the same page. I've also considered adding a new third model for quite some time now, so that may happen too."
   ]
  }
 ],
 "metadata": {
  "kernelspec": {
   "display_name": "Python 3",
   "language": "python",
   "name": "python3"
  },
  "language_info": {
   "codemirror_mode": {
    "name": "ipython",
    "version": 3
   },
   "file_extension": ".py",
   "mimetype": "text/x-python",
   "name": "python",
   "nbconvert_exporter": "python",
   "pygments_lexer": "ipython3",
   "version": "3.7.2"
  }
 },
 "nbformat": 4,
 "nbformat_minor": 2
}
