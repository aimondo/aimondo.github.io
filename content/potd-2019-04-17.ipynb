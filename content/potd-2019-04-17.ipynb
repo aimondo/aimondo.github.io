{
 "cells": [
  {
   "cell_type": "markdown",
   "metadata": {},
   "source": [
    "# POTD (Pick of the Day)\n",
    "#### There is no Pick of the Day today. We will use it as an opportunity to recap the performance of the models so far."
   ]
  },
  {
   "cell_type": "code",
   "execution_count": 4,
   "metadata": {},
   "outputs": [],
   "source": [
    "import pandas as pd\n",
    "import plotly.plotly as py\n",
    "import plotly.figure_factory as ff\n",
    "import plotly.graph_objs as go\n",
    "\n",
    "df = pd.DataFrame([\n",
    "['3/28/2019','Odubel Herrera',0.34,1,1],\n",
    "['3/29/2019','Albert Pujols',0.344,0,0],\n",
    "['3/30/2019','Nelson Cruz',0.38,0,0],\n",
    "['3/31/2019','Eddie Rosario',0.36,0,0],\n",
    "['4/1/2019','Rougned Odor',0.351,1,1],\n",
    "['4/2/2019','Shin-Soo Choo',0.377,1,2],\n",
    "['4/3/2019','Jose Abreu',0.404,1,3],\n",
    "['4/4/2019', 'Anthony Rendon',0.326,1,4],\n",
    "['4/5/2019','Enrique Hernandez',0.417,0,0],\n",
    "['4/6/2019','Charlie Blackmon',0.399,0,0],\n",
    "['4/7/2019','Justin Turner',0.378,1,1],\n",
    "['4/8/2019','Ozzie Albies',0.291,0,0],\n",
    "['4/9/2019','Avisail Garcia',0.287,1,1],\n",
    "['4/10/2019','Carlos Correa',0.281,1,2],\n",
    "['4/11/2019','David Freese',0.284,1,3],\n",
    "['4/12/2019','Jonathan Lucroy',0.295,1,4],\n",
    "['4/13/2019','Miguel Cabrera',0.285,1,5],\n",
    "['4/14/2019','Paul Goldschmidt',0.28,1,6],\n",
    "['4/15/2019','Justin Smoak',0.292,1,7],\n",
    "['4/16/2019','Marcus Semien',0.283,0,0]], \n",
    "columns=['Date', 'Random Forest', 'Probability', 'Result', 'Streak'])\n",
    "\n",
    "df['Date'] = pd.to_datetime(df['Date'])"
   ]
  },
  {
   "cell_type": "code",
   "execution_count": 18,
   "metadata": {},
   "outputs": [
    {
     "data": {
      "text/html": [
       "<iframe id=\"igraph\" scrolling=\"no\" style=\"border:none;\" seamless=\"seamless\" src=\"https://plot.ly/~AimonAllouache/20.embed\" height=\"525px\" width=\"100%\"></iframe>"
      ],
      "text/plain": [
       "<plotly.tools.PlotlyDisplay object>"
      ]
     },
     "execution_count": 18,
     "metadata": {},
     "output_type": "execute_result"
    }
   ],
   "source": [
    "trace1 = go.Scatter(\n",
    "    x = df.Date,\n",
    "    y = df.Streak,\n",
    "    mode = 'lines+markers',\n",
    "    name = 'Streak',\n",
    "    text = df['Random Forest']\n",
    ")\n",
    "\n",
    "trace2 = go.Scatter(\n",
    "    x = df.Date,\n",
    "    y = df.Probability,\n",
    "    mode = 'lines+markers',\n",
    "    name = 'Probability',\n",
    "    text = df['Random Forest'],\n",
    "    yaxis='y2'\n",
    ")\n",
    "\n",
    "layout = go.Layout(\n",
    "    showlegend=False,\n",
    "    title='Pick of the Day Random Forest Performance (4/17)',\n",
    "    yaxis=dict(\n",
    "        title='Streak'\n",
    "    ),\n",
    "    yaxis2=dict(\n",
    "        title='Probability',\n",
    "        overlaying='y',\n",
    "        side='right',\n",
    "        showgrid=False\n",
    "    )\n",
    ")\n",
    "\n",
    "data = [trace1, trace2]\n",
    "\n",
    "fig = go.Figure(data=data, layout=layout)\n",
    "py.iplot(fig, filename='potd-rf-performance-04-17-19')"
   ]
  }
 ],
 "metadata": {
  "kernelspec": {
   "display_name": "Python 3",
   "language": "python",
   "name": "python3"
  },
  "language_info": {
   "codemirror_mode": {
    "name": "ipython",
    "version": 3
   },
   "file_extension": ".py",
   "mimetype": "text/x-python",
   "name": "python",
   "nbconvert_exporter": "python",
   "pygments_lexer": "ipython3",
   "version": "3.6.3"
  }
 },
 "nbformat": 4,
 "nbformat_minor": 2
}
