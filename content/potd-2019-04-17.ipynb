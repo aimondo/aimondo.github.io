{
 "cells": [
  {
   "cell_type": "markdown",
   "metadata": {},
   "source": [
    "# POTD (Pick of the Day)\n",
    "#### There is no Pick of the Day today. We will use it as an opportunity to recap the performance of the models so far.\n",
    "\n",
    "That's right. No pick today...Boo! But our POTD yesterday got a hit! So, hopefully your streak is still\n",
    "active.\n",
    "Today we want to highlight the success of our models and provide insight into their results so far.\n",
    "\n",
    "### Random Forest\n",
    "Our Random Forest is currently 13/19 when looking at its top picks each day. A 68% success rate\n",
    "isn't encouraging at all. For reference, selecting a random player each day grants you ~65% chance\n",
    "of getting a hit. However, until recently, our models were only trained on 2 seasons worth of at-bats\n",
    "(~325,000 samples). We acquired every at-bat from 2018 (~151,000 samples), prepared it, trained\n",
    "both of our models with it, and re-tuned their parameters. Since then, the random forest is 7/8\n",
    "(87.5%). We are a lot more confident in it after the improvement, but it's not. Prior to adding more\n",
    "data, it was assigining players fairly high probabilities (Mean: 37%). The new data made it more\n",
    "accurate but less confident (Mean: 28.6%). While this is interesting, we like that it's being more\n",
    "conservative. Our random forest's highest streak so far is its current one: 7\n",
    "\n",
    "### Logistic Regression\n",
    "Our Logistic Regression model has been more impressive thus far. It's currently 16/20 (80%), which\n",
    "proves to be a better bet than selecting one of the top4 most popular picks each day (~70%). This\n",
    "model has certainly been safer than our Random Forest so far. Although, it should be reiterated that\n",
    "the forest has been on a tear since we fed it more at-bats and re-tuned it. The logistic regression\n",
    "model's highest streak was 8.\n",
    "\n",
    "### Our Strategy\n",
    "Here is what matters most. How has our strategy been so far? Have all those boring \"no pick days\"\n",
    "been worth it? Our strategy is currently 11/13 (84.6%), which is pretty darn good. So far, it proves\n",
    "that it's better to combine our two models together with our formulated pick strategy than to use one\n",
    "over another. Using our strategy, our highest (and first) streak got to 10. We are currently back to 5,\n",
    "but there is a lot of baseball left to be played!\n",
    "\n",
    "### Today's Output\n",
    "Here is the output of our program for today:\n",
    "Random Forest: Cesar Hernandez 0.282 Ender Inciarte 0.282\n",
    "Logistic Regression: Zack Cozart 0.365 Dustin Pedroia 0.311\n",
    "If you really can't wait until tomorrow (possibly) to make a pick, logistic regression is very confident in\n",
    "Zack Cozart for the day (36.5% chance of a hit per at-bat!). However, since random forest disagrees,\n",
    "so do we.\n"
   ]
  },
  {
   "cell_type": "code",
   "execution_count": 4,
   "metadata": {},
   "outputs": [],
   "source": [
    "import pandas as pd\n",
    "import plotly.plotly as py\n",
    "import plotly.figure_factory as ff\n",
    "import plotly.graph_objs as go\n",
    "\n",
    "# Random Forest\n",
    "df = pd.DataFrame([\n",
    "['3/28/2019','Odubel Herrera',0.34,1,1],\n",
    "['3/29/2019','Albert Pujols',0.344,0,0],\n",
    "['3/30/2019','Nelson Cruz',0.38,0,0],\n",
    "['3/31/2019','Eddie Rosario',0.36,0,0],\n",
    "['4/1/2019','Rougned Odor',0.351,1,1],\n",
    "['4/2/2019','Shin-Soo Choo',0.377,1,2],\n",
    "['4/3/2019','Jose Abreu',0.404,1,3],\n",
    "['4/4/2019', 'Anthony Rendon',0.326,1,4],\n",
    "['4/5/2019','Enrique Hernandez',0.417,0,0],\n",
    "['4/6/2019','Charlie Blackmon',0.399,0,0],\n",
    "['4/7/2019','Justin Turner',0.378,1,1],\n",
    "['4/8/2019','Ozzie Albies',0.291,0,0],\n",
    "['4/9/2019','Avisail Garcia',0.287,1,1],\n",
    "['4/10/2019','Carlos Correa',0.281,1,2],\n",
    "['4/11/2019','David Freese',0.284,1,3],\n",
    "['4/12/2019','Jonathan Lucroy',0.295,1,4],\n",
    "['4/13/2019','Miguel Cabrera',0.285,1,5],\n",
    "['4/14/2019','Paul Goldschmidt',0.28,1,6],\n",
    "['4/15/2019','Justin Smoak',0.292,1,7],\n",
    "['4/16/2019','Marcus Semien',0.283,0,0]], \n",
    "columns=['Date', 'Random Forest', 'Probability', 'Result', 'Streak'])\n",
    "\n",
    "df['Date'] = pd.to_datetime(df['Date'])"
   ]
  },
  {
   "cell_type": "code",
   "execution_count": 18,
   "metadata": {},
   "outputs": [
    {
     "data": {
      "text/html": [
       "<iframe id=\"igraph\" scrolling=\"no\" style=\"border:none;\" seamless=\"seamless\" src=\"https://plot.ly/~AimonAllouache/20.embed\" height=\"525px\" width=\"100%\"></iframe>"
      ],
      "text/plain": [
       "<plotly.tools.PlotlyDisplay object>"
      ]
     },
     "execution_count": 18,
     "metadata": {},
     "output_type": "execute_result"
    }
   ],
   "source": [
    "trace1 = go.Scatter(\n",
    "    x = df.Date,\n",
    "    y = df.Streak,\n",
    "    mode = 'lines+markers',\n",
    "    name = 'Streak',\n",
    "    text = df['Random Forest']\n",
    ")\n",
    "\n",
    "trace2 = go.Scatter(\n",
    "    x = df.Date,\n",
    "    y = df.Probability,\n",
    "    mode = 'lines+markers',\n",
    "    name = 'Probability',\n",
    "    text = df['Random Forest'],\n",
    "    yaxis='y2'\n",
    ")\n",
    "\n",
    "layout = go.Layout(\n",
    "    showlegend=False,\n",
    "    title='Pick of the Day Random Forest Performance (4/17)',\n",
    "    yaxis=dict(\n",
    "        title='Streak'\n",
    "    ),\n",
    "    yaxis2=dict(\n",
    "        title='Probability',\n",
    "        overlaying='y',\n",
    "        side='right',\n",
    "        showgrid=False\n",
    "    )\n",
    ")\n",
    "\n",
    "data = [trace1, trace2]\n",
    "\n",
    "fig = go.Figure(data=data, layout=layout)\n",
    "py.iplot(fig, filename='potd-rf-performance-04-17-19')"
   ]
  },
  {
   "cell_type": "code",
   "execution_count": 20,
   "metadata": {},
   "outputs": [
    {
     "data": {
      "text/html": [
       "<iframe id=\"igraph\" scrolling=\"no\" style=\"border:none;\" seamless=\"seamless\" src=\"https://plot.ly/~AimonAllouache/22.embed\" height=\"525px\" width=\"100%\"></iframe>"
      ],
      "text/plain": [
       "<plotly.tools.PlotlyDisplay object>"
      ]
     },
     "execution_count": 20,
     "metadata": {},
     "output_type": "execute_result"
    }
   ],
   "source": [
    "# Logistic Regression\n",
    "\n",
    "df = pd.DataFrame([\n",
    "['3/28/2019','Odubel Herrera',0.338,1,1],\n",
    "['3/29/2019','Eric Hosmer',0.317,0,0],\n",
    "['3/30/2019','Hanley Ramirez',0.315,1,1],\n",
    "['3/31/2019','Anthony Rizzo',0.32,1,2],\n",
    "['4/1/2019','Joey Votto',0.333,1,3],\n",
    "['4/2/2019','Justin Turner',0.43,0,0],\n",
    "['4/3/2019','Andrew Benintendi',0.311,1,1],\n",
    "['4/4/2019','Anthony Rendon',0.302,1,2],\n",
    "['4/5/2019','Adam Jones',0.388,1,3],\n",
    "['4/6/2019','Ryan Braun',0.365,1,4],\n",
    "['4/7/2019','Edwin Encarnacion',0.349,1,5],\n",
    "['4/8/2019','Yasmani Grandal',0.31,1,6],\n",
    "['4/9/2019','Miguel Cabrera',0.328,1,7],\n",
    "['4/10/2019','Miguel Cabrera',0.326,1,8],\n",
    "['4/11/2019','Nolan Arenado',0.313,0,0],\n",
    "['4/12/2019','Albert Pujols',0.377,1,1],\n",
    "['4/13/2019','Joey Votto',0.337,1,2],\n",
    "['4/14/2019','Kevin Kiermaier',0.318,1,3],\n",
    "['4/15/2019','Whit Merrifield',0.317,0,0],\n",
    "['4/16/2019','Whit Merrifield',0.304,1,1]], \n",
    "columns=['Date', 'Logistic Regression', 'Probability', 'Result', 'Streak'])\n",
    "\n",
    "df['Date'] = pd.to_datetime(df['Date'])\n",
    "\n",
    "trace1 = go.Scatter(\n",
    "    x = df.Date,\n",
    "    y = df.Streak,\n",
    "    mode = 'lines+markers',\n",
    "    name = 'Streak',\n",
    "    text = df['Logistic Regression']\n",
    ")\n",
    "\n",
    "trace2 = go.Scatter(\n",
    "    x = df.Date,\n",
    "    y = df.Probability,\n",
    "    mode = 'lines+markers',\n",
    "    name = 'Probability',\n",
    "    text = df['Logistic Regression'],\n",
    "    yaxis='y2'\n",
    ")\n",
    "\n",
    "layout = go.Layout(\n",
    "    showlegend=False,\n",
    "    title='Pick of the Day Logistic Regression Performance (4/17)',\n",
    "    yaxis=dict(\n",
    "        title='Streak'\n",
    "    ),\n",
    "    yaxis2=dict(\n",
    "        title='Probability',\n",
    "        overlaying='y',\n",
    "        side='right',\n",
    "        showgrid=False\n",
    "    )\n",
    ")\n",
    "\n",
    "data = [trace1, trace2]\n",
    "\n",
    "fig = go.Figure(data=data, layout=layout)\n",
    "py.iplot(fig, filename='potd-lr-performance-04-17-19')"
   ]
  },
  {
   "cell_type": "code",
   "execution_count": 26,
   "metadata": {},
   "outputs": [
    {
     "data": {
      "text/html": [
       "<iframe id=\"igraph\" scrolling=\"no\" style=\"border:none;\" seamless=\"seamless\" src=\"https://plot.ly/~AimonAllouache/24.embed\" height=\"525px\" width=\"100%\"></iframe>"
      ],
      "text/plain": [
       "<plotly.tools.PlotlyDisplay object>"
      ]
     },
     "execution_count": 26,
     "metadata": {},
     "output_type": "execute_result"
    }
   ],
   "source": [
    "# Overall Strategy\n",
    "\n",
    "df = pd.DataFrame([\n",
    "['3/28/2019','Odubel Herrera',1,1],\n",
    "['3/31/2019','Joey Votto, Trea Turner',1,3],\n",
    "['4/1/2019','Jose Peraza, Joey Votto',1,5],\n",
    "['4/3/2019','Andrew Benintendi, Carlos Santana',1,7],\n",
    "['4/4/2019','Anthony Rendon, Starling Marte',1,9],\n",
    "['4/5/2019','Enrique Hernandez, Justin Turner',0,0],\n",
    "['4/6/2019','Christian Yelich, Joey Votto',0,0],\n",
    "['4/7/2019','Edwin Encarnacion, Justin Turner',1,2],\n",
    "['4/10/2019','Miguel Cabrera',1,3],\n",
    "['4/14/2019','Jorge Polanco',1,4],\n",
    "['4/16/2019','Whit Merrifield',1,5]], \n",
    "columns=['Date','Strategy','Result','Streak'])\n",
    "\n",
    "\n",
    "trace = go.Scatter(\n",
    "    x = df.Date,\n",
    "    y = df.Streak,\n",
    "    mode = 'lines+markers',\n",
    "    name = 'Streak',\n",
    "    text = df.Strategy\n",
    ")\n",
    "\n",
    "layout = go.Layout(\n",
    "    showlegend=False,\n",
    "    title='Pick of the Day Strategy Performance (4/17)',\n",
    "    yaxis=dict(\n",
    "        title='Streak'\n",
    "    )\n",
    ")\n",
    "\n",
    "\n",
    "data = [trace]\n",
    "\n",
    "fig = go.Figure(data=data, layout=layout)\n",
    "py.iplot(fig, filename='potd-strategy-performance-04-17-19')"
   ]
  }
 ],
 "metadata": {
  "kernelspec": {
   "display_name": "Python 3",
   "language": "python",
   "name": "python3"
  },
  "language_info": {
   "codemirror_mode": {
    "name": "ipython",
    "version": 3
   },
   "file_extension": ".py",
   "mimetype": "text/x-python",
   "name": "python",
   "nbconvert_exporter": "python",
   "pygments_lexer": "ipython3",
   "version": "3.6.3"
  }
 },
 "nbformat": 4,
 "nbformat_minor": 2
}
