{
 "cells": [
  {
   "cell_type": "markdown",
   "metadata": {},
   "source": [
    "# POTD (Pick of the Day) - No Pick Today!"
   ]
  },
  {
   "cell_type": "markdown",
   "metadata": {},
   "source": [
    "The models couldn't agree on a player or two, so today is a no pick day. This is the third consecutive no pick day. If only the program had a streak that it was trying to preserve. Once the models are tuned this weekend, I'll work on adding a current streak factor for it to consider. It should always make a pick when it's at zero and be more picky as its streak advances. Here are the model results:"
   ]
  },
  {
   "cell_type": "markdown",
   "metadata": {},
   "source": [
    "### Random Forest:"
   ]
  },
  {
   "cell_type": "code",
   "execution_count": 1,
   "metadata": {},
   "outputs": [
    {
     "name": "stdout",
     "output_type": "stream",
     "text": [
      "          Player  Probability\n",
      "0     Ryan Braun        0.338\n",
      "1  Nolan Arenado        0.334\n",
      "2  Evan Longoria        0.333\n"
     ]
    }
   ],
   "source": [
    "import pandas as pd\n",
    "import plotly.plotly as py\n",
    "import plotly.figure_factory as ff\n",
    "import plotly.graph_objs as go\n",
    "\n",
    "rf = pd.DataFrame([['Ryan Braun', 0.338], \n",
    "                   ['Nolan Arenado', 0.334], \n",
    "                   ['Evan Longoria', 0.333]],\n",
    "columns= ['Player', 'Probability']\n",
    ")\n",
    "\n",
    "print(rf)"
   ]
  },
  {
   "cell_type": "markdown",
   "metadata": {},
   "source": [
    "### Logistic Regression:"
   ]
  },
  {
   "cell_type": "code",
   "execution_count": 2,
   "metadata": {},
   "outputs": [
    {
     "name": "stdout",
     "output_type": "stream",
     "text": [
      "             Player  Probability\n",
      "0  Charlie Blackmon        0.339\n",
      "1    Ender Inciarte        0.325\n",
      "2   Whit Merrifield        0.316\n"
     ]
    }
   ],
   "source": [
    "lr = pd.DataFrame([['Charlie Blackmon', 0.339], \n",
    "                   ['Ender Inciarte', 0.325], \n",
    "                   ['Whit Merrifield', 0.316]],\n",
    "columns= ['Player', 'Probability']\n",
    ")\n",
    "\n",
    "print(lr)"
   ]
  },
  {
   "cell_type": "markdown",
   "metadata": {},
   "source": [
    "I'll probably go with Blackmon and Arenado today as my personal BTS picks. Merrifield is almost always a solid pick too."
   ]
  }
 ],
 "metadata": {
  "kernelspec": {
   "display_name": "Python 3",
   "language": "python",
   "name": "python3"
  },
  "language_info": {
   "codemirror_mode": {
    "name": "ipython",
    "version": 3
   },
   "file_extension": ".py",
   "mimetype": "text/x-python",
   "name": "python",
   "nbconvert_exporter": "python",
   "pygments_lexer": "ipython3",
   "version": "3.7.2"
  }
 },
 "nbformat": 4,
 "nbformat_minor": 2
}
