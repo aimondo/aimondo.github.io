{
 "cells": [
  {
   "cell_type": "markdown",
   "metadata": {},
   "source": [
    "# POTD (Pick of the Day) - DOUBLE DOWN!!!\n",
    "#### Double Down - Anthony Rizzo & Jose Ramirez"
   ]
  },
  {
   "cell_type": "markdown",
   "metadata": {},
   "source": [
    "Better late than never! My program finally finished its first wave of tuning, which took an eye-popping 17 hours to complete! This tuning only improved my Random Forest and was just an intiial random grid search with cross-validation. The next two or three waves of tuning should be shorter but more effective. I'll go more in depth about my tuning procedure and parameters tomorrow. For now, let's look at the picks!"
   ]
  },
  {
   "cell_type": "markdown",
   "metadata": {},
   "source": [
    "### Random Forest:"
   ]
  },
  {
   "cell_type": "code",
   "execution_count": 1,
   "metadata": {},
   "outputs": [
    {
     "name": "stdout",
     "output_type": "stream",
     "text": [
      "          Player  Probability\n",
      "0  Anthony Rizzo        0.314\n",
      "1   Jose Ramirez        0.300\n",
      "2   Buster Posey        0.286\n",
      "3  Leonys Martin        0.285\n"
     ]
    }
   ],
   "source": [
    "import pandas as pd\n",
    "import plotly.plotly as py\n",
    "import plotly.figure_factory as ff\n",
    "import plotly.graph_objs as go\n",
    "\n",
    "rf = pd.DataFrame([['Anthony Rizzo', 0.314], \n",
    "                   ['Jose Ramirez', 0.3], \n",
    "                   ['Buster Posey', 0.286], \n",
    "                   ['Leonys Martin', 0.285]],\n",
    "columns= ['Player', 'Probability']\n",
    ")\n",
    "\n",
    "print(rf)"
   ]
  },
  {
   "cell_type": "markdown",
   "metadata": {},
   "source": [
    "### Logistic Regression:"
   ]
  },
  {
   "cell_type": "code",
   "execution_count": 2,
   "metadata": {},
   "outputs": [
    {
     "name": "stdout",
     "output_type": "stream",
     "text": [
      "          Player  Probability\n",
      "0  Anthony Rizzo        0.410\n",
      "1   Buster Posey        0.325\n",
      "2    Nelson Cruz        0.325\n",
      "3   Jose Ramirez        0.314\n"
     ]
    }
   ],
   "source": [
    "lr = pd.DataFrame([['Anthony Rizzo', 0.41], \n",
    "                   ['Buster Posey', 0.325], \n",
    "                   ['Nelson Cruz', 0.325], \n",
    "                   ['Jose Ramirez', 0.314]],\n",
    "columns= ['Player', 'Probability']\n",
    ")\n",
    "\n",
    "print(lr)"
   ]
  },
  {
   "cell_type": "markdown",
   "metadata": {},
   "source": [
    "Both models agree on the top pick, with Ramirez getting the edge over Posey for the second pick."
   ]
  },
  {
   "cell_type": "markdown",
   "metadata": {},
   "source": [
    "#### Anthony Rizzo"
   ]
  },
  {
   "cell_type": "markdown",
   "metadata": {},
   "source": [
    "Rizzo is on a tear - with 4 HR in his last 5 games. He will bat third today against Michael Wacha. Rizzo has hit an astounding 20/42 (.476) vs. Wacha in his career and is a solid pick today."
   ]
  },
  {
   "cell_type": "markdown",
   "metadata": {},
   "source": [
    "#### Jose Ramirez"
   ]
  },
  {
   "cell_type": "markdown",
   "metadata": {},
   "source": [
    "Ramirez has struggled so far this season - putting up a miserable .186 average, but will hit third in the lineup against Mike Leake todday, who has given up a whopping 45 hits in 34 IP. I like the pick and will double down with him. If anyone would rather take Buster Posey instead, that is also a good pick today."
   ]
  }
 ],
 "metadata": {
  "kernelspec": {
   "display_name": "Python 3",
   "language": "python",
   "name": "python3"
  },
  "language_info": {
   "codemirror_mode": {
    "name": "ipython",
    "version": 3
   },
   "file_extension": ".py",
   "mimetype": "text/x-python",
   "name": "python",
   "nbconvert_exporter": "python",
   "pygments_lexer": "ipython3",
   "version": "3.7.2"
  }
 },
 "nbformat": 4,
 "nbformat_minor": 2
}
